{
 "cells": [
  {
   "cell_type": "code",
   "execution_count": 1,
   "id": "c8fab8e7-1757-4c86-a5dd-cc7fa876ba3a",
   "metadata": {},
   "outputs": [
    {
     "name": "stdout",
     "output_type": "stream",
     "text": [
      "Collecting cx_oracle\n",
      "  Downloading cx_Oracle-8.3.0-cp39-cp39-win_amd64.whl (213 kB)\n",
      "Installing collected packages: cx-oracle\n",
      "Successfully installed cx-oracle-8.3.0\n"
     ]
    }
   ],
   "source": [
    "!pip install cx_oracle"
   ]
  },
  {
   "cell_type": "code",
   "execution_count": 4,
   "id": "863f40a1-d516-4548-9736-020c03dcc1a6",
   "metadata": {},
   "outputs": [],
   "source": [
    "import cx_Oracle\n",
    "\n",
    "dsn=cx_Oracle.makedsn('localhost',1521,'xe')"
   ]
  },
  {
   "cell_type": "code",
   "execution_count": 5,
   "id": "318ba655-bd40-419d-bd35-32837bef3c35",
   "metadata": {},
   "outputs": [
    {
     "data": {
      "text/plain": [
       "<cx_Oracle.Connection to C##CAKD5@(DESCRIPTION=(ADDRESS=(PROTOCOL=TCP)(HOST=localhost)(PORT=1521))(CONNECT_DATA=(SID=xe)))>"
      ]
     },
     "execution_count": 5,
     "metadata": {},
     "output_type": "execute_result"
    }
   ],
   "source": [
    "db=cx_Oracle.connect('C##CAKD5','CAKD5',dsn)\n",
    "db"
   ]
  },
  {
   "cell_type": "code",
   "execution_count": null,
   "id": "a9002b73-1532-420f-b379-74607a28da12",
   "metadata": {},
   "outputs": [],
   "source": [
    "import pandas as pd\n",
    "cursor=db.cursor()\n",
    "cursor.execute('select * from book')\n",
    "x=cursor.fetchall()\n",
    "columns=['bookid','bookname','publisher','price']"
   ]
  }
 ],
 "metadata": {
  "kernelspec": {
   "display_name": "Python 3 (ipykernel)",
   "language": "python",
   "name": "python3"
  },
  "language_info": {
   "codemirror_mode": {
    "name": "ipython",
    "version": 3
   },
   "file_extension": ".py",
   "mimetype": "text/x-python",
   "name": "python",
   "nbconvert_exporter": "python",
   "pygments_lexer": "ipython3",
   "version": "3.9.7"
  }
 },
 "nbformat": 4,
 "nbformat_minor": 5
}
