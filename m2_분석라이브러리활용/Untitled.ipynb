{
 "cells": [
  {
   "cell_type": "code",
   "execution_count": 1,
   "id": "73e6c08c",
   "metadata": {
    "scrolled": true
   },
   "outputs": [
    {
     "name": "stdout",
     "output_type": "stream",
     "text": [
      "Requirement already satisfied: numpy in c:\\users\\admin\\anaconda3\\envs\\cakd5\\lib\\site-packages (1.21.2)\n"
     ]
    }
   ],
   "source": [
    "!pip install numpy"
   ]
  },
  {
   "cell_type": "code",
   "execution_count": 11,
   "id": "e2ec596a",
   "metadata": {},
   "outputs": [
    {
     "name": "stdout",
     "output_type": "stream",
     "text": [
      "[0 1 2 3 4 5 6 7 8 9] <class 'numpy.ndarray'>\n"
     ]
    }
   ],
   "source": [
    "import numpy as np\n",
    "z=np.arange(10)\n",
    "print(z,type(z))\n"
   ]
  },
  {
   "cell_type": "code",
   "execution_count": 12,
   "id": "38522589",
   "metadata": {},
   "outputs": [
    {
     "name": "stdout",
     "output_type": "stream",
     "text": [
      "Wall time: 0 ns\n"
     ]
    }
   ],
   "source": [
    "arr=np.arange(1000000)\n",
    "lst=list(range(1000000))\n"
   ]
  },
  {
   "cell_type": "code",
   "execution_count": 18,
   "id": "c17552b6",
   "metadata": {},
   "outputs": [
    {
     "name": "stdout",
     "output_type": "stream",
     "text": [
      "Wall time: 13 ms\n"
     ]
    }
   ],
   "source": [
    "%time for _ in range(10):a=arr*2"
   ]
  },
  {
   "cell_type": "code",
   "execution_count": 19,
   "id": "627eac3b",
   "metadata": {},
   "outputs": [
    {
     "name": "stdout",
     "output_type": "stream",
     "text": [
      "Wall time: 591 ms\n"
     ]
    }
   ],
   "source": [
    "%time for _ in range(10):a=[x*2 for x in lst]"
   ]
  },
  {
   "cell_type": "code",
   "execution_count": 28,
   "id": "f640128c",
   "metadata": {
    "scrolled": true
   },
   "outputs": [
    {
     "name": "stdout",
     "output_type": "stream",
     "text": [
      "[[ 0.98018488  0.36968664  1.73662018]\n",
      " [-0.35286022 -0.03145249  2.62343409]] \n",
      "\n",
      "[[ 9.80184884  3.69686637 17.36620179]\n",
      " [-3.52860218 -0.3145249  26.23434091]] \n",
      "\n",
      "[[ 1.96036977  0.73937327  3.47324036]\n",
      " [-0.70572044 -0.06290498  5.24686818]]\n"
     ]
    }
   ],
   "source": [
    "data=np.random.randn(2,3)\n",
    "print(data,'\\n')\n",
    "print(data * 10, '\\n')\n",
    "print(data+data)"
   ]
  },
  {
   "cell_type": "code",
   "execution_count": 31,
   "id": "afaf42ed",
   "metadata": {},
   "outputs": [
    {
     "name": "stdout",
     "output_type": "stream",
     "text": [
      "(2, 3)\n",
      "float64\n",
      "2\n"
     ]
    }
   ],
   "source": [
    "print(data.shape)\n",
    "print(data.dtype)\n",
    "print(data.ndim) #차원수"
   ]
  },
  {
   "cell_type": "markdown",
   "id": "5036f290",
   "metadata": {},
   "source": [
    "<img src='numpy차원.jpg' style='width:300px'>"
   ]
  },
  {
   "cell_type": "code",
   "execution_count": 32,
   "id": "d1e22b11",
   "metadata": {},
   "outputs": [
    {
     "name": "stdout",
     "output_type": "stream",
     "text": [
      "<class 'list'> \n",
      "\n",
      "[[1 2 3 4]\n",
      " [5 6 7 8]] <class 'numpy.ndarray'>\n"
     ]
    }
   ],
   "source": [
    "data2=[[1,2,3,4],[5,6,7,8]]\n",
    "print(type(data2),'\\n')\n",
    "arr2=np.array(data2)\n",
    "print(arr2,type(arr2))"
   ]
  },
  {
   "cell_type": "code",
   "execution_count": 35,
   "id": "102c2e6f",
   "metadata": {},
   "outputs": [
    {
     "name": "stdout",
     "output_type": "stream",
     "text": [
      "2\n",
      "(2, 4)\n"
     ]
    }
   ],
   "source": [
    "print(arr2.ndim)\n",
    "print(arr2.shape)"
   ]
  },
  {
   "cell_type": "code",
   "execution_count": 37,
   "id": "0a9003b9",
   "metadata": {},
   "outputs": [
    {
     "name": "stdout",
     "output_type": "stream",
     "text": [
      "[1 2 3] <class 'numpy.ndarray'>\n",
      "1\n",
      "(3,)\n"
     ]
    }
   ],
   "source": [
    "arr1=np.array([1,2,3])\n",
    "print(arr1,type(arr1))\n",
    "print(arr1.ndim)\n",
    "print(arr1.shape)#(행,열)이 아닌 (열,행)으로 출력"
   ]
  },
  {
   "cell_type": "code",
   "execution_count": 41,
   "id": "76986b36",
   "metadata": {},
   "outputs": [
    {
     "name": "stdout",
     "output_type": "stream",
     "text": [
      "[[1 2 5]\n",
      " [6 8 9]] <class 'numpy.ndarray'>\n",
      "2\n",
      "(2, 3)\n"
     ]
    }
   ],
   "source": [
    "arr1=np.array([[1,2,5],[6,8,9]])\n",
    "print(arr1,type(arr1))\n",
    "print(arr1.ndim)\n",
    "print(arr1.shape)#(행,열)이 아닌 (열,행)으로 출력"
   ]
  },
  {
   "cell_type": "code",
   "execution_count": 42,
   "id": "c7e6eb45",
   "metadata": {},
   "outputs": [
    {
     "name": "stdout",
     "output_type": "stream",
     "text": [
      "[[1 5 8]] <class 'numpy.ndarray'>\n",
      "2\n",
      "(1, 3)\n"
     ]
    }
   ],
   "source": [
    "arr1=np.array([[1,5,8]])\n",
    "print(arr1,type(arr1))\n",
    "print(arr1.ndim)\n",
    "print(arr1.shape)"
   ]
  },
  {
   "cell_type": "code",
   "execution_count": 47,
   "id": "f784ca16",
   "metadata": {
    "scrolled": true
   },
   "outputs": [
    {
     "name": "stdout",
     "output_type": "stream",
     "text": [
      "[[[1 5 8]\n",
      "  [2 3 7]]\n",
      "\n",
      " [[6 2 1]\n",
      "  [8 9 3]]] <class 'numpy.ndarray'>\n",
      "3\n",
      "(2, 2, 3)\n"
     ]
    }
   ],
   "source": [
    "arr1=np.array([[[1,5,8],[2,3,7]],[[6,2,1],[8,9,3]]])\n",
    "print(arr1,type(arr1))\n",
    "print(arr1.ndim)\n",
    "print(arr1.shape)"
   ]
  },
  {
   "cell_type": "code",
   "execution_count": null,
   "id": "5cc6f260",
   "metadata": {},
   "outputs": [],
   "source": [
    "#경고 메시지 제외 처리\n",
    "import warnings\n",
    "warnings.filterwarnings('ignore')"
   ]
  },
  {
   "cell_type": "code",
   "execution_count": 52,
   "id": "180292ad",
   "metadata": {},
   "outputs": [
    {
     "name": "stdout",
     "output_type": "stream",
     "text": [
      "[0. 0. 0. 0. 0. 0. 0. 0. 0. 0.]\n",
      "[[[0. 0.]\n",
      "  [0. 0.]\n",
      "  [0. 0.]]\n",
      "\n",
      " [[0. 0.]\n",
      "  [0. 0.]\n",
      "  [0. 0.]]]\n",
      "[[[1. 1.]\n",
      "  [1. 1.]\n",
      "  [1. 1.]]\n",
      "\n",
      " [[1. 1.]\n",
      "  [1. 1.]\n",
      "  [1. 1.]]]\n"
     ]
    }
   ],
   "source": [
    "print(np.zeros(10))\n",
    "print(np.zeros((2,3,2)))\n",
    "\n"
   ]
  },
  {
   "cell_type": "code",
   "execution_count": 54,
   "id": "419156e7",
   "metadata": {},
   "outputs": [
    {
     "name": "stdout",
     "output_type": "stream",
     "text": [
      "[[1. 1. 1.]\n",
      " [1. 1. 1.]]\n"
     ]
    }
   ],
   "source": [
    "print(np.ones((2,3)))"
   ]
  },
  {
   "cell_type": "code",
   "execution_count": 58,
   "id": "2f3ad545",
   "metadata": {},
   "outputs": [
    {
     "data": {
      "text/plain": [
       "array([[1., 0., 0.],\n",
       "       [0., 1., 0.],\n",
       "       [0., 0., 1.]])"
      ]
     },
     "execution_count": 58,
     "metadata": {},
     "output_type": "execute_result"
    }
   ],
   "source": [
    "arr=np.eye(3) #대각만 1인 배열 항등행렬,단위행렬\n",
    "arr"
   ]
  },
  {
   "cell_type": "code",
   "execution_count": 59,
   "id": "49c68996",
   "metadata": {
    "scrolled": true
   },
   "outputs": [
    {
     "data": {
      "text/plain": [
       "array([[5, 5, 5],\n",
       "       [5, 5, 5]])"
      ]
     },
     "execution_count": 59,
     "metadata": {},
     "output_type": "execute_result"
    }
   ],
   "source": [
    "arr=np.full((2,3),5)\n",
    "arr"
   ]
  },
  {
   "cell_type": "code",
   "execution_count": 71,
   "id": "3213de16",
   "metadata": {},
   "outputs": [
    {
     "name": "stdout",
     "output_type": "stream",
     "text": [
      "[[ 0  1  2  3  4]\n",
      " [ 5  6  7  8  9]\n",
      " [10 11 12 13 14]]\n",
      "\n",
      "[[[ 0  1  2  3  4]\n",
      "  [ 5  6  7  8  9]\n",
      "  [10 11 12 13 14]]]\n"
     ]
    }
   ],
   "source": [
    "arr1=np.arange(15)\n",
    "arr2= arr1.reshape(3,5)\n",
    "print(arr2)\n",
    "print()\n",
    "arr3= arr1.reshape(1,3,5)\n",
    "print(arr3)\n"
   ]
  },
  {
   "cell_type": "code",
   "execution_count": 75,
   "id": "2c83bd33",
   "metadata": {},
   "outputs": [
    {
     "name": "stdout",
     "output_type": "stream",
     "text": [
      "[[0 1]\n",
      " [2 3]\n",
      " [4 5]\n",
      " [6 7]\n",
      " [8 9]] (5, 2)\n"
     ]
    }
   ],
   "source": [
    "arr1=np.arange(10)\n",
    "arr2= arr1.reshape(5,2)\n",
    "print(arr2,arr2.shape)"
   ]
  },
  {
   "cell_type": "code",
   "execution_count": 78,
   "id": "03bbbea1",
   "metadata": {},
   "outputs": [
    {
     "name": "stdout",
     "output_type": "stream",
     "text": [
      "[[ 0  1  2  3  4]\n",
      " [ 5  6  7  8  9]\n",
      " [10 11 12 13 14]\n",
      " [15 16 17 18 19]\n",
      " [20 21 22 23 24]\n",
      " [25 26 27 28 29]]\n",
      "\n",
      "[[[ 0  1]\n",
      "  [ 2  3]\n",
      "  [ 4  5]]\n",
      "\n",
      " [[ 6  7]\n",
      "  [ 8  9]\n",
      "  [10 11]]\n",
      "\n",
      " [[12 13]\n",
      "  [14 15]\n",
      "  [16 17]]\n",
      "\n",
      " [[18 19]\n",
      "  [20 21]\n",
      "  [22 23]]\n",
      "\n",
      " [[24 25]\n",
      "  [26 27]\n",
      "  [28 29]]]\n"
     ]
    }
   ],
   "source": [
    "arr1=np.arange(30)\n",
    "arr2= arr1.reshape(6,5)\n",
    "arr3= arr1.reshape(5,3,2)\n",
    "\n",
    "print(arr2)\n",
    "print()\n",
    "print(arr3)\n"
   ]
  },
  {
   "cell_type": "code",
   "execution_count": 84,
   "id": "8fe06198",
   "metadata": {},
   "outputs": [
    {
     "name": "stdout",
     "output_type": "stream",
     "text": [
      "[[ 0  1  2  3  4  5  6  7  8  9]\n",
      " [10 11 12 13 14 15 16 17 18 19]\n",
      " [20 21 22 23 24 25 26 27 28 29]]\n",
      "[[[ 0  1  2  3  4]\n",
      "  [ 5  6  7  8  9]\n",
      "  [10 11 12 13 14]]\n",
      "\n",
      " [[15 16 17 18 19]\n",
      "  [20 21 22 23 24]\n",
      "  [25 26 27 28 29]]]\n"
     ]
    }
   ],
   "source": [
    "arr1=np.arange(30) #-1을 넣으면 나머지 수가 알아서 계산댐\n",
    "arr2= arr1.reshape(3,-1)\n",
    "print(arr2)\n",
    "\n",
    "print(arr1.reshape(2,3,-1))"
   ]
  },
  {
   "cell_type": "code",
   "execution_count": 92,
   "id": "64c86b2e",
   "metadata": {
    "scrolled": true
   },
   "outputs": [
    {
     "name": "stdout",
     "output_type": "stream",
     "text": [
      "[[[ 0  1  2  3  4]\n",
      "  [ 5  6  7  8  9]\n",
      "  [10 11 12 13 14]]\n",
      "\n",
      " [[15 16 17 18 19]\n",
      "  [20 21 22 23 24]\n",
      "  [25 26 27 28 29]]]\n",
      "[ 0  1  2  3  4  5  6  7  8  9 10 11 12 13 14 15 16 17 18 19 20 21 22 23\n",
      " 24 25 26 27 28 29]\n"
     ]
    }
   ],
   "source": [
    "arr3=arr2.reshape(2,3,-1)\n",
    "print(arr3)\n",
    "print(arr2.reshape(-1))"
   ]
  },
  {
   "cell_type": "code",
   "execution_count": 98,
   "id": "803588f3",
   "metadata": {},
   "outputs": [
    {
     "data": {
      "text/plain": [
       "array([[ 0,  1,  2,  3,  4,  5,  6,  7,  8,  9, 10, 11, 12, 13, 14],\n",
       "       [15, 16, 17, 18, 19, 20, 21, 22, 23, 24, 25, 26, 27, 28, 29]])"
      ]
     },
     "execution_count": 98,
     "metadata": {},
     "output_type": "execute_result"
    }
   ],
   "source": [
    "arr3.reshape(-1)\n",
    "arr3.reshape((2,-1))"
   ]
  },
  {
   "cell_type": "code",
   "execution_count": null,
   "id": "53afa40f",
   "metadata": {},
   "outputs": [],
   "source": [
    "#정방행렬"
   ]
  },
  {
   "cell_type": "markdown",
   "id": "42b77c54",
   "metadata": {},
   "source": [
    "<img src='데이터형태.jpg' style='width:300px'>"
   ]
  },
  {
   "cell_type": "code",
   "execution_count": 99,
   "id": "aa8a3790",
   "metadata": {},
   "outputs": [
    {
     "name": "stdout",
     "output_type": "stream",
     "text": [
      "[b'1' b'2' b'3' b'4'] |S1\n"
     ]
    }
   ],
   "source": [
    "arr=np.array([1,2,3,4], dtype='S')\n",
    "print(arr,arr.dtype)"
   ]
  },
  {
   "cell_type": "code",
   "execution_count": 101,
   "id": "113cf86b",
   "metadata": {},
   "outputs": [
    {
     "name": "stdout",
     "output_type": "stream",
     "text": [
      "[1. 2. 3. 4.] float64\n"
     ]
    }
   ],
   "source": [
    "arr1=arr.astype(float)\n",
    "print(arr1,arr1.dtype)"
   ]
  }
 ],
 "metadata": {
  "kernelspec": {
   "display_name": "Python 3 (ipykernel)",
   "language": "python",
   "name": "python3"
  },
  "language_info": {
   "codemirror_mode": {
    "name": "ipython",
    "version": 3
   },
   "file_extension": ".py",
   "mimetype": "text/x-python",
   "name": "python",
   "nbconvert_exporter": "python",
   "pygments_lexer": "ipython3",
   "version": "3.8.12"
  }
 },
 "nbformat": 4,
 "nbformat_minor": 5
}
