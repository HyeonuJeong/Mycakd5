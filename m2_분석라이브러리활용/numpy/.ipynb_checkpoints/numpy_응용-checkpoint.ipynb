{
 "cells": [
  {
   "cell_type": "code",
   "execution_count": null,
   "id": "d314a336",
   "metadata": {},
   "outputs": [],
   "source": [
    "import numpy as np"
   ]
  },
  {
   "cell_type": "code",
   "execution_count": null,
   "id": "2a1cd650",
   "metadata": {},
   "outputs": [],
   "source": [
    "arr = np.random.randint(1,10, size=(5,5))\n",
    "arr"
   ]
  },
  {
   "cell_type": "code",
   "execution_count": null,
   "id": "acc0391b",
   "metadata": {},
   "outputs": [],
   "source": [
    "# 전치\n",
    "arr.T\n",
    "np.transpose(arr)"
   ]
  },
  {
   "cell_type": "code",
   "execution_count": null,
   "id": "954f9ecf",
   "metadata": {},
   "outputs": [],
   "source": [
    "# 행렬곱, 내적\n",
    "np.dot(arr.T, arr)"
   ]
  },
  {
   "cell_type": "code",
   "execution_count": null,
   "id": "80a32fde",
   "metadata": {},
   "outputs": [],
   "source": [
    "a = np.arange(6).reshape(2,3)\n",
    "print(a,'\\n')\n",
    "\n",
    "y = np.swapaxes(a, 0,1) # 0은 2차원(열), 1은 1차원(행)\n",
    "print(y,'\\n')\n",
    "\n",
    "y = a.T\n",
    "y = np.transpose(a)\n",
    "y = np.transpose(a)\n",
    "print(y)"
   ]
  },
  {
   "cell_type": "code",
   "execution_count": null,
   "id": "aa407138",
   "metadata": {},
   "outputs": [],
   "source": [
    "# 1 ~ 100을 아래와 같이 출력하세요.\n",
    "\n",
    "[[  1   2   3   4   5   6   7   8   9  10]\n",
    " [ 20  19  18  17  16  15  14  13  12  11]\n",
    " [ 21  22  23  24  25  26  27  28  29  30]\n",
    " [ 40  39  38  37  36  35  34  33  32  31]\n",
    " [ 41  42  43  44  45  46  47  48  49  50]\n",
    " [ 60  59  58  57  56  55  54  53  52  51]\n",
    " [ 61  62  63  64  65  66  67  68  69  70]\n",
    " [ 80  79  78  77  76  75  74  73  72  71]\n",
    " [ 81  82  83  84  85  86  87  88  89  90]\n",
    " [100  99  98  97  96  95  94  93  92  91]] <class 'numpy.ndarray'>\n"
   ]
  },
  {
   "cell_type": "code",
   "execution_count": null,
   "id": "528872c7",
   "metadata": {},
   "outputs": [],
   "source": [
    "arr = np.arange(1,101).reshape(10,10)\n",
    "arr[[1,3,5,7,9]] = arr[[1,3,5,7,9]][:,[9,8,7,6,5,4,3,2,1,0]]\n",
    "print(arr)"
   ]
  },
  {
   "cell_type": "code",
   "execution_count": null,
   "id": "ec8d9b42",
   "metadata": {},
   "outputs": [],
   "source": [
    "a = np.arange(1, 101).reshape((10, -1))\n",
    "\n",
    "for i in range(10):\n",
    "    if i % 2 == 1:\n",
    "        a[i] = a[i][::-1]\n",
    "\n",
    "print(a)\n"
   ]
  },
  {
   "cell_type": "code",
   "execution_count": null,
   "id": "8eb84533",
   "metadata": {},
   "outputs": [],
   "source": [
    "# (0,1,2)\n",
    "# 3차원과 2차원을 바꾸는 경우 : (1,2,3) -> (2,1,3)\n",
    "a = np.arange(6).reshape(1,2,3)\n",
    "print(a,a.shape,'\\n')\n",
    "\n",
    "y = np.transpose(a,(1,0,2))\n",
    "print(y,y.shape,'\\n')"
   ]
  },
  {
   "cell_type": "code",
   "execution_count": null,
   "id": "463e9166",
   "metadata": {},
   "outputs": [],
   "source": [
    "# (1,2,3) -> (2,3,1)\n",
    "a = np.arange(6).reshape(1,2,3)\n",
    "print(a,a.shape,'\\n')\n",
    "y = np.transpose(a,(1,2,0))\n",
    "print(y,y.shape)"
   ]
  },
  {
   "cell_type": "code",
   "execution_count": null,
   "id": "a331c5c1",
   "metadata": {},
   "outputs": [],
   "source": [
    "# [과제] 아래 배열에서 3차원과 2차원을 변경하여 출력하세요(shape 확인)\n",
    "import numpy as np\n",
    "arr = np.arange(16).reshape(2,2,4)\n",
    "print(arr,arr.shape,'\\n')"
   ]
  },
  {
   "cell_type": "code",
   "execution_count": null,
   "id": "df1aba38-cd97-48a7-806e-9fc82693a7b2",
   "metadata": {},
   "outputs": [],
   "source": [
    "arr=arr.reshape(4,4)\n",
    "print(arr,arr.shape)"
   ]
  },
  {
   "cell_type": "code",
   "execution_count": null,
   "id": "4022f96d",
   "metadata": {},
   "outputs": [],
   "source": [
    "# [과제] 상기 과제의 arr에서 2차원과 1차원을 변경하여 출력하세요(shape 확인)"
   ]
  },
  {
   "cell_type": "code",
   "execution_count": null,
   "id": "4d3dfba4-7b58-4da6-9c7c-c80c5fbc2768",
   "metadata": {},
   "outputs": [],
   "source": [
    "arr=np.arange(16).reshape(16)\n",
    "print(arr,arr.shape)"
   ]
  },
  {
   "cell_type": "code",
   "execution_count": null,
   "id": "ac4de091",
   "metadata": {},
   "outputs": [],
   "source": [
    "# 나머지를 구할 경우 사용하는 함수\n",
    "value1 = np.array([15,30,45])\n",
    "value2 = np.array([2,7,9])\n",
    "print(np.mod(value1,value2))\n",
    "print(np.remainder(value1,value2))"
   ]
  },
  {
   "cell_type": "code",
   "execution_count": null,
   "id": "4b6d9b48",
   "metadata": {},
   "outputs": [],
   "source": [
    "# 각 수의 역수를 구해주는 함수\n",
    "value = np.array([0.85,1.85,1,100])\n",
    "print(np.reciprocal(value),'\\n')\n",
    "\n",
    "value1 = np.array([100],dtype = int)\n",
    "print(value1,'\\n')\n",
    "print(np.reciprocal(value1, dtype=float))"
   ]
  },
  {
   "cell_type": "code",
   "execution_count": null,
   "id": "d4b993ce",
   "metadata": {},
   "outputs": [],
   "source": [
    "# 승수의 결과 값을 표시해주는 함수\n",
    "value1 = np.array([2,10,15])\n",
    "value2 = np.array([1,2,3])\n",
    "\n",
    "print(np.power(value1,2),'\\n')\n",
    "print(np.power(value1,value2))"
   ]
  },
  {
   "cell_type": "code",
   "execution_count": null,
   "id": "8bfc7a85",
   "metadata": {},
   "outputs": [],
   "source": [
    "arr = np.random.randn(10)\n",
    "# print(arr.mean(),'\\n')\n",
    "# print(arr.std())\n",
    "arr"
   ]
  },
  {
   "cell_type": "code",
   "execution_count": null,
   "id": "226d3c8b",
   "metadata": {},
   "outputs": [],
   "source": [
    "# 양수인 원소의 개수\n",
    "(arr > 0).sum()"
   ]
  },
  {
   "cell_type": "code",
   "execution_count": null,
   "id": "54354da1",
   "metadata": {},
   "outputs": [],
   "source": [
    "# 하나 이상의 값이 True인지 검사\n",
    "bools = np.array([False,False, True,True])\n",
    "bools.any()"
   ]
  },
  {
   "cell_type": "code",
   "execution_count": null,
   "id": "4dfd2ef6",
   "metadata": {},
   "outputs": [],
   "source": [
    "# 모든 원소가 True인지 검사\n",
    "bools.all()"
   ]
  },
  {
   "cell_type": "code",
   "execution_count": null,
   "id": "76231100",
   "metadata": {},
   "outputs": [],
   "source": [
    "# 삼항식의 벡터화 버전\n",
    "arr = np.random.randn(4,4)\n",
    "print(arr,'\\n')\n",
    "np.where(arr > 0, 2, -2)"
   ]
  },
  {
   "cell_type": "code",
   "execution_count": null,
   "id": "7dfa332c",
   "metadata": {},
   "outputs": [],
   "source": [
    "# arr의 모든 양수를 2로 바꿀 경우\n",
    "np.where(arr > 0, 2, arr)"
   ]
  },
  {
   "cell_type": "code",
   "execution_count": null,
   "id": "870f5027",
   "metadata": {},
   "outputs": [],
   "source": [
    "# 두개의 1차원 배열을 받아서 가능한 모든 (x,y) 짝을 만들 수 있는 2차원 배열 2개 반환\n",
    "x = np.arange(1,4)\n",
    "y = np.arange(1,4)\n",
    "xs,ys = np.meshgrid(x,y)\n",
    "print(xs,'\\n')\n",
    "print(ys)"
   ]
  },
  {
   "cell_type": "code",
   "execution_count": null,
   "id": "e3ba1689",
   "metadata": {},
   "outputs": [],
   "source": [
    "# np.sort()\n",
    "np.random.seed(0)\n",
    "arr = np.random.randint(1,100,size=10)\n",
    "print(arr,'\\n')\n",
    "print(np.sort(arr),'\\n')\n",
    "print(arr)"
   ]
  },
  {
   "cell_type": "code",
   "execution_count": null,
   "id": "3495f9c2",
   "metadata": {},
   "outputs": [],
   "source": [
    "sorted = np.sort(arr)\n",
    "print(sorted)"
   ]
  },
  {
   "cell_type": "code",
   "execution_count": null,
   "id": "13962bf7",
   "metadata": {},
   "outputs": [],
   "source": [
    "# 행렬이 2차원 이상일 때 axis 축 값 설정을 통해 행, 열 방향으로 정렬 수행\n",
    "arr2d = np.array([[8,12],[7,1]])\n",
    "print(arr2d,'\\n')\n",
    "sort_ar2d_axis0 = np.sort(arr2d, axis=0)\n",
    "print(sort_ar2d_axis0,'\\n')\n",
    "sort_ar2d_axis1 = np.sort(arr2d, axis=1)\n",
    "print(sort_ar2d_axis1)"
   ]
  },
  {
   "cell_type": "code",
   "execution_count": null,
   "id": "b6974e0a",
   "metadata": {},
   "outputs": [],
   "source": [
    "# ndarray.sort() : 원본 반영\n",
    "np.random.seed(0)\n",
    "arr = np.random.randint(1,10,size=10)\n",
    "# arr = np.random.randn(6)\n",
    "print(arr,'\\n')\n",
    "arr.sort() # 원본 반영\n",
    "print(arr)"
   ]
  },
  {
   "cell_type": "code",
   "execution_count": null,
   "id": "24c28674",
   "metadata": {},
   "outputs": [],
   "source": [
    "# 다차원 배열의 정렬은 sort 메소드에 넘긴 축에 따라 1차원 부분을 정렬\n",
    "# 열방향 정렬, default\n",
    "np.random.seed(0)\n",
    "arr = np.random.randint(1,10,size=(5,3))\n",
    "print(arr,'\\n')\n",
    "arr.sort(1)\n",
    "print(arr)"
   ]
  },
  {
   "cell_type": "code",
   "execution_count": null,
   "id": "27351a52",
   "metadata": {},
   "outputs": [],
   "source": [
    "# 행방향 정렬\n",
    "np.random.seed(0)\n",
    "arr = np.random.randint(1,10,size=(5,3))\n",
    "print(arr,'\\n')\n",
    "arr.sort(0)\n",
    "print(arr)"
   ]
  },
  {
   "cell_type": "code",
   "execution_count": null,
   "id": "ada128da",
   "metadata": {},
   "outputs": [],
   "source": [
    "# 정렬된 행렬의 인덱스 반환 : 기존 원본 행렬의 원소에 대한 인덱스를 필요로 할 때\n",
    "org_array = np.array([3,1,9,5])\n",
    "sort_indices = np.argsort(org_array)\n",
    "print(org_array)\n",
    "print(type(sort_indices))\n",
    "sort_indices"
   ]
  },
  {
   "cell_type": "code",
   "execution_count": null,
   "id": "b0046a2c",
   "metadata": {},
   "outputs": [],
   "source": [
    "# 배열에서 정렬한 후 50%에 해당하는 원소만 출력\n",
    "large_arr = np.random.randn(1000)\n",
    "large_arr.sort()\n",
    "large_arr[int(0.5*len(large_arr))]"
   ]
  },
  {
   "cell_type": "code",
   "execution_count": null,
   "id": "4820ba3b",
   "metadata": {},
   "outputs": [],
   "source": [
    "# 배열 집합 연산\n",
    "names = np.array(['Bob','Joe','Will','Joe','Joe'])\n",
    "np.unique(names)"
   ]
  },
  {
   "cell_type": "code",
   "execution_count": null,
   "id": "a10390ff",
   "metadata": {},
   "outputs": [],
   "source": [
    "import numpy as np\n",
    "names = np.array(['Bob','Joe','Will','Joe','Joe'])\n",
    "sorted(set(names))"
   ]
  },
  {
   "cell_type": "code",
   "execution_count": null,
   "id": "9818a3e1",
   "metadata": {},
   "outputs": [],
   "source": [
    "# 첫번째 배열의 원소가 두번째 배열의 원소를 포함하는지 알려주는 불리언 배열을 반환\n",
    "values = np.array([6,0,0,3,2,5,6])\n",
    "np.in1d(values, [2,3,6])"
   ]
  },
  {
   "cell_type": "code",
   "execution_count": null,
   "id": "023045cb",
   "metadata": {},
   "outputs": [],
   "source": [
    "# 배열 데이터의 입출력\n",
    "# np.save, np.load는 바이너리 형식 .npy 파일로 저장\n",
    "\n",
    "arr = np.arange(10)\n",
    "np.save('some_array',arr)"
   ]
  },
  {
   "cell_type": "code",
   "execution_count": null,
   "id": "4a28aef7",
   "metadata": {},
   "outputs": [],
   "source": [
    "np.load('some_array.npy')"
   ]
  },
  {
   "cell_type": "code",
   "execution_count": null,
   "id": "758f57b3",
   "metadata": {},
   "outputs": [],
   "source": [
    "# np.savez : 여러개의 배열을 압축된 형식으로 저장\n",
    "np.savez('array_archive.npz',a=arr,b=arr)"
   ]
  },
  {
   "cell_type": "code",
   "execution_count": null,
   "id": "e7df6579",
   "metadata": {},
   "outputs": [],
   "source": [
    "arch = np.load('array_archive.npz')\n",
    "arch['a']"
   ]
  },
  {
   "cell_type": "code",
   "execution_count": null,
   "id": "20da0bc2",
   "metadata": {},
   "outputs": [],
   "source": [
    "# Q. 인덱싱을 사용하여 [1 0 1 0 1 0 1 0 1 0] 을 출력하세요.\n",
    "a = np.ones(10,dtype=int)\n",
    "a"
   ]
  },
  {
   "cell_type": "code",
   "execution_count": null,
   "id": "5bb2453c",
   "metadata": {},
   "outputs": [],
   "source": [
    "a = np.ones(10).astype(int)\n",
    "a[[1,3,5,7,9]] = 0\n",
    "print(a)"
   ]
  },
  {
   "cell_type": "code",
   "execution_count": null,
   "id": "153cdfd5",
   "metadata": {},
   "outputs": [],
   "source": [
    "# Q. a = np.arange(10)에서 [6,7,8,9] 출력"
   ]
  },
  {
   "cell_type": "code",
   "execution_count": null,
   "id": "42295f03",
   "metadata": {},
   "outputs": [],
   "source": [
    "a= np.arange(10)\n",
    "a1 = a[a>5]\n",
    "a1"
   ]
  },
  {
   "cell_type": "code",
   "execution_count": null,
   "id": "e567c1c4",
   "metadata": {},
   "outputs": [],
   "source": [
    "# Q. a에서 최대값, 최소값의 인덱스 출력"
   ]
  },
  {
   "cell_type": "code",
   "execution_count": null,
   "id": "6b3374a2",
   "metadata": {},
   "outputs": [],
   "source": [
    "a = np.arange(1,10)\n",
    "print(f'최댓값: {np.argmax(a)}\\n최솟값: {np.argmin(a)}')"
   ]
  },
  {
   "cell_type": "code",
   "execution_count": null,
   "id": "242ab2e7",
   "metadata": {},
   "outputs": [],
   "source": [
    "# Q. a에서 인덱스 배열을 역순으로 출력하세요."
   ]
  },
  {
   "cell_type": "code",
   "execution_count": null,
   "id": "2c203a95",
   "metadata": {},
   "outputs": [],
   "source": [
    "np.argsort(a)[::-1]"
   ]
  },
  {
   "cell_type": "code",
   "execution_count": null,
   "id": "43599dfa",
   "metadata": {},
   "outputs": [],
   "source": [
    "# Q. np.ones((10,10))을 아래와 같이 출력하세요.\n",
    "array([[1., 1., 1., 1., 1., 1., 1., 1., 1., 1.],\n",
    "       [1., 0., 0., 0., 0., 0., 0., 0., 0., 1.],\n",
    "       [1., 0., 0., 0., 0., 0., 0., 0., 0., 1.],\n",
    "       [1., 0., 0., 0., 0., 0., 0., 0., 0., 1.],\n",
    "       [1., 0., 0., 0., 0., 0., 0., 0., 0., 1.],\n",
    "       [1., 0., 0., 0., 0., 0., 0., 0., 0., 1.],\n",
    "       [1., 0., 0., 0., 0., 0., 0., 0., 0., 1.],\n",
    "       [1., 0., 0., 0., 0., 0., 0., 0., 0., 1.],\n",
    "       [1., 0., 0., 0., 0., 0., 0., 0., 0., 1.],\n",
    "       [1., 1., 1., 1., 1., 1., 1., 1., 1., 1.]])"
   ]
  },
  {
   "cell_type": "code",
   "execution_count": null,
   "id": "f629baa5",
   "metadata": {},
   "outputs": [],
   "source": [
    "b=np.ones((10,10))\n",
    "b[1:9,1:9]=0\n",
    "b"
   ]
  },
  {
   "cell_type": "code",
   "execution_count": null,
   "id": "e669e2c7",
   "metadata": {},
   "outputs": [],
   "source": [
    "# [과제] np.ones((5,5))을 아래와 같이 출력하세요.\n",
    "array([[0., 0., 0., 0., 0., 0., 0., 0., 0.],\n",
    "       [0., 0., 0., 0., 0., 0., 0., 0., 0.],\n",
    "       [0., 0., 1., 1., 1., 1., 1., 0., 0.],\n",
    "       [0., 0., 1., 1., 1., 1., 1., 0., 0.],\n",
    "       [0., 0., 1., 1., 1., 1., 1., 0., 0.],\n",
    "       [0., 0., 1., 1., 1., 1., 1., 0., 0.],\n",
    "       [0., 0., 1., 1., 1., 1., 1., 0., 0.],\n",
    "       [0., 0., 0., 0., 0., 0., 0., 0., 0.],\n",
    "       [0., 0., 0., 0., 0., 0., 0., 0., 0.]])\n"
   ]
  },
  {
   "cell_type": "code",
   "execution_count": null,
   "id": "f74ed8c4-3860-45ef-af9f-3fd3da607977",
   "metadata": {},
   "outputs": [],
   "source": [
    "b=np.zeros((10,10))\n",
    "b[2:8,2:8]=1\n",
    "b"
   ]
  },
  {
   "cell_type": "code",
   "execution_count": null,
   "id": "ba4ab370",
   "metadata": {},
   "outputs": [],
   "source": [
    "# [과제] np.zeros((8,8))을 이용해서 아래와 같이 출력하세요(두가지 방식:인덱싱, tile함수)\n",
    "array([[0, 1, 0, 1, 0, 1, 0, 1],\n",
    "       [1, 0, 1, 0, 1, 0, 1, 0],\n",
    "       [0, 1, 0, 1, 0, 1, 0, 1],\n",
    "       [1, 0, 1, 0, 1, 0, 1, 0],\n",
    "       [0, 1, 0, 1, 0, 1, 0, 1],\n",
    "       [1, 0, 1, 0, 1, 0, 1, 0],\n",
    "       [0, 1, 0, 1, 0, 1, 0, 1],\n",
    "       [1, 0, 1, 0, 1, 0, 1, 0]])"
   ]
  },
  {
   "cell_type": "code",
   "execution_count": null,
   "id": "84e563eb-5f63-4886-9b31-175890c1c5fb",
   "metadata": {},
   "outputs": [],
   "source": [
    "n=np.zeros((8,8))\n",
    "n[[1,3,5,7]]=[1,0]*4\n",
    "n[[0,2,4,6]]=[0,1]*4\n",
    "n"
   ]
  },
  {
   "cell_type": "code",
   "execution_count": null,
   "id": "daf1532e-fcda-471d-acd7-a05c3030de96",
   "metadata": {},
   "outputs": [],
   "source": [
    "n=np.zeros((8,8))\n",
    "a=np.tile([0,1],4)\n",
    "b=np.tile([1,0],4)\n",
    "n[[1,3,5,7]]=a\n",
    "n[[0,2,4,6]]=b\n",
    "\n",
    "n"
   ]
  },
  {
   "cell_type": "code",
   "execution_count": null,
   "id": "9cf10853",
   "metadata": {},
   "outputs": [],
   "source": [
    "# [도전과제] np.arange(336).reshape(6,7,8)에서 100번째 요소의 인덱스를 구하세요"
   ]
  },
  {
   "cell_type": "code",
   "execution_count": null,
   "id": "0d5b0a20-2355-44cb-be7e-e73ba05aa142",
   "metadata": {},
   "outputs": [],
   "source": [
    "a=np.arange(336).reshape(6,7,8)\n",
    "a\n",
    "np.where(a==99)"
   ]
  },
  {
   "cell_type": "code",
   "execution_count": null,
   "id": "c8ef0f6d",
   "metadata": {},
   "outputs": [],
   "source": [
    "a# [도전과제] np.arange(4)을 이용해서 아래와 같이 출력하세요.\n",
    "array([[0, 0, 0, 0, 0],\n",
    "       [1, 0, 0, 0, 0],\n",
    "       [0, 2, 0, 0, 0],\n",
    "       [0, 0, 3, 0, 0],\n",
    "       [0, 0, 0, 4, 0]])"
   ]
  },
  {
   "cell_type": "code",
   "execution_count": null,
   "id": "76e231d3-2386-4b46-a33c-8a17f8461090",
   "metadata": {},
   "outputs": [],
   "source": [
    "a= np.arange(1,5)\n",
    "arr=np.eye(5,k=-1,like=a)\n",
    "c=0\n",
    "for i in a:\n",
    "    arr[i][c]=i\n",
    "    c+=1\n",
    "arr.astype('int32')"
   ]
  },
  {
   "cell_type": "markdown",
   "id": "1e758cc9-ed3c-4fa3-9723-29ad20779e28",
   "metadata": {},
   "source": [
    "[파이썬 random 함수]"
   ]
  },
  {
   "cell_type": "code",
   "execution_count": 4,
   "id": "2d47ac3b",
   "metadata": {},
   "outputs": [
    {
     "name": "stdout",
     "output_type": "stream",
     "text": [
      "0.9824183138166586 \n",
      "\n",
      "6 \n",
      "\n",
      "12.16128464204936 \n",
      "\n",
      "7 \n",
      "\n",
      "2 \n",
      "\n",
      "[1, 5, 4] \n",
      "\n",
      "[5, 4, 3, 1, 2]\n"
     ]
    }
   ],
   "source": [
    "import random\n",
    "import numpy as np\n",
    "print(random.random(),'\\n') # 0.0 <= x < 1.0 사이\n",
    "print(random.randint(1,10),'\\n') # 1에서 10사이의 정수중에서 난수 값 리턴\n",
    "print(random.uniform(10,20), '\\n') # min max 사이 float 리턴\n",
    "print(random.randrange(10), '\\n') # 지정 범위 int 리턴\n",
    "print(random.choice([1,2,3,4,5]),'\\n') # 리스트 내부에 있는 요소를 랜덤하게 선택\n",
    "li = [1,2,3,4,5]\n",
    "print(random.sample(li,3\n",
    "                   ),'\\n') # 리스트 요소를 중복이 안되게 리턴\n",
    "random.shuffle(li) # 리스트 요소를 다시 섞어서 리턴\n",
    "print(li)"
   ]
  },
  {
   "cell_type": "markdown",
   "id": "60d0a978-a705-4be7-961b-05bbef58c6b0",
   "metadata": {},
   "source": [
    "[numpy random 함수]\n",
    "\n",
    "- np.random.seed : seed를 통한 난수 생성\n",
    "- np.random.randint : 정수 난수 1개 생성\n",
    "- np.random.rand : 0부터 1사이의 균일분포에서 난수 매트릭스 배열 생성\n",
    "- np.random.randn : 가우시안 표준 정규분포에서 난수 매트릭스 배열 생성\n",
    "- np.random.shuffle : 기존의 데이터의 순서 바꾸기\n",
    "- np.random.choice : 기존 데이터에서 sampling"
   ]
  },
  {
   "cell_type": "code",
   "execution_count": 5,
   "id": "0a450303",
   "metadata": {},
   "outputs": [
    {
     "name": "stdout",
     "output_type": "stream",
     "text": [
      "5 \n",
      "\n",
      "10 \n",
      "\n",
      "[1 5 0 8 9 4 0 5 3 2] \n",
      "\n",
      "[12 16 18 10 10 10 12 10 14 16] \n",
      "\n",
      "[[12 17 16 13 14]\n",
      " [10 10 13 13 19]\n",
      " [15 17 14 19 10]]\n"
     ]
    }
   ],
   "source": [
    "print(np.random.randint(6), '\\n') # 0 ~ 5까지 정수인 난수 1개\n",
    "print(np.random.randint(1,20),'\\n') # 1 ~ 19까지 정수인 난수 1개\n",
    "print(np.random.randint(10, size=10), '\\n') # 0 ~ 9까지 정수인 난수 10개\n",
    "print(np.random.randint(10,20, size=10),'\\n') # 10 ~ 19까지 정수인 난수 10개\n",
    "print(np.random.randint(10,20, size=(3,5))) # 10 ~ 19까지 정수인 난수로 3행 5열 배열 생성"
   ]
  },
  {
   "cell_type": "code",
   "execution_count": null,
   "id": "662293c7",
   "metadata": {},
   "outputs": [
    {
     "name": "stdout",
     "output_type": "stream",
     "text": [
      "[0.35939011 0.92422949 0.5613698  0.29359141 0.93212749 0.62799602] \n",
      "\n"
     ]
    },
    {
     "data": {
      "text/plain": [
       "0.6164507206061188"
      ]
     },
     "execution_count": 32,
     "metadata": {},
     "output_type": "execute_result"
    }
   ],
   "source": [
    "r = np.random.rand(6) # 0 ~ 1 사이의 균일분포\n",
    "print(r,'\\n')\n",
    "r.mean()"
   ]
  },
  {
   "cell_type": "code",
   "execution_count": null,
   "id": "2d0557a1",
   "metadata": {},
   "outputs": [
    {
     "name": "stdout",
     "output_type": "stream",
     "text": [
      "[-0.10321885  0.4105985   0.14404357 ... -1.08502512  0.97226233\n",
      "  1.43147168] \n",
      "\n"
     ]
    },
    {
     "data": {
      "text/plain": [
       "-0.01893802539118709"
      ]
     },
     "execution_count": 61,
     "metadata": {},
     "output_type": "execute_result"
    }
   ],
   "source": [
    "# 표준 정규분포\n",
    "r = np.random.randn(10000)\n",
    "print(r,'\\n')\n",
    "r.mean()"
   ]
  },
  {
   "cell_type": "code",
   "execution_count": 7,
   "id": "359d69f3",
   "metadata": {},
   "outputs": [
    {
     "name": "stdout",
     "output_type": "stream",
     "text": [
      "[1 2 3 4 5] \n",
      "\n"
     ]
    },
    {
     "data": {
      "text/plain": [
       "array([3, 4, 1, 5, 2])"
      ]
     },
     "execution_count": 7,
     "metadata": {},
     "output_type": "execute_result"
    }
   ],
   "source": [
    "list = np.arange(1,6)\n",
    "print(list,'\\n')\n",
    "np.random.shuffle(list)\n",
    "list"
   ]
  },
  {
   "cell_type": "code",
   "execution_count": 8,
   "id": "939e5207",
   "metadata": {},
   "outputs": [
    {
     "data": {
      "text/plain": [
       "5"
      ]
     },
     "execution_count": 8,
     "metadata": {},
     "output_type": "execute_result"
    }
   ],
   "source": [
    "np.random.choice(list)"
   ]
  },
  {
   "cell_type": "code",
   "execution_count": 11,
   "id": "023d71de",
   "metadata": {},
   "outputs": [
    {
     "name": "stdout",
     "output_type": "stream",
     "text": [
      "[ 2  3  7 11]\n",
      "[3 2 1 2]\n"
     ]
    }
   ],
   "source": [
    "a = np.array([11,11,3,3,2,2,2,7])\n",
    "index,count = np.unique(a,return_counts=True)\n",
    "print(index)\n",
    "print(count)"
   ]
  },
  {
   "cell_type": "code",
   "execution_count": null,
   "id": "435a89e7",
   "metadata": {},
   "outputs": [
    {
     "data": {
      "text/plain": [
       "array([1.23196751, 1.41547268, 1.85182497, 1.73567716, 1.33340048,\n",
       "       1.12387434, 1.49182714, 1.22099167, 1.25233108, 1.42272584])"
      ]
     },
     "execution_count": 40,
     "metadata": {},
     "output_type": "execute_result"
    }
   ],
   "source": [
    "np.random.uniform(1.0,2.0, 10) # 1-2 사이의 10개 '실수'를 리턴"
   ]
  },
  {
   "cell_type": "code",
   "execution_count": 12,
   "id": "4836bec6",
   "metadata": {},
   "outputs": [
    {
     "name": "stdout",
     "output_type": "stream",
     "text": [
      "[[0.90068438 0.62944673 0.11897971]\n",
      " [0.90468783 0.92323912 0.57101956]]\n"
     ]
    }
   ],
   "source": [
    "print(np.random.uniform(0,1,(2,3))) # 0-1 사이의 2행3열 '실수'를 리턴"
   ]
  },
  {
   "cell_type": "code",
   "execution_count": null,
   "id": "fd95c009",
   "metadata": {},
   "outputs": [
    {
     "data": {
      "text/plain": [
       "array([[0.40762345, 0.86121214, 0.95243613],\n",
       "       [0.57615261, 0.98855528, 0.58242609]])"
      ]
     },
     "execution_count": 41,
     "metadata": {},
     "output_type": "execute_result"
    }
   ],
   "source": [
    "# 0 ~ 1 사이의 난수 실수값으로 행렬 생성\n",
    "# uniform 함수의 최소값, 최대값을 각각 0, 1로 지정한 것과 같음\n",
    "np.random.random_sample((2,3))"
   ]
  },
  {
   "cell_type": "code",
   "execution_count": null,
   "id": "e4332527",
   "metadata": {},
   "outputs": [
    {
     "name": "stdout",
     "output_type": "stream",
     "text": [
      "Requirement already satisfied: pandas in c:\\users\\admin\\anaconda3\\envs\\cakd5\\lib\\site-packages (1.3.4)\n",
      "Requirement already satisfied: pytz>=2017.3 in c:\\users\\admin\\anaconda3\\envs\\cakd5\\lib\\site-packages (from pandas) (2021.3)\n",
      "Requirement already satisfied: python-dateutil>=2.7.3 in c:\\users\\admin\\anaconda3\\envs\\cakd5\\lib\\site-packages (from pandas) (2.8.2)\n",
      "Requirement already satisfied: numpy>=1.17.3 in c:\\users\\admin\\anaconda3\\envs\\cakd5\\lib\\site-packages (from pandas) (1.21.2)\n",
      "Requirement already satisfied: six>=1.5 in c:\\users\\admin\\anaconda3\\envs\\cakd5\\lib\\site-packages (from python-dateutil>=2.7.3->pandas) (1.16.0)\n"
     ]
    }
   ],
   "source": [
    "!pip install pandas"
   ]
  },
  {
   "cell_type": "code",
   "execution_count": 16,
   "id": "df890573",
   "metadata": {},
   "outputs": [
    {
     "data": {
      "text/plain": [
       "array([[0.17537096, 0.20784331, 0.49352924, 0.54306758, 0.31726844,\n",
       "        0.56908743, 0.71891429, 0.00279072],\n",
       "       [0.27225846, 0.88486687, 0.63505512, 0.30274555, 0.68196532,\n",
       "        0.3812213 , 0.03023649, 0.2433459 ],\n",
       "       [0.22884372, 0.25595418, 0.74148129, 0.90315151, 0.99117438,\n",
       "        0.92811475, 0.58563334, 0.93826151],\n",
       "       [0.73146375, 0.835947  , 0.59504218, 0.62951737, 0.77661103,\n",
       "        0.19632042, 0.75074755, 0.18264062]])"
      ]
     },
     "execution_count": 16,
     "metadata": {},
     "output_type": "execute_result"
    }
   ],
   "source": [
    "ar = np.random.rand(4,8)\n",
    "ar"
   ]
  },
  {
   "cell_type": "code",
   "execution_count": null,
   "id": "649e00aa",
   "metadata": {},
   "outputs": [
    {
     "name": "stdout",
     "output_type": "stream",
     "text": [
      "          0         1         2         3         4         5         6  \\\n",
      "0  0.729431  0.684862  0.868469  0.522983  0.030574  0.146772  0.520409   \n",
      "1  0.544840  0.048985  0.991160  0.719574  0.350430  0.803454  0.833256   \n",
      "2  0.352445  0.806314  0.018128  0.649153  0.013020  0.929774  0.325772   \n",
      "3  0.376991  0.381680  0.877992  0.835450  0.742619  0.508451  0.677759   \n",
      "\n",
      "          7  \n",
      "0  0.461370  \n",
      "1  0.383248  \n",
      "2  0.476830  \n",
      "3  0.322290   <class 'pandas.core.frame.DataFrame'>\n"
     ]
    }
   ],
   "source": [
    "# 배열을 데이터프레임으로 변환\n",
    "import pandas as pd\n",
    "df = pd.DataFrame(ar)\n",
    "print(df,type(df))"
   ]
  },
  {
   "cell_type": "code",
   "execution_count": null,
   "id": "2e6e2edd",
   "metadata": {},
   "outputs": [
    {
     "data": {
      "text/html": [
       "<div>\n",
       "<style scoped>\n",
       "    .dataframe tbody tr th:only-of-type {\n",
       "        vertical-align: middle;\n",
       "    }\n",
       "\n",
       "    .dataframe tbody tr th {\n",
       "        vertical-align: top;\n",
       "    }\n",
       "\n",
       "    .dataframe thead th {\n",
       "        text-align: right;\n",
       "    }\n",
       "</style>\n",
       "<table border=\"1\" class=\"dataframe\">\n",
       "  <thead>\n",
       "    <tr style=\"text-align: right;\">\n",
       "      <th></th>\n",
       "      <th>id</th>\n",
       "      <th>gender</th>\n",
       "      <th>age</th>\n",
       "      <th>region</th>\n",
       "      <th>product</th>\n",
       "      <th>price</th>\n",
       "      <th>qty</th>\n",
       "      <th>time</th>\n",
       "    </tr>\n",
       "  </thead>\n",
       "  <tbody>\n",
       "    <tr>\n",
       "      <th>0</th>\n",
       "      <td>0.729431</td>\n",
       "      <td>0.684862</td>\n",
       "      <td>0.868469</td>\n",
       "      <td>0.522983</td>\n",
       "      <td>0.030574</td>\n",
       "      <td>0.146772</td>\n",
       "      <td>0.520409</td>\n",
       "      <td>0.461370</td>\n",
       "    </tr>\n",
       "    <tr>\n",
       "      <th>1</th>\n",
       "      <td>0.544840</td>\n",
       "      <td>0.048985</td>\n",
       "      <td>0.991160</td>\n",
       "      <td>0.719574</td>\n",
       "      <td>0.350430</td>\n",
       "      <td>0.803454</td>\n",
       "      <td>0.833256</td>\n",
       "      <td>0.383248</td>\n",
       "    </tr>\n",
       "    <tr>\n",
       "      <th>2</th>\n",
       "      <td>0.352445</td>\n",
       "      <td>0.806314</td>\n",
       "      <td>0.018128</td>\n",
       "      <td>0.649153</td>\n",
       "      <td>0.013020</td>\n",
       "      <td>0.929774</td>\n",
       "      <td>0.325772</td>\n",
       "      <td>0.476830</td>\n",
       "    </tr>\n",
       "    <tr>\n",
       "      <th>3</th>\n",
       "      <td>0.376991</td>\n",
       "      <td>0.381680</td>\n",
       "      <td>0.877992</td>\n",
       "      <td>0.835450</td>\n",
       "      <td>0.742619</td>\n",
       "      <td>0.508451</td>\n",
       "      <td>0.677759</td>\n",
       "      <td>0.322290</td>\n",
       "    </tr>\n",
       "  </tbody>\n",
       "</table>\n",
       "</div>"
      ],
      "text/plain": [
       "         id    gender       age    region   product     price       qty  \\\n",
       "0  0.729431  0.684862  0.868469  0.522983  0.030574  0.146772  0.520409   \n",
       "1  0.544840  0.048985  0.991160  0.719574  0.350430  0.803454  0.833256   \n",
       "2  0.352445  0.806314  0.018128  0.649153  0.013020  0.929774  0.325772   \n",
       "3  0.376991  0.381680  0.877992  0.835450  0.742619  0.508451  0.677759   \n",
       "\n",
       "       time  \n",
       "0  0.461370  \n",
       "1  0.383248  \n",
       "2  0.476830  \n",
       "3  0.322290  "
      ]
     },
     "execution_count": 49,
     "metadata": {},
     "output_type": "execute_result"
    }
   ],
   "source": [
    "columns = ['id','gender','age','region','product','price','qty','time']\n",
    "index = [np.arange(4)]\n",
    "df = pd.DataFrame(ar,index,columns=columns)\n",
    "df"
   ]
  },
  {
   "cell_type": "code",
   "execution_count": null,
   "id": "d6a39f41",
   "metadata": {},
   "outputs": [],
   "source": [
    "# Q. id, gender, age 컬럼에 대하여 의미있는 값으로 변환하여 3개의 컬럼으로 구성된 df를 출력하세요."
   ]
  },
  {
   "cell_type": "code",
   "execution_count": 56,
   "id": "1315da36-ad6c-48b3-b195-d15646c35798",
   "metadata": {},
   "outputs": [
    {
     "data": {
      "text/html": [
       "<div>\n",
       "<style scoped>\n",
       "    .dataframe tbody tr th:only-of-type {\n",
       "        vertical-align: middle;\n",
       "    }\n",
       "\n",
       "    .dataframe tbody tr th {\n",
       "        vertical-align: top;\n",
       "    }\n",
       "\n",
       "    .dataframe thead th {\n",
       "        text-align: right;\n",
       "    }\n",
       "</style>\n",
       "<table border=\"1\" class=\"dataframe\">\n",
       "  <thead>\n",
       "    <tr style=\"text-align: right;\">\n",
       "      <th></th>\n",
       "      <th>id</th>\n",
       "      <th>sex</th>\n",
       "      <th>age</th>\n",
       "    </tr>\n",
       "  </thead>\n",
       "  <tbody>\n",
       "    <tr>\n",
       "      <th>1</th>\n",
       "      <td>1858</td>\n",
       "      <td>F</td>\n",
       "      <td>35</td>\n",
       "    </tr>\n",
       "    <tr>\n",
       "      <th>2</th>\n",
       "      <td>1157</td>\n",
       "      <td>F</td>\n",
       "      <td>22</td>\n",
       "    </tr>\n",
       "    <tr>\n",
       "      <th>3</th>\n",
       "      <td>1746</td>\n",
       "      <td>F</td>\n",
       "      <td>30</td>\n",
       "    </tr>\n",
       "    <tr>\n",
       "      <th>4</th>\n",
       "      <td>1701</td>\n",
       "      <td>F</td>\n",
       "      <td>26</td>\n",
       "    </tr>\n",
       "  </tbody>\n",
       "</table>\n",
       "</div>"
      ],
      "text/plain": [
       "     id sex age\n",
       "1  1858   F  35\n",
       "2  1157   F  22\n",
       "3  1746   F  30\n",
       "4  1701   F  26"
      ]
     },
     "execution_count": 56,
     "metadata": {},
     "output_type": "execute_result"
    }
   ],
   "source": [
    "import pandas as pd\n",
    "id=np.random.randint(1000,2000,4)\n",
    "gen=np.random.choice(['M','F'],4)\n",
    "age=np.random.randint(20,40,4)\n",
    "\n",
    "data=np.array([id,gen,age]).transpose()\n",
    "df=pd.DataFrame(data,range(1,5),['id','sex','age'])\n",
    "\n",
    "df\n"
   ]
  },
  {
   "cell_type": "code",
   "execution_count": 57,
   "id": "7cff076d",
   "metadata": {},
   "outputs": [
    {
     "name": "stdout",
     "output_type": "stream",
     "text": [
      "[[113.   0.  46.]\n",
      " [608.   0. 100.]\n",
      " [623.   0. 115.]\n",
      " [521.   0.  75.]\n",
      " [690.   0.  29.]\n",
      " [604.   0.  38.]\n",
      " [692.   1.  57.]\n",
      " [222.   1.  34.]\n",
      " [110.   0. 117.]\n",
      " [ 80.   0.  44.]] \n",
      "\n"
     ]
    },
    {
     "data": {
      "text/html": [
       "<div>\n",
       "<style scoped>\n",
       "    .dataframe tbody tr th:only-of-type {\n",
       "        vertical-align: middle;\n",
       "    }\n",
       "\n",
       "    .dataframe tbody tr th {\n",
       "        vertical-align: top;\n",
       "    }\n",
       "\n",
       "    .dataframe thead th {\n",
       "        text-align: right;\n",
       "    }\n",
       "</style>\n",
       "<table border=\"1\" class=\"dataframe\">\n",
       "  <thead>\n",
       "    <tr style=\"text-align: right;\">\n",
       "      <th></th>\n",
       "      <th>id</th>\n",
       "      <th>gender</th>\n",
       "      <th>age</th>\n",
       "    </tr>\n",
       "  </thead>\n",
       "  <tbody>\n",
       "    <tr>\n",
       "      <th>1</th>\n",
       "      <td>113.0</td>\n",
       "      <td>0.0</td>\n",
       "      <td>46.0</td>\n",
       "    </tr>\n",
       "    <tr>\n",
       "      <th>2</th>\n",
       "      <td>608.0</td>\n",
       "      <td>0.0</td>\n",
       "      <td>100.0</td>\n",
       "    </tr>\n",
       "    <tr>\n",
       "      <th>3</th>\n",
       "      <td>623.0</td>\n",
       "      <td>0.0</td>\n",
       "      <td>115.0</td>\n",
       "    </tr>\n",
       "    <tr>\n",
       "      <th>4</th>\n",
       "      <td>521.0</td>\n",
       "      <td>0.0</td>\n",
       "      <td>75.0</td>\n",
       "    </tr>\n",
       "    <tr>\n",
       "      <th>5</th>\n",
       "      <td>690.0</td>\n",
       "      <td>0.0</td>\n",
       "      <td>29.0</td>\n",
       "    </tr>\n",
       "    <tr>\n",
       "      <th>6</th>\n",
       "      <td>604.0</td>\n",
       "      <td>0.0</td>\n",
       "      <td>38.0</td>\n",
       "    </tr>\n",
       "    <tr>\n",
       "      <th>7</th>\n",
       "      <td>692.0</td>\n",
       "      <td>1.0</td>\n",
       "      <td>57.0</td>\n",
       "    </tr>\n",
       "    <tr>\n",
       "      <th>8</th>\n",
       "      <td>222.0</td>\n",
       "      <td>1.0</td>\n",
       "      <td>34.0</td>\n",
       "    </tr>\n",
       "    <tr>\n",
       "      <th>9</th>\n",
       "      <td>110.0</td>\n",
       "      <td>0.0</td>\n",
       "      <td>117.0</td>\n",
       "    </tr>\n",
       "    <tr>\n",
       "      <th>10</th>\n",
       "      <td>80.0</td>\n",
       "      <td>0.0</td>\n",
       "      <td>44.0</td>\n",
       "    </tr>\n",
       "  </tbody>\n",
       "</table>\n",
       "</div>"
      ],
      "text/plain": [
       "       id  gender    age\n",
       "1   113.0     0.0   46.0\n",
       "2   608.0     0.0  100.0\n",
       "3   623.0     0.0  115.0\n",
       "4   521.0     0.0   75.0\n",
       "5   690.0     0.0   29.0\n",
       "6   604.0     0.0   38.0\n",
       "7   692.0     1.0   57.0\n",
       "8   222.0     1.0   34.0\n",
       "9   110.0     0.0  117.0\n",
       "10   80.0     0.0   44.0"
      ]
     },
     "execution_count": 57,
     "metadata": {},
     "output_type": "execute_result"
    }
   ],
   "source": [
    "h = np.zeros((3, 10))\n",
    "id_ = np.random.randint(1, 1000, size = (1, 10))\n",
    "gender = np.random.randint(2, size = (1, 10))\n",
    "age = np.random.randint(0, 120, size = (1, 10))\n",
    "\n",
    "h[0] = id_\n",
    "h[1] = gender\n",
    "h[2] = age\n",
    "\n",
    "h = np.transpose(h)\n",
    "print(h,'\\n')\n",
    "\n",
    "columns = ['id', 'gender', 'age']\n",
    "index = np.arange(1, 11)\n",
    "df = pd.DataFrame(h, index, columns = columns)\n",
    "\n",
    "df"
   ]
  },
  {
   "cell_type": "code",
   "execution_count": null,
   "id": "d218e6ff",
   "metadata": {},
   "outputs": [
    {
     "data": {
      "text/html": [
       "<div>\n",
       "<style scoped>\n",
       "    .dataframe tbody tr th:only-of-type {\n",
       "        vertical-align: middle;\n",
       "    }\n",
       "\n",
       "    .dataframe tbody tr th {\n",
       "        vertical-align: top;\n",
       "    }\n",
       "\n",
       "    .dataframe thead th {\n",
       "        text-align: right;\n",
       "    }\n",
       "</style>\n",
       "<table border=\"1\" class=\"dataframe\">\n",
       "  <thead>\n",
       "    <tr style=\"text-align: right;\">\n",
       "      <th></th>\n",
       "      <th>id</th>\n",
       "      <th>gender</th>\n",
       "      <th>age</th>\n",
       "    </tr>\n",
       "  </thead>\n",
       "  <tbody>\n",
       "    <tr>\n",
       "      <th>0</th>\n",
       "      <td>1</td>\n",
       "      <td>0</td>\n",
       "      <td>10</td>\n",
       "    </tr>\n",
       "    <tr>\n",
       "      <th>1</th>\n",
       "      <td>2</td>\n",
       "      <td>1</td>\n",
       "      <td>20</td>\n",
       "    </tr>\n",
       "    <tr>\n",
       "      <th>2</th>\n",
       "      <td>3</td>\n",
       "      <td>1</td>\n",
       "      <td>30</td>\n",
       "    </tr>\n",
       "    <tr>\n",
       "      <th>3</th>\n",
       "      <td>4</td>\n",
       "      <td>0</td>\n",
       "      <td>40</td>\n",
       "    </tr>\n",
       "  </tbody>\n",
       "</table>\n",
       "</div>"
      ],
      "text/plain": [
       "   id  gender  age\n",
       "0   1       0   10\n",
       "1   2       1   20\n",
       "2   3       1   30\n",
       "3   4       0   40"
      ]
     },
     "execution_count": 59,
     "metadata": {},
     "output_type": "execute_result"
    }
   ],
   "source": [
    "ar = np.zeros((4,3))\n",
    "columns = ['id','gender','age']\n",
    "index = [np.arange(4)]\n",
    "df = pd.DataFrame(ar,index,columns=columns)\n",
    "# df.id = np.array([1,2,3,4])\n",
    "df.id = np.arange(1,5)\n",
    "# df.gender = np.array([0,1,0,1])\n",
    "np.random.seed(0)\n",
    "df.gender = np.random.randint(2,size=4)\n",
    "# df.age = np.array([20,30,40,50])\n",
    "df.age = np.arange(1,5) * 10\n",
    "df"
   ]
  },
  {
   "cell_type": "markdown",
   "id": "55615ceb-eedd-40fe-87b0-9849abd78ad3",
   "metadata": {},
   "source": [
    "[과제] 아래 가이드에 따라서 고객 구매데이터를 생성하고 데이터프레임으로 변환하여 출력하세요(관측치 1000개)\n",
    "\n",
    "- id : 1 ~ 1000번 일련번호\n",
    "- gender : 0,1 정수 난수 생성\n",
    "- age : 0 ~ 80사이 정수 난수 생성\n",
    "- region : 1 ~ 10 사이 정수 난수 생성\n",
    "- product_19 : 제품코드 11111 ~ 99999\n",
    "- product_20 : 제품코드 11111 ~ 99999\n",
    "- price_19 : 1000 ~ 50000 사이 실수 난수 생성\n",
    "- price_20 : 1000 ~ 50000 사이 실수 난수 생성\n",
    "- quantity_19 : 1 ~ 100 사이 정수 난수 생성\n",
    "- quantity_20 : 1 ~ 100 사이 정수 난수 생성\n",
    "- time_19 : 01 ~ 24 사이 정수 난수 생성\n",
    "- time_20 : 01 ~ 24 사이 정수 난수 생성\n",
    "- amount_19 : price_19 * quantity_19\n",
    "- amount_20 : price_20 * quantity_20\n",
    "- sales : 19년 대비 20년구매금액이 증가면 1, 감소면 0"
   ]
  },
  {
   "cell_type": "code",
   "execution_count": 24,
   "id": "c3d9b824-0062-497b-8f23-0604869e70a1",
   "metadata": {},
   "outputs": [
    {
     "data": {
      "text/html": [
       "<div>\n",
       "<style scoped>\n",
       "    .dataframe tbody tr th:only-of-type {\n",
       "        vertical-align: middle;\n",
       "    }\n",
       "\n",
       "    .dataframe tbody tr th {\n",
       "        vertical-align: top;\n",
       "    }\n",
       "\n",
       "    .dataframe thead th {\n",
       "        text-align: right;\n",
       "    }\n",
       "</style>\n",
       "<table border=\"1\" class=\"dataframe\">\n",
       "  <thead>\n",
       "    <tr style=\"text-align: right;\">\n",
       "      <th></th>\n",
       "      <th>id</th>\n",
       "      <th>gender</th>\n",
       "      <th>age</th>\n",
       "      <th>region</th>\n",
       "      <th>product_19</th>\n",
       "      <th>product_20</th>\n",
       "      <th>price_19</th>\n",
       "      <th>price_20</th>\n",
       "      <th>quantity_19</th>\n",
       "      <th>quantity_20</th>\n",
       "      <th>time_19</th>\n",
       "      <th>time_20</th>\n",
       "      <th>amount_19</th>\n",
       "      <th>amount_20</th>\n",
       "      <th>sales</th>\n",
       "    </tr>\n",
       "  </thead>\n",
       "  <tbody>\n",
       "    <tr>\n",
       "      <th>1</th>\n",
       "      <td>623</td>\n",
       "      <td>0</td>\n",
       "      <td>39</td>\n",
       "      <td>1</td>\n",
       "      <td>89464</td>\n",
       "      <td>40218</td>\n",
       "      <td>37647.970070</td>\n",
       "      <td>32012.987382</td>\n",
       "      <td>54</td>\n",
       "      <td>55</td>\n",
       "      <td>10</td>\n",
       "      <td>8</td>\n",
       "      <td>2032.0</td>\n",
       "      <td>1760.0</td>\n",
       "      <td>0</td>\n",
       "    </tr>\n",
       "    <tr>\n",
       "      <th>2</th>\n",
       "      <td>628</td>\n",
       "      <td>0</td>\n",
       "      <td>38</td>\n",
       "      <td>2</td>\n",
       "      <td>14912</td>\n",
       "      <td>13346</td>\n",
       "      <td>38252.918243</td>\n",
       "      <td>15394.897209</td>\n",
       "      <td>82</td>\n",
       "      <td>69</td>\n",
       "      <td>10</td>\n",
       "      <td>6</td>\n",
       "      <td>3136.0</td>\n",
       "      <td>1062.0</td>\n",
       "      <td>0</td>\n",
       "    </tr>\n",
       "    <tr>\n",
       "      <th>3</th>\n",
       "      <td>802</td>\n",
       "      <td>1</td>\n",
       "      <td>73</td>\n",
       "      <td>6</td>\n",
       "      <td>82965</td>\n",
       "      <td>80384</td>\n",
       "      <td>16772.960603</td>\n",
       "      <td>43240.035223</td>\n",
       "      <td>11</td>\n",
       "      <td>91</td>\n",
       "      <td>4</td>\n",
       "      <td>18</td>\n",
       "      <td>184.0</td>\n",
       "      <td>3934.0</td>\n",
       "      <td>1</td>\n",
       "    </tr>\n",
       "    <tr>\n",
       "      <th>4</th>\n",
       "      <td>818</td>\n",
       "      <td>0</td>\n",
       "      <td>56</td>\n",
       "      <td>1</td>\n",
       "      <td>86103</td>\n",
       "      <td>58661</td>\n",
       "      <td>14102.533431</td>\n",
       "      <td>10539.499719</td>\n",
       "      <td>39</td>\n",
       "      <td>98</td>\n",
       "      <td>4</td>\n",
       "      <td>2</td>\n",
       "      <td>549.0</td>\n",
       "      <td>1032.0</td>\n",
       "      <td>1</td>\n",
       "    </tr>\n",
       "    <tr>\n",
       "      <th>5</th>\n",
       "      <td>983</td>\n",
       "      <td>1</td>\n",
       "      <td>15</td>\n",
       "      <td>8</td>\n",
       "      <td>19247</td>\n",
       "      <td>47773</td>\n",
       "      <td>43278.013211</td>\n",
       "      <td>16796.135355</td>\n",
       "      <td>5</td>\n",
       "      <td>60</td>\n",
       "      <td>3</td>\n",
       "      <td>6</td>\n",
       "      <td>216.0</td>\n",
       "      <td>1007.0</td>\n",
       "      <td>1</td>\n",
       "    </tr>\n",
       "    <tr>\n",
       "      <th>...</th>\n",
       "      <td>...</td>\n",
       "      <td>...</td>\n",
       "      <td>...</td>\n",
       "      <td>...</td>\n",
       "      <td>...</td>\n",
       "      <td>...</td>\n",
       "      <td>...</td>\n",
       "      <td>...</td>\n",
       "      <td>...</td>\n",
       "      <td>...</td>\n",
       "      <td>...</td>\n",
       "      <td>...</td>\n",
       "      <td>...</td>\n",
       "      <td>...</td>\n",
       "      <td>...</td>\n",
       "    </tr>\n",
       "    <tr>\n",
       "      <th>996</th>\n",
       "      <td>615</td>\n",
       "      <td>1</td>\n",
       "      <td>26</td>\n",
       "      <td>6</td>\n",
       "      <td>47111</td>\n",
       "      <td>27558</td>\n",
       "      <td>30253.776581</td>\n",
       "      <td>12136.434817</td>\n",
       "      <td>12</td>\n",
       "      <td>4</td>\n",
       "      <td>20</td>\n",
       "      <td>5</td>\n",
       "      <td>363.0</td>\n",
       "      <td>48.0</td>\n",
       "      <td>0</td>\n",
       "    </tr>\n",
       "    <tr>\n",
       "      <th>997</th>\n",
       "      <td>616</td>\n",
       "      <td>0</td>\n",
       "      <td>32</td>\n",
       "      <td>10</td>\n",
       "      <td>72734</td>\n",
       "      <td>21466</td>\n",
       "      <td>20574.505909</td>\n",
       "      <td>4545.720468</td>\n",
       "      <td>47</td>\n",
       "      <td>42</td>\n",
       "      <td>23</td>\n",
       "      <td>13</td>\n",
       "      <td>967.0</td>\n",
       "      <td>190.0</td>\n",
       "      <td>0</td>\n",
       "    </tr>\n",
       "    <tr>\n",
       "      <th>998</th>\n",
       "      <td>872</td>\n",
       "      <td>1</td>\n",
       "      <td>23</td>\n",
       "      <td>8</td>\n",
       "      <td>72775</td>\n",
       "      <td>58187</td>\n",
       "      <td>8032.425624</td>\n",
       "      <td>3619.184715</td>\n",
       "      <td>25</td>\n",
       "      <td>98</td>\n",
       "      <td>1</td>\n",
       "      <td>2</td>\n",
       "      <td>200.0</td>\n",
       "      <td>354.0</td>\n",
       "      <td>1</td>\n",
       "    </tr>\n",
       "    <tr>\n",
       "      <th>999</th>\n",
       "      <td>384</td>\n",
       "      <td>1</td>\n",
       "      <td>46</td>\n",
       "      <td>1</td>\n",
       "      <td>80492</td>\n",
       "      <td>40286</td>\n",
       "      <td>45684.417042</td>\n",
       "      <td>33793.125364</td>\n",
       "      <td>4</td>\n",
       "      <td>26</td>\n",
       "      <td>11</td>\n",
       "      <td>21</td>\n",
       "      <td>182.0</td>\n",
       "      <td>878.0</td>\n",
       "      <td>1</td>\n",
       "    </tr>\n",
       "    <tr>\n",
       "      <th>1000</th>\n",
       "      <td>57</td>\n",
       "      <td>1</td>\n",
       "      <td>69</td>\n",
       "      <td>1</td>\n",
       "      <td>14737</td>\n",
       "      <td>41037</td>\n",
       "      <td>30443.215076</td>\n",
       "      <td>16203.194552</td>\n",
       "      <td>3</td>\n",
       "      <td>22</td>\n",
       "      <td>5</td>\n",
       "      <td>24</td>\n",
       "      <td>91.0</td>\n",
       "      <td>356.0</td>\n",
       "      <td>1</td>\n",
       "    </tr>\n",
       "  </tbody>\n",
       "</table>\n",
       "<p>1000 rows × 15 columns</p>\n",
       "</div>"
      ],
      "text/plain": [
       "       id  gender  age  region  product_19  product_20      price_19  \\\n",
       "1     623       0   39       1       89464       40218  37647.970070   \n",
       "2     628       0   38       2       14912       13346  38252.918243   \n",
       "3     802       1   73       6       82965       80384  16772.960603   \n",
       "4     818       0   56       1       86103       58661  14102.533431   \n",
       "5     983       1   15       8       19247       47773  43278.013211   \n",
       "...   ...     ...  ...     ...         ...         ...           ...   \n",
       "996   615       1   26       6       47111       27558  30253.776581   \n",
       "997   616       0   32      10       72734       21466  20574.505909   \n",
       "998   872       1   23       8       72775       58187   8032.425624   \n",
       "999   384       1   46       1       80492       40286  45684.417042   \n",
       "1000   57       1   69       1       14737       41037  30443.215076   \n",
       "\n",
       "          price_20  quantity_19  quantity_20  time_19  time_20  amount_19  \\\n",
       "1     32012.987382           54           55       10        8     2032.0   \n",
       "2     15394.897209           82           69       10        6     3136.0   \n",
       "3     43240.035223           11           91        4       18      184.0   \n",
       "4     10539.499719           39           98        4        2      549.0   \n",
       "5     16796.135355            5           60        3        6      216.0   \n",
       "...            ...          ...          ...      ...      ...        ...   \n",
       "996   12136.434817           12            4       20        5      363.0   \n",
       "997    4545.720468           47           42       23       13      967.0   \n",
       "998    3619.184715           25           98        1        2      200.0   \n",
       "999   33793.125364            4           26       11       21      182.0   \n",
       "1000  16203.194552            3           22        5       24       91.0   \n",
       "\n",
       "      amount_20  sales  \n",
       "1        1760.0      0  \n",
       "2        1062.0      0  \n",
       "3        3934.0      1  \n",
       "4        1032.0      1  \n",
       "5        1007.0      1  \n",
       "...         ...    ...  \n",
       "996        48.0      0  \n",
       "997       190.0      0  \n",
       "998       354.0      1  \n",
       "999       878.0      1  \n",
       "1000      356.0      1  \n",
       "\n",
       "[1000 rows x 15 columns]"
      ]
     },
     "execution_count": 24,
     "metadata": {},
     "output_type": "execute_result"
    }
   ],
   "source": [
    "import numpy as np\n",
    "import pandas as pd\n",
    "columns=['id', 'gender', 'age','region','product_19','product_20','price_19','price_20',\n",
    "                                   'quantity_19','quantity_20','time_19','time_20','amount_19','amount_20','sales']\n",
    "arr=np.zeros((1000,len(columns)))\n",
    "\n",
    "df = pd.DataFrame(arr,range(1,1001),columns)\n",
    "\n",
    "df.id = np.random.randint(1, 1001, size = 1000)\n",
    "df.gender = np.random.randint(0, 2, size = 1000)\n",
    "df.age = np.random.randint(0, 81, size = 1000)\n",
    "df.region = np.random.randint(1, 11, size = 1000)\n",
    "df.product_19 = np.random.randint(11111, 100000, size = 1000)\n",
    "df.product_20 = np.random.randint(11111, 100000, size = 1000)\n",
    "df.price_19 = np.random.uniform(1000.0,50000.0,1000)\n",
    "df.price_20 = np.random.uniform(1000.0,50000.0,1000)\n",
    "df.quantity_19 = np.random.randint(1,101, size = 1000)\n",
    "df.quantity_20 = np.random.randint(1,101, size = 1000)\n",
    "df.time_19 = np.random.randint(1,25, size = 1000)\n",
    "df.time_20 = np.random.randint(1,25, size = 1000)\n",
    "df.amount_19 = (df.price_19 * df.quantity_19)//1000\n",
    "df.amount_20 = (df.price_20 * df.quantity_20)//1000\n",
    "df.sales = np.where( df.amount_19 < df.amount_20,1,0)\n",
    "df"
   ]
  }
 ],
 "metadata": {
  "kernelspec": {
   "display_name": "Python 3 (ipykernel)",
   "language": "python",
   "name": "python3"
  },
  "language_info": {
   "codemirror_mode": {
    "name": "ipython",
    "version": 3
   },
   "file_extension": ".py",
   "mimetype": "text/x-python",
   "name": "python",
   "nbconvert_exporter": "python",
   "pygments_lexer": "ipython3",
   "version": "3.9.7"
  }
 },
 "nbformat": 4,
 "nbformat_minor": 5
}
