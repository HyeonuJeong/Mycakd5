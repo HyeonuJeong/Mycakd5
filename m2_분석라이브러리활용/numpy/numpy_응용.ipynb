{
 "cells": [
  {
   "cell_type": "code",
   "execution_count": 2,
   "id": "d314a336",
   "metadata": {},
   "outputs": [],
   "source": [
    "import numpy as np"
   ]
  },
  {
   "cell_type": "code",
   "execution_count": 3,
   "id": "2a1cd650",
   "metadata": {},
   "outputs": [
    {
     "data": {
      "text/plain": [
       "array([[2, 4, 5, 8, 6],\n",
       "       [5, 4, 1, 2, 8],\n",
       "       [3, 2, 9, 7, 2],\n",
       "       [4, 9, 1, 4, 2],\n",
       "       [5, 2, 1, 3, 8]])"
      ]
     },
     "execution_count": 3,
     "metadata": {},
     "output_type": "execute_result"
    }
   ],
   "source": [
    "arr = np.random.randint(1,10, size=(5,5))\n",
    "arr"
   ]
  },
  {
   "cell_type": "code",
   "execution_count": 4,
   "id": "acc0391b",
   "metadata": {},
   "outputs": [
    {
     "data": {
      "text/plain": [
       "array([[2, 5, 3, 4, 5],\n",
       "       [4, 4, 2, 9, 2],\n",
       "       [5, 1, 9, 1, 1],\n",
       "       [8, 2, 7, 4, 3],\n",
       "       [6, 8, 2, 2, 8]])"
      ]
     },
     "execution_count": 4,
     "metadata": {},
     "output_type": "execute_result"
    }
   ],
   "source": [
    "# 전치\n",
    "arr.T\n",
    "np.transpose(arr)"
   ]
  },
  {
   "cell_type": "code",
   "execution_count": 5,
   "id": "954f9ecf",
   "metadata": {},
   "outputs": [
    {
     "data": {
      "text/plain": [
       "array([[ 79,  80,  51,  78, 106],\n",
       "       [ 80, 121,  53,  96,  94],\n",
       "       [ 51,  53, 109, 112,  66],\n",
       "       [ 78,  96, 112, 142, 110],\n",
       "       [106,  94,  66, 110, 172]])"
      ]
     },
     "execution_count": 5,
     "metadata": {},
     "output_type": "execute_result"
    }
   ],
   "source": [
    "# 행렬곱, 내적\n",
    "np.dot(arr.T, arr)"
   ]
  },
  {
   "cell_type": "code",
   "execution_count": 6,
   "id": "80a32fde",
   "metadata": {},
   "outputs": [
    {
     "name": "stdout",
     "output_type": "stream",
     "text": [
      "[[0 1 2]\n",
      " [3 4 5]] \n",
      "\n",
      "[[0 3]\n",
      " [1 4]\n",
      " [2 5]] \n",
      "\n",
      "[[0 3]\n",
      " [1 4]\n",
      " [2 5]]\n"
     ]
    }
   ],
   "source": [
    "a = np.arange(6).reshape(2,3)\n",
    "print(a,'\\n')\n",
    "\n",
    "y = np.swapaxes(a, 0,1) # 0은 2차원(열), 1은 1차원(행)\n",
    "print(y,'\\n')\n",
    "\n",
    "y = a.T\n",
    "y = np.transpose(a)\n",
    "y = np.transpose(a)\n",
    "print(y)"
   ]
  },
  {
   "cell_type": "code",
   "execution_count": 7,
   "id": "aa407138",
   "metadata": {},
   "outputs": [
    {
     "ename": "SyntaxError",
     "evalue": "invalid syntax (Temp/ipykernel_6272/1506163337.py, line 3)",
     "output_type": "error",
     "traceback": [
      "\u001b[1;36m  File \u001b[1;32m\"C:\\Users\\admin\\AppData\\Local\\Temp/ipykernel_6272/1506163337.py\"\u001b[1;36m, line \u001b[1;32m3\u001b[0m\n\u001b[1;33m    [[  1   2   3   4   5   6   7   8   9  10]\u001b[0m\n\u001b[1;37m            ^\u001b[0m\n\u001b[1;31mSyntaxError\u001b[0m\u001b[1;31m:\u001b[0m invalid syntax\n"
     ]
    }
   ],
   "source": [
    "# 1 ~ 100을 아래와 같이 출력하세요.\n",
    "\n",
    "[[  1   2   3   4   5   6   7   8   9  10]\n",
    " [ 20  19  18  17  16  15  14  13  12  11]\n",
    " [ 21  22  23  24  25  26  27  28  29  30]\n",
    " [ 40  39  38  37  36  35  34  33  32  31]\n",
    " [ 41  42  43  44  45  46  47  48  49  50]\n",
    " [ 60  59  58  57  56  55  54  53  52  51]\n",
    " [ 61  62  63  64  65  66  67  68  69  70]\n",
    " [ 80  79  78  77  76  75  74  73  72  71]\n",
    " [ 81  82  83  84  85  86  87  88  89  90]\n",
    " [100  99  98  97  96  95  94  93  92  91]] <class 'numpy.ndarray'>\n"
   ]
  },
  {
   "cell_type": "code",
   "execution_count": 8,
   "id": "528872c7",
   "metadata": {
    "scrolled": true
   },
   "outputs": [
    {
     "name": "stdout",
     "output_type": "stream",
     "text": [
      "[[  1   2   3   4   5   6   7   8   9  10]\n",
      " [ 20  19  18  17  16  15  14  13  12  11]\n",
      " [ 21  22  23  24  25  26  27  28  29  30]\n",
      " [ 40  39  38  37  36  35  34  33  32  31]\n",
      " [ 41  42  43  44  45  46  47  48  49  50]\n",
      " [ 60  59  58  57  56  55  54  53  52  51]\n",
      " [ 61  62  63  64  65  66  67  68  69  70]\n",
      " [ 80  79  78  77  76  75  74  73  72  71]\n",
      " [ 81  82  83  84  85  86  87  88  89  90]\n",
      " [100  99  98  97  96  95  94  93  92  91]]\n"
     ]
    }
   ],
   "source": [
    "arr = np.arange(1,101).reshape(10,10)\n",
    "arr[[1,3,5,7,9]] = arr[[1,3,5,7,9]][:,[9,8,7,6,5,4,3,2,1,0]]\n",
    "print(arr)"
   ]
  },
  {
   "cell_type": "code",
   "execution_count": 31,
   "id": "8d0c2099",
   "metadata": {},
   "outputs": [
    {
     "data": {
      "text/plain": [
       "array([[  1,   2,   3,   4,   5,   6,   7,   8,   9,  10],\n",
       "       [ 20,  19,  18,  17,  16,  15,  14,  13,  12,  11],\n",
       "       [ 21,  22,  23,  24,  25,  26,  27,  28,  29,  30],\n",
       "       [ 40,  39,  38,  37,  36,  35,  34,  33,  32,  31],\n",
       "       [ 41,  42,  43,  44,  45,  46,  47,  48,  49,  50],\n",
       "       [ 60,  59,  58,  57,  56,  55,  54,  53,  52,  51],\n",
       "       [ 61,  62,  63,  64,  65,  66,  67,  68,  69,  70],\n",
       "       [ 80,  79,  78,  77,  76,  75,  74,  73,  72,  71],\n",
       "       [ 81,  82,  83,  84,  85,  86,  87,  88,  89,  90],\n",
       "       [100,  99,  98,  97,  96,  95,  94,  93,  92,  91]])"
      ]
     },
     "execution_count": 31,
     "metadata": {},
     "output_type": "execute_result"
    }
   ],
   "source": [
    "arr = np.arange(1,101).reshape(10,10)\n",
    "arr[[1,3,5,7,9]] = arr[[1,3,5,7,9]][:,::-1]\n",
    "arr"
   ]
  },
  {
   "cell_type": "code",
   "execution_count": 32,
   "id": "ec8d9b42",
   "metadata": {},
   "outputs": [
    {
     "name": "stdout",
     "output_type": "stream",
     "text": [
      "[[  1   2   3   4   5   6   7   8   9  10]\n",
      " [ 20  19  18  17  16  15  14  13  12  11]\n",
      " [ 21  22  23  24  25  26  27  28  29  30]\n",
      " [ 40  39  38  37  36  35  34  33  32  31]\n",
      " [ 41  42  43  44  45  46  47  48  49  50]\n",
      " [ 60  59  58  57  56  55  54  53  52  51]\n",
      " [ 61  62  63  64  65  66  67  68  69  70]\n",
      " [ 80  79  78  77  76  75  74  73  72  71]\n",
      " [ 81  82  83  84  85  86  87  88  89  90]\n",
      " [100  99  98  97  96  95  94  93  92  91]]\n"
     ]
    }
   ],
   "source": [
    "a = np.arange(1, 101).reshape((10, -1))\n",
    "\n",
    "for i in range(10):\n",
    "    if i % 2 == 1:\n",
    "        a[i] = a[i][::-1]\n",
    "\n",
    "print(a)\n"
   ]
  },
  {
   "cell_type": "code",
   "execution_count": 33,
   "id": "8eb84533",
   "metadata": {},
   "outputs": [
    {
     "name": "stdout",
     "output_type": "stream",
     "text": [
      "[[[0 1 2]\n",
      "  [3 4 5]]] (1, 2, 3) \n",
      "\n",
      "[[[0 1 2]]\n",
      "\n",
      " [[3 4 5]]] (2, 1, 3) \n",
      "\n"
     ]
    }
   ],
   "source": [
    "# (0,1,2)\n",
    "# 3차원과 2차원을 바꾸는 경우 : (1,2,3) -> (2,1,3)\n",
    "a = np.arange(6).reshape(1,2,3)\n",
    "print(a,a.shape,'\\n')\n",
    "\n",
    "y = np.transpose(a,(1,0,2))\n",
    "print(y,y.shape,'\\n')"
   ]
  },
  {
   "cell_type": "code",
   "execution_count": 34,
   "id": "463e9166",
   "metadata": {},
   "outputs": [
    {
     "name": "stdout",
     "output_type": "stream",
     "text": [
      "[[[0 1 2]\n",
      "  [3 4 5]]] (1, 2, 3) \n",
      "\n",
      "[[[0]\n",
      "  [1]\n",
      "  [2]]\n",
      "\n",
      " [[3]\n",
      "  [4]\n",
      "  [5]]] (2, 3, 1)\n"
     ]
    }
   ],
   "source": [
    "# (1,2,3) -> (2,3,1)\n",
    "a = np.arange(6).reshape(1,2,3)\n",
    "print(a,a.shape,'\\n')\n",
    "y = np.transpose(a,(1,2,0))\n",
    "print(y,y.shape)"
   ]
  },
  {
   "cell_type": "code",
   "execution_count": 35,
   "id": "a331c5c1",
   "metadata": {},
   "outputs": [
    {
     "name": "stdout",
     "output_type": "stream",
     "text": [
      "[[[ 0  1  2  3]\n",
      "  [ 4  5  6  7]]\n",
      "\n",
      " [[ 8  9 10 11]\n",
      "  [12 13 14 15]]] (2, 2, 4) \n",
      "\n"
     ]
    }
   ],
   "source": [
    "# [과제] 아래 배열에서 3차원과 2차원을 변경하여 출력하세요(shape 확인)\n",
    "import numpy as np\n",
    "arr = np.arange(16).reshape(2,2,4)\n",
    "print(arr,arr.shape,'\\n')"
   ]
  },
  {
   "cell_type": "code",
   "execution_count": 36,
   "id": "df1aba38-cd97-48a7-806e-9fc82693a7b2",
   "metadata": {},
   "outputs": [
    {
     "name": "stdout",
     "output_type": "stream",
     "text": [
      "[[[ 0  1  2  3]\n",
      "  [ 4  5  6  7]]\n",
      "\n",
      " [[ 8  9 10 11]\n",
      "  [12 13 14 15]]] (2, 2, 4)\n"
     ]
    }
   ],
   "source": [
    "arr=arr.reshape(2,2,4)\n",
    "print(arr,arr.shape)"
   ]
  },
  {
   "cell_type": "code",
   "execution_count": 37,
   "id": "4022f96d",
   "metadata": {},
   "outputs": [],
   "source": [
    "# [과제] 상기 과제의 arr에서 2차원과 1차원을 변경하여 출력하세요(shape 확인)"
   ]
  },
  {
   "cell_type": "code",
   "execution_count": 46,
   "id": "4d3dfba4-7b58-4da6-9c7c-c80c5fbc2768",
   "metadata": {},
   "outputs": [
    {
     "name": "stdout",
     "output_type": "stream",
     "text": [
      "[[[ 0  1]\n",
      "  [ 2  3]\n",
      "  [ 4  5]\n",
      "  [ 6  7]]\n",
      "\n",
      " [[ 8  9]\n",
      "  [10 11]\n",
      "  [12 13]\n",
      "  [14 15]]] (2, 4, 2)\n",
      "[[[ 0  2  4  6]\n",
      "  [ 1  3  5  7]]\n",
      "\n",
      " [[ 8 10 12 14]\n",
      "  [ 9 11 13 15]]] (2, 2, 4)\n"
     ]
    }
   ],
   "source": [
    "arr=np.arange(16).reshape(2,4,2)\n",
    "print(arr,arr.shape)\n",
    "arr2=np.swapaxes(arr,2,1)\n",
    "\n",
    "print(arr2,arr2.shape)"
   ]
  },
  {
   "cell_type": "code",
   "execution_count": 47,
   "id": "ac4de091",
   "metadata": {},
   "outputs": [
    {
     "name": "stdout",
     "output_type": "stream",
     "text": [
      "[1 2 0]\n",
      "[1 2 0]\n"
     ]
    }
   ],
   "source": [
    "# 나머지를 구할 경우 사용하는 함수\n",
    "value1 = np.array([15,30,45])\n",
    "value2 = np.array([2,7,9])\n",
    "print(np.mod(value1,value2))\n",
    "print(np.remainder(value1,value2))"
   ]
  },
  {
   "cell_type": "code",
   "execution_count": 56,
   "id": "4b6d9b48",
   "metadata": {},
   "outputs": [
    {
     "name": "stdout",
     "output_type": "stream",
     "text": [
      "[1.17647059 0.54054054 1.         0.01      ] \n",
      "\n",
      "[100] \n",
      "\n",
      "[0.01]\n"
     ]
    }
   ],
   "source": [
    "# 각 수의 역수를 구해주는 함수\n",
    "value = np.array([0.85,1.85,1,100])\n",
    "print(np.reciprocal(value),'\\n')\n",
    "\n",
    "value1 = np.array([100],dtype = int)\n",
    "print(value1,'\\n')\n",
    "print(np.reciprocal(value1, dtype=float))"
   ]
  },
  {
   "cell_type": "code",
   "execution_count": 49,
   "id": "d4b993ce",
   "metadata": {},
   "outputs": [
    {
     "name": "stdout",
     "output_type": "stream",
     "text": [
      "[  4 100 225] \n",
      "\n",
      "[   2  100 3375]\n"
     ]
    }
   ],
   "source": [
    "# 승수의 결과 값을 표시해주는 함수\n",
    "value1 = np.array([2,10,15])\n",
    "value2 = np.array([1,2,3])\n",
    "\n",
    "print(np.power(value1,2),'\\n')\n",
    "print(np.power(value1,value2))"
   ]
  },
  {
   "cell_type": "code",
   "execution_count": 57,
   "id": "8bfc7a85",
   "metadata": {},
   "outputs": [
    {
     "data": {
      "text/plain": [
       "array([ 0.71285655,  1.09579121, -1.07828631, -0.66772385,  0.18150156,\n",
       "        0.06589349, -0.18489705, -0.98268524, -0.61901723, -0.07739367])"
      ]
     },
     "execution_count": 57,
     "metadata": {},
     "output_type": "execute_result"
    }
   ],
   "source": [
    "arr = np.random.randn(10)\n",
    "# print(arr.mean(),'\\n')\n",
    "# print(arr.std())\n",
    "arr"
   ]
  },
  {
   "cell_type": "code",
   "execution_count": 58,
   "id": "226d3c8b",
   "metadata": {},
   "outputs": [
    {
     "data": {
      "text/plain": [
       "4"
      ]
     },
     "execution_count": 58,
     "metadata": {},
     "output_type": "execute_result"
    }
   ],
   "source": [
    "# 양수인 원소의 개수\n",
    "(arr > 0).sum()"
   ]
  },
  {
   "cell_type": "code",
   "execution_count": 59,
   "id": "54354da1",
   "metadata": {},
   "outputs": [
    {
     "data": {
      "text/plain": [
       "True"
      ]
     },
     "execution_count": 59,
     "metadata": {},
     "output_type": "execute_result"
    }
   ],
   "source": [
    "# 하나 이상의 값이 True인지 검사\n",
    "bools = np.array([False,False, True,True])\n",
    "bools.any()"
   ]
  },
  {
   "cell_type": "code",
   "execution_count": 60,
   "id": "4dfd2ef6",
   "metadata": {},
   "outputs": [
    {
     "data": {
      "text/plain": [
       "False"
      ]
     },
     "execution_count": 60,
     "metadata": {},
     "output_type": "execute_result"
    }
   ],
   "source": [
    "# 모든 원소가 True인지 검사\n",
    "bools.all()"
   ]
  },
  {
   "cell_type": "code",
   "execution_count": 64,
   "id": "76231100",
   "metadata": {},
   "outputs": [
    {
     "name": "stdout",
     "output_type": "stream",
     "text": [
      "[[-0.81274254  1.17628945  0.12781626  0.22116186]\n",
      " [ 0.88685392 -1.13336662  0.06503074 -0.75375735]\n",
      " [-0.30390368 -0.28634879  0.50799814  0.60774537]\n",
      " [-1.09944839  0.5894104  -2.14293739  1.2935399 ]] \n",
      "\n"
     ]
    },
    {
     "data": {
      "text/plain": [
       "array([[-2,  2,  2,  2],\n",
       "       [ 2, -2,  2, -2],\n",
       "       [-2, -2,  2,  2],\n",
       "       [-2,  2, -2,  2]])"
      ]
     },
     "execution_count": 64,
     "metadata": {},
     "output_type": "execute_result"
    }
   ],
   "source": [
    "# 삼항식의 벡터화 버전\n",
    "arr = np.random.randn(4,4)\n",
    "print(arr,'\\n')\n",
    "np.where(arr > 0, 2, -2)"
   ]
  },
  {
   "cell_type": "code",
   "execution_count": 65,
   "id": "7dfa332c",
   "metadata": {},
   "outputs": [
    {
     "data": {
      "text/plain": [
       "array([[-0.81274254,  2.        ,  2.        ,  2.        ],\n",
       "       [ 2.        , -1.13336662,  2.        , -0.75375735],\n",
       "       [-0.30390368, -0.28634879,  2.        ,  2.        ],\n",
       "       [-1.09944839,  2.        , -2.14293739,  2.        ]])"
      ]
     },
     "execution_count": 65,
     "metadata": {},
     "output_type": "execute_result"
    }
   ],
   "source": [
    "# arr의 모든 양수를 2로 바꿀 경우\n",
    "np.where(arr > 0, 2, arr)"
   ]
  },
  {
   "cell_type": "code",
   "execution_count": 66,
   "id": "870f5027",
   "metadata": {},
   "outputs": [
    {
     "name": "stdout",
     "output_type": "stream",
     "text": [
      "[[1 2 3]\n",
      " [1 2 3]\n",
      " [1 2 3]] \n",
      "\n",
      "[[1 1 1]\n",
      " [2 2 2]\n",
      " [3 3 3]]\n"
     ]
    }
   ],
   "source": [
    "# 두개의 1차원 배열을 받아서 가능한 모든 (x,y) 짝을 만들 수 있는 2차원 배열 2개 반환\n",
    "x = np.arange(1,4)\n",
    "y = np.arange(1,4)\n",
    "xs,ys = np.meshgrid(x,y)\n",
    "print(xs,'\\n')\n",
    "print(ys)"
   ]
  },
  {
   "cell_type": "code",
   "execution_count": 67,
   "id": "e3ba1689",
   "metadata": {},
   "outputs": [
    {
     "name": "stdout",
     "output_type": "stream",
     "text": [
      "[45 48 65 68 68 10 84 22 37 88] \n",
      "\n",
      "[10 22 37 45 48 65 68 68 84 88] \n",
      "\n",
      "[45 48 65 68 68 10 84 22 37 88]\n"
     ]
    }
   ],
   "source": [
    "# np.sort()\n",
    "np.random.seed(0)\n",
    "arr = np.random.randint(1,100,size=10)\n",
    "print(arr,'\\n')\n",
    "print(np.sort(arr),'\\n')\n",
    "print(arr)"
   ]
  },
  {
   "cell_type": "code",
   "execution_count": 68,
   "id": "3495f9c2",
   "metadata": {},
   "outputs": [
    {
     "name": "stdout",
     "output_type": "stream",
     "text": [
      "[10 22 37 45 48 65 68 68 84 88]\n"
     ]
    }
   ],
   "source": [
    "sorted = np.sort(arr)\n",
    "print(sorted)"
   ]
  },
  {
   "cell_type": "code",
   "execution_count": 70,
   "id": "13962bf7",
   "metadata": {},
   "outputs": [
    {
     "name": "stdout",
     "output_type": "stream",
     "text": [
      "[[ 8 12]\n",
      " [ 7  1]] \n",
      "\n",
      "[[ 7  1]\n",
      " [ 8 12]] \n",
      "\n",
      "[[ 8 12]\n",
      " [ 1  7]]\n"
     ]
    }
   ],
   "source": [
    "# 행렬이 2차원 이상일 때 axis 축 값 설정을 통해 행, 열 방향으로 정렬 수행\n",
    "arr2d = np.array([[8,12],[7,1]])\n",
    "print(arr2d,'\\n')\n",
    "sort_ar2d_axis0 = np.sort(arr2d, axis=0)\n",
    "print(sort_ar2d_axis0,'\\n')\n",
    "sort_ar2d_axis1 = np.sort(arr2d, axis=1)\n",
    "print(sort_ar2d_axis1)"
   ]
  },
  {
   "cell_type": "code",
   "execution_count": 71,
   "id": "b6974e0a",
   "metadata": {},
   "outputs": [
    {
     "name": "stdout",
     "output_type": "stream",
     "text": [
      "[6 1 4 4 8 4 6 3 5 8] \n",
      "\n",
      "[1 3 4 4 4 5 6 6 8 8]\n"
     ]
    }
   ],
   "source": [
    "# ndarray.sort() : 원본 반영\n",
    "np.random.seed(0)\n",
    "arr = np.random.randint(1,10,size=10)\n",
    "# arr = np.random.randn(6)\n",
    "print(arr,'\\n')\n",
    "arr.sort() # 원본 반영\n",
    "print(arr)"
   ]
  },
  {
   "cell_type": "code",
   "execution_count": 74,
   "id": "24c28674",
   "metadata": {},
   "outputs": [
    {
     "name": "stdout",
     "output_type": "stream",
     "text": [
      "[[6 1 4]\n",
      " [4 8 4]\n",
      " [6 3 5]\n",
      " [8 7 9]\n",
      " [9 2 7]] \n",
      "\n",
      "[[1 4 6]\n",
      " [4 4 8]\n",
      " [3 5 6]\n",
      " [7 8 9]\n",
      " [2 7 9]]\n"
     ]
    }
   ],
   "source": [
    "# 다차원 배열의 정렬은 sort 메소드에 넘긴 축에 따라 1차원 부분을 정렬\n",
    "# 열방향 정렬, default\n",
    "np.random.seed(0)\n",
    "arr = np.random.randint(1,10,size=(5,3))\n",
    "print(arr,'\\n')\n",
    "arr.sort(1)\n",
    "print(arr)"
   ]
  },
  {
   "cell_type": "code",
   "execution_count": 75,
   "id": "27351a52",
   "metadata": {},
   "outputs": [
    {
     "name": "stdout",
     "output_type": "stream",
     "text": [
      "[[6 1 4]\n",
      " [4 8 4]\n",
      " [6 3 5]\n",
      " [8 7 9]\n",
      " [9 2 7]] \n",
      "\n",
      "[[4 1 4]\n",
      " [6 2 4]\n",
      " [6 3 5]\n",
      " [8 7 7]\n",
      " [9 8 9]]\n"
     ]
    }
   ],
   "source": [
    "# 행방향 정렬\n",
    "np.random.seed(0)\n",
    "arr = np.random.randint(1,10,size=(5,3))\n",
    "print(arr,'\\n')\n",
    "arr.sort(0)\n",
    "print(arr)"
   ]
  },
  {
   "cell_type": "code",
   "execution_count": 76,
   "id": "ada128da",
   "metadata": {},
   "outputs": [
    {
     "name": "stdout",
     "output_type": "stream",
     "text": [
      "[3 1 9 5]\n",
      "<class 'numpy.ndarray'>\n"
     ]
    },
    {
     "data": {
      "text/plain": [
       "array([1, 0, 3, 2], dtype=int64)"
      ]
     },
     "execution_count": 76,
     "metadata": {},
     "output_type": "execute_result"
    }
   ],
   "source": [
    "# 정렬된 행렬의 인덱스 반환 : 기존 원본 행렬의 원소에 대한 인덱스를 필요로 할 때\n",
    "org_array = np.array([3,1,9,5])\n",
    "sort_indices = np.argsort(org_array)\n",
    "print(org_array)\n",
    "print(type(sort_indices))\n",
    "sort_indices"
   ]
  },
  {
   "cell_type": "code",
   "execution_count": 77,
   "id": "b0046a2c",
   "metadata": {},
   "outputs": [
    {
     "data": {
      "text/plain": [
       "0.0017985835409833097"
      ]
     },
     "execution_count": 77,
     "metadata": {},
     "output_type": "execute_result"
    }
   ],
   "source": [
    "# 배열에서 정렬한 후 50%에 해당하는 원소만 출력\n",
    "large_arr = np.random.randn(1000)\n",
    "large_arr.sort()\n",
    "large_arr[int(0.5*len(large_arr))]"
   ]
  },
  {
   "cell_type": "code",
   "execution_count": 78,
   "id": "4820ba3b",
   "metadata": {},
   "outputs": [
    {
     "data": {
      "text/plain": [
       "array(['Bob', 'Joe', 'Will'], dtype='<U4')"
      ]
     },
     "execution_count": 78,
     "metadata": {},
     "output_type": "execute_result"
    }
   ],
   "source": [
    "# 배열 집합 연산\n",
    "names = np.array(['Bob','Joe','Will','Joe','Joe'])\n",
    "np.unique(names)"
   ]
  },
  {
   "cell_type": "code",
   "execution_count": 81,
   "id": "a10390ff",
   "metadata": {},
   "outputs": [
    {
     "data": {
      "text/plain": [
       "array(['Bob', 'Joe', 'Will'], dtype='<U4')"
      ]
     },
     "execution_count": 81,
     "metadata": {},
     "output_type": "execute_result"
    }
   ],
   "source": [
    "import numpy as np\n",
    "names = np.array(['Bob','Joe','Will','Joe','Joe'])\n",
    "np.unique(names)"
   ]
  },
  {
   "cell_type": "code",
   "execution_count": 82,
   "id": "9818a3e1",
   "metadata": {},
   "outputs": [
    {
     "data": {
      "text/plain": [
       "array([ True, False, False,  True,  True, False,  True])"
      ]
     },
     "execution_count": 82,
     "metadata": {},
     "output_type": "execute_result"
    }
   ],
   "source": [
    "# 첫번째 배열의 원소가 두번째 배열의 원소를 포함하는지 알려주는 불리언 배열을 반환\n",
    "values = np.array([6,0,0,3,2,5,6])\n",
    "np.in1d(values, [2,3,6])"
   ]
  },
  {
   "cell_type": "code",
   "execution_count": 83,
   "id": "023045cb",
   "metadata": {},
   "outputs": [],
   "source": [
    "# 배열 데이터의 입출력\n",
    "# np.save, np.load는 바이너리 형식 .npy 파일로 저장\n",
    "\n",
    "arr = np.arange(10)\n",
    "np.save('some_array',arr)"
   ]
  },
  {
   "cell_type": "code",
   "execution_count": 84,
   "id": "4a28aef7",
   "metadata": {},
   "outputs": [
    {
     "data": {
      "text/plain": [
       "array([0, 1, 2, 3, 4, 5, 6, 7, 8, 9])"
      ]
     },
     "execution_count": 84,
     "metadata": {},
     "output_type": "execute_result"
    }
   ],
   "source": [
    "np.load('some_array.npy')"
   ]
  },
  {
   "cell_type": "code",
   "execution_count": 85,
   "id": "758f57b3",
   "metadata": {},
   "outputs": [],
   "source": [
    "# np.savez : 여러개의 배열을 압축된 형식으로 저장\n",
    "np.savez('array_archive.npz',a=arr,b=arr)"
   ]
  },
  {
   "cell_type": "code",
   "execution_count": 86,
   "id": "e7df6579",
   "metadata": {},
   "outputs": [
    {
     "data": {
      "text/plain": [
       "array([0, 1, 2, 3, 4, 5, 6, 7, 8, 9])"
      ]
     },
     "execution_count": 86,
     "metadata": {},
     "output_type": "execute_result"
    }
   ],
   "source": [
    "arch = np.load('array_archive.npz')\n",
    "arch['a']"
   ]
  },
  {
   "cell_type": "code",
   "execution_count": 87,
   "id": "20da0bc2",
   "metadata": {},
   "outputs": [
    {
     "data": {
      "text/plain": [
       "array([1, 1, 1, 1, 1, 1, 1, 1, 1, 1])"
      ]
     },
     "execution_count": 87,
     "metadata": {},
     "output_type": "execute_result"
    }
   ],
   "source": [
    "# Q. 인덱싱을 사용하여 [1 0 1 0 1 0 1 0 1 0] 을 출력하세요.\n",
    "a = np.ones(10,dtype=int)\n",
    "a"
   ]
  },
  {
   "cell_type": "code",
   "execution_count": 88,
   "id": "5bb2453c",
   "metadata": {},
   "outputs": [
    {
     "name": "stdout",
     "output_type": "stream",
     "text": [
      "[1 0 1 0 1 0 1 0 1 0]\n"
     ]
    }
   ],
   "source": [
    "a = np.ones(10).astype(int)\n",
    "a[[1,3,5,7,9]] = 0\n",
    "print(a)"
   ]
  },
  {
   "cell_type": "code",
   "execution_count": 89,
   "id": "153cdfd5",
   "metadata": {},
   "outputs": [],
   "source": [
    "# Q. a = np.arange(10)에서 [6,7,8,9] 출력"
   ]
  },
  {
   "cell_type": "code",
   "execution_count": 90,
   "id": "42295f03",
   "metadata": {},
   "outputs": [
    {
     "data": {
      "text/plain": [
       "array([6, 7, 8, 9])"
      ]
     },
     "execution_count": 90,
     "metadata": {},
     "output_type": "execute_result"
    }
   ],
   "source": [
    "a= np.arange(10)\n",
    "a1 = a[a>5]\n",
    "a1"
   ]
  },
  {
   "cell_type": "code",
   "execution_count": 91,
   "id": "e567c1c4",
   "metadata": {},
   "outputs": [],
   "source": [
    "# Q. a에서 최대값, 최소값의 인덱스 출력"
   ]
  },
  {
   "cell_type": "code",
   "execution_count": 92,
   "id": "6b3374a2",
   "metadata": {},
   "outputs": [
    {
     "name": "stdout",
     "output_type": "stream",
     "text": [
      "최댓값: 8\n",
      "최솟값: 0\n"
     ]
    }
   ],
   "source": [
    "a = np.arange(1,10)\n",
    "print(f'최댓값: {np.argmax(a)}\\n최솟값: {np.argmin(a)}')"
   ]
  },
  {
   "cell_type": "code",
   "execution_count": 93,
   "id": "242ab2e7",
   "metadata": {},
   "outputs": [],
   "source": [
    "# Q. a에서 인덱스 배열을 역순으로 출력하세요."
   ]
  },
  {
   "cell_type": "code",
   "execution_count": 102,
   "id": "2c203a95",
   "metadata": {},
   "outputs": [
    {
     "data": {
      "text/plain": [
       "array([7, 5, 3, 1, 6, 4, 2, 0], dtype=int64)"
      ]
     },
     "execution_count": 102,
     "metadata": {},
     "output_type": "execute_result"
    }
   ],
   "source": [
    "np.argsort(a)[::-1]"
   ]
  },
  {
   "cell_type": "code",
   "execution_count": 103,
   "id": "43599dfa",
   "metadata": {},
   "outputs": [
    {
     "ename": "NameError",
     "evalue": "name 'array' is not defined",
     "output_type": "error",
     "traceback": [
      "\u001b[1;31m---------------------------------------------------------------------------\u001b[0m",
      "\u001b[1;31mNameError\u001b[0m                                 Traceback (most recent call last)",
      "\u001b[1;32m~\\AppData\\Local\\Temp/ipykernel_6272/1209270147.py\u001b[0m in \u001b[0;36m<module>\u001b[1;34m\u001b[0m\n\u001b[0;32m      1\u001b[0m \u001b[1;31m# Q. np.ones((10,10))을 아래와 같이 출력하세요.\u001b[0m\u001b[1;33m\u001b[0m\u001b[1;33m\u001b[0m\u001b[0m\n\u001b[1;32m----> 2\u001b[1;33m array([[1., 1., 1., 1., 1., 1., 1., 1., 1., 1.],\n\u001b[0m\u001b[0;32m      3\u001b[0m        \u001b[1;33m[\u001b[0m\u001b[1;36m1.\u001b[0m\u001b[1;33m,\u001b[0m \u001b[1;36m0.\u001b[0m\u001b[1;33m,\u001b[0m \u001b[1;36m0.\u001b[0m\u001b[1;33m,\u001b[0m \u001b[1;36m0.\u001b[0m\u001b[1;33m,\u001b[0m \u001b[1;36m0.\u001b[0m\u001b[1;33m,\u001b[0m \u001b[1;36m0.\u001b[0m\u001b[1;33m,\u001b[0m \u001b[1;36m0.\u001b[0m\u001b[1;33m,\u001b[0m \u001b[1;36m0.\u001b[0m\u001b[1;33m,\u001b[0m \u001b[1;36m0.\u001b[0m\u001b[1;33m,\u001b[0m \u001b[1;36m1.\u001b[0m\u001b[1;33m]\u001b[0m\u001b[1;33m,\u001b[0m\u001b[1;33m\u001b[0m\u001b[1;33m\u001b[0m\u001b[0m\n\u001b[0;32m      4\u001b[0m        \u001b[1;33m[\u001b[0m\u001b[1;36m1.\u001b[0m\u001b[1;33m,\u001b[0m \u001b[1;36m0.\u001b[0m\u001b[1;33m,\u001b[0m \u001b[1;36m0.\u001b[0m\u001b[1;33m,\u001b[0m \u001b[1;36m0.\u001b[0m\u001b[1;33m,\u001b[0m \u001b[1;36m0.\u001b[0m\u001b[1;33m,\u001b[0m \u001b[1;36m0.\u001b[0m\u001b[1;33m,\u001b[0m \u001b[1;36m0.\u001b[0m\u001b[1;33m,\u001b[0m \u001b[1;36m0.\u001b[0m\u001b[1;33m,\u001b[0m \u001b[1;36m0.\u001b[0m\u001b[1;33m,\u001b[0m \u001b[1;36m1.\u001b[0m\u001b[1;33m]\u001b[0m\u001b[1;33m,\u001b[0m\u001b[1;33m\u001b[0m\u001b[1;33m\u001b[0m\u001b[0m\n\u001b[0;32m      5\u001b[0m        \u001b[1;33m[\u001b[0m\u001b[1;36m1.\u001b[0m\u001b[1;33m,\u001b[0m \u001b[1;36m0.\u001b[0m\u001b[1;33m,\u001b[0m \u001b[1;36m0.\u001b[0m\u001b[1;33m,\u001b[0m \u001b[1;36m0.\u001b[0m\u001b[1;33m,\u001b[0m \u001b[1;36m0.\u001b[0m\u001b[1;33m,\u001b[0m \u001b[1;36m0.\u001b[0m\u001b[1;33m,\u001b[0m \u001b[1;36m0.\u001b[0m\u001b[1;33m,\u001b[0m \u001b[1;36m0.\u001b[0m\u001b[1;33m,\u001b[0m \u001b[1;36m0.\u001b[0m\u001b[1;33m,\u001b[0m \u001b[1;36m1.\u001b[0m\u001b[1;33m]\u001b[0m\u001b[1;33m,\u001b[0m\u001b[1;33m\u001b[0m\u001b[1;33m\u001b[0m\u001b[0m\n",
      "\u001b[1;31mNameError\u001b[0m: name 'array' is not defined"
     ]
    }
   ],
   "source": [
    "# Q. np.ones((10,10))을 아래와 같이 출력하세요.\n",
    "array([[1., 1., 1., 1., 1., 1., 1., 1., 1., 1.],\n",
    "       [1., 0., 0., 0., 0., 0., 0., 0., 0., 1.],\n",
    "       [1., 0., 0., 0., 0., 0., 0., 0., 0., 1.],\n",
    "       [1., 0., 0., 0., 0., 0., 0., 0., 0., 1.],\n",
    "       [1., 0., 0., 0., 0., 0., 0., 0., 0., 1.],\n",
    "       [1., 0., 0., 0., 0., 0., 0., 0., 0., 1.],\n",
    "       [1., 0., 0., 0., 0., 0., 0., 0., 0., 1.],\n",
    "       [1., 0., 0., 0., 0., 0., 0., 0., 0., 1.],\n",
    "       [1., 0., 0., 0., 0., 0., 0., 0., 0., 1.],\n",
    "       [1., 1., 1., 1., 1., 1., 1., 1., 1., 1.]])"
   ]
  },
  {
   "cell_type": "code",
   "execution_count": 104,
   "id": "f629baa5",
   "metadata": {},
   "outputs": [
    {
     "data": {
      "text/plain": [
       "array([[1., 1., 1., 1., 1., 1., 1., 1., 1., 1.],\n",
       "       [1., 0., 0., 0., 0., 0., 0., 0., 0., 1.],\n",
       "       [1., 0., 0., 0., 0., 0., 0., 0., 0., 1.],\n",
       "       [1., 0., 0., 0., 0., 0., 0., 0., 0., 1.],\n",
       "       [1., 0., 0., 0., 0., 0., 0., 0., 0., 1.],\n",
       "       [1., 0., 0., 0., 0., 0., 0., 0., 0., 1.],\n",
       "       [1., 0., 0., 0., 0., 0., 0., 0., 0., 1.],\n",
       "       [1., 0., 0., 0., 0., 0., 0., 0., 0., 1.],\n",
       "       [1., 0., 0., 0., 0., 0., 0., 0., 0., 1.],\n",
       "       [1., 1., 1., 1., 1., 1., 1., 1., 1., 1.]])"
      ]
     },
     "execution_count": 104,
     "metadata": {},
     "output_type": "execute_result"
    }
   ],
   "source": [
    "b=np.ones((10,10))\n",
    "b[1:9,1:9]=0\n",
    "b"
   ]
  },
  {
   "cell_type": "code",
   "execution_count": 105,
   "id": "e669e2c7",
   "metadata": {},
   "outputs": [
    {
     "ename": "NameError",
     "evalue": "name 'array' is not defined",
     "output_type": "error",
     "traceback": [
      "\u001b[1;31m---------------------------------------------------------------------------\u001b[0m",
      "\u001b[1;31mNameError\u001b[0m                                 Traceback (most recent call last)",
      "\u001b[1;32m~\\AppData\\Local\\Temp/ipykernel_6272/3330366030.py\u001b[0m in \u001b[0;36m<module>\u001b[1;34m\u001b[0m\n\u001b[0;32m      1\u001b[0m \u001b[1;31m# [과제] np.ones((5,5))을 아래와 같이 출력하세요.\u001b[0m\u001b[1;33m\u001b[0m\u001b[1;33m\u001b[0m\u001b[0m\n\u001b[1;32m----> 2\u001b[1;33m array([[0., 0., 0., 0., 0., 0., 0., 0., 0.],\n\u001b[0m\u001b[0;32m      3\u001b[0m        \u001b[1;33m[\u001b[0m\u001b[1;36m0.\u001b[0m\u001b[1;33m,\u001b[0m \u001b[1;36m0.\u001b[0m\u001b[1;33m,\u001b[0m \u001b[1;36m0.\u001b[0m\u001b[1;33m,\u001b[0m \u001b[1;36m0.\u001b[0m\u001b[1;33m,\u001b[0m \u001b[1;36m0.\u001b[0m\u001b[1;33m,\u001b[0m \u001b[1;36m0.\u001b[0m\u001b[1;33m,\u001b[0m \u001b[1;36m0.\u001b[0m\u001b[1;33m,\u001b[0m \u001b[1;36m0.\u001b[0m\u001b[1;33m,\u001b[0m \u001b[1;36m0.\u001b[0m\u001b[1;33m]\u001b[0m\u001b[1;33m,\u001b[0m\u001b[1;33m\u001b[0m\u001b[1;33m\u001b[0m\u001b[0m\n\u001b[0;32m      4\u001b[0m        \u001b[1;33m[\u001b[0m\u001b[1;36m0.\u001b[0m\u001b[1;33m,\u001b[0m \u001b[1;36m0.\u001b[0m\u001b[1;33m,\u001b[0m \u001b[1;36m1.\u001b[0m\u001b[1;33m,\u001b[0m \u001b[1;36m1.\u001b[0m\u001b[1;33m,\u001b[0m \u001b[1;36m1.\u001b[0m\u001b[1;33m,\u001b[0m \u001b[1;36m1.\u001b[0m\u001b[1;33m,\u001b[0m \u001b[1;36m1.\u001b[0m\u001b[1;33m,\u001b[0m \u001b[1;36m0.\u001b[0m\u001b[1;33m,\u001b[0m \u001b[1;36m0.\u001b[0m\u001b[1;33m]\u001b[0m\u001b[1;33m,\u001b[0m\u001b[1;33m\u001b[0m\u001b[1;33m\u001b[0m\u001b[0m\n\u001b[0;32m      5\u001b[0m        \u001b[1;33m[\u001b[0m\u001b[1;36m0.\u001b[0m\u001b[1;33m,\u001b[0m \u001b[1;36m0.\u001b[0m\u001b[1;33m,\u001b[0m \u001b[1;36m1.\u001b[0m\u001b[1;33m,\u001b[0m \u001b[1;36m1.\u001b[0m\u001b[1;33m,\u001b[0m \u001b[1;36m1.\u001b[0m\u001b[1;33m,\u001b[0m \u001b[1;36m1.\u001b[0m\u001b[1;33m,\u001b[0m \u001b[1;36m1.\u001b[0m\u001b[1;33m,\u001b[0m \u001b[1;36m0.\u001b[0m\u001b[1;33m,\u001b[0m \u001b[1;36m0.\u001b[0m\u001b[1;33m]\u001b[0m\u001b[1;33m,\u001b[0m\u001b[1;33m\u001b[0m\u001b[1;33m\u001b[0m\u001b[0m\n",
      "\u001b[1;31mNameError\u001b[0m: name 'array' is not defined"
     ]
    }
   ],
   "source": [
    "# [과제] np.ones((5,5))을 아래와 같이 출력하세요.\n",
    "array([[0., 0., 0., 0., 0., 0., 0., 0., 0.],\n",
    "       [0., 0., 0., 0., 0., 0., 0., 0., 0.],\n",
    "       [0., 0., 1., 1., 1., 1., 1., 0., 0.],\n",
    "       [0., 0., 1., 1., 1., 1., 1., 0., 0.],\n",
    "       [0., 0., 1., 1., 1., 1., 1., 0., 0.],\n",
    "       [0., 0., 1., 1., 1., 1., 1., 0., 0.],\n",
    "       [0., 0., 1., 1., 1., 1., 1., 0., 0.],\n",
    "       [0., 0., 0., 0., 0., 0., 0., 0., 0.],\n",
    "       [0., 0., 0., 0., 0., 0., 0., 0., 0.]])\n"
   ]
  },
  {
   "cell_type": "code",
   "execution_count": 106,
   "id": "f74ed8c4-3860-45ef-af9f-3fd3da607977",
   "metadata": {},
   "outputs": [
    {
     "data": {
      "text/plain": [
       "array([[0., 0., 0., 0., 0., 0., 0., 0., 0., 0.],\n",
       "       [0., 0., 0., 0., 0., 0., 0., 0., 0., 0.],\n",
       "       [0., 0., 1., 1., 1., 1., 1., 1., 0., 0.],\n",
       "       [0., 0., 1., 1., 1., 1., 1., 1., 0., 0.],\n",
       "       [0., 0., 1., 1., 1., 1., 1., 1., 0., 0.],\n",
       "       [0., 0., 1., 1., 1., 1., 1., 1., 0., 0.],\n",
       "       [0., 0., 1., 1., 1., 1., 1., 1., 0., 0.],\n",
       "       [0., 0., 1., 1., 1., 1., 1., 1., 0., 0.],\n",
       "       [0., 0., 0., 0., 0., 0., 0., 0., 0., 0.],\n",
       "       [0., 0., 0., 0., 0., 0., 0., 0., 0., 0.]])"
      ]
     },
     "execution_count": 106,
     "metadata": {},
     "output_type": "execute_result"
    }
   ],
   "source": [
    "b=np.zeros((10,10))\n",
    "b[2:8,2:8]=1\n",
    "b"
   ]
  },
  {
   "cell_type": "code",
   "execution_count": 107,
   "id": "ba4ab370",
   "metadata": {},
   "outputs": [
    {
     "ename": "NameError",
     "evalue": "name 'array' is not defined",
     "output_type": "error",
     "traceback": [
      "\u001b[1;31m---------------------------------------------------------------------------\u001b[0m",
      "\u001b[1;31mNameError\u001b[0m                                 Traceback (most recent call last)",
      "\u001b[1;32m~\\AppData\\Local\\Temp/ipykernel_6272/3982920209.py\u001b[0m in \u001b[0;36m<module>\u001b[1;34m\u001b[0m\n\u001b[0;32m      1\u001b[0m \u001b[1;31m# [과제] np.zeros((8,8))을 이용해서 아래와 같이 출력하세요(두가지 방식:인덱싱, tile함수)\u001b[0m\u001b[1;33m\u001b[0m\u001b[1;33m\u001b[0m\u001b[0m\n\u001b[1;32m----> 2\u001b[1;33m array([[0, 1, 0, 1, 0, 1, 0, 1],\n\u001b[0m\u001b[0;32m      3\u001b[0m        \u001b[1;33m[\u001b[0m\u001b[1;36m1\u001b[0m\u001b[1;33m,\u001b[0m \u001b[1;36m0\u001b[0m\u001b[1;33m,\u001b[0m \u001b[1;36m1\u001b[0m\u001b[1;33m,\u001b[0m \u001b[1;36m0\u001b[0m\u001b[1;33m,\u001b[0m \u001b[1;36m1\u001b[0m\u001b[1;33m,\u001b[0m \u001b[1;36m0\u001b[0m\u001b[1;33m,\u001b[0m \u001b[1;36m1\u001b[0m\u001b[1;33m,\u001b[0m \u001b[1;36m0\u001b[0m\u001b[1;33m]\u001b[0m\u001b[1;33m,\u001b[0m\u001b[1;33m\u001b[0m\u001b[1;33m\u001b[0m\u001b[0m\n\u001b[0;32m      4\u001b[0m        \u001b[1;33m[\u001b[0m\u001b[1;36m0\u001b[0m\u001b[1;33m,\u001b[0m \u001b[1;36m1\u001b[0m\u001b[1;33m,\u001b[0m \u001b[1;36m0\u001b[0m\u001b[1;33m,\u001b[0m \u001b[1;36m1\u001b[0m\u001b[1;33m,\u001b[0m \u001b[1;36m0\u001b[0m\u001b[1;33m,\u001b[0m \u001b[1;36m1\u001b[0m\u001b[1;33m,\u001b[0m \u001b[1;36m0\u001b[0m\u001b[1;33m,\u001b[0m \u001b[1;36m1\u001b[0m\u001b[1;33m]\u001b[0m\u001b[1;33m,\u001b[0m\u001b[1;33m\u001b[0m\u001b[1;33m\u001b[0m\u001b[0m\n\u001b[0;32m      5\u001b[0m        \u001b[1;33m[\u001b[0m\u001b[1;36m1\u001b[0m\u001b[1;33m,\u001b[0m \u001b[1;36m0\u001b[0m\u001b[1;33m,\u001b[0m \u001b[1;36m1\u001b[0m\u001b[1;33m,\u001b[0m \u001b[1;36m0\u001b[0m\u001b[1;33m,\u001b[0m \u001b[1;36m1\u001b[0m\u001b[1;33m,\u001b[0m \u001b[1;36m0\u001b[0m\u001b[1;33m,\u001b[0m \u001b[1;36m1\u001b[0m\u001b[1;33m,\u001b[0m \u001b[1;36m0\u001b[0m\u001b[1;33m]\u001b[0m\u001b[1;33m,\u001b[0m\u001b[1;33m\u001b[0m\u001b[1;33m\u001b[0m\u001b[0m\n",
      "\u001b[1;31mNameError\u001b[0m: name 'array' is not defined"
     ]
    }
   ],
   "source": [
    "# [과제] np.zeros((8,8))을 이용해서 아래와 같이 출력하세요(두가지 방식:인덱싱, tile함수)\n",
    "array([[0, 1, 0, 1, 0, 1, 0, 1],\n",
    "       [1, 0, 1, 0, 1, 0, 1, 0],\n",
    "       [0, 1, 0, 1, 0, 1, 0, 1],\n",
    "       [1, 0, 1, 0, 1, 0, 1, 0],\n",
    "       [0, 1, 0, 1, 0, 1, 0, 1],\n",
    "       [1, 0, 1, 0, 1, 0, 1, 0],\n",
    "       [0, 1, 0, 1, 0, 1, 0, 1],\n",
    "       [1, 0, 1, 0, 1, 0, 1, 0]])"
   ]
  },
  {
   "cell_type": "code",
   "execution_count": 108,
   "id": "84e563eb-5f63-4886-9b31-175890c1c5fb",
   "metadata": {},
   "outputs": [
    {
     "data": {
      "text/plain": [
       "array([[0., 1., 0., 1., 0., 1., 0., 1.],\n",
       "       [1., 0., 1., 0., 1., 0., 1., 0.],\n",
       "       [0., 1., 0., 1., 0., 1., 0., 1.],\n",
       "       [1., 0., 1., 0., 1., 0., 1., 0.],\n",
       "       [0., 1., 0., 1., 0., 1., 0., 1.],\n",
       "       [1., 0., 1., 0., 1., 0., 1., 0.],\n",
       "       [0., 1., 0., 1., 0., 1., 0., 1.],\n",
       "       [1., 0., 1., 0., 1., 0., 1., 0.]])"
      ]
     },
     "execution_count": 108,
     "metadata": {},
     "output_type": "execute_result"
    }
   ],
   "source": [
    "n=np.zeros((8,8))\n",
    "n[[1,3,5,7]]=[1,0]*4\n",
    "n[[0,2,4,6]]=[0,1]*4\n",
    "n"
   ]
  },
  {
   "cell_type": "code",
   "execution_count": 109,
   "id": "daf1532e-fcda-471d-acd7-a05c3030de96",
   "metadata": {},
   "outputs": [
    {
     "data": {
      "text/plain": [
       "array([[1., 0., 1., 0., 1., 0., 1., 0.],\n",
       "       [0., 1., 0., 1., 0., 1., 0., 1.],\n",
       "       [1., 0., 1., 0., 1., 0., 1., 0.],\n",
       "       [0., 1., 0., 1., 0., 1., 0., 1.],\n",
       "       [1., 0., 1., 0., 1., 0., 1., 0.],\n",
       "       [0., 1., 0., 1., 0., 1., 0., 1.],\n",
       "       [1., 0., 1., 0., 1., 0., 1., 0.],\n",
       "       [0., 1., 0., 1., 0., 1., 0., 1.]])"
      ]
     },
     "execution_count": 109,
     "metadata": {},
     "output_type": "execute_result"
    }
   ],
   "source": [
    "n=np.zeros((8,8))\n",
    "a=np.tile([0,1],4)\n",
    "b=np.tile([1,0],4)\n",
    "n[[1,3,5,7]]=a\n",
    "n[[0,2,4,6]]=b\n",
    "\n",
    "n"
   ]
  },
  {
   "cell_type": "code",
   "execution_count": 110,
   "id": "9cf10853",
   "metadata": {},
   "outputs": [],
   "source": [
    "# [도전과제] np.arange(336).reshape(6,7,8)에서 100번째 요소의 인덱스를 구하세요"
   ]
  },
  {
   "cell_type": "code",
   "execution_count": 111,
   "id": "0d5b0a20-2355-44cb-be7e-e73ba05aa142",
   "metadata": {},
   "outputs": [
    {
     "data": {
      "text/plain": [
       "(array([1], dtype=int64), array([5], dtype=int64), array([3], dtype=int64))"
      ]
     },
     "execution_count": 111,
     "metadata": {},
     "output_type": "execute_result"
    }
   ],
   "source": [
    "a=np.arange(336).reshape(6,7,8)\n",
    "a\n",
    "np.where(a==99)"
   ]
  },
  {
   "cell_type": "code",
   "execution_count": 112,
   "id": "c8ef0f6d",
   "metadata": {},
   "outputs": [
    {
     "ename": "NameError",
     "evalue": "name 'array' is not defined",
     "output_type": "error",
     "traceback": [
      "\u001b[1;31m---------------------------------------------------------------------------\u001b[0m",
      "\u001b[1;31mNameError\u001b[0m                                 Traceback (most recent call last)",
      "\u001b[1;32m~\\AppData\\Local\\Temp/ipykernel_6272/3164654410.py\u001b[0m in \u001b[0;36m<module>\u001b[1;34m\u001b[0m\n\u001b[0;32m      1\u001b[0m \u001b[0ma\u001b[0m\u001b[1;31m# [도전과제] np.arange(4)을 이용해서 아래와 같이 출력하세요.\u001b[0m\u001b[1;33m\u001b[0m\u001b[1;33m\u001b[0m\u001b[0m\n\u001b[1;32m----> 2\u001b[1;33m array([[0, 0, 0, 0, 0],\n\u001b[0m\u001b[0;32m      3\u001b[0m        \u001b[1;33m[\u001b[0m\u001b[1;36m1\u001b[0m\u001b[1;33m,\u001b[0m \u001b[1;36m0\u001b[0m\u001b[1;33m,\u001b[0m \u001b[1;36m0\u001b[0m\u001b[1;33m,\u001b[0m \u001b[1;36m0\u001b[0m\u001b[1;33m,\u001b[0m \u001b[1;36m0\u001b[0m\u001b[1;33m]\u001b[0m\u001b[1;33m,\u001b[0m\u001b[1;33m\u001b[0m\u001b[1;33m\u001b[0m\u001b[0m\n\u001b[0;32m      4\u001b[0m        \u001b[1;33m[\u001b[0m\u001b[1;36m0\u001b[0m\u001b[1;33m,\u001b[0m \u001b[1;36m2\u001b[0m\u001b[1;33m,\u001b[0m \u001b[1;36m0\u001b[0m\u001b[1;33m,\u001b[0m \u001b[1;36m0\u001b[0m\u001b[1;33m,\u001b[0m \u001b[1;36m0\u001b[0m\u001b[1;33m]\u001b[0m\u001b[1;33m,\u001b[0m\u001b[1;33m\u001b[0m\u001b[1;33m\u001b[0m\u001b[0m\n\u001b[0;32m      5\u001b[0m        \u001b[1;33m[\u001b[0m\u001b[1;36m0\u001b[0m\u001b[1;33m,\u001b[0m \u001b[1;36m0\u001b[0m\u001b[1;33m,\u001b[0m \u001b[1;36m3\u001b[0m\u001b[1;33m,\u001b[0m \u001b[1;36m0\u001b[0m\u001b[1;33m,\u001b[0m \u001b[1;36m0\u001b[0m\u001b[1;33m]\u001b[0m\u001b[1;33m,\u001b[0m\u001b[1;33m\u001b[0m\u001b[1;33m\u001b[0m\u001b[0m\n",
      "\u001b[1;31mNameError\u001b[0m: name 'array' is not defined"
     ]
    }
   ],
   "source": [
    "a# [도전과제] np.arange(4)을 이용해서 아래와 같이 출력하세요.\n",
    "array([[0, 0, 0, 0, 0],\n",
    "       [1, 0, 0, 0, 0],\n",
    "       [0, 2, 0, 0, 0],\n",
    "       [0, 0, 3, 0, 0],\n",
    "       [0, 0, 0, 4, 0]])"
   ]
  },
  {
   "cell_type": "code",
   "execution_count": 113,
   "id": "76e231d3-2386-4b46-a33c-8a17f8461090",
   "metadata": {},
   "outputs": [
    {
     "data": {
      "text/plain": [
       "array([[0, 0, 0, 0, 0],\n",
       "       [1, 0, 0, 0, 0],\n",
       "       [0, 2, 0, 0, 0],\n",
       "       [0, 0, 3, 0, 0],\n",
       "       [0, 0, 0, 4, 0]])"
      ]
     },
     "execution_count": 113,
     "metadata": {},
     "output_type": "execute_result"
    }
   ],
   "source": [
    "a= np.arange(4)\n",
    "arr=np.eye(5,k=-1)\n",
    "c=0\n",
    "for i in a:\n",
    "    arr[i+1][c]=i+1\n",
    "    c+=1\n",
    "arr.astype('int32')"
   ]
  },
  {
   "cell_type": "markdown",
   "id": "1e758cc9-ed3c-4fa3-9723-29ad20779e28",
   "metadata": {},
   "source": [
    "[파이썬 random 함수]"
   ]
  },
  {
   "cell_type": "code",
   "execution_count": 114,
   "id": "2d47ac3b",
   "metadata": {},
   "outputs": [
    {
     "name": "stdout",
     "output_type": "stream",
     "text": [
      "0.6233636569628792 \n",
      "\n",
      "5 \n",
      "\n",
      "17.764191754689165 \n",
      "\n",
      "9 \n",
      "\n",
      "5 \n",
      "\n",
      "[2, 5, 4] \n",
      "\n",
      "[2, 3, 5, 4, 1]\n"
     ]
    }
   ],
   "source": [
    "import random\n",
    "import numpy as np\n",
    "print(random.random(),'\\n') # 0.0 <= x < 1.0 사이\n",
    "print(random.randint(1,10),'\\n') # 1에서 10사이의 정수중에서 난수 값 리턴\n",
    "print(random.uniform(10,20), '\\n') # min max 사이 float 리턴\n",
    "print(random.randrange(10), '\\n') # 지정 범위 int 리턴\n",
    "print(random.choice([1,2,3,4,5]),'\\n') # 리스트 내부에 있는 요소를 랜덤하게 선택\n",
    "li = [1,2,3,4,5]\n",
    "print(random.sample(li,3\n",
    "                   ),'\\n') # 리스트 요소를 중복이 안되게 리턴\n",
    "random.shuffle(li) # 리스트 요소를 다시 섞어서 리턴\n",
    "print(li)"
   ]
  },
  {
   "cell_type": "markdown",
   "id": "60d0a978-a705-4be7-961b-05bbef58c6b0",
   "metadata": {},
   "source": [
    "[numpy random 함수]\n",
    "\n",
    "- np.random.seed : seed를 통한 난수 생성\n",
    "- np.random.randint : 정수 난수 1개 생성\n",
    "- np.random.rand : 0부터 1사이의 균일분포에서 난수 매트릭스 배열 생성\n",
    "- np.random.randn : 가우시안 표준 정규분포에서 난수 매트릭스 배열 생성\n",
    "- np.random.shuffle : 기존의 데이터의 순서 바꾸기\n",
    "- np.random.choice : 기존 데이터에서 sampling"
   ]
  },
  {
   "cell_type": "code",
   "execution_count": 115,
   "id": "0a450303",
   "metadata": {},
   "outputs": [
    {
     "name": "stdout",
     "output_type": "stream",
     "text": [
      "2 \n",
      "\n",
      "5 \n",
      "\n",
      "[4 3 1 0 6 6 0 9 8 9] \n",
      "\n",
      "[15 12 19 18 14 14 10 12 15 17] \n",
      "\n",
      "[[17 11 13 12 10]\n",
      " [13 12 12 12 13]\n",
      " [15 11 17 15 13]]\n"
     ]
    }
   ],
   "source": [
    "print(np.random.randint(6), '\\n') # 0 ~ 5까지 정수인 난수 1개\n",
    "print(np.random.randint(1,20),'\\n') # 1 ~ 19까지 정수인 난수 1개\n",
    "print(np.random.randint(10, size=10), '\\n') # 0 ~ 9까지 정수인 난수 10개\n",
    "print(np.random.randint(10,20, size=10),'\\n') # 10 ~ 19까지 정수인 난수 10개\n",
    "print(np.random.randint(10,20, size=(3,5))) # 10 ~ 19까지 정수인 난수로 3행 5열 배열 생성"
   ]
  },
  {
   "cell_type": "code",
   "execution_count": 116,
   "id": "662293c7",
   "metadata": {},
   "outputs": [
    {
     "name": "stdout",
     "output_type": "stream",
     "text": [
      "[0.54923726 0.64319878 0.57042341 0.27367755 0.22082428 0.15358251] \n",
      "\n"
     ]
    },
    {
     "data": {
      "text/plain": [
       "0.4018239652401485"
      ]
     },
     "execution_count": 116,
     "metadata": {},
     "output_type": "execute_result"
    }
   ],
   "source": [
    "r = np.random.rand(6) # 0 ~ 1 사이의 균일분포\n",
    "print(r,'\\n')\n",
    "r.mean()"
   ]
  },
  {
   "cell_type": "code",
   "execution_count": 117,
   "id": "2d0557a1",
   "metadata": {},
   "outputs": [
    {
     "name": "stdout",
     "output_type": "stream",
     "text": [
      "[ 0.73999673  0.65696373  1.57471823 ... -0.71834356  1.76321168\n",
      " -0.56707024] \n",
      "\n"
     ]
    },
    {
     "data": {
      "text/plain": [
       "0.010354979825362884"
      ]
     },
     "execution_count": 117,
     "metadata": {},
     "output_type": "execute_result"
    }
   ],
   "source": [
    "# 표준 정규분포\n",
    "r = np.random.randn(10000)\n",
    "print(r,'\\n')\n",
    "r.mean()"
   ]
  },
  {
   "cell_type": "code",
   "execution_count": 118,
   "id": "359d69f3",
   "metadata": {},
   "outputs": [
    {
     "name": "stdout",
     "output_type": "stream",
     "text": [
      "[1 2 3 4 5] \n",
      "\n"
     ]
    },
    {
     "data": {
      "text/plain": [
       "array([1, 4, 3, 5, 2])"
      ]
     },
     "execution_count": 118,
     "metadata": {},
     "output_type": "execute_result"
    }
   ],
   "source": [
    "list = np.arange(1,6)\n",
    "print(list,'\\n')\n",
    "np.random.shuffle(list)\n",
    "list"
   ]
  },
  {
   "cell_type": "code",
   "execution_count": 119,
   "id": "939e5207",
   "metadata": {},
   "outputs": [
    {
     "data": {
      "text/plain": [
       "3"
      ]
     },
     "execution_count": 119,
     "metadata": {},
     "output_type": "execute_result"
    }
   ],
   "source": [
    "np.random.choice(list)"
   ]
  },
  {
   "cell_type": "code",
   "execution_count": 120,
   "id": "023d71de",
   "metadata": {},
   "outputs": [
    {
     "name": "stdout",
     "output_type": "stream",
     "text": [
      "[ 2  3  7 11]\n",
      "[3 2 1 2]\n"
     ]
    }
   ],
   "source": [
    "a = np.array([11,11,3,3,2,2,2,7])\n",
    "index,count = np.unique(a,return_counts=True)\n",
    "print(index)\n",
    "print(count)"
   ]
  },
  {
   "cell_type": "code",
   "execution_count": 121,
   "id": "435a89e7",
   "metadata": {},
   "outputs": [
    {
     "data": {
      "text/plain": [
       "array([1.56393154, 1.26118403, 1.05381747, 1.10703024, 1.35532497,\n",
       "       1.65087715, 1.97370412, 1.87646649, 1.79551762, 1.02516459])"
      ]
     },
     "execution_count": 121,
     "metadata": {},
     "output_type": "execute_result"
    }
   ],
   "source": [
    "np.random.uniform(1.0,2.0, 10) # 1-2 사이의 10개 '실수'를 리턴"
   ]
  },
  {
   "cell_type": "code",
   "execution_count": 122,
   "id": "4836bec6",
   "metadata": {},
   "outputs": [
    {
     "name": "stdout",
     "output_type": "stream",
     "text": [
      "[[0.10727009 0.69250175 0.52520528]\n",
      " [0.75186828 0.28421532 0.49844299]]\n"
     ]
    }
   ],
   "source": [
    "print(np.random.uniform(0,1,(2,3))) # 0-1 사이의 2행3열 '실수'를 리턴"
   ]
  },
  {
   "cell_type": "code",
   "execution_count": 123,
   "id": "fd95c009",
   "metadata": {},
   "outputs": [
    {
     "data": {
      "text/plain": [
       "array([[0.27146922, 0.2729303 , 0.70925978],\n",
       "       [0.20285971, 0.13655553, 0.07634448]])"
      ]
     },
     "execution_count": 123,
     "metadata": {},
     "output_type": "execute_result"
    }
   ],
   "source": [
    "# 0 ~ 1 사이의 난수 실수값으로 행렬 생성\n",
    "# uniform 함수의 최소값, 최대값을 각각 0, 1로 지정한 것과 같음\n",
    "np.random.random_sample((2,3))"
   ]
  },
  {
   "cell_type": "code",
   "execution_count": 124,
   "id": "e4332527",
   "metadata": {},
   "outputs": [
    {
     "name": "stdout",
     "output_type": "stream",
     "text": [
      "Requirement already satisfied: pandas in c:\\users\\admin\\anaconda3\\lib\\site-packages (1.3.4)\n",
      "Requirement already satisfied: numpy>=1.17.3 in c:\\users\\admin\\anaconda3\\lib\\site-packages (from pandas) (1.20.3)\n",
      "Requirement already satisfied: pytz>=2017.3 in c:\\users\\admin\\anaconda3\\lib\\site-packages (from pandas) (2021.3)\n",
      "Requirement already satisfied: python-dateutil>=2.7.3 in c:\\users\\admin\\anaconda3\\lib\\site-packages (from pandas) (2.8.2)\n",
      "Requirement already satisfied: six>=1.5 in c:\\users\\admin\\anaconda3\\lib\\site-packages (from python-dateutil>=2.7.3->pandas) (1.16.0)\n"
     ]
    }
   ],
   "source": [
    "!pip install pandas"
   ]
  },
  {
   "cell_type": "code",
   "execution_count": 125,
   "id": "df890573",
   "metadata": {},
   "outputs": [
    {
     "data": {
      "text/plain": [
       "array([[0.88350137, 0.84959777, 0.84103967, 0.52904107, 0.05180511,\n",
       "        0.26898367, 0.14282822, 0.16899496],\n",
       "       [0.94268697, 0.79408104, 0.36860168, 0.2030247 , 0.92701778,\n",
       "        0.60854017, 0.91675464, 0.71224544],\n",
       "       [0.18910955, 0.26767935, 0.3097829 , 0.44089483, 0.18604103,\n",
       "        0.17544511, 0.07011596, 0.19932599],\n",
       "       [0.37431617, 0.74225919, 0.62408286, 0.40353544, 0.71119837,\n",
       "        0.22582435, 0.3389777 , 0.54802181]])"
      ]
     },
     "execution_count": 125,
     "metadata": {},
     "output_type": "execute_result"
    }
   ],
   "source": [
    "ar = np.random.rand(4,8)\n",
    "ar"
   ]
  },
  {
   "cell_type": "code",
   "execution_count": 126,
   "id": "649e00aa",
   "metadata": {},
   "outputs": [
    {
     "name": "stdout",
     "output_type": "stream",
     "text": [
      "          0         1         2         3         4         5         6  \\\n",
      "0  0.883501  0.849598  0.841040  0.529041  0.051805  0.268984  0.142828   \n",
      "1  0.942687  0.794081  0.368602  0.203025  0.927018  0.608540  0.916755   \n",
      "2  0.189110  0.267679  0.309783  0.440895  0.186041  0.175445  0.070116   \n",
      "3  0.374316  0.742259  0.624083  0.403535  0.711198  0.225824  0.338978   \n",
      "\n",
      "          7  \n",
      "0  0.168995  \n",
      "1  0.712245  \n",
      "2  0.199326  \n",
      "3  0.548022   <class 'pandas.core.frame.DataFrame'>\n"
     ]
    }
   ],
   "source": [
    "# 배열을 데이터프레임으로 변환\n",
    "import pandas as pd\n",
    "df = pd.DataFrame(ar)\n",
    "print(df,type(df))"
   ]
  },
  {
   "cell_type": "code",
   "execution_count": 127,
   "id": "2e6e2edd",
   "metadata": {},
   "outputs": [
    {
     "data": {
      "text/html": [
       "<div>\n",
       "<style scoped>\n",
       "    .dataframe tbody tr th:only-of-type {\n",
       "        vertical-align: middle;\n",
       "    }\n",
       "\n",
       "    .dataframe tbody tr th {\n",
       "        vertical-align: top;\n",
       "    }\n",
       "\n",
       "    .dataframe thead th {\n",
       "        text-align: right;\n",
       "    }\n",
       "</style>\n",
       "<table border=\"1\" class=\"dataframe\">\n",
       "  <thead>\n",
       "    <tr style=\"text-align: right;\">\n",
       "      <th></th>\n",
       "      <th>id</th>\n",
       "      <th>gender</th>\n",
       "      <th>age</th>\n",
       "      <th>region</th>\n",
       "      <th>product</th>\n",
       "      <th>price</th>\n",
       "      <th>qty</th>\n",
       "      <th>time</th>\n",
       "    </tr>\n",
       "  </thead>\n",
       "  <tbody>\n",
       "    <tr>\n",
       "      <th>0</th>\n",
       "      <td>0.883501</td>\n",
       "      <td>0.849598</td>\n",
       "      <td>0.841040</td>\n",
       "      <td>0.529041</td>\n",
       "      <td>0.051805</td>\n",
       "      <td>0.268984</td>\n",
       "      <td>0.142828</td>\n",
       "      <td>0.168995</td>\n",
       "    </tr>\n",
       "    <tr>\n",
       "      <th>1</th>\n",
       "      <td>0.942687</td>\n",
       "      <td>0.794081</td>\n",
       "      <td>0.368602</td>\n",
       "      <td>0.203025</td>\n",
       "      <td>0.927018</td>\n",
       "      <td>0.608540</td>\n",
       "      <td>0.916755</td>\n",
       "      <td>0.712245</td>\n",
       "    </tr>\n",
       "    <tr>\n",
       "      <th>2</th>\n",
       "      <td>0.189110</td>\n",
       "      <td>0.267679</td>\n",
       "      <td>0.309783</td>\n",
       "      <td>0.440895</td>\n",
       "      <td>0.186041</td>\n",
       "      <td>0.175445</td>\n",
       "      <td>0.070116</td>\n",
       "      <td>0.199326</td>\n",
       "    </tr>\n",
       "    <tr>\n",
       "      <th>3</th>\n",
       "      <td>0.374316</td>\n",
       "      <td>0.742259</td>\n",
       "      <td>0.624083</td>\n",
       "      <td>0.403535</td>\n",
       "      <td>0.711198</td>\n",
       "      <td>0.225824</td>\n",
       "      <td>0.338978</td>\n",
       "      <td>0.548022</td>\n",
       "    </tr>\n",
       "  </tbody>\n",
       "</table>\n",
       "</div>"
      ],
      "text/plain": [
       "         id    gender       age    region   product     price       qty  \\\n",
       "0  0.883501  0.849598  0.841040  0.529041  0.051805  0.268984  0.142828   \n",
       "1  0.942687  0.794081  0.368602  0.203025  0.927018  0.608540  0.916755   \n",
       "2  0.189110  0.267679  0.309783  0.440895  0.186041  0.175445  0.070116   \n",
       "3  0.374316  0.742259  0.624083  0.403535  0.711198  0.225824  0.338978   \n",
       "\n",
       "       time  \n",
       "0  0.168995  \n",
       "1  0.712245  \n",
       "2  0.199326  \n",
       "3  0.548022  "
      ]
     },
     "execution_count": 127,
     "metadata": {},
     "output_type": "execute_result"
    }
   ],
   "source": [
    "columns = ['id','gender','age','region','product','price','qty','time']\n",
    "index = [np.arange(4)]\n",
    "df = pd.DataFrame(ar,index,columns=columns)\n",
    "df"
   ]
  },
  {
   "cell_type": "code",
   "execution_count": 128,
   "id": "d6a39f41",
   "metadata": {},
   "outputs": [],
   "source": [
    "# Q. id, gender, age 컬럼에 대하여 의미있는 값으로 변환하여 3개의 컬럼으로 구성된 df를 출력하세요."
   ]
  },
  {
   "cell_type": "code",
   "execution_count": 129,
   "id": "1315da36-ad6c-48b3-b195-d15646c35798",
   "metadata": {},
   "outputs": [
    {
     "data": {
      "text/html": [
       "<div>\n",
       "<style scoped>\n",
       "    .dataframe tbody tr th:only-of-type {\n",
       "        vertical-align: middle;\n",
       "    }\n",
       "\n",
       "    .dataframe tbody tr th {\n",
       "        vertical-align: top;\n",
       "    }\n",
       "\n",
       "    .dataframe thead th {\n",
       "        text-align: right;\n",
       "    }\n",
       "</style>\n",
       "<table border=\"1\" class=\"dataframe\">\n",
       "  <thead>\n",
       "    <tr style=\"text-align: right;\">\n",
       "      <th></th>\n",
       "      <th>id</th>\n",
       "      <th>sex</th>\n",
       "      <th>age</th>\n",
       "    </tr>\n",
       "  </thead>\n",
       "  <tbody>\n",
       "    <tr>\n",
       "      <th>1</th>\n",
       "      <td>1682</td>\n",
       "      <td>M</td>\n",
       "      <td>26</td>\n",
       "    </tr>\n",
       "    <tr>\n",
       "      <th>2</th>\n",
       "      <td>1064</td>\n",
       "      <td>M</td>\n",
       "      <td>30</td>\n",
       "    </tr>\n",
       "    <tr>\n",
       "      <th>3</th>\n",
       "      <td>1338</td>\n",
       "      <td>F</td>\n",
       "      <td>30</td>\n",
       "    </tr>\n",
       "    <tr>\n",
       "      <th>4</th>\n",
       "      <td>1275</td>\n",
       "      <td>M</td>\n",
       "      <td>39</td>\n",
       "    </tr>\n",
       "  </tbody>\n",
       "</table>\n",
       "</div>"
      ],
      "text/plain": [
       "     id sex age\n",
       "1  1682   M  26\n",
       "2  1064   M  30\n",
       "3  1338   F  30\n",
       "4  1275   M  39"
      ]
     },
     "execution_count": 129,
     "metadata": {},
     "output_type": "execute_result"
    }
   ],
   "source": [
    "import pandas as pd\n",
    "id=np.random.randint(1000,2000,4)\n",
    "gen=np.random.choice(['M','F'],4)\n",
    "age=np.random.randint(20,40,4)\n",
    "\n",
    "data=np.array([id,gen,age]).transpose()\n",
    "df=pd.DataFrame(data,range(1,5),['id','sex','age'])\n",
    "\n",
    "df\n"
   ]
  },
  {
   "cell_type": "code",
   "execution_count": 130,
   "id": "7cff076d",
   "metadata": {},
   "outputs": [
    {
     "name": "stdout",
     "output_type": "stream",
     "text": [
      "[[906.   0.   8.]\n",
      " [401.   1.  46.]\n",
      " [143.   0. 115.]\n",
      " [ 62.   0.  95.]\n",
      " [627.   0. 107.]\n",
      " [706.   1.  94.]\n",
      " [286.   1.  98.]\n",
      " [818.   0.  85.]\n",
      " [148.   1.  37.]\n",
      " [ 22.   1.  47.]] \n",
      "\n"
     ]
    },
    {
     "data": {
      "text/html": [
       "<div>\n",
       "<style scoped>\n",
       "    .dataframe tbody tr th:only-of-type {\n",
       "        vertical-align: middle;\n",
       "    }\n",
       "\n",
       "    .dataframe tbody tr th {\n",
       "        vertical-align: top;\n",
       "    }\n",
       "\n",
       "    .dataframe thead th {\n",
       "        text-align: right;\n",
       "    }\n",
       "</style>\n",
       "<table border=\"1\" class=\"dataframe\">\n",
       "  <thead>\n",
       "    <tr style=\"text-align: right;\">\n",
       "      <th></th>\n",
       "      <th>id</th>\n",
       "      <th>gender</th>\n",
       "      <th>age</th>\n",
       "    </tr>\n",
       "  </thead>\n",
       "  <tbody>\n",
       "    <tr>\n",
       "      <th>1</th>\n",
       "      <td>906.0</td>\n",
       "      <td>0.0</td>\n",
       "      <td>8.0</td>\n",
       "    </tr>\n",
       "    <tr>\n",
       "      <th>2</th>\n",
       "      <td>401.0</td>\n",
       "      <td>1.0</td>\n",
       "      <td>46.0</td>\n",
       "    </tr>\n",
       "    <tr>\n",
       "      <th>3</th>\n",
       "      <td>143.0</td>\n",
       "      <td>0.0</td>\n",
       "      <td>115.0</td>\n",
       "    </tr>\n",
       "    <tr>\n",
       "      <th>4</th>\n",
       "      <td>62.0</td>\n",
       "      <td>0.0</td>\n",
       "      <td>95.0</td>\n",
       "    </tr>\n",
       "    <tr>\n",
       "      <th>5</th>\n",
       "      <td>627.0</td>\n",
       "      <td>0.0</td>\n",
       "      <td>107.0</td>\n",
       "    </tr>\n",
       "    <tr>\n",
       "      <th>6</th>\n",
       "      <td>706.0</td>\n",
       "      <td>1.0</td>\n",
       "      <td>94.0</td>\n",
       "    </tr>\n",
       "    <tr>\n",
       "      <th>7</th>\n",
       "      <td>286.0</td>\n",
       "      <td>1.0</td>\n",
       "      <td>98.0</td>\n",
       "    </tr>\n",
       "    <tr>\n",
       "      <th>8</th>\n",
       "      <td>818.0</td>\n",
       "      <td>0.0</td>\n",
       "      <td>85.0</td>\n",
       "    </tr>\n",
       "    <tr>\n",
       "      <th>9</th>\n",
       "      <td>148.0</td>\n",
       "      <td>1.0</td>\n",
       "      <td>37.0</td>\n",
       "    </tr>\n",
       "    <tr>\n",
       "      <th>10</th>\n",
       "      <td>22.0</td>\n",
       "      <td>1.0</td>\n",
       "      <td>47.0</td>\n",
       "    </tr>\n",
       "  </tbody>\n",
       "</table>\n",
       "</div>"
      ],
      "text/plain": [
       "       id  gender    age\n",
       "1   906.0     0.0    8.0\n",
       "2   401.0     1.0   46.0\n",
       "3   143.0     0.0  115.0\n",
       "4    62.0     0.0   95.0\n",
       "5   627.0     0.0  107.0\n",
       "6   706.0     1.0   94.0\n",
       "7   286.0     1.0   98.0\n",
       "8   818.0     0.0   85.0\n",
       "9   148.0     1.0   37.0\n",
       "10   22.0     1.0   47.0"
      ]
     },
     "execution_count": 130,
     "metadata": {},
     "output_type": "execute_result"
    }
   ],
   "source": [
    "h = np.zeros((3, 10))\n",
    "id_ = np.random.randint(1, 1000, size = (1, 10))\n",
    "gender = np.random.randint(2, size = (1, 10))\n",
    "age = np.random.randint(0, 120, size = (1, 10))\n",
    "\n",
    "h[0] = id_\n",
    "h[1] = gender\n",
    "h[2] = age\n",
    "\n",
    "h = np.transpose(h)\n",
    "print(h,'\\n')\n",
    "\n",
    "columns = ['id', 'gender', 'age']\n",
    "index = np.arange(1, 11)\n",
    "df = pd.DataFrame(h, index, columns = columns)\n",
    "\n",
    "df"
   ]
  },
  {
   "cell_type": "code",
   "execution_count": 131,
   "id": "d218e6ff",
   "metadata": {},
   "outputs": [
    {
     "data": {
      "text/html": [
       "<div>\n",
       "<style scoped>\n",
       "    .dataframe tbody tr th:only-of-type {\n",
       "        vertical-align: middle;\n",
       "    }\n",
       "\n",
       "    .dataframe tbody tr th {\n",
       "        vertical-align: top;\n",
       "    }\n",
       "\n",
       "    .dataframe thead th {\n",
       "        text-align: right;\n",
       "    }\n",
       "</style>\n",
       "<table border=\"1\" class=\"dataframe\">\n",
       "  <thead>\n",
       "    <tr style=\"text-align: right;\">\n",
       "      <th></th>\n",
       "      <th>id</th>\n",
       "      <th>gender</th>\n",
       "      <th>age</th>\n",
       "    </tr>\n",
       "  </thead>\n",
       "  <tbody>\n",
       "    <tr>\n",
       "      <th>0</th>\n",
       "      <td>1</td>\n",
       "      <td>0</td>\n",
       "      <td>10</td>\n",
       "    </tr>\n",
       "    <tr>\n",
       "      <th>1</th>\n",
       "      <td>2</td>\n",
       "      <td>1</td>\n",
       "      <td>20</td>\n",
       "    </tr>\n",
       "    <tr>\n",
       "      <th>2</th>\n",
       "      <td>3</td>\n",
       "      <td>1</td>\n",
       "      <td>30</td>\n",
       "    </tr>\n",
       "    <tr>\n",
       "      <th>3</th>\n",
       "      <td>4</td>\n",
       "      <td>0</td>\n",
       "      <td>40</td>\n",
       "    </tr>\n",
       "  </tbody>\n",
       "</table>\n",
       "</div>"
      ],
      "text/plain": [
       "   id  gender  age\n",
       "0   1       0   10\n",
       "1   2       1   20\n",
       "2   3       1   30\n",
       "3   4       0   40"
      ]
     },
     "execution_count": 131,
     "metadata": {},
     "output_type": "execute_result"
    }
   ],
   "source": [
    "ar = np.zeros((4,3))\n",
    "columns = ['id','gender','age']\n",
    "index = [np.arange(4)]\n",
    "df = pd.DataFrame(ar,index,columns=columns)\n",
    "# df.id = np.array([1,2,3,4])\n",
    "df.id = np.arange(1,5)\n",
    "# df.gender = np.array([0,1,0,1])\n",
    "np.random.seed(0)\n",
    "df.gender = np.random.randint(2,size=4)\n",
    "# df.age = np.array([20,30,40,50])\n",
    "df.age = np.arange(1,5) * 10\n",
    "df"
   ]
  },
  {
   "cell_type": "markdown",
   "id": "55615ceb-eedd-40fe-87b0-9849abd78ad3",
   "metadata": {},
   "source": [
    "[과제] 아래 가이드에 따라서 고객 구매데이터를 생성하고 데이터프레임으로 변환하여 출력하세요(관측치 1000개)\n",
    "\n",
    "- id : 1 ~ 1000번 일련번호\n",
    "- gender : 0,1 정수 난수 생성\n",
    "- age : 0 ~ 80사이 정수 난수 생성\n",
    "- region : 1 ~ 10 사이 정수 난수 생성\n",
    "- product_19 : 제품코드 11111 ~ 99999\n",
    "- product_20 : 제품코드 11111 ~ 99999\n",
    "- price_19 : 1000 ~ 50000 사이 실수 난수 생성\n",
    "- price_20 : 1000 ~ 50000 사이 실수 난수 생성\n",
    "- quantity_19 : 1 ~ 100 사이 정수 난수 생성\n",
    "- quantity_20 : 1 ~ 100 사이 정수 난수 생성\n",
    "- time_19 : 01 ~ 24 사이 정수 난수 생성\n",
    "- time_20 : 01 ~ 24 사이 정수 난수 생성\n",
    "- amount_19 : price_19 * quantity_19\n",
    "- amount_20 : price_20 * quantity_20\n",
    "- sales : 19년 대비 20년구매금액이 증가면 1, 감소면 0"
   ]
  },
  {
   "cell_type": "code",
   "execution_count": 132,
   "id": "c3d9b824-0062-497b-8f23-0604869e70a1",
   "metadata": {
    "tags": []
   },
   "outputs": [
    {
     "data": {
      "text/html": [
       "<div>\n",
       "<style scoped>\n",
       "    .dataframe tbody tr th:only-of-type {\n",
       "        vertical-align: middle;\n",
       "    }\n",
       "\n",
       "    .dataframe tbody tr th {\n",
       "        vertical-align: top;\n",
       "    }\n",
       "\n",
       "    .dataframe thead th {\n",
       "        text-align: right;\n",
       "    }\n",
       "</style>\n",
       "<table border=\"1\" class=\"dataframe\">\n",
       "  <thead>\n",
       "    <tr style=\"text-align: right;\">\n",
       "      <th></th>\n",
       "      <th>id</th>\n",
       "      <th>gender</th>\n",
       "      <th>age</th>\n",
       "      <th>region</th>\n",
       "      <th>product_19</th>\n",
       "      <th>product_20</th>\n",
       "      <th>price_19</th>\n",
       "      <th>price_20</th>\n",
       "      <th>quantity_19</th>\n",
       "      <th>quantity_20</th>\n",
       "      <th>time_19</th>\n",
       "      <th>time_20</th>\n",
       "      <th>amount_19</th>\n",
       "      <th>amount_20</th>\n",
       "      <th>sales</th>\n",
       "    </tr>\n",
       "  </thead>\n",
       "  <tbody>\n",
       "    <tr>\n",
       "      <th>1</th>\n",
       "      <td>836</td>\n",
       "      <td>0</td>\n",
       "      <td>69</td>\n",
       "      <td>10</td>\n",
       "      <td>89322</td>\n",
       "      <td>22905</td>\n",
       "      <td>39624.057359</td>\n",
       "      <td>21042.137849</td>\n",
       "      <td>13</td>\n",
       "      <td>33</td>\n",
       "      <td>9</td>\n",
       "      <td>4</td>\n",
       "      <td>515.0</td>\n",
       "      <td>694.0</td>\n",
       "      <td>1</td>\n",
       "    </tr>\n",
       "    <tr>\n",
       "      <th>2</th>\n",
       "      <td>764</td>\n",
       "      <td>1</td>\n",
       "      <td>15</td>\n",
       "      <td>4</td>\n",
       "      <td>49550</td>\n",
       "      <td>65536</td>\n",
       "      <td>37332.160062</td>\n",
       "      <td>44258.448572</td>\n",
       "      <td>44</td>\n",
       "      <td>80</td>\n",
       "      <td>2</td>\n",
       "      <td>12</td>\n",
       "      <td>1642.0</td>\n",
       "      <td>3540.0</td>\n",
       "      <td>1</td>\n",
       "    </tr>\n",
       "    <tr>\n",
       "      <th>3</th>\n",
       "      <td>708</td>\n",
       "      <td>1</td>\n",
       "      <td>52</td>\n",
       "      <td>10</td>\n",
       "      <td>27916</td>\n",
       "      <td>89856</td>\n",
       "      <td>12729.547483</td>\n",
       "      <td>21564.615977</td>\n",
       "      <td>39</td>\n",
       "      <td>33</td>\n",
       "      <td>15</td>\n",
       "      <td>8</td>\n",
       "      <td>496.0</td>\n",
       "      <td>711.0</td>\n",
       "      <td>1</td>\n",
       "    </tr>\n",
       "    <tr>\n",
       "      <th>4</th>\n",
       "      <td>360</td>\n",
       "      <td>0</td>\n",
       "      <td>32</td>\n",
       "      <td>5</td>\n",
       "      <td>33121</td>\n",
       "      <td>66155</td>\n",
       "      <td>2835.302140</td>\n",
       "      <td>18657.275162</td>\n",
       "      <td>49</td>\n",
       "      <td>36</td>\n",
       "      <td>13</td>\n",
       "      <td>18</td>\n",
       "      <td>138.0</td>\n",
       "      <td>671.0</td>\n",
       "      <td>1</td>\n",
       "    </tr>\n",
       "    <tr>\n",
       "      <th>5</th>\n",
       "      <td>10</td>\n",
       "      <td>1</td>\n",
       "      <td>78</td>\n",
       "      <td>3</td>\n",
       "      <td>88335</td>\n",
       "      <td>54001</td>\n",
       "      <td>41085.364592</td>\n",
       "      <td>41117.112394</td>\n",
       "      <td>91</td>\n",
       "      <td>61</td>\n",
       "      <td>2</td>\n",
       "      <td>11</td>\n",
       "      <td>3738.0</td>\n",
       "      <td>2508.0</td>\n",
       "      <td>0</td>\n",
       "    </tr>\n",
       "    <tr>\n",
       "      <th>...</th>\n",
       "      <td>...</td>\n",
       "      <td>...</td>\n",
       "      <td>...</td>\n",
       "      <td>...</td>\n",
       "      <td>...</td>\n",
       "      <td>...</td>\n",
       "      <td>...</td>\n",
       "      <td>...</td>\n",
       "      <td>...</td>\n",
       "      <td>...</td>\n",
       "      <td>...</td>\n",
       "      <td>...</td>\n",
       "      <td>...</td>\n",
       "      <td>...</td>\n",
       "      <td>...</td>\n",
       "    </tr>\n",
       "    <tr>\n",
       "      <th>996</th>\n",
       "      <td>871</td>\n",
       "      <td>1</td>\n",
       "      <td>43</td>\n",
       "      <td>2</td>\n",
       "      <td>42422</td>\n",
       "      <td>32803</td>\n",
       "      <td>45740.204156</td>\n",
       "      <td>36910.411022</td>\n",
       "      <td>23</td>\n",
       "      <td>97</td>\n",
       "      <td>10</td>\n",
       "      <td>24</td>\n",
       "      <td>1052.0</td>\n",
       "      <td>3580.0</td>\n",
       "      <td>1</td>\n",
       "    </tr>\n",
       "    <tr>\n",
       "      <th>997</th>\n",
       "      <td>21</td>\n",
       "      <td>0</td>\n",
       "      <td>65</td>\n",
       "      <td>9</td>\n",
       "      <td>37274</td>\n",
       "      <td>88675</td>\n",
       "      <td>47196.613749</td>\n",
       "      <td>28807.164588</td>\n",
       "      <td>52</td>\n",
       "      <td>23</td>\n",
       "      <td>12</td>\n",
       "      <td>21</td>\n",
       "      <td>2454.0</td>\n",
       "      <td>662.0</td>\n",
       "      <td>0</td>\n",
       "    </tr>\n",
       "    <tr>\n",
       "      <th>998</th>\n",
       "      <td>684</td>\n",
       "      <td>1</td>\n",
       "      <td>78</td>\n",
       "      <td>1</td>\n",
       "      <td>70357</td>\n",
       "      <td>17620</td>\n",
       "      <td>23912.352155</td>\n",
       "      <td>1859.164674</td>\n",
       "      <td>50</td>\n",
       "      <td>56</td>\n",
       "      <td>16</td>\n",
       "      <td>8</td>\n",
       "      <td>1195.0</td>\n",
       "      <td>104.0</td>\n",
       "      <td>0</td>\n",
       "    </tr>\n",
       "    <tr>\n",
       "      <th>999</th>\n",
       "      <td>631</td>\n",
       "      <td>0</td>\n",
       "      <td>6</td>\n",
       "      <td>4</td>\n",
       "      <td>32323</td>\n",
       "      <td>74804</td>\n",
       "      <td>47470.693371</td>\n",
       "      <td>2948.564447</td>\n",
       "      <td>74</td>\n",
       "      <td>48</td>\n",
       "      <td>24</td>\n",
       "      <td>3</td>\n",
       "      <td>3512.0</td>\n",
       "      <td>141.0</td>\n",
       "      <td>0</td>\n",
       "    </tr>\n",
       "    <tr>\n",
       "      <th>1000</th>\n",
       "      <td>129</td>\n",
       "      <td>1</td>\n",
       "      <td>47</td>\n",
       "      <td>8</td>\n",
       "      <td>90019</td>\n",
       "      <td>72501</td>\n",
       "      <td>30558.732685</td>\n",
       "      <td>40150.373071</td>\n",
       "      <td>13</td>\n",
       "      <td>31</td>\n",
       "      <td>10</td>\n",
       "      <td>17</td>\n",
       "      <td>397.0</td>\n",
       "      <td>1244.0</td>\n",
       "      <td>1</td>\n",
       "    </tr>\n",
       "  </tbody>\n",
       "</table>\n",
       "<p>1000 rows × 15 columns</p>\n",
       "</div>"
      ],
      "text/plain": [
       "       id  gender  age  region  product_19  product_20      price_19  \\\n",
       "1     836       0   69      10       89322       22905  39624.057359   \n",
       "2     764       1   15       4       49550       65536  37332.160062   \n",
       "3     708       1   52      10       27916       89856  12729.547483   \n",
       "4     360       0   32       5       33121       66155   2835.302140   \n",
       "5      10       1   78       3       88335       54001  41085.364592   \n",
       "...   ...     ...  ...     ...         ...         ...           ...   \n",
       "996   871       1   43       2       42422       32803  45740.204156   \n",
       "997    21       0   65       9       37274       88675  47196.613749   \n",
       "998   684       1   78       1       70357       17620  23912.352155   \n",
       "999   631       0    6       4       32323       74804  47470.693371   \n",
       "1000  129       1   47       8       90019       72501  30558.732685   \n",
       "\n",
       "          price_20  quantity_19  quantity_20  time_19  time_20  amount_19  \\\n",
       "1     21042.137849           13           33        9        4      515.0   \n",
       "2     44258.448572           44           80        2       12     1642.0   \n",
       "3     21564.615977           39           33       15        8      496.0   \n",
       "4     18657.275162           49           36       13       18      138.0   \n",
       "5     41117.112394           91           61        2       11     3738.0   \n",
       "...            ...          ...          ...      ...      ...        ...   \n",
       "996   36910.411022           23           97       10       24     1052.0   \n",
       "997   28807.164588           52           23       12       21     2454.0   \n",
       "998    1859.164674           50           56       16        8     1195.0   \n",
       "999    2948.564447           74           48       24        3     3512.0   \n",
       "1000  40150.373071           13           31       10       17      397.0   \n",
       "\n",
       "      amount_20  sales  \n",
       "1         694.0      1  \n",
       "2        3540.0      1  \n",
       "3         711.0      1  \n",
       "4         671.0      1  \n",
       "5        2508.0      0  \n",
       "...         ...    ...  \n",
       "996      3580.0      1  \n",
       "997       662.0      0  \n",
       "998       104.0      0  \n",
       "999       141.0      0  \n",
       "1000     1244.0      1  \n",
       "\n",
       "[1000 rows x 15 columns]"
      ]
     },
     "execution_count": 132,
     "metadata": {},
     "output_type": "execute_result"
    }
   ],
   "source": [
    "import numpy as np\n",
    "import pandas as pd\n",
    "columns=['id', 'gender', 'age','region','product_19','product_20','price_19','price_20',\n",
    "                                   'quantity_19','quantity_20','time_19','time_20','amount_19','amount_20','sales']\n",
    "arr=np.zeros((1000,len(columns)))\n",
    "\n",
    "df = pd.DataFrame(arr,range(1,1001),columns)\n",
    "\n",
    "df.id = np.random.randint(1, 1001, size = 1000)\n",
    "df.gender = np.random.randint(0, 2, size = 1000)\n",
    "df.age = np.random.randint(0, 81, size = 1000)\n",
    "df.region = np.random.randint(1, 11, size = 1000)\n",
    "df.product_19 = np.random.randint(11111, 100000, size = 1000)\n",
    "df.product_20 = np.random.randint(11111, 100000, size = 1000)\n",
    "df.price_19 = np.random.uniform(1000.0,50000.0,1000)\n",
    "df.price_20 = np.random.uniform(1000.0,50000.0,1000)\n",
    "df.quantity_19 = np.random.randint(1,101, size = 1000)\n",
    "df.quantity_20 = np.random.randint(1,101, size = 1000)\n",
    "df.time_19 = np.random.randint(1,25, size = 1000)\n",
    "df.time_20 = np.random.randint(1,25, size = 1000)\n",
    "df.amount_19 = (df.price_19 * df.quantity_19)//1000\n",
    "df.amount_20 = (df.price_20 * df.quantity_20)//1000\n",
    "df.sales = np.where( df.amount_19 < df.amount_20,1,0)\n",
    "df"
   ]
  }
 ],
 "metadata": {
  "kernelspec": {
   "display_name": "Python 3 (ipykernel)",
   "language": "python",
   "name": "python3"
  },
  "language_info": {
   "codemirror_mode": {
    "name": "ipython",
    "version": 3
   },
   "file_extension": ".py",
   "mimetype": "text/x-python",
   "name": "python",
   "nbconvert_exporter": "python",
   "pygments_lexer": "ipython3",
   "version": "3.9.7"
  }
 },
 "nbformat": 4,
 "nbformat_minor": 5
}
