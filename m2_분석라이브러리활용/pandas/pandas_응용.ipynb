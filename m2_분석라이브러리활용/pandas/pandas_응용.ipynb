{
 "cells": [
  {
   "cell_type": "code",
   "execution_count": null,
   "id": "09f9e747",
   "metadata": {},
   "outputs": [],
   "source": [
    "import pandas as pd\n",
    "file_data = pd.read_csv('file_data.csv')\n",
    "file_data['가격'] = [5000,5000,4000,5000,3000]\n",
    "file_data"
   ]
  },
  {
   "cell_type": "code",
   "execution_count": null,
   "id": "daa9897b",
   "metadata": {},
   "outputs": [],
   "source": [
    "df1 = file_data.copy()\n",
    "df2 = pd.DataFrame({\n",
    "    '차림표':['비빔밥','돈까스','라면','김밥','제육덮밥'],\n",
    "    '가격':[7000,8000,3000,3000,9000]\n",
    "})\n",
    "df2"
   ]
  },
  {
   "cell_type": "code",
   "execution_count": null,
   "id": "9a4bc445",
   "metadata": {},
   "outputs": [],
   "source": [
    "# 병합 - 세로방향\n",
    "dfc1 = pd.concat([df1,df2])\n",
    "dfc1"
   ]
  },
  {
   "cell_type": "code",
   "execution_count": null,
   "id": "0e13d7f3",
   "metadata": {},
   "outputs": [],
   "source": [
    "# 병합 - 가로방향\n",
    "dfc2 = pd.concat([df1,df2],axis=1)\n",
    "dfc2"
   ]
  },
  {
   "cell_type": "code",
   "execution_count": null,
   "id": "cb70c04a",
   "metadata": {},
   "outputs": [],
   "source": [
    "new_column = ['메뉴1','가격1','메뉴2','가격2']\n",
    "dfc2.columns = new_column\n",
    "dfc2"
   ]
  },
  {
   "cell_type": "code",
   "execution_count": null,
   "id": "8ee81f69",
   "metadata": {},
   "outputs": [],
   "source": [
    "sr1 = dfc2['메뉴1']\n",
    "sr2 = dfc2['가격2']\n",
    "print(sr1,'\\n')\n",
    "print(sr2)\n",
    "type(sr2)\n"
   ]
  },
  {
   "cell_type": "code",
   "execution_count": null,
   "id": "7744373b",
   "metadata": {},
   "outputs": [],
   "source": [
    "# 시리즈 -> 데이터프레임\n",
    "df = pd.concat([sr1,sr2],axis=1)\n",
    "df"
   ]
  },
  {
   "cell_type": "code",
   "execution_count": null,
   "id": "3f21c4f5",
   "metadata": {},
   "outputs": [],
   "source": [
    "# 열 삭제, inplace=True는 원본에 반영함을 의미 \n",
    "dfc3 = dfc2.copy()\n",
    "dfc3.drop(['가격1','가격2'],axis=1,inplace=True)\n",
    "# dfc3.drop(['가격1','가격2'],axis=1)\n",
    "dfc3"
   ]
  },
  {
   "cell_type": "code",
   "execution_count": null,
   "id": "29f3c172",
   "metadata": {},
   "outputs": [],
   "source": [
    "# 행 삭제\n",
    "dfc3.drop([0,1],axis=0,inplace=True)\n",
    "dfc3"
   ]
  },
  {
   "cell_type": "code",
   "execution_count": null,
   "id": "eed46750",
   "metadata": {},
   "outputs": [],
   "source": [
    "dfc3 = dfc2.copy()\n",
    "dfc3"
   ]
  },
  {
   "cell_type": "code",
   "execution_count": null,
   "id": "f3c797e8",
   "metadata": {},
   "outputs": [],
   "source": [
    "# [과제] 인덱싱을 이용하여 특정 컬럼, 특정 행, 특정 값을 추출"
   ]
  },
  {
   "cell_type": "code",
   "execution_count": null,
   "id": "0b6141b6",
   "metadata": {},
   "outputs": [],
   "source": [
    "# 조건(하나 또는 복수)에 맞는 데이터 추출 - 불린인덱싱\n",
    "dfc3.loc[dfc3['가격1']>4500,['메뉴1','가격1']]"
   ]
  },
  {
   "cell_type": "code",
   "execution_count": null,
   "id": "48a52070",
   "metadata": {},
   "outputs": [],
   "source": [
    "# [과제] 행, 열 모두에 조건 지정"
   ]
  },
  {
   "cell_type": "code",
   "execution_count": null,
   "id": "9b0ad324",
   "metadata": {},
   "outputs": [],
   "source": [
    "# 행 추가\n",
    "dfc3.loc[5] = ['김치라면', '4000', '만두', '5000']\n",
    "dfc3"
   ]
  },
  {
   "cell_type": "code",
   "execution_count": null,
   "id": "64f9b71b",
   "metadata": {},
   "outputs": [],
   "source": [
    "# 열 추가 \n",
    "dfc3['메뉴3'] = dfc3.메뉴2\n",
    "dfc3"
   ]
  },
  {
   "cell_type": "code",
   "execution_count": null,
   "id": "b0f6a0f0",
   "metadata": {},
   "outputs": [],
   "source": [
    "dfc1"
   ]
  },
  {
   "cell_type": "code",
   "execution_count": null,
   "id": "a9db87f2",
   "metadata": {},
   "outputs": [],
   "source": [
    "# 인덱시 재정렬\n",
    "ndf = dfc1.reset_index()\n",
    "ndf.drop('index',axis=1,inplace=True)\n",
    "ndf"
   ]
  },
  {
   "cell_type": "code",
   "execution_count": null,
   "id": "69845bfd",
   "metadata": {},
   "outputs": [],
   "source": [
    "ndf1 = ndf.copy()\n",
    "ndf1"
   ]
  },
  {
   "cell_type": "code",
   "execution_count": null,
   "id": "590b7dfb",
   "metadata": {},
   "outputs": [],
   "source": [
    "# 인덱스 설정\n",
    "ndf1.index=np.arange(1,11)\n",
    "ndf1"
   ]
  },
  {
   "cell_type": "code",
   "execution_count": null,
   "id": "8ef106fc",
   "metadata": {},
   "outputs": [],
   "source": [
    "import numpy as np\n",
    "# 인덱스 지정한 데로 설정 : reindex\n",
    "new_index = np.arange(1,15)\n",
    "ndf2 = ndf1.reindex(new_index,fill_value=1)\n",
    "ndf2"
   ]
  },
  {
   "cell_type": "code",
   "execution_count": null,
   "id": "fddf1bcf",
   "metadata": {},
   "outputs": [],
   "source": [
    "# 내림차순 정렬\n",
    "ndf2 = ndf1.sort_index(ascending=False)\n",
    "ndf2"
   ]
  },
  {
   "cell_type": "code",
   "execution_count": null,
   "id": "10d67465",
   "metadata": {},
   "outputs": [],
   "source": [
    "ndf3 = ndf2.sort_index(ascending=True)\n",
    "ndf3"
   ]
  },
  {
   "cell_type": "code",
   "execution_count": null,
   "id": "904c1788",
   "metadata": {},
   "outputs": [],
   "source": [
    "ndf4 = ndf2.sort_values(by='가격',ascending=False)\n",
    "ndf4"
   ]
  },
  {
   "cell_type": "code",
   "execution_count": null,
   "id": "616c7277",
   "metadata": {},
   "outputs": [],
   "source": [
    "import numpy as np\n",
    "import pandas as pd\n",
    "columns = ['kor','eng','art','math','gym','sci']\n",
    "index = ['jim','sam','tom','tim','bob']\n",
    "data = np.random.randint(70,100,size=(5,6))\n",
    "df = pd.DataFrame(data,index,columns=columns)\n",
    "df"
   ]
  },
  {
   "cell_type": "markdown",
   "id": "a08f0751",
   "metadata": {},
   "source": [
    "[과제] iloc, loc를 이용해서 아래 요구사항들을 출력하세요\n",
    "- df의 kor열을 series와 dataframe을 각각 출력\n",
    "- df에서 sam의 math 점수를 출력(2가지 방법)\n",
    "- df에서 tom의 eng와 sci 점수를 출력(2가지 방법)\n",
    "- df에서 jim, tim의 eng, gym 점수를 출력\n",
    "- df에서 jim, sam의 art,math,gym 점수를 출력"
   ]
  },
  {
   "cell_type": "code",
   "execution_count": null,
   "id": "8480c042-6d6a-4337-ad38-8f5361c24eaf",
   "metadata": {},
   "outputs": [],
   "source": [
    "df['kor']"
   ]
  },
  {
   "cell_type": "code",
   "execution_count": null,
   "id": "618e596d-124e-43bf-ac4c-a0f81a2f6c67",
   "metadata": {},
   "outputs": [],
   "source": [
    "df[['kor']]"
   ]
  },
  {
   "cell_type": "code",
   "execution_count": null,
   "id": "9c162ce5-bd84-4a2c-a03d-00b58cbf7bab",
   "metadata": {},
   "outputs": [],
   "source": [
    "df.loc[['sam'],['math']]"
   ]
  },
  {
   "cell_type": "code",
   "execution_count": null,
   "id": "18d03ad7-401f-4216-9382-1ef2a9f5f1d7",
   "metadata": {},
   "outputs": [],
   "source": [
    "df.iloc[0,1]"
   ]
  },
  {
   "cell_type": "code",
   "execution_count": null,
   "id": "fa8d9be4-b8be-474c-bcb0-2bc62f0b5f78",
   "metadata": {},
   "outputs": [],
   "source": [
    "df.loc['sam','math']"
   ]
  },
  {
   "cell_type": "code",
   "execution_count": null,
   "id": "4930c644-55da-48d9-bc92-58a90aff5de7",
   "metadata": {},
   "outputs": [],
   "source": [
    "df.loc['tom',['eng','sci']]"
   ]
  },
  {
   "cell_type": "code",
   "execution_count": null,
   "id": "b883d60e-a005-4374-8891-99264c2cfc5f",
   "metadata": {},
   "outputs": [],
   "source": [
    "df.loc[['tom'],['eng','sci']]"
   ]
  },
  {
   "cell_type": "code",
   "execution_count": null,
   "id": "da05edcc-1c3a-457c-a7b3-dbb09a6b580d",
   "metadata": {},
   "outputs": [],
   "source": [
    "df.loc[['jim','tim'],['eng','gym']]"
   ]
  },
  {
   "cell_type": "code",
   "execution_count": null,
   "id": "fc9f2bf5-13ae-4da8-91ef-7752c509160a",
   "metadata": {},
   "outputs": [],
   "source": [
    "df.loc[['jim','sam'],['art','math','gym']]"
   ]
  },
  {
   "cell_type": "markdown",
   "id": "8e9ad891",
   "metadata": {},
   "source": [
    "[과제] iloc, loc를 이용해서 아래 요구사항들을 수행하세요\n",
    "- df에서 sam의 math 점수를 100으로 변경\n",
    "- df에서 tom의 eng와 math 점수를 100으로 변경\n",
    "- df에서 jim, tim의 kor, gym 점수를 null값으로 변경\n",
    "- df에서 math와 gym 점수를 바꾸어 출력"
   ]
  },
  {
   "cell_type": "code",
   "execution_count": null,
   "id": "255f3d44-482c-44d6-8e14-e138e3dcd754",
   "metadata": {},
   "outputs": [],
   "source": [
    "df.loc['sam','math']=100\n",
    "df.loc[['sam'],['math']]"
   ]
  },
  {
   "cell_type": "code",
   "execution_count": null,
   "id": "8d62407b-3564-4b07-96b1-ba78e282ef8b",
   "metadata": {},
   "outputs": [],
   "source": [
    "df.loc['tom',['eng','math']]=100\n",
    "df.loc[['tom'],['eng','math']]"
   ]
  },
  {
   "cell_type": "code",
   "execution_count": null,
   "id": "57af05aa-bf82-4644-8ed8-5bced416b825",
   "metadata": {},
   "outputs": [],
   "source": [
    "df.loc[['jim','tim'],['kor','gym']]=np.nan\n",
    "df.loc[['jim','tim'],['kor','gym']]"
   ]
  },
  {
   "cell_type": "code",
   "execution_count": null,
   "id": "a4253907",
   "metadata": {},
   "outputs": [],
   "source": [
    "!pip install seaborn"
   ]
  },
  {
   "cell_type": "code",
   "execution_count": null,
   "id": "dc7d1805",
   "metadata": {
    "tags": []
   },
   "outputs": [],
   "source": [
    "import seaborn as sns\n",
    "df = sns.load_dataset('titanic')\n",
    "df=df.iloc[:500]#인덱싱추출\n",
    "df.columns #컬럼만추출\n",
    "df.insert(5,'family',df['sibsp']+df['parch']) #칼럼병합\n",
    "df= df.drop(['sibsp','parch'],axis=1) #삭제\n",
    "df=df.replace(['male'],'man')#변경\n",
    "df=df.sort_values(by='family',ascending=False)#정렬\n",
    "\n",
    "\n",
    "df"
   ]
  },
  {
   "cell_type": "code",
   "execution_count": null,
   "id": "f221d2d1",
   "metadata": {},
   "outputs": [],
   "source": [
    "# [과제] 데이터 추출(인덱싱, 조건), 변경, 삭제, 정렬, 칼럼 병합(sibsp + parch = family) 등을 수행하여 데이터에서 인사이트를 찾아보세요 \n",
    "import seaborn as sns\n",
    "df = sns.load_dataset('titanic')\n",
    "df=df.iloc[:500]#인덱싱추출\n",
    "df.columns #컬럼만추출\n",
    "df.insert(5,'family',df['sibsp']+df['parch']) #칼럼병합\n",
    "df= df.drop(['sibsp','parch'],axis=1) #삭제\n",
    "df=df.replace(['male'],'man')#변경\n",
    "df=df.sort_values(by='family',ascending=False)#정렬"
   ]
  },
  {
   "cell_type": "code",
   "execution_count": null,
   "id": "4fecbbcc-cfac-43c4-80c7-37fdfa46639f",
   "metadata": {},
   "outputs": [],
   "source": [
    "import numpy as np\n",
    "import pandas as pd\n",
    "data = np.arange(20).reshape(4,5)\n",
    "df = pd.DataFrame(data,columns=['a','b','c','d','e'])\n",
    "df.head()"
   ]
  },
  {
   "cell_type": "code",
   "execution_count": null,
   "id": "ab6f281c-5fc6-4bb8-b906-81e933c8997d",
   "metadata": {},
   "outputs": [],
   "source": [
    "# 삭제\n",
    "df1 = df.copy()\n",
    "df1.drop(df1.index[[0,3]])"
   ]
  },
  {
   "cell_type": "code",
   "execution_count": null,
   "id": "d082ebeb-6788-4e95-9000-3c585db2d551",
   "metadata": {},
   "outputs": [],
   "source": [
    "# 특정 조건에 맞는 인덱스 구하기\n",
    "df1 = df.copy()\n",
    "idx = df1[df1.a > 10].index\n",
    "df1.drop(idx)"
   ]
  },
  {
   "cell_type": "code",
   "execution_count": null,
   "id": "6bddba0c-9bdd-4b3b-a6d9-b5afd93c89c4",
   "metadata": {},
   "outputs": [],
   "source": [
    "li = []\n",
    "for i in range(100):\n",
    "    li.append('c'+str(i+1))\n",
    "print(li)"
   ]
  },
  {
   "cell_type": "code",
   "execution_count": null,
   "id": "a0140ed9-9c18-43d8-88a8-4e3333cb9981",
   "metadata": {},
   "outputs": [],
   "source": [
    "data = np.random.randn(10000).reshape(100,100)\n",
    "df = pd.DataFrame(data,columns=li)\n",
    "df['c2'] = df.c2 * 100\n",
    "df.iloc[1] = df.iloc[1] * 100\n",
    "df.head()"
   ]
  },
  {
   "cell_type": "code",
   "execution_count": null,
   "id": "0f22bd17-1e25-460f-b382-444100da3d6f",
   "metadata": {},
   "outputs": [],
   "source": [
    "df1 = df.copy()\n",
    "idx = df1[df1.c2 > 10].index\n",
    "print(idx)"
   ]
  },
  {
   "cell_type": "code",
   "execution_count": null,
   "id": "295a98de-813f-4090-a3d9-d42ab46a0c5b",
   "metadata": {},
   "outputs": [],
   "source": [
    "df1.drop(idx)"
   ]
  },
  {
   "cell_type": "code",
   "execution_count": null,
   "id": "60e4de04-bcdd-4c9e-854c-5c53cf03eef4",
   "metadata": {},
   "outputs": [],
   "source": [
    "df1 = df.copy()\n",
    "idx = df1.query('c2 > 10').index\n",
    "print(idx)"
   ]
  },
  {
   "cell_type": "code",
   "execution_count": null,
   "id": "66f6e3e3-05f2-44ce-a9ae-6f4c58b1dda7",
   "metadata": {},
   "outputs": [],
   "source": [
    "df1 = df.copy()\n",
    "cond1 = df1.c2 > 10\n",
    "cond2 = df1.c3 > 0\n",
    "cond3 = df.c4 < 0\n",
    "\n",
    "df2 = df1[cond1 & cond2 & cond3]\n",
    "df2.shape"
   ]
  },
  {
   "cell_type": "code",
   "execution_count": null,
   "id": "0254c6fb-2d64-4e6d-ae89-2eb31f367e34",
   "metadata": {},
   "outputs": [],
   "source": [
    "df3 = df1[cond1 | cond2 | cond3]\n",
    "df3.shape"
   ]
  },
  {
   "cell_type": "code",
   "execution_count": null,
   "id": "63ec05de-b437-4744-9bb6-dc5e273cfcf3",
   "metadata": {},
   "outputs": [],
   "source": [
    "df1[cond1][['c1','c2']].head()"
   ]
  },
  {
   "cell_type": "code",
   "execution_count": null,
   "id": "4297ed7d-5ff0-498f-8927-c67272196d04",
   "metadata": {},
   "outputs": [],
   "source": [
    "import seaborn as sns\n",
    "df = sns.load_dataset('titanic')\n",
    "tdf = df.copy()\n",
    "tdf.head()"
   ]
  },
  {
   "cell_type": "code",
   "execution_count": null,
   "id": "82c77b0e-0225-4438-8613-68f3c494f15a",
   "metadata": {},
   "outputs": [],
   "source": [
    "# 컬럼이름 변경\n",
    "tdf.rename(columns={'sex':'gender','fare':'ticket'}, inplace=True)\n",
    "tdf.head()"
   ]
  },
  {
   "cell_type": "code",
   "execution_count": null,
   "id": "fe0e6dbe-89b5-486a-a5a3-a50fcb22a52c",
   "metadata": {},
   "outputs": [],
   "source": [
    "tdf.gender.value_counts()\n",
    "# tdf.gender.unique()"
   ]
  },
  {
   "cell_type": "code",
   "execution_count": null,
   "id": "156dbd58-ca34-4192-911f-815fb87bae27",
   "metadata": {},
   "outputs": [],
   "source": [
    "# 값 변경\n",
    "df1 = tdf[['gender']].replace(['female','male'],[1,0])\n",
    "df1.gender.value_counts()"
   ]
  },
  {
   "cell_type": "code",
   "execution_count": null,
   "id": "c5363cb5-e1ff-4d03-819b-c20664b3363a",
   "metadata": {},
   "outputs": [],
   "source": [
    "# 칼럼 대문자 변경\n",
    "tdf.rename(str.upper, axis='columns',inplace=True)\n",
    "tdf.head()"
   ]
  },
  {
   "cell_type": "code",
   "execution_count": null,
   "id": "220a09a6-dfc9-4bc3-88c1-7766fd8a4f8f",
   "metadata": {},
   "outputs": [],
   "source": [
    "# 칼럼 소문자 변경\n",
    "tdf.rename(str.lower, axis='columns',inplace=True)\n",
    "tdf.head()"
   ]
  },
  {
   "cell_type": "code",
   "execution_count": null,
   "id": "7eee2af6-0a07-4447-bedb-fe3233779b1c",
   "metadata": {},
   "outputs": [],
   "source": [
    "# 칼럼 순서 변경\n",
    "columns_customed = ['pclass','gender','age','survived']\n",
    "tdf[columns_customed].head()"
   ]
  },
  {
   "cell_type": "code",
   "execution_count": null,
   "id": "3ce2554e-bb5a-4483-856f-df09408f4aaa",
   "metadata": {},
   "outputs": [],
   "source": [
    "# NaN 으로 변경\n",
    "df1 = df.copy()\n",
    "df1['sex'] = df1.sex.replace('male', np.nan)\n",
    "df1.sex.value_counts()"
   ]
  },
  {
   "cell_type": "code",
   "execution_count": null,
   "id": "c6dfa56c-80e0-4758-9f3c-c8e3abb138d2",
   "metadata": {},
   "outputs": [],
   "source": [
    "tdf.head(2)"
   ]
  },
  {
   "cell_type": "code",
   "execution_count": null,
   "id": "5479df37-9a9c-4bd7-a0e6-d9fb019b07d4",
   "metadata": {},
   "outputs": [],
   "source": [
    "tdf.info()"
   ]
  },
  {
   "cell_type": "code",
   "execution_count": null,
   "id": "92b739a4-33b9-4ead-b4c1-a96ba50b6b03",
   "metadata": {},
   "outputs": [],
   "source": [
    "tdf.deck.value_counts()"
   ]
  },
  {
   "cell_type": "code",
   "execution_count": null,
   "id": "3de8cdfb-bf28-4c3c-bd27-cf669154ec34",
   "metadata": {},
   "outputs": [],
   "source": [
    "tdf.gender.value_counts()"
   ]
  },
  {
   "cell_type": "code",
   "execution_count": null,
   "id": "ab0b13d9-5d29-4fc6-b4cf-e778ad7b277b",
   "metadata": {},
   "outputs": [],
   "source": [
    "tdf.who.value_counts()"
   ]
  },
  {
   "cell_type": "code",
   "execution_count": null,
   "id": "452964f7-2cff-4113-ae68-47f428e82b3b",
   "metadata": {},
   "outputs": [],
   "source": [
    "tdf.pclass.value_counts()"
   ]
  },
  {
   "cell_type": "code",
   "execution_count": null,
   "id": "95002df1-d3b8-4860-ba19-0d911faf2305",
   "metadata": {},
   "outputs": [],
   "source": [
    "tdf.value_counts('class')"
   ]
  },
  {
   "cell_type": "code",
   "execution_count": null,
   "id": "fa538268-b8c1-419f-b9a2-880aed2b46c7",
   "metadata": {},
   "outputs": [],
   "source": [
    "# 결측값 대체 : age 평균값\n",
    "print(tdf.age.isnull().sum(),'\\n')\n",
    "tdf.age.fillna(tdf.age.mean(),inplace=True)\n",
    "tdf.age.isnull().sum()"
   ]
  },
  {
   "cell_type": "code",
   "execution_count": null,
   "id": "d2506347-9918-42e7-8324-5d396c70ccf1",
   "metadata": {},
   "outputs": [],
   "source": [
    "tdf1 = df.copy()\n",
    "tdf1.age.replace(np.nan, tdf1.age.mean(), inplace=True)\n",
    "tdf1.age.isnull().sum()"
   ]
  },
  {
   "cell_type": "code",
   "execution_count": null,
   "id": "b4a47e74-f08e-44f6-b636-fb1319d8494b",
   "metadata": {},
   "outputs": [],
   "source": [
    "# 결측값 삭제\n",
    "tdf2 = df.copy()\n",
    "tdf2.dropna(subset=['age'],inplace=True)\n",
    "print(len(tdf2),'\\n')\n",
    "tdf2.age.isnull().sum()"
   ]
  },
  {
   "cell_type": "code",
   "execution_count": null,
   "id": "ba99dcc4-fa89-4477-b24e-41a5f27e9883",
   "metadata": {},
   "outputs": [],
   "source": [
    "tdf[['age','ticket']].head()"
   ]
  },
  {
   "cell_type": "code",
   "execution_count": null,
   "id": "0afedcdc-93a8-4699-9cfe-ed72390f750c",
   "metadata": {},
   "outputs": [],
   "source": [
    "# 실수를 정수로 변환하여 출력\n",
    "tdf[['age','ticket']].astype(int).head()"
   ]
  },
  {
   "cell_type": "code",
   "execution_count": null,
   "id": "28f279d8-cc46-491f-a984-c49bd0a6ec89",
   "metadata": {},
   "outputs": [],
   "source": [
    "tdf1 = tdf[['age','ticket']].astype({'age':'int','ticket':'int'})\n",
    "tdf1.head()"
   ]
  },
  {
   "cell_type": "code",
   "execution_count": null,
   "id": "394dab14-315e-48c5-90f6-ce55a3886bea",
   "metadata": {},
   "outputs": [],
   "source": [
    "# age 칼럼의 값 구성 체크\n",
    "tdf.age.value_counts()"
   ]
  },
  {
   "cell_type": "code",
   "execution_count": null,
   "id": "b9f97135-bc2f-42bd-9414-a97fba371208",
   "metadata": {},
   "outputs": [],
   "source": [
    "# age 칼럼의 고유 구성 요소\n",
    "tdf.age.unique()"
   ]
  },
  {
   "cell_type": "code",
   "execution_count": null,
   "id": "97cdfb2a-9d21-4457-8a07-73d55ac95d81",
   "metadata": {},
   "outputs": [],
   "source": [
    "# age 칼럼의 범주화\n",
    "def get_category(age):\n",
    "    cat=''\n",
    "    if age <= 5: cat = 'Baby'\n",
    "    elif age <= 12: cat = 'Child'\n",
    "    elif age <= 19: cat = 'Teenager'\n",
    "    elif age <= 35: cat = 'Yong Adult'\n",
    "    elif age <= 60: cat = 'Adult'\n",
    "    else:\n",
    "        cat = 'Elderly'\n",
    "    return cat\n",
    "tdf['age_cat'] = tdf.age.apply(lambda x:get_category(x))\n",
    "tdf[['age','age_cat']].head()"
   ]
  },
  {
   "cell_type": "code",
   "execution_count": null,
   "id": "629ca5d7-4a12-429c-b47b-d017cda0588e",
   "metadata": {},
   "outputs": [],
   "source": [
    "# 인코딩\n",
    "tdf = df.copy()\n",
    "df1 = tdf[['sex','class']]\n",
    "df1.head()"
   ]
  },
  {
   "cell_type": "code",
   "execution_count": null,
   "id": "401c3c2d-6567-46a2-b211-c04bba0b20b8",
   "metadata": {},
   "outputs": [],
   "source": [
    "df1.value_counts('class')"
   ]
  },
  {
   "cell_type": "code",
   "execution_count": null,
   "id": "d067c0dd-60e2-4ce6-91d8-4d4b826ab086",
   "metadata": {},
   "outputs": [],
   "source": [
    "!pip install scikit-learn"
   ]
  },
  {
   "cell_type": "code",
   "execution_count": null,
   "id": "6deb575c-d096-4e7e-a9c1-44fd740578e5",
   "metadata": {},
   "outputs": [],
   "source": [
    "import warnings\n",
    "warnings.filterwarnings('ignore')\n",
    "from sklearn.preprocessing import LabelEncoder\n",
    "\n",
    "le = LabelEncoder()\n",
    "features = ['sex','class']\n",
    "for feature in features:\n",
    "    df1[feature] = le.fit_transform(df1[feature])\n",
    "df1.head()"
   ]
  },
  {
   "cell_type": "code",
   "execution_count": null,
   "id": "b8a73e7e-3f6f-40b9-b491-179f7c1d4dc8",
   "metadata": {},
   "outputs": [],
   "source": [
    "tdf=df.copy()\n",
    "df1=tdf[['sex','class']]\n",
    "df1.head()"
   ]
  },
  {
   "cell_type": "code",
   "execution_count": null,
   "id": "47033092-7cdf-4266-bf1e-ac65c2eaa64c",
   "metadata": {},
   "outputs": [],
   "source": [
    "from sklearn.preprocessing import OneHotEncoder\n",
    "items=list(df1.sex)\n",
    "encoder=LabelEncoder()\n",
    "encoder.fit(items)\n",
    "labels=encoder.transform(items)\n",
    "labels=labels.reshape(-1,1)\n",
    "oh_encoder=OneHotEncoder()\n",
    "oh_labels = oh_encoder.fit_transform(labels)\n",
    "print(oh_labels.toarray(),oh_labels.shape)"
   ]
  },
  {
   "cell_type": "code",
   "execution_count": null,
   "id": "26ad7078-9ad4-4a90-824e-1c9f72c9fe05",
   "metadata": {},
   "outputs": [],
   "source": [
    "pd.get_dummies(df1)"
   ]
  },
  {
   "cell_type": "code",
   "execution_count": null,
   "id": "25e46861-a70c-4dfc-b834-7769b75d7d7f",
   "metadata": {},
   "outputs": [],
   "source": [
    "from sklearn.datasets import load_boston\n",
    "import pandas as pd\n",
    "import numpy as np\n",
    "\n",
    "boston=load_boston()\n",
    "boston.keys()"
   ]
  },
  {
   "cell_type": "code",
   "execution_count": null,
   "id": "88c437a8-3dc1-4aa7-a3bf-f9b0826f7728",
   "metadata": {
    "tags": []
   },
   "outputs": [],
   "source": [
    "boston.target"
   ]
  },
  {
   "cell_type": "code",
   "execution_count": null,
   "id": "3a227726-e6c2-4854-bf8b-d8bccf87eb92",
   "metadata": {},
   "outputs": [],
   "source": [
    "boston.data"
   ]
  },
  {
   "cell_type": "code",
   "execution_count": null,
   "id": "937c6d65-d099-4c57-bbac-8698543ce9ce",
   "metadata": {},
   "outputs": [],
   "source": [
    "boston.feature_names"
   ]
  },
  {
   "cell_type": "code",
   "execution_count": null,
   "id": "d2301604-304d-43a2-92da-966112eb3bbf",
   "metadata": {},
   "outputs": [],
   "source": [
    "df=pd.DataFrame(boston.data, columns=[boston.feature_names])\n",
    "df['target']=boston.target\n",
    "df"
   ]
  },
  {
   "cell_type": "code",
   "execution_count": null,
   "id": "7fe0d655-6222-43fa-bd6a-0aca3c03460d",
   "metadata": {},
   "outputs": [],
   "source": [
    "df=df[['INDUS','RM','PTRATIO','LSTAT','target']]\n",
    "df"
   ]
  },
  {
   "cell_type": "code",
   "execution_count": null,
   "id": "c75e1cc9-d5d3-4d5c-86e8-f1713ff8cf37",
   "metadata": {},
   "outputs": [],
   "source": [
    "#스케일링\n",
    "from sklearn.preprocessing import MinMaxScaler\n",
    "\n",
    "scaler=MinMaxScaler()\n",
    "df['RM'] = scaler.fit_transform(df.RM)\n",
    "df.head()"
   ]
  },
  {
   "cell_type": "code",
   "execution_count": null,
   "id": "fcc7032b-cb12-4aa4-a091-76798362777c",
   "metadata": {},
   "outputs": [],
   "source": [
    "scaler=MinMaxScaler()\n",
    "df['INDUS']=scaler.fit_transform(df.INDUS)\n",
    "df"
   ]
  },
  {
   "cell_type": "code",
   "execution_count": null,
   "id": "909d6405-b43b-4c60-bba7-258a3e4112a8",
   "metadata": {},
   "outputs": [],
   "source": [
    "for i in ('INDUS','RM','PTRATIO','LSTAT','target'):\n",
    "    scaler=MinMaxScaler()\n",
    "    df[i]=scaler.fit_transform(df[i])\n",
    "df.head()"
   ]
  },
  {
   "cell_type": "code",
   "execution_count": null,
   "id": "12795c5d-6a3a-40aa-90cf-663c2b5d55b5",
   "metadata": {},
   "outputs": [],
   "source": [
    "df.corr()"
   ]
  },
  {
   "cell_type": "code",
   "execution_count": null,
   "id": "18100042-5f98-4349-8396-a37c89244147",
   "metadata": {},
   "outputs": [],
   "source": [
    "!pip install matplotlib"
   ]
  },
  {
   "cell_type": "code",
   "execution_count": null,
   "id": "936541e2-6949-4cb7-81a5-0353c6cff4bb",
   "metadata": {},
   "outputs": [],
   "source": [
    "import matplotlib.pyplot as plt\n",
    "import seaborn as sns\n",
    "\n",
    "plt.figure(figsize=(5,5))\n",
    "sns.heatmap(df.corr(),annot=True)"
   ]
  },
  {
   "cell_type": "code",
   "execution_count": null,
   "id": "0e1ac678-afc6-4c15-af49-74ed1b561755",
   "metadata": {},
   "outputs": [],
   "source": [
    "sns.distplot(df['target'])"
   ]
  },
  {
   "cell_type": "code",
   "execution_count": null,
   "id": "28fba3db-8a16-4edd-9078-8d74eddccf49",
   "metadata": {},
   "outputs": [],
   "source": [
    "#로그변환\n",
    "import numpy as np\n",
    "\n",
    "df['target']=np.log1p(df.target)\n",
    "sns.distplot(df.target)"
   ]
  },
  {
   "cell_type": "code",
   "execution_count": null,
   "id": "3d5b4a41-35a9-4a9d-9583-5eee2b539a91",
   "metadata": {},
   "outputs": [],
   "source": [
    "#로그 변환 환원\n",
    "df['target']=np.expm1(df.target)"
   ]
  },
  {
   "cell_type": "code",
   "execution_count": null,
   "id": "24aefc44-8572-49d3-849c-32e68941256c",
   "metadata": {},
   "outputs": [],
   "source": [
    "#csv를 불러와서 minmax정규화 뒤에 qsec의 컬럼이 0.5보다 큰 관측치의 계수\n",
    "import pandas as pd\n",
    "from sklearn.preprocessing import MinMaxScaler\n",
    "\n",
    "df = pd.read_csv(\"mtcars.csv\",index_col=0)\n",
    "df = pd.DataFrame(df)\n",
    "scaler=MinMaxScaler()\n",
    "\n",
    "for i in df.columns:\n",
    "    df[i]=scaler.fit_transform(df[[i]])\n",
    "\n",
    "len(df.loc[df['qsec']>0.5])"
   ]
  },
  {
   "cell_type": "code",
   "execution_count": null,
   "id": "524cf967-9f4d-40e4-b252-e2ff08f9d10c",
   "metadata": {},
   "outputs": [],
   "source": [
    "#결합\n",
    "data1=np.arange(1,21).reshape(4,5)\n",
    "data2=np.arange(11,31).reshape(5,4)\n",
    "df1=pd.DataFrame(data1,columns=['a','b','c','d','e'])\n",
    "df2=pd.DataFrame(data2,columns=['d','e','h','i'])\n",
    "print(df1,'\\n')\n",
    "\n",
    "df2\n",
    "# print(df1)"
   ]
  },
  {
   "cell_type": "code",
   "execution_count": null,
   "id": "df69d7a3-57b5-42fa-9c9b-f9fb4a899b09",
   "metadata": {
    "tags": []
   },
   "outputs": [],
   "source": [
    "df=pd.concat([df1,df2])\n",
    "df"
   ]
  },
  {
   "cell_type": "code",
   "execution_count": null,
   "id": "4a8aec67-dd0d-40cd-9190-174c1be0aac4",
   "metadata": {},
   "outputs": [],
   "source": [
    "df=pd.concat([df1,df2],axis=1)\n",
    "df"
   ]
  },
  {
   "cell_type": "code",
   "execution_count": null,
   "id": "9b1ea655-dfc7-4df7-8074-776ad5c13a65",
   "metadata": {},
   "outputs": [],
   "source": [
    "#교집합\n",
    "df1.join(df2,lsuffix='_a',rsuffix='_b')"
   ]
  },
  {
   "cell_type": "code",
   "execution_count": null,
   "id": "d407ef8e-388c-4b6d-b464-d3ba811e64d4",
   "metadata": {},
   "outputs": [],
   "source": [
    "#합집합\n",
    "df1.join(df2,lsuffix='_a',rsuffix='_b',how='outer')"
   ]
  },
  {
   "cell_type": "code",
   "execution_count": null,
   "id": "f5f79b46-1611-44de-aef6-2f2475012c7b",
   "metadata": {},
   "outputs": [],
   "source": [
    "df1['ind']=[1,2,3,4]\n",
    "df2['ind']=[1,2,3,4,5]\n",
    "df2"
   ]
  },
  {
   "cell_type": "code",
   "execution_count": null,
   "id": "2b1febe0-a12e-42ea-b93f-895ca9c87f8d",
   "metadata": {},
   "outputs": [],
   "source": [
    "pd.merge(df1,df2,on='ind')\n",
    "\n",
    "#단순 합치기는 concat\n",
    "#인덱스기준으로 join\n",
    "#컬럼 기준으로 merge"
   ]
  },
  {
   "cell_type": "code",
   "execution_count": null,
   "id": "a9ec363a-ed05-4881-a0f8-f3db02f7f986",
   "metadata": {
    "tags": []
   },
   "outputs": [],
   "source": [
    "arr=np.arange(10)\n",
    "arr=arr.reshape(2,5)\n",
    "df=pd.DataFrame(arr,columns=['c0','c1','c2','c3','c4'])\n",
    "df.to_csv('readcsv.csv')"
   ]
  },
  {
   "cell_type": "code",
   "execution_count": null,
   "id": "87fd3e37-5588-4f8b-92b3-203d6d0cbc6f",
   "metadata": {},
   "outputs": [],
   "source": [
    "df=pd.read_csv('readcsv.csv',index_col=0)\n",
    "df"
   ]
  },
  {
   "cell_type": "code",
   "execution_count": null,
   "id": "12377e26-66c9-4196-bd45-04f91b164b5f",
   "metadata": {},
   "outputs": [],
   "source": [
    "df.to_json('dfjson.json')"
   ]
  },
  {
   "cell_type": "code",
   "execution_count": null,
   "id": "949bb12d-7157-4116-91cd-ea3e345d545f",
   "metadata": {},
   "outputs": [],
   "source": [
    "df=pd.read_json('dfjson.json')\n",
    "df"
   ]
  },
  {
   "cell_type": "code",
   "execution_count": null,
   "id": "bc8b917e-a27e-4c72-a644-2b31d765d345",
   "metadata": {},
   "outputs": [],
   "source": [
    "df.to_pickle('bin.pkl')"
   ]
  },
  {
   "cell_type": "code",
   "execution_count": null,
   "id": "a98209f4-1b66-4d4d-87c8-3b6acd869b45",
   "metadata": {},
   "outputs": [],
   "source": [
    "df=pd.read_pickle('bin.pkl')\n",
    "df"
   ]
  },
  {
   "cell_type": "code",
   "execution_count": null,
   "id": "eab41bdf-0bde-486b-864d-40bb1f69d65d",
   "metadata": {},
   "outputs": [],
   "source": [
    "import pickle\n",
    "f=open('test.txt','wb')\n",
    "data={1:'python',2:'you need'}\n",
    "pickle.dump(data,f)\n",
    "f.close()"
   ]
  },
  {
   "cell_type": "code",
   "execution_count": null,
   "id": "6c738038-0b16-4920-b98c-89bd1c8bbe3d",
   "metadata": {},
   "outputs": [],
   "source": [
    "f=open('test.txt','rb')\n",
    "data=pickle.load(f)\n",
    "print(data)\n",
    "f.close()"
   ]
  },
  {
   "cell_type": "code",
   "execution_count": null,
   "id": "6afe32bd-5f9b-437f-bd12-3d65f2116b8a",
   "metadata": {},
   "outputs": [],
   "source": [
    "!pip install openpyxl"
   ]
  },
  {
   "cell_type": "code",
   "execution_count": null,
   "id": "6ab5d476-e522-4321-8c65-aeda5de1ee3b",
   "metadata": {},
   "outputs": [],
   "source": [
    "df=pd.read_excel('auto-mpg.xlsx')\n",
    "df.columns\n",
    "\n",
    "df"
   ]
  },
  {
   "cell_type": "code",
   "execution_count": null,
   "id": "7f21824e-1549-455c-b673-13850122ad36",
   "metadata": {},
   "outputs": [],
   "source": [
    "df=df[['mpg', 'cylinders', 'horsepower', 'weight']]\n",
    "df.to_excel('auto-mpg1.xlsx',index=False)\n",
    "df=pd.read_excel('auto-mpg1.xlsx')\n",
    "df"
   ]
  },
  {
   "cell_type": "code",
   "execution_count": null,
   "id": "41575229-1907-49a9-a6b1-f0af74e1b34d",
   "metadata": {},
   "outputs": [],
   "source": [
    "s1=pd.Series({'국어':100,'영어':80,'수학':90})\n",
    "s2=pd.Series({'수학':80,'국어':90,'영어':80})\n",
    "add=s1+s2\n",
    "sub=s1-s2\n",
    "mul=s1*s2\n",
    "div=s1/s2\n",
    "df=pd.concat([add,sub,mul,div],axis=1)\n",
    "df\n"
   ]
  },
  {
   "cell_type": "code",
   "execution_count": null,
   "id": "b52f5e4f-e66e-4c58-b422-f4c955bcb14d",
   "metadata": {
    "tags": []
   },
   "outputs": [],
   "source": [
    "s1=pd.Series({'국어':100,'영어':80,'수학':90})\n",
    "s2=pd.Series({'수학':80,'국어':90,'영어':80})\n",
    "add=s1+s2\n",
    "sub=s1-s2\n",
    "mul=s1*s2\n",
    "div=s1/s2\n",
    "\n",
    "df=pd.DataFrame([add,sub,mul,div],index=['덧셈','뺄셈','곱셈','나눗셈'])\n",
    "df"
   ]
  },
  {
   "cell_type": "code",
   "execution_count": null,
   "id": "fca952c1-4298-4294-b05a-a430ce037eca",
   "metadata": {},
   "outputs": [],
   "source": [
    "lst=list('abcdefg')\n",
    "lst"
   ]
  },
  {
   "cell_type": "code",
   "execution_count": null,
   "id": "8a2d3ba9-4b6c-4fde-bbad-05dd1da30fe0",
   "metadata": {},
   "outputs": [],
   "source": [
    "df=pd.DataFrame(np.arange(12).reshape(3,4),columns=list('abcd'))\n",
    "df"
   ]
  },
  {
   "cell_type": "code",
   "execution_count": null,
   "id": "91dd84a4-151a-4e24-86e4-82efdc7d123d",
   "metadata": {},
   "outputs": [],
   "source": [
    "df1=pd.DataFrame(np.arange(12).reshape(3,4),columns=list('abcd'))\n",
    "df2=pd.DataFrame(np.arange(20).reshape(4,5),columns=list('abcde'))\n",
    "\n",
    "df2.loc[1,'b']=np.nan\n",
    "df2"
   ]
  },
  {
   "cell_type": "code",
   "execution_count": null,
   "id": "b48dac99-2c65-4282-a5d8-f9bad6209a1a",
   "metadata": {},
   "outputs": [],
   "source": [
    "df1+df2"
   ]
  },
  {
   "cell_type": "code",
   "execution_count": null,
   "id": "844a15e0-3bc8-460a-a229-fd57c1f75330",
   "metadata": {},
   "outputs": [],
   "source": [
    "df1.add(df2)"
   ]
  },
  {
   "cell_type": "code",
   "execution_count": null,
   "id": "b7ff7d09-08c8-4ee2-a31c-23af178ac0ba",
   "metadata": {},
   "outputs": [],
   "source": [
    "df2.add(df1)"
   ]
  },
  {
   "cell_type": "code",
   "execution_count": null,
   "id": "5d892ef6-e444-4407-b0da-5c8b15f3b877",
   "metadata": {},
   "outputs": [],
   "source": [
    "df1.add(df2,fill_value=0)"
   ]
  },
  {
   "cell_type": "code",
   "execution_count": null,
   "id": "9f898d0e-7d99-4459-a77b-568d8b0399cb",
   "metadata": {
    "tags": []
   },
   "outputs": [],
   "source": [
    "#sub(),mul,div 를 사용하여 df2의 nan을 0으로 대체하여 연산수행\n",
    "df2.sub(df1,fill_value=0)"
   ]
  },
  {
   "cell_type": "code",
   "execution_count": null,
   "id": "0e5d70fb-0fb5-4085-872f-13f349bce358",
   "metadata": {},
   "outputs": [],
   "source": [
    "df2.mul(df1,fill_value=0)"
   ]
  },
  {
   "cell_type": "code",
   "execution_count": null,
   "id": "cce0c161-a87f-4628-b112-df3cada5fe19",
   "metadata": {},
   "outputs": [],
   "source": [
    "df2.div(df1,fill_value=0)"
   ]
  },
  {
   "cell_type": "code",
   "execution_count": null,
   "id": "790a8a64-67c6-49ed-961f-0993f3de72b8",
   "metadata": {},
   "outputs": [],
   "source": [
    "df1.div(df2,fill_value=0)"
   ]
  },
  {
   "cell_type": "code",
   "execution_count": null,
   "id": "d3d8915d-e1de-4dbf-a16f-dd326337a8a3",
   "metadata": {},
   "outputs": [],
   "source": [
    "df1.reindex(columns=df2.columns,fill_value=0)"
   ]
  },
  {
   "cell_type": "code",
   "execution_count": 114,
   "id": "0d1d2ffa-bbee-4c15-984c-520a0de000a0",
   "metadata": {},
   "outputs": [
    {
     "data": {
      "text/html": [
       "<div>\n",
       "<style scoped>\n",
       "    .dataframe tbody tr th:only-of-type {\n",
       "        vertical-align: middle;\n",
       "    }\n",
       "\n",
       "    .dataframe tbody tr th {\n",
       "        vertical-align: top;\n",
       "    }\n",
       "\n",
       "    .dataframe thead th {\n",
       "        text-align: right;\n",
       "    }\n",
       "</style>\n",
       "<table border=\"1\" class=\"dataframe\">\n",
       "  <thead>\n",
       "    <tr style=\"text-align: right;\">\n",
       "      <th></th>\n",
       "      <th>b</th>\n",
       "      <th>d</th>\n",
       "      <th>e</th>\n",
       "    </tr>\n",
       "  </thead>\n",
       "  <tbody>\n",
       "    <tr>\n",
       "      <th>ut</th>\n",
       "      <td>0</td>\n",
       "      <td>1</td>\n",
       "      <td>2</td>\n",
       "    </tr>\n",
       "    <tr>\n",
       "      <th>oh</th>\n",
       "      <td>3</td>\n",
       "      <td>4</td>\n",
       "      <td>5</td>\n",
       "    </tr>\n",
       "    <tr>\n",
       "      <th>te</th>\n",
       "      <td>6</td>\n",
       "      <td>7</td>\n",
       "      <td>8</td>\n",
       "    </tr>\n",
       "    <tr>\n",
       "      <th>or</th>\n",
       "      <td>9</td>\n",
       "      <td>10</td>\n",
       "      <td>11</td>\n",
       "    </tr>\n",
       "  </tbody>\n",
       "</table>\n",
       "</div>"
      ],
      "text/plain": [
       "    b   d   e\n",
       "ut  0   1   2\n",
       "oh  3   4   5\n",
       "te  6   7   8\n",
       "or  9  10  11"
      ]
     },
     "execution_count": 114,
     "metadata": {},
     "output_type": "execute_result"
    }
   ],
   "source": [
    "df=pd.DataFrame(np.arange(12).reshape(4,3),columns=list('bde'),index=['ut','oh','te','or'])\n",
    "df"
   ]
  },
  {
   "cell_type": "code",
   "execution_count": 116,
   "id": "d311dc06-76e2-4f4a-b90b-4a36b9dd04fb",
   "metadata": {},
   "outputs": [
    {
     "data": {
      "text/plain": [
       "b    0\n",
       "d    1\n",
       "e    2\n",
       "Name: ut, dtype: int32"
      ]
     },
     "execution_count": 116,
     "metadata": {},
     "output_type": "execute_result"
    }
   ],
   "source": [
    "srs=df.iloc[0]\n",
    "srs"
   ]
  },
  {
   "cell_type": "code",
   "execution_count": 117,
   "id": "606bd932-56c2-485d-bad7-f1e5d481bcf9",
   "metadata": {},
   "outputs": [
    {
     "data": {
      "text/html": [
       "<div>\n",
       "<style scoped>\n",
       "    .dataframe tbody tr th:only-of-type {\n",
       "        vertical-align: middle;\n",
       "    }\n",
       "\n",
       "    .dataframe tbody tr th {\n",
       "        vertical-align: top;\n",
       "    }\n",
       "\n",
       "    .dataframe thead th {\n",
       "        text-align: right;\n",
       "    }\n",
       "</style>\n",
       "<table border=\"1\" class=\"dataframe\">\n",
       "  <thead>\n",
       "    <tr style=\"text-align: right;\">\n",
       "      <th></th>\n",
       "      <th>b</th>\n",
       "      <th>d</th>\n",
       "      <th>e</th>\n",
       "    </tr>\n",
       "  </thead>\n",
       "  <tbody>\n",
       "    <tr>\n",
       "      <th>ut</th>\n",
       "      <td>0</td>\n",
       "      <td>0</td>\n",
       "      <td>0</td>\n",
       "    </tr>\n",
       "    <tr>\n",
       "      <th>oh</th>\n",
       "      <td>3</td>\n",
       "      <td>3</td>\n",
       "      <td>3</td>\n",
       "    </tr>\n",
       "    <tr>\n",
       "      <th>te</th>\n",
       "      <td>6</td>\n",
       "      <td>6</td>\n",
       "      <td>6</td>\n",
       "    </tr>\n",
       "    <tr>\n",
       "      <th>or</th>\n",
       "      <td>9</td>\n",
       "      <td>9</td>\n",
       "      <td>9</td>\n",
       "    </tr>\n",
       "  </tbody>\n",
       "</table>\n",
       "</div>"
      ],
      "text/plain": [
       "    b  d  e\n",
       "ut  0  0  0\n",
       "oh  3  3  3\n",
       "te  6  6  6\n",
       "or  9  9  9"
      ]
     },
     "execution_count": 117,
     "metadata": {},
     "output_type": "execute_result"
    }
   ],
   "source": [
    "df-srs"
   ]
  }
 ],
 "metadata": {
  "kernelspec": {
   "display_name": "Python 3 (ipykernel)",
   "language": "python",
   "name": "python3"
  },
  "language_info": {
   "codemirror_mode": {
    "name": "ipython",
    "version": 3
   },
   "file_extension": ".py",
   "mimetype": "text/x-python",
   "name": "python",
   "nbconvert_exporter": "python",
   "pygments_lexer": "ipython3",
   "version": "3.9.7"
  }
 },
 "nbformat": 4,
 "nbformat_minor": 5
}
