{
 "cells": [
  {
   "cell_type": "code",
   "execution_count": null,
   "id": "fe736b12-9f00-41fe-a710-f6f995678f7a",
   "metadata": {},
   "outputs": [],
   "source": [
    "import numpy as np\n",
    "\n",
    "n=np.arange(1,101).reshape(10,10)\n",
    "n"
   ]
  },
  {
   "cell_type": "code",
   "execution_count": null,
   "id": "473e7aa6-bf81-4c85-9a50-ee160defd9ae",
   "metadata": {},
   "outputs": [],
   "source": []
  },
  {
   "cell_type": "code",
   "execution_count": null,
   "id": "c043b0a4-b2e6-4be8-ad35-535e9e49ce37",
   "metadata": {},
   "outputs": [],
   "source": [
    "\n",
    "a = np.arange(1, 101).reshape((10, -1))\n",
    "\n",
    "for i in range(10):\n",
    "    if i % 2 == 1:\n",
    "        a[i] = a[i][::-1]\n",
    "\n",
    "print(a)\n"
   ]
  },
  {
   "cell_type": "code",
   "execution_count": null,
   "id": "eee9e30d-17e3-4d2f-b255-d528c9e86f9c",
   "metadata": {},
   "outputs": [],
   "source": [
    "arr=np.arange(16).reshape(2,2,4)\n",
    "\n",
    "\n",
    "print(arr,arr.shape)"
   ]
  },
  {
   "cell_type": "code",
   "execution_count": null,
   "id": "02488fd3-9f8e-4f6c-a67e-307176a97dc2",
   "metadata": {},
   "outputs": [],
   "source": [
    "arr=arr.reshape(4,4)\n",
    "\n",
    "\n",
    "print(arr,arr.shape)"
   ]
  },
  {
   "cell_type": "code",
   "execution_count": null,
   "id": "60b27e64-e7c5-4df9-856c-7b19a25590da",
   "metadata": {},
   "outputs": [],
   "source": [
    "arr=np.arange(16).reshape(16)\n",
    "\n",
    "\n",
    "print(arr,arr.shape)"
   ]
  },
  {
   "cell_type": "code",
   "execution_count": null,
   "id": "753c15c3-74a1-4bb9-8f76-5c46f9986b3b",
   "metadata": {},
   "outputs": [],
   "source": [
    "np.where(arr>0,2,-2)"
   ]
  },
  {
   "cell_type": "code",
   "execution_count": null,
   "id": "d01613b3-e2e4-491c-9e6e-ae9cced228e3",
   "metadata": {},
   "outputs": [],
   "source": [
    "a=np.ones(10"
   ]
  }
 ],
 "metadata": {
  "kernelspec": {
   "display_name": "Python 3 (ipykernel)",
   "language": "python",
   "name": "python3"
  },
  "language_info": {
   "codemirror_mode": {
    "name": "ipython",
    "version": 3
   },
   "file_extension": ".py",
   "mimetype": "text/x-python",
   "name": "python",
   "nbconvert_exporter": "python",
   "pygments_lexer": "ipython3",
   "version": "3.9.7"
  }
 },
 "nbformat": 4,
 "nbformat_minor": 5
}
