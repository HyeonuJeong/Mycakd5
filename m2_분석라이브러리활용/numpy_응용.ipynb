{
 "cells": [
  {
   "cell_type": "code",
   "execution_count": null,
   "id": "d314a336",
   "metadata": {},
   "outputs": [],
   "source": [
    "import numpy as np"
   ]
  },
  {
   "cell_type": "code",
   "execution_count": null,
   "id": "2a1cd650",
   "metadata": {},
   "outputs": [],
   "source": [
    "arr = np.random.randint(1,10, size=(5,5))\n",
    "arr"
   ]
  },
  {
   "cell_type": "code",
   "execution_count": null,
   "id": "acc0391b",
   "metadata": {},
   "outputs": [],
   "source": [
    "# 전치\n",
    "arr.T\n",
    "np.transpose(arr)"
   ]
  },
  {
   "cell_type": "code",
   "execution_count": null,
   "id": "954f9ecf",
   "metadata": {},
   "outputs": [],
   "source": [
    "# 행렬곱, 내적\n",
    "np.dot(arr.T, arr)"
   ]
  },
  {
   "cell_type": "code",
   "execution_count": null,
   "id": "80a32fde",
   "metadata": {},
   "outputs": [],
   "source": [
    "a = np.arange(6).reshape(2,3)\n",
    "print(a,'\\n')\n",
    "\n",
    "y = np.swapaxes(a, 0,1) # 0은 2차원(열), 1은 1차원(행)\n",
    "print(y,'\\n')\n",
    "\n",
    "y = a.T\n",
    "y = np.transpose(a)\n",
    "y = np.transpose(a)\n",
    "print(y)"
   ]
  },
  {
   "cell_type": "code",
   "execution_count": null,
   "id": "aa407138",
   "metadata": {},
   "outputs": [],
   "source": [
    "# 1 ~ 100을 아래와 같이 출력하세요.\n",
    "\n",
    "[[  1   2   3   4   5   6   7   8   9  10]\n",
    " [ 20  19  18  17  16  15  14  13  12  11]\n",
    " [ 21  22  23  24  25  26  27  28  29  30]\n",
    " [ 40  39  38  37  36  35  34  33  32  31]\n",
    " [ 41  42  43  44  45  46  47  48  49  50]\n",
    " [ 60  59  58  57  56  55  54  53  52  51]\n",
    " [ 61  62  63  64  65  66  67  68  69  70]\n",
    " [ 80  79  78  77  76  75  74  73  72  71]\n",
    " [ 81  82  83  84  85  86  87  88  89  90]\n",
    " [100  99  98  97  96  95  94  93  92  91]] <class 'numpy.ndarray'>\n"
   ]
  },
  {
   "cell_type": "code",
   "execution_count": null,
   "id": "528872c7",
   "metadata": {},
   "outputs": [],
   "source": [
    "arr = np.arange(1,101).reshape(10,10)\n",
    "arr[[1,3,5,7,9]] = arr[[1,3,5,7,9]][:,[9,8,7,6,5,4,3,2,1,0]]\n",
    "print(arr)"
   ]
  },
  {
   "cell_type": "code",
   "execution_count": null,
   "id": "ec8d9b42",
   "metadata": {},
   "outputs": [],
   "source": [
    "a = np.arange(1, 101).reshape((10, -1))\n",
    "\n",
    "for i in range(10):\n",
    "    if i % 2 == 1:\n",
    "        a[i] = a[i][::-1]\n",
    "\n",
    "print(a)\n"
   ]
  },
  {
   "cell_type": "code",
   "execution_count": null,
   "id": "8eb84533",
   "metadata": {},
   "outputs": [],
   "source": [
    "# (0,1,2)\n",
    "# 3차원과 2차원을 바꾸는 경우 : (1,2,3) -> (2,1,3)\n",
    "a = np.arange(6).reshape(1,2,3)\n",
    "print(a,a.shape,'\\n')\n",
    "\n",
    "y = np.transpose(a,(1,0,2))\n",
    "print(y,y.shape,'\\n')"
   ]
  },
  {
   "cell_type": "code",
   "execution_count": null,
   "id": "463e9166",
   "metadata": {},
   "outputs": [],
   "source": [
    "# (1,2,3) -> (2,3,1)\n",
    "a = np.arange(6).reshape(1,2,3)\n",
    "print(a,a.shape,'\\n')\n",
    "y = np.transpose(a,(1,2,0))\n",
    "print(y,y.shape)"
   ]
  },
  {
   "cell_type": "code",
   "execution_count": null,
   "id": "a331c5c1",
   "metadata": {},
   "outputs": [],
   "source": [
    "# [과제] 아래 배열에서 3차원과 2차원을 변경하여 출력하세요(shape 확인)\n",
    "import numpy as np\n",
    "arr = np.arange(16).reshape(2,2,4)\n",
    "print(arr,arr.shape,'\\n')"
   ]
  },
  {
   "cell_type": "code",
   "execution_count": null,
   "id": "df1aba38-cd97-48a7-806e-9fc82693a7b2",
   "metadata": {},
   "outputs": [],
   "source": [
    "arr=arr.reshape(4,4)\n",
    "print(arr,arr.shape)"
   ]
  },
  {
   "cell_type": "code",
   "execution_count": null,
   "id": "4022f96d",
   "metadata": {},
   "outputs": [],
   "source": [
    "# [과제] 상기 과제의 arr에서 2차원과 1차원을 변경하여 출력하세요(shape 확인)"
   ]
  },
  {
   "cell_type": "code",
   "execution_count": null,
   "id": "4d3dfba4-7b58-4da6-9c7c-c80c5fbc2768",
   "metadata": {},
   "outputs": [],
   "source": [
    "arr=np.arange(16).reshape(16)\n",
    "print(arr,arr.shape)"
   ]
  },
  {
   "cell_type": "code",
   "execution_count": null,
   "id": "ac4de091",
   "metadata": {},
   "outputs": [],
   "source": [
    "# 나머지를 구할 경우 사용하는 함수\n",
    "value1 = np.array([15,30,45])\n",
    "value2 = np.array([2,7,9])\n",
    "print(np.mod(value1,value2))\n",
    "print(np.remainder(value1,value2))"
   ]
  },
  {
   "cell_type": "code",
   "execution_count": null,
   "id": "4b6d9b48",
   "metadata": {},
   "outputs": [],
   "source": [
    "# 각 수의 역수를 구해주는 함수\n",
    "value = np.array([0.85,1.85,1,100])\n",
    "print(np.reciprocal(value),'\\n')\n",
    "\n",
    "value1 = np.array([100],dtype = int)\n",
    "print(value1,'\\n')\n",
    "print(np.reciprocal(value1, dtype=float))"
   ]
  },
  {
   "cell_type": "code",
   "execution_count": null,
   "id": "d4b993ce",
   "metadata": {},
   "outputs": [],
   "source": [
    "# 승수의 결과 값을 표시해주는 함수\n",
    "value1 = np.array([2,10,15])\n",
    "value2 = np.array([1,2,3])\n",
    "\n",
    "print(np.power(value1,2),'\\n')\n",
    "print(np.power(value1,value2))"
   ]
  },
  {
   "cell_type": "code",
   "execution_count": null,
   "id": "8bfc7a85",
   "metadata": {},
   "outputs": [],
   "source": [
    "arr = np.random.randn(10)\n",
    "# print(arr.mean(),'\\n')\n",
    "# print(arr.std())\n",
    "arr"
   ]
  },
  {
   "cell_type": "code",
   "execution_count": null,
   "id": "226d3c8b",
   "metadata": {},
   "outputs": [],
   "source": [
    "# 양수인 원소의 개수\n",
    "(arr > 0).sum()"
   ]
  },
  {
   "cell_type": "code",
   "execution_count": null,
   "id": "54354da1",
   "metadata": {},
   "outputs": [],
   "source": [
    "# 하나 이상의 값이 True인지 검사\n",
    "bools = np.array([False,False, True,True])\n",
    "bools.any()"
   ]
  },
  {
   "cell_type": "code",
   "execution_count": null,
   "id": "4dfd2ef6",
   "metadata": {},
   "outputs": [],
   "source": [
    "# 모든 원소가 True인지 검사\n",
    "bools.all()"
   ]
  },
  {
   "cell_type": "code",
   "execution_count": null,
   "id": "76231100",
   "metadata": {},
   "outputs": [],
   "source": [
    "# 삼항식의 벡터화 버전\n",
    "arr = np.random.randn(4,4)\n",
    "print(arr,'\\n')\n",
    "np.where(arr > 0, 2, -2)"
   ]
  },
  {
   "cell_type": "code",
   "execution_count": null,
   "id": "7dfa332c",
   "metadata": {},
   "outputs": [],
   "source": [
    "# arr의 모든 양수를 2로 바꿀 경우\n",
    "np.where(arr > 0, 2, arr)"
   ]
  },
  {
   "cell_type": "code",
   "execution_count": null,
   "id": "870f5027",
   "metadata": {},
   "outputs": [],
   "source": [
    "# 두개의 1차원 배열을 받아서 가능한 모든 (x,y) 짝을 만들 수 있는 2차원 배열 2개 반환\n",
    "x = np.arange(1,4)\n",
    "y = np.arange(1,4)\n",
    "xs,ys = np.meshgrid(x,y)\n",
    "print(xs,'\\n')\n",
    "print(ys)"
   ]
  },
  {
   "cell_type": "code",
   "execution_count": null,
   "id": "e3ba1689",
   "metadata": {},
   "outputs": [],
   "source": [
    "# np.sort()\n",
    "np.random.seed(0)\n",
    "arr = np.random.randint(1,100,size=10)\n",
    "print(arr,'\\n')\n",
    "print(np.sort(arr),'\\n')\n",
    "print(arr)"
   ]
  },
  {
   "cell_type": "code",
   "execution_count": null,
   "id": "3495f9c2",
   "metadata": {},
   "outputs": [],
   "source": [
    "sorted = np.sort(arr)\n",
    "print(sorted)"
   ]
  },
  {
   "cell_type": "code",
   "execution_count": null,
   "id": "13962bf7",
   "metadata": {},
   "outputs": [],
   "source": [
    "# 행렬이 2차원 이상일 때 axis 축 값 설정을 통해 행, 열 방향으로 정렬 수행\n",
    "arr2d = np.array([[8,12],[7,1]])\n",
    "print(arr2d,'\\n')\n",
    "sort_ar2d_axis0 = np.sort(arr2d, axis=0)\n",
    "print(sort_ar2d_axis0,'\\n')\n",
    "sort_ar2d_axis1 = np.sort(arr2d, axis=1)\n",
    "print(sort_ar2d_axis1)"
   ]
  },
  {
   "cell_type": "code",
   "execution_count": null,
   "id": "b6974e0a",
   "metadata": {},
   "outputs": [],
   "source": [
    "# ndarray.sort() : 원본 반영\n",
    "np.random.seed(0)\n",
    "arr = np.random.randint(1,10,size=10)\n",
    "# arr = np.random.randn(6)\n",
    "print(arr,'\\n')\n",
    "arr.sort() # 원본 반영\n",
    "print(arr)"
   ]
  },
  {
   "cell_type": "code",
   "execution_count": null,
   "id": "24c28674",
   "metadata": {},
   "outputs": [],
   "source": [
    "# 다차원 배열의 정렬은 sort 메소드에 넘긴 축에 따라 1차원 부분을 정렬\n",
    "# 열방향 정렬, default\n",
    "np.random.seed(0)\n",
    "arr = np.random.randint(1,10,size=(5,3))\n",
    "print(arr,'\\n')\n",
    "arr.sort(1)\n",
    "print(arr)"
   ]
  },
  {
   "cell_type": "code",
   "execution_count": null,
   "id": "27351a52",
   "metadata": {},
   "outputs": [],
   "source": [
    "# 행방향 정렬\n",
    "np.random.seed(0)\n",
    "arr = np.random.randint(1,10,size=(5,3))\n",
    "print(arr,'\\n')\n",
    "arr.sort(0)\n",
    "print(arr)"
   ]
  },
  {
   "cell_type": "code",
   "execution_count": null,
   "id": "ada128da",
   "metadata": {},
   "outputs": [],
   "source": [
    "# 정렬된 행렬의 인덱스 반환 : 기존 원본 행렬의 원소에 대한 인덱스를 필요로 할 때\n",
    "org_array = np.array([3,1,9,5])\n",
    "sort_indices = np.argsort(org_array)\n",
    "print(org_array)\n",
    "print(type(sort_indices))\n",
    "sort_indices"
   ]
  },
  {
   "cell_type": "code",
   "execution_count": null,
   "id": "b0046a2c",
   "metadata": {},
   "outputs": [],
   "source": [
    "# 배열에서 정렬한 후 50%에 해당하는 원소만 출력\n",
    "large_arr = np.random.randn(1000)\n",
    "large_arr.sort()\n",
    "large_arr[int(0.5*len(large_arr))]"
   ]
  },
  {
   "cell_type": "code",
   "execution_count": null,
   "id": "4820ba3b",
   "metadata": {},
   "outputs": [],
   "source": [
    "# 배열 집합 연산\n",
    "names = np.array(['Bob','Joe','Will','Joe','Joe'])\n",
    "np.unique(names)"
   ]
  },
  {
   "cell_type": "code",
   "execution_count": null,
   "id": "a10390ff",
   "metadata": {},
   "outputs": [],
   "source": [
    "import numpy as np\n",
    "names = np.array(['Bob','Joe','Will','Joe','Joe'])\n",
    "sorted(set(names))"
   ]
  },
  {
   "cell_type": "code",
   "execution_count": null,
   "id": "9818a3e1",
   "metadata": {},
   "outputs": [],
   "source": [
    "# 첫번째 배열의 원소가 두번째 배열의 원소를 포함하는지 알려주는 불리언 배열을 반환\n",
    "values = np.array([6,0,0,3,2,5,6])\n",
    "np.in1d(values, [2,3,6])"
   ]
  },
  {
   "cell_type": "code",
   "execution_count": null,
   "id": "023045cb",
   "metadata": {},
   "outputs": [],
   "source": [
    "# 배열 데이터의 입출력\n",
    "# np.save, np.load는 바이너리 형식 .npy 파일로 저장\n",
    "\n",
    "arr = np.arange(10)\n",
    "np.save('some_array',arr)"
   ]
  },
  {
   "cell_type": "code",
   "execution_count": null,
   "id": "4a28aef7",
   "metadata": {},
   "outputs": [],
   "source": [
    "np.load('some_array.npy')"
   ]
  },
  {
   "cell_type": "code",
   "execution_count": null,
   "id": "758f57b3",
   "metadata": {},
   "outputs": [],
   "source": [
    "# np.savez : 여러개의 배열을 압축된 형식으로 저장\n",
    "np.savez('array_archive.npz',a=arr,b=arr)"
   ]
  },
  {
   "cell_type": "code",
   "execution_count": null,
   "id": "e7df6579",
   "metadata": {},
   "outputs": [],
   "source": [
    "arch = np.load('array_archive.npz')\n",
    "arch['a']"
   ]
  },
  {
   "cell_type": "code",
   "execution_count": null,
   "id": "20da0bc2",
   "metadata": {},
   "outputs": [],
   "source": [
    "# Q. 인덱싱을 사용하여 [1 0 1 0 1 0 1 0 1 0] 을 출력하세요.\n",
    "a = np.ones(10,dtype=int)\n",
    "a"
   ]
  },
  {
   "cell_type": "code",
   "execution_count": null,
   "id": "5bb2453c",
   "metadata": {},
   "outputs": [],
   "source": [
    "a = np.ones(10).astype(int)\n",
    "a[[1,3,5,7,9]] = 0\n",
    "print(a)"
   ]
  },
  {
   "cell_type": "code",
   "execution_count": null,
   "id": "153cdfd5",
   "metadata": {},
   "outputs": [],
   "source": [
    "# Q. a = np.arange(10)에서 [6,7,8,9] 출력"
   ]
  },
  {
   "cell_type": "code",
   "execution_count": null,
   "id": "42295f03",
   "metadata": {},
   "outputs": [],
   "source": [
    "a= np.arange(10)\n",
    "a1 = a[a>5]\n",
    "a1"
   ]
  },
  {
   "cell_type": "code",
   "execution_count": null,
   "id": "e567c1c4",
   "metadata": {},
   "outputs": [],
   "source": [
    "# Q. a에서 최대값, 최소값의 인덱스 출력"
   ]
  },
  {
   "cell_type": "code",
   "execution_count": null,
   "id": "6b3374a2",
   "metadata": {},
   "outputs": [],
   "source": [
    "a = np.arange(1,10)\n",
    "print(f'최댓값: {np.argmax(a)}\\n최솟값: {np.argmin(a)}')"
   ]
  },
  {
   "cell_type": "code",
   "execution_count": null,
   "id": "242ab2e7",
   "metadata": {},
   "outputs": [],
   "source": [
    "# Q. a에서 인덱스 배열을 역순으로 출력하세요."
   ]
  },
  {
   "cell_type": "code",
   "execution_count": null,
   "id": "2c203a95",
   "metadata": {},
   "outputs": [],
   "source": [
    "np.argsort(a)[::-1]"
   ]
  },
  {
   "cell_type": "code",
   "execution_count": null,
   "id": "43599dfa",
   "metadata": {},
   "outputs": [],
   "source": [
    "# Q. np.ones((10,10))을 아래와 같이 출력하세요.\n",
    "array([[1., 1., 1., 1., 1., 1., 1., 1., 1., 1.],\n",
    "       [1., 0., 0., 0., 0., 0., 0., 0., 0., 1.],\n",
    "       [1., 0., 0., 0., 0., 0., 0., 0., 0., 1.],\n",
    "       [1., 0., 0., 0., 0., 0., 0., 0., 0., 1.],\n",
    "       [1., 0., 0., 0., 0., 0., 0., 0., 0., 1.],\n",
    "       [1., 0., 0., 0., 0., 0., 0., 0., 0., 1.],\n",
    "       [1., 0., 0., 0., 0., 0., 0., 0., 0., 1.],\n",
    "       [1., 0., 0., 0., 0., 0., 0., 0., 0., 1.],\n",
    "       [1., 0., 0., 0., 0., 0., 0., 0., 0., 1.],\n",
    "       [1., 1., 1., 1., 1., 1., 1., 1., 1., 1.]])"
   ]
  },
  {
   "cell_type": "code",
   "execution_count": null,
   "id": "f629baa5",
   "metadata": {},
   "outputs": [],
   "source": [
    "b=np.ones((10,10))\n",
    "b[1:9,1:9]=0\n",
    "b"
   ]
  },
  {
   "cell_type": "code",
   "execution_count": null,
   "id": "e669e2c7",
   "metadata": {},
   "outputs": [],
   "source": [
    "# [과제] np.ones((5,5))을 아래와 같이 출력하세요.\n",
    "array([[0., 0., 0., 0., 0., 0., 0., 0., 0.],\n",
    "       [0., 0., 0., 0., 0., 0., 0., 0., 0.],\n",
    "       [0., 0., 1., 1., 1., 1., 1., 0., 0.],\n",
    "       [0., 0., 1., 1., 1., 1., 1., 0., 0.],\n",
    "       [0., 0., 1., 1., 1., 1., 1., 0., 0.],\n",
    "       [0., 0., 1., 1., 1., 1., 1., 0., 0.],\n",
    "       [0., 0., 1., 1., 1., 1., 1., 0., 0.],\n",
    "       [0., 0., 0., 0., 0., 0., 0., 0., 0.],\n",
    "       [0., 0., 0., 0., 0., 0., 0., 0., 0.]])\n"
   ]
  },
  {
   "cell_type": "code",
   "execution_count": null,
   "id": "f74ed8c4-3860-45ef-af9f-3fd3da607977",
   "metadata": {},
   "outputs": [],
   "source": [
    "b=np.zeros((10,10))\n",
    "b[2:8,2:8]=1\n",
    "b"
   ]
  },
  {
   "cell_type": "code",
   "execution_count": null,
   "id": "ba4ab370",
   "metadata": {},
   "outputs": [],
   "source": [
    "# [과제] np.zeros((8,8))을 이용해서 아래와 같이 출력하세요(두가지 방식:인덱싱, tile함수)\n",
    "array([[0, 1, 0, 1, 0, 1, 0, 1],\n",
    "       [1, 0, 1, 0, 1, 0, 1, 0],\n",
    "       [0, 1, 0, 1, 0, 1, 0, 1],\n",
    "       [1, 0, 1, 0, 1, 0, 1, 0],\n",
    "       [0, 1, 0, 1, 0, 1, 0, 1],\n",
    "       [1, 0, 1, 0, 1, 0, 1, 0],\n",
    "       [0, 1, 0, 1, 0, 1, 0, 1],\n",
    "       [1, 0, 1, 0, 1, 0, 1, 0]])"
   ]
  },
  {
   "cell_type": "code",
   "execution_count": null,
   "id": "84e563eb-5f63-4886-9b31-175890c1c5fb",
   "metadata": {},
   "outputs": [],
   "source": [
    "n=np.zeros((8,8))\n",
    "n[[1,3,5,7]]=[1,0]*4\n",
    "n[[0,2,4,6]]=[0,1]*4\n",
    "n"
   ]
  },
  {
   "cell_type": "code",
   "execution_count": null,
   "id": "daf1532e-fcda-471d-acd7-a05c3030de96",
   "metadata": {},
   "outputs": [],
   "source": [
    "n=np.zeros((8,8))\n",
    "a=np.tile([0,1],4)\n",
    "b=np.tile([1,0],4)\n",
    "n[[1,3,5,7]]=a\n",
    "n[[0,2,4,6]]=b\n",
    "\n",
    "n"
   ]
  },
  {
   "cell_type": "code",
   "execution_count": null,
   "id": "9cf10853",
   "metadata": {},
   "outputs": [],
   "source": [
    "# [도전과제] np.arange(336).reshape(6,7,8)에서 100번째 요소의 인덱스를 구하세요"
   ]
  },
  {
   "cell_type": "code",
   "execution_count": null,
   "id": "0d5b0a20-2355-44cb-be7e-e73ba05aa142",
   "metadata": {},
   "outputs": [],
   "source": [
    "a=np.arange(336).reshape(6,7,8)\n",
    "a\n",
    "np.where(a==99)"
   ]
  },
  {
   "cell_type": "code",
   "execution_count": null,
   "id": "c8ef0f6d",
   "metadata": {},
   "outputs": [],
   "source": [
    "a# [도전과제] np.arange(4)을 이용해서 아래와 같이 출력하세요.\n",
    "array([[0, 0, 0, 0, 0],\n",
    "       [1, 0, 0, 0, 0],\n",
    "       [0, 2, 0, 0, 0],\n",
    "       [0, 0, 3, 0, 0],\n",
    "       [0, 0, 0, 4, 0]])"
   ]
  },
  {
   "cell_type": "code",
   "execution_count": null,
   "id": "76e231d3-2386-4b46-a33c-8a17f8461090",
   "metadata": {},
   "outputs": [],
   "source": [
    "a= np.arange(1,5)\n",
    "arr=np.eye(5,k=-1,like=a)\n",
    "c=0\n",
    "for i in a:\n",
    "    arr[i][c]=i\n",
    "    c+=1\n",
    "arr.astype('int32')"
   ]
  }
 ],
 "metadata": {
  "kernelspec": {
   "display_name": "Python 3 (ipykernel)",
   "language": "python",
   "name": "python3"
  },
  "language_info": {
   "codemirror_mode": {
    "name": "ipython",
    "version": 3
   },
   "file_extension": ".py",
   "mimetype": "text/x-python",
   "name": "python",
   "nbconvert_exporter": "python",
   "pygments_lexer": "ipython3",
   "version": "3.9.7"
  }
 },
 "nbformat": 4,
 "nbformat_minor": 5
}
