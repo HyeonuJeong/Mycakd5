{
 "cells": [
  {
   "cell_type": "markdown",
   "id": "74209178",
   "metadata": {},
   "source": [
    "Numpy는 \"Numerical Python\"의 약자로 대규모 다차원 배열과 행렬 연산에 필요한 다양한 함수를 제공\n",
    "\n",
    "- Numerical Python을 의미하는 Numpy는 파이썬에서 선형대수 기반의 프로그램을 쉽게 만들 수 있도록 지원하는 대표적인 패키지\n",
    "- 많은 머신러닝 알고리즘이 넘파이 기반으로 작성되어 있으며 알고리즘의 입출력 데이터를 넘파이 배열 타입으로 사용함\n",
    "- 넘파이의 기본 데이터 타입은 ndarray.ndarray를 이용해 넘파이에서 다차원 배열을 쉽게 생성하고 다양한 연산 수행\n",
    "\n",
    "Numpy 특징\n",
    "- 강력한 N차원 배열 객체\n",
    "- 정교한 브로드케스팅 기능\n",
    "- 유용한 선형 대수학, 푸리에 변환 및 난수 기능\n",
    "- 푸리에 변환은 시간이나 공간에 대한 함수를 시간 또는 공간 주파수 성분으로 분해하는 변환\n",
    "- 범용적 데이터 처리에 사용 가능한 다차원 컨테이너"
   ]
  },
  {
   "cell_type": "code",
   "execution_count": null,
   "id": "c8dd93eb",
   "metadata": {},
   "outputs": [],
   "source": [
    "!pip install numpy"
   ]
  },
  {
   "cell_type": "code",
   "execution_count": null,
   "id": "02d57234",
   "metadata": {},
   "outputs": [],
   "source": [
    "import numpy as np\n",
    "z = np.arange(10)\n",
    "print(z,type(z))"
   ]
  },
  {
   "cell_type": "code",
   "execution_count": null,
   "id": "ff9e3cb7",
   "metadata": {},
   "outputs": [],
   "source": [
    "my_arr = np.arange(1000000)\n",
    "my_list = list(range(1000000))"
   ]
  },
  {
   "cell_type": "code",
   "execution_count": null,
   "id": "00363b94",
   "metadata": {},
   "outputs": [],
   "source": [
    "%time for _ in range(10): my_array2 = my_arr * 2"
   ]
  },
  {
   "cell_type": "code",
   "execution_count": null,
   "id": "a9411b74",
   "metadata": {},
   "outputs": [],
   "source": [
    "%time for _ in range(10): my_list2 = [x*2 for x in my_list]"
   ]
  },
  {
   "cell_type": "code",
   "execution_count": null,
   "id": "09d8ddd8",
   "metadata": {},
   "outputs": [],
   "source": [
    "# 배열 연산\n",
    "# np.random.randn 가우시안 표준 정규분표에서 난수 매트릭스 array 생성\n",
    "data = np.random.randn(2,3) # 표준 정규분포로 구성되는 2행 3열 매트릭스\n",
    "print(data,'\\n')\n",
    "print(data * 10, '\\n')\n",
    "print(data + data)"
   ]
  },
  {
   "cell_type": "code",
   "execution_count": null,
   "id": "a63a47ee",
   "metadata": {},
   "outputs": [],
   "source": [
    "print(data.shape) # 크기\n",
    "print(data.dtype) # 데이터 타입\n",
    "print(data.ndim) # 차원"
   ]
  },
  {
   "cell_type": "markdown",
   "id": "57feb9f2",
   "metadata": {},
   "source": [
    "다차원 배열\n",
    "<img src = 'numpy차원.jpg' STYLE='width:300px;'>"
   ]
  },
  {
   "cell_type": "code",
   "execution_count": null,
   "id": "0895d2a2",
   "metadata": {},
   "outputs": [],
   "source": [
    "data2 = [[1,2,3,4],[5,6,7,8]]\n",
    "print(type(data2),'\\n')\n",
    "arr2 = np.array(data2)\n",
    "print(arr2,type(arr2))"
   ]
  },
  {
   "cell_type": "code",
   "execution_count": null,
   "id": "51dc4d02",
   "metadata": {},
   "outputs": [],
   "source": [
    "print(arr2.ndim,'\\n')\n",
    "print(arr2.shape)"
   ]
  },
  {
   "cell_type": "code",
   "execution_count": null,
   "id": "5df455a4",
   "metadata": {},
   "outputs": [],
   "source": [
    "# 1차원 배열로 3개의 데이터\n",
    "array1 = np.array([1,2,3])\n",
    "print(array1,type(array1),array1.shape) # (,옇)이 아닌 (열,) 형태로 출력"
   ]
  },
  {
   "cell_type": "code",
   "execution_count": null,
   "id": "4cdc602e",
   "metadata": {},
   "outputs": [],
   "source": [
    "# 2차원 배열로 2개의 row와 3개의 column으로 구성된 6개의 데이터\n",
    "array2 = np.array([[1,2,3],[2,3,4]])\n",
    "print(array2,type(array2),array2.shape)"
   ]
  },
  {
   "cell_type": "code",
   "execution_count": null,
   "id": "fa03f6fd",
   "metadata": {},
   "outputs": [],
   "source": [
    "# 1개의 row와 3개의 column으로 구성된 2차원 배열\n",
    "array21 = np.array([[1,2,3]])\n",
    "print(array21,array21.shape)"
   ]
  },
  {
   "cell_type": "code",
   "execution_count": null,
   "id": "5587f7e7",
   "metadata": {},
   "outputs": [],
   "source": [
    "# 3차원\n",
    "array3 = np.array([[[1,2,3,4,5],[6,7,8,9,10]],\n",
    "                  [[1,2,3,4,5],[6,7,8,9,10]],\n",
    "                  [[1,2,3,4,5],[6,7,8,9,10]]],dtype=object)\n",
    "print(array3,array3.shape,'\\n')\n",
    "print(type(array3))"
   ]
  },
  {
   "cell_type": "code",
   "execution_count": null,
   "id": "2afb3654",
   "metadata": {},
   "outputs": [],
   "source": [
    "# 경고 메시지 제외 처리\n",
    "import warnings\n",
    "warnings.filterwarnings('ignore')"
   ]
  },
  {
   "cell_type": "markdown",
   "id": "7a62faee",
   "metadata": {},
   "source": [
    "배열 생성 및 초기화\n",
    "- Numpy 는 원하는 shape로 배열을 설정하고 각 요소를 특정 값으로 초기화하는 zeros, ones, full, eye 함수 제공\n",
    "- 파라미터로 입력한 배열과 같은 shape의 배열을 만드는 zeros_like, ones_like, full_like 함수도 제공"
   ]
  },
  {
   "cell_type": "code",
   "execution_count": null,
   "id": "3cd782b9",
   "metadata": {},
   "outputs": [],
   "source": [
    "print(np.zeros(10),'\\n')\n",
    "print(np.zeros((3,6)),'\\n')\n",
    "print(np.zeros((2,3,2)))"
   ]
  },
  {
   "cell_type": "code",
   "execution_count": null,
   "id": "1f334a5e",
   "metadata": {},
   "outputs": [],
   "source": [
    "print(np.ones((2,3,2)))"
   ]
  },
  {
   "cell_type": "code",
   "execution_count": null,
   "id": "df7ad769",
   "metadata": {},
   "outputs": [],
   "source": [
    "ar1 = np.full((2,2),5)\n",
    "ar1"
   ]
  },
  {
   "cell_type": "code",
   "execution_count": null,
   "id": "efbe73f6",
   "metadata": {},
   "outputs": [],
   "source": [
    "# 항등행렬, 단위행렬\n",
    "ar2 = np.eye(3)\n",
    "ar2"
   ]
  },
  {
   "cell_type": "code",
   "execution_count": null,
   "id": "dc2e1f4d",
   "metadata": {},
   "outputs": [],
   "source": [
    "# [과제] zeros_like, ones_like, full_like 함수 사용 예를 작성하세요."
   ]
  },
  {
   "cell_type": "code",
   "execution_count": null,
   "id": "22a54eba",
   "metadata": {},
   "outputs": [],
   "source": [
    "# arange 함수 : python의 range함수의 배열 버전\n",
    "arr1 = np.arange(15)\n",
    "arr1"
   ]
  },
  {
   "cell_type": "code",
   "execution_count": null,
   "id": "7fc85872",
   "metadata": {},
   "outputs": [],
   "source": [
    "arr2 = arr1.reshape(3,5)\n",
    "print(arr2,arr2.shape,'\\n')\n",
    "arr3 = arr1.reshape(1,3,5)\n",
    "print(arr3,arr3.shape)"
   ]
  },
  {
   "cell_type": "code",
   "execution_count": null,
   "id": "d659a197",
   "metadata": {},
   "outputs": [],
   "source": [
    "# Q. array1을 생성하고 reshape 함수를 이용, (5,2) 배열을 생성하고 크기를 같이 출력하세요.\n",
    "array1 = np.arange(10)\n",
    "array2 = array1.reshape(5,2)\n",
    "array2"
   ]
  },
  {
   "cell_type": "code",
   "execution_count": null,
   "id": "7ad13487",
   "metadata": {},
   "outputs": [],
   "source": [
    "# 0~29 일차원 배열을 생성한 후 다시 2,3차원 배열로 변환하여 출력하세요"
   ]
  },
  {
   "cell_type": "code",
   "execution_count": null,
   "id": "bb193ae6",
   "metadata": {},
   "outputs": [],
   "source": [
    "array1 = np.arange(30)\n",
    "array2 = array1.reshape(5,6)\n",
    "print(array2,array2.shape,'\\n')\n",
    "array3 = array2.reshape(2,3,5)\n",
    "print(array3,array3.shape)"
   ]
  },
  {
   "cell_type": "code",
   "execution_count": null,
   "id": "ec8e8d7e",
   "metadata": {},
   "outputs": [],
   "source": [
    "# reshape(-1,-1) 이용, 차원 변경\n",
    "array1 = np.arange(30)\n",
    "ar12 = array1.reshape(3,-1)\n",
    "print(ar12,ar12.shape,'\\n')\n",
    "ar13 = array1.reshape(-1,2,5)\n",
    "print(ar13,ar13.shape)"
   ]
  },
  {
   "cell_type": "code",
   "execution_count": null,
   "id": "e3cb8fe0",
   "metadata": {},
   "outputs": [],
   "source": [
    "# 2 -> 1, 3차원으로 변환하여 출력\n",
    "ar12"
   ]
  },
  {
   "cell_type": "code",
   "execution_count": null,
   "id": "e5c4859e",
   "metadata": {},
   "outputs": [],
   "source": [
    "ar1=ar12.reshape(-1,)\n",
    "ar3=ar12.reshape(-1,2,5)\n",
    "print(ar1,ar1.shape,'\\n')\n",
    "print(ar3,ar3.shape,'\\n')"
   ]
  },
  {
   "cell_type": "code",
   "execution_count": null,
   "id": "8c89ef50",
   "metadata": {},
   "outputs": [],
   "source": [
    "# 3 -> 1,2차원으로 변환하여 출력\n",
    "ar3"
   ]
  },
  {
   "cell_type": "code",
   "execution_count": null,
   "id": "a1eedccc",
   "metadata": {},
   "outputs": [],
   "source": [
    "ar3 = np.arange(30).reshape(3,2,5)\n",
    "ar31 = ar3.reshape(-1,)\n",
    "ar32 = ar3.reshape(3,-1)\n",
    "\n",
    "print(ar31,'\\n')\n",
    "print(ar32)"
   ]
  },
  {
   "cell_type": "markdown",
   "id": "f191e547",
   "metadata": {},
   "source": [
    "행렬의 종류\n",
    "- 정방행렬은 행과 열의 수가 같은 행렬\n",
    "- 대각행렬은 주대각선 원소를 제외한 모든 원소들이 0인 정방행렬\n",
    "- 항등행렬은 행렬 곱셈 연산에 항등원으로 작용하는 행렬\n",
    "- 영행렬은 모든 원소가 0인 행렬로 곱셈 연산에서 영원으로 작용하는 행렬\n",
    "- 전치행렬은 주대각선 원소를 기준으로 행과 열을 바꿔주는 행렬\n",
    "- 직교행렬은 행렬 A의 역행렬이 A의 전치행렬이고 A의 전치행렬과 A 행렬을 곱하였을 때 항등행렬이 나오는 행렬"
   ]
  },
  {
   "cell_type": "code",
   "execution_count": null,
   "id": "b501bbdd",
   "metadata": {},
   "outputs": [],
   "source": [
    "# 정방행렬\n",
    "a = np.full((5,5), 7)\n",
    "a"
   ]
  },
  {
   "cell_type": "code",
   "execution_count": null,
   "id": "d5906bb2",
   "metadata": {},
   "outputs": [],
   "source": [
    "# 항등행렬, 단위행렬\n",
    "a = np.eye(5)\n",
    "a"
   ]
  },
  {
   "cell_type": "code",
   "execution_count": null,
   "id": "b4744d36",
   "metadata": {},
   "outputs": [],
   "source": [
    "# 영행렬\n",
    "a = np.zeros(25)\n",
    "a.reshape(5,5)"
   ]
  },
  {
   "cell_type": "markdown",
   "id": "b8157576",
   "metadata": {},
   "source": [
    "ndarray 데이터 형태 지정 및 변경\n",
    "<img src='데이터형태.jpg' STYLE='width:300px;'>"
   ]
  },
  {
   "cell_type": "code",
   "execution_count": null,
   "id": "89ab2e05",
   "metadata": {},
   "outputs": [],
   "source": [
    "arr1 = np.array([1,2,3],dtype=np.float64)\n",
    "arr2 = np.array([1,2,3],dtype=np.int32)\n",
    "print(arr1,arr1.dtype,'\\n')\n",
    "print(arr2, arr2.dtype)"
   ]
  },
  {
   "cell_type": "code",
   "execution_count": null,
   "id": "e999a45f",
   "metadata": {},
   "outputs": [],
   "source": [
    "# 타입 변경\n",
    "arr = np.array([1,2,3,4,5])\n",
    "print(arr.dtype)\n",
    "float_arr = arr.astype(np.float64)\n",
    "print(float_arr.dtype)"
   ]
  },
  {
   "cell_type": "code",
   "execution_count": null,
   "id": "bc5971d0",
   "metadata": {},
   "outputs": [],
   "source": [
    "np.ones(10)"
   ]
  },
  {
   "cell_type": "code",
   "execution_count": null,
   "id": "1015399c",
   "metadata": {},
   "outputs": [],
   "source": [
    "# empty 함수 : shape와 dtype을 입력 받아 초기화되지 않은 배열을 만들어준다. cf. zeros 함수\n",
    "# empty 함수를 실행할 때마다 값이 다른 것을 확인할 수 있다. 이는 해당 메모리 영역에 어떤 데이터가 남아있었던지 상관없이\n",
    "# 그대로 영역의 주소만 알려줄 뿐 초기화는 사용자에게 맡기기 때문임.\n",
    "print(np.empty(shape=(10,), dtype=np.int8))\n",
    "print(np.zeros(shape=(10,), dtype=np.int8))"
   ]
  },
  {
   "cell_type": "code",
   "execution_count": null,
   "id": "8e3c50e5",
   "metadata": {},
   "outputs": [],
   "source": [
    "# 문자열 타입으로 배열 만들기\n",
    "# arr = np.array([1,2,3,4], dtype='S')\n",
    "arr = np.array([1,2,3,4], dtype=np.string_)\n",
    "print(arr, arr.dtype)"
   ]
  },
  {
   "cell_type": "code",
   "execution_count": null,
   "id": "ae0ef829",
   "metadata": {},
   "outputs": [],
   "source": [
    "arr1 = arr.astype('float32')\n",
    "print(arr1,arr1.dtype)"
   ]
  },
  {
   "cell_type": "code",
   "execution_count": null,
   "id": "0b3a46d8",
   "metadata": {},
   "outputs": [],
   "source": [
    "# 정수와 실수로 구성된 list_e = [1.2,2.3,3]을 numpy를 이용해서 실수형과 정수형으로 각각 출력하세요.\n",
    "list_e = [1.2,2.3,3]\n",
    "array_e1 = np.array(list_e)\n",
    "print(array_e1,array_e1.dtype,'\\n')\n",
    "array_e2 = array_e1.astype(int)\n",
    "print(array_e2,array_e2.dtype)"
   ]
  },
  {
   "cell_type": "code",
   "execution_count": null,
   "id": "554b4914",
   "metadata": {},
   "outputs": [],
   "source": [
    "# 배열의 산술 연산\n",
    "# arr = np.array([[1,2,3],[4,5,6]])\n",
    "arr = np.arange(1,7).reshape(2,3)\n",
    "print(arr,arr.dtype)"
   ]
  },
  {
   "cell_type": "code",
   "execution_count": null,
   "id": "1d86c51b",
   "metadata": {},
   "outputs": [],
   "source": [
    "arr * arr"
   ]
  },
  {
   "cell_type": "code",
   "execution_count": null,
   "id": "d0554eb4",
   "metadata": {},
   "outputs": [],
   "source": [
    "arr - arr"
   ]
  },
  {
   "cell_type": "code",
   "execution_count": null,
   "id": "7802bac6",
   "metadata": {},
   "outputs": [],
   "source": [
    "arr2 = np.array([[0.,4.,1.],[7.,2.,12.]])\n",
    "arr2"
   ]
  },
  {
   "cell_type": "code",
   "execution_count": null,
   "id": "933705ee",
   "metadata": {},
   "outputs": [],
   "source": [
    "arr2 > arr"
   ]
  },
  {
   "cell_type": "code",
   "execution_count": null,
   "id": "83051a1a",
   "metadata": {},
   "outputs": [],
   "source": [
    "# 기본 사칙연산\n",
    "\n",
    "value1 = np.arange(1,10).reshape(3,3)\n",
    "value2 = np.arange(11,20).reshape(3,3)\n",
    "print(value1+value2,'\\n')\n",
    "print(np.add(value1,value2),'\\n')\n",
    "\n",
    "print(value2-value1,'\\n')\n",
    "print(np.subtract(value2,value1),'\\n')\n",
    "\n",
    "print(value1*value2,'\\n')\n",
    "print(np.multiply(value1,value2),'\\n')\n",
    "\n",
    "print(value2/value1,'\\n')\n",
    "print(np.divide(value2,value1))\n"
   ]
  },
  {
   "cell_type": "code",
   "execution_count": null,
   "id": "e05f9fe1",
   "metadata": {},
   "outputs": [],
   "source": [
    "arr = np.random.randn(2,2)\n",
    "arr"
   ]
  },
  {
   "cell_type": "code",
   "execution_count": null,
   "id": "5533c055",
   "metadata": {},
   "outputs": [],
   "source": [
    "arr.mean().round(4)"
   ]
  },
  {
   "cell_type": "code",
   "execution_count": null,
   "id": "b162ee39",
   "metadata": {},
   "outputs": [],
   "source": [
    "arr.mean(axis=1)"
   ]
  },
  {
   "cell_type": "code",
   "execution_count": null,
   "id": "3857f08b",
   "metadata": {},
   "outputs": [],
   "source": [
    "arr.mean(axis=0)b"
   ]
  },
  {
   "cell_type": "code",
   "execution_count": null,
   "id": "0bb12f3a",
   "metadata": {},
   "outputs": [],
   "source": [
    "arr.sum().round(4)"
   ]
  },
  {
   "cell_type": "code",
   "execution_count": null,
   "id": "f33216eb",
   "metadata": {},
   "outputs": [],
   "source": [
    "arr.cumprod()"
   ]
  },
  {
   "cell_type": "code",
   "execution_count": null,
   "id": "7f38de6a",
   "metadata": {},
   "outputs": [],
   "source": [
    "# 인덱싱, 슬라이싱\n",
    "arr2d = np.arange(1,10).reshape(3,3)\n",
    "arr2d"
   ]
  },
  {
   "cell_type": "code",
   "execution_count": null,
   "id": "9e4039b4",
   "metadata": {},
   "outputs": [],
   "source": [
    "arr2d[2:]"
   ]
  },
  {
   "cell_type": "code",
   "execution_count": null,
   "id": "71f237ae",
   "metadata": {},
   "outputs": [],
   "source": [
    "arr2d[2][2]"
   ]
  },
  {
   "cell_type": "code",
   "execution_count": null,
   "id": "53929a14",
   "metadata": {},
   "outputs": [],
   "source": [
    "arr2d[:,0]"
   ]
  },
  {
   "cell_type": "code",
   "execution_count": null,
   "id": "a13f9e60",
   "metadata": {},
   "outputs": [],
   "source": [
    "arr2d[:2,:]"
   ]
  },
  {
   "cell_type": "code",
   "execution_count": null,
   "id": "4346a31e",
   "metadata": {},
   "outputs": [],
   "source": [
    "# arr2d를 다은 방식으로 아래와 같이 출력하세요.\n",
    "[[1, 2, 3],\n",
    "[4, 5, 6]]"
   ]
  },
  {
   "cell_type": "code",
   "execution_count": null,
   "id": "32608dde",
   "metadata": {},
   "outputs": [],
   "source": [
    "# arr2d[:2][:]\n",
    "arr2d[[0,2],:]"
   ]
  },
  {
   "cell_type": "code",
   "execution_count": null,
   "id": "6eba8575",
   "metadata": {},
   "outputs": [],
   "source": [
    "# arr2d에서 [3,6], [[1,2],[4,5]]을 출력하세요.\n",
    "print(arr2d[:2,2])\n",
    "print()\n",
    "print(arr2d[:2,:2])"
   ]
  },
  {
   "cell_type": "code",
   "execution_count": null,
   "id": "321e8183",
   "metadata": {},
   "outputs": [],
   "source": [
    "arr = np.arange(30).reshape(5,6)\n",
    "arr"
   ]
  },
  {
   "cell_type": "code",
   "execution_count": null,
   "id": "b4ba25e7",
   "metadata": {},
   "outputs": [],
   "source": [
    "[14,15,16]\n",
    "[3,9]\n",
    "[1,7,13]"
   ]
  },
  {
   "cell_type": "code",
   "execution_count": null,
   "id": "c1934d35",
   "metadata": {},
   "outputs": [],
   "source": [
    "arr[2][2:5]"
   ]
  },
  {
   "cell_type": "code",
   "execution_count": null,
   "id": "86d3d15b",
   "metadata": {},
   "outputs": [],
   "source": [
    "arr[[0,1],3]\n",
    "arr[:2,3]"
   ]
  },
  {
   "cell_type": "code",
   "execution_count": null,
   "id": "b888bbde",
   "metadata": {},
   "outputs": [],
   "source": [
    "arr[:3,1]\n",
    "arr[[0,1,2],1]"
   ]
  },
  {
   "cell_type": "code",
   "execution_count": null,
   "id": "e3d0f6cb",
   "metadata": {},
   "outputs": [],
   "source": [
    "# 배열을 리스트로 변환\n",
    "li = arr.tolist()\n",
    "print(li, type(li))"
   ]
  },
  {
   "cell_type": "code",
   "execution_count": null,
   "id": "e8de37b6",
   "metadata": {},
   "outputs": [],
   "source": [
    "# Boolean indexing\n",
    "arr1d = np.arange(1,10)\n",
    "print(arr1d)\n",
    "arr3 = arr1d[arr1d > 5]\n",
    "print(arr3)\n",
    "print(arr1d > 5)"
   ]
  },
  {
   "cell_type": "code",
   "execution_count": null,
   "id": "7f9e6f55",
   "metadata": {},
   "outputs": [],
   "source": [
    "# arr1d에서 일반 인덱스를 이용해서 [6 7 8 9]를 출력하세요.\n",
    "print(arr1d[5:])"
   ]
  },
  {
   "cell_type": "code",
   "execution_count": null,
   "id": "3fce939e",
   "metadata": {},
   "outputs": [],
   "source": [
    "# Q. 1 ~ 14까지 ndarray를 만들어 array_e로 저장하고 (array_e / 2) > 5를 만족하는 값을 불린 인덱싱으로 출력하세요.\n",
    "\n",
    "array_e = np.arange(1,15)\n",
    "array = array_e[(array_e/2) > 5]\n",
    "print(array)"
   ]
  },
  {
   "cell_type": "code",
   "execution_count": null,
   "id": "d7dbcfcc",
   "metadata": {},
   "outputs": [],
   "source": [
    "names = np.array(['Bob','Joe','Will','Bob','Will','Joe','Joe'])\n",
    "data = np.random.randn(7,4)\n",
    "print(names,'\\n')\n",
    "print(data)"
   ]
  },
  {
   "cell_type": "code",
   "execution_count": null,
   "id": "a189cef4",
   "metadata": {},
   "outputs": [],
   "source": [
    "names == 'Bob'"
   ]
  },
  {
   "cell_type": "code",
   "execution_count": null,
   "id": "d9a77a22",
   "metadata": {},
   "outputs": [],
   "source": [
    "data[names == 'Bob']"
   ]
  },
  {
   "cell_type": "code",
   "execution_count": null,
   "id": "eaebaec4",
   "metadata": {},
   "outputs": [],
   "source": [
    "data[names == 'Bob', 2:]"
   ]
  },
  {
   "cell_type": "code",
   "execution_count": null,
   "id": "e1d20cb8",
   "metadata": {},
   "outputs": [],
   "source": [
    "# != 부정\n",
    "data[names != 'Bob']"
   ]
  },
  {
   "cell_type": "code",
   "execution_count": null,
   "id": "ad103bd1",
   "metadata": {},
   "outputs": [],
   "source": [
    "# Bob이거나 Will인 것 출력\n",
    "mask = (names == 'Bob') | (names == 'Will')\n",
    "data[mask]"
   ]
  },
  {
   "cell_type": "code",
   "execution_count": null,
   "id": "25dbeaed",
   "metadata": {},
   "outputs": [],
   "source": [
    "# 음수를 모두 0으로 처리하여 출력\n",
    "data[data<0] = 0\n",
    "print(data)"
   ]
  },
  {
   "cell_type": "code",
   "execution_count": null,
   "id": "d649e9f0",
   "metadata": {},
   "outputs": [],
   "source": [
    "# [과제] 1 ~ 100까지 정수에서 3의 배수인 것만을 출력(for문과 배열 두가지 방식)\n",
    "[i for i in range(1,101) if i%3==0 ]\n",
    "     "
   ]
  },
  {
   "cell_type": "code",
   "execution_count": null,
   "id": "aa9edfc8",
   "metadata": {},
   "outputs": [],
   "source": [
    "# [과제] 1 ~ 100까지 정수에서 5의 배수이면서 2의 배수인 것만을 출력(for문과 배열 두가지 방식)"
   ]
  },
  {
   "cell_type": "code",
   "execution_count": null,
   "id": "eb680698",
   "metadata": {},
   "outputs": [],
   "source": [
    "[i for i in range(1,101) if i%10==0 ]"
   ]
  },
  {
   "cell_type": "code",
   "execution_count": null,
   "id": "a29d5822",
   "metadata": {},
   "outputs": [],
   "source": [
    "# [과제] 표준정규분포로 구성된 5행 5열 다차원 배열을 생성하고 함수를 이용하여 평균과 표준편차를 구하세요."
   ]
  },
  {
   "cell_type": "code",
   "execution_count": null,
   "id": "aa521681",
   "metadata": {},
   "outputs": [],
   "source": [
    "data = np.random.randn(5,5)\n",
    "data.mean()"
   ]
  },
  {
   "cell_type": "code",
   "execution_count": null,
   "id": "4d638fea",
   "metadata": {},
   "outputs": [],
   "source": [
    "data.std()"
   ]
  },
  {
   "cell_type": "code",
   "execution_count": null,
   "id": "eeae576d",
   "metadata": {},
   "outputs": [],
   "source": [
    "# [과제] 현재 사용하고 있는 numpy의 버전을 출력하세요.\n",
    "!pip install numpy"
   ]
  },
  {
   "cell_type": "code",
   "execution_count": null,
   "id": "9ae40786",
   "metadata": {},
   "outputs": [],
   "source": [
    "# [과제] numpy 함수의 도움말 기능을 볼수 있는 방법을 수행하여 add 함수의 가이드를 출력하세요.\n",
    "import numpy as np\n",
    "np.info(np.add)"
   ]
  },
  {
   "cell_type": "code",
   "execution_count": null,
   "id": "75faf299",
   "metadata": {},
   "outputs": [],
   "source": [
    "# [과제] zeros 함수를 이용해서 아래와 같이 출력하세요.\n",
    "array([0., 0., 0., 0., 1., 0., 0., 0., 0., 0.])"
   ]
  },
  {
   "cell_type": "code",
   "execution_count": 39,
   "id": "7e7b36d5",
   "metadata": {},
   "outputs": [
    {
     "data": {
      "text/plain": [
       "array([0., 0., 0., 0., 1., 0., 0., 0., 0., 0.])"
      ]
     },
     "execution_count": 39,
     "metadata": {},
     "output_type": "execute_result"
    }
   ],
   "source": [
    "n=np.zeros(10)\n",
    "n[4]=1\n",
    "n"
   ]
  },
  {
   "cell_type": "code",
   "execution_count": null,
   "id": "0eb404ba",
   "metadata": {},
   "outputs": [],
   "source": [
    "# [과제] 인덱싱을 이용하여 아래 배열을 내림차순으로 정렬하세요.\n",
    "[0, 1, 2, 3, 4, 5, 6, 7, 8, 9]\n"
   ]
  },
  {
   "cell_type": "code",
   "execution_count": null,
   "id": "75a8d396",
   "metadata": {},
   "outputs": [],
   "source": [
    "a=[0, 1, 2, 3, 4, 5, 6, 7, 8, 9]\n",
    "a[::-1]"
   ]
  },
  {
   "cell_type": "code",
   "execution_count": 36,
   "id": "3744d652",
   "metadata": {},
   "outputs": [
    {
     "data": {
      "text/plain": [
       "array([1, 2, 4])"
      ]
     },
     "execution_count": 36,
     "metadata": {},
     "output_type": "execute_result"
    }
   ],
   "source": [
    "# [과제] [1,2,0,0,4,0]에서 zero가 아닌 인덱스를 배열 형태로 출력하세요.\n",
    "\n",
    "a = np.array([1,2,0,0,4,0])\n",
    "a[a!=0]"
   ]
  }
 ],
 "metadata": {
  "kernelspec": {
   "display_name": "Python 3 (ipykernel)",
   "language": "python",
   "name": "python3"
  },
  "language_info": {
   "codemirror_mode": {
    "name": "ipython",
    "version": 3
   },
   "file_extension": ".py",
   "mimetype": "text/x-python",
   "name": "python",
   "nbconvert_exporter": "python",
   "pygments_lexer": "ipython3",
   "version": "3.8.12"
  }
 },
 "nbformat": 4,
 "nbformat_minor": 5
}
