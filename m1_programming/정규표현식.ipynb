{
 "cells": [
  {
   "cell_type": "markdown",
   "id": "e2ac4808",
   "metadata": {},
   "source": [
    "## 정규표현식의 기초, 메타 문자\n",
    "\n",
    "- . ^ $ * + ? {} [] \\ | ()\n",
    "- [] 문자 클래스\n",
    " - \\d 숫자와 매치, [0-9]와 동일한 표현식\n",
    " - \\D 숫자가 아닌 것과 매치, [^0-9]와 동일한 표현식\n",
    " - \\s whitespace 문자와 매치, [ \\t\\n\\r\\f\\v] 와 동일한 표현식\n",
    " - \\S whitespace 문자가 아닌 것과 매치, [^ \\t\\n\\r\\f\\v]와 동일한 표현식\n",
    " - \\w 문자 + 숫자와 매치, [a-zA-Z0-9]와 동일한 표현식\n",
    " - \\W 문자 + 숫자가 아닌 문자와 매치,[^a-zA-Z0-9]와 동일한 표현식\n",
    "\n",
    "- whitespace\n",
    " - 스페이스 바(아스키코드 32)\n",
    " - \\b 뒤로 한 칸 이동(Backspace) (아스키코드 8)\n",
    " - \\t 수평탭 간격 띄우기\n",
    " - \\n 줄바꿈\n",
    " - \\v 수직탭 간격 띄우기\n",
    " - \\f 프린트 출력 용지를 한 페이지 넘김\n",
    " - \\r 동일한 줄의 맨 앞에서 커서 이동\n",
    "\n",
    "- Dot(.) 메타 문자는 줄바꿈 문자인 \\n를 제외한 모든 문자와 매치됨을 의미\n",
    "- 반복(\\*) ca*t 0부터 무한대로 반복  caaaaat, ct\n",
    "- 반복(\\+) ca+t 최소 1번 이상 반복\n",
    "- ca{m,n} a 반복 횟수가 m부터 n까지인 것을 매치\n",
    "- ca{2}t는 c+a(2번 반복)+t의 의미\n",
    "- 반복 횟수가 {1,}은 1 이상, {0,}은 0 이상인 경우로 +, * 와 동일하며 {,1}은 반복 횟수가 1 이하를 의미\n",
    "- ab?c b가 0~1번 사용되면 매치되는 것으로 ?은 앞에 b가 있어도 되고 없어도 된다.\n",
    "\n",
    "re 모듈 : 파이썬은 정규표현식을 지원하기 위해 기본으로 제공\n",
    "- re.compile의 결과로 리턴되는 객체를 이용하여 그 이후 작업 수행\n",
    "\n",
    "정규식을 이용한 문자열 검색\n",
    "- match() : 문자열의 처음부터 정규식과 매치되는지를 조사\n",
    "- search() : 문자열의 전체를 검색하여 정규식과 매치되는지 조사\n",
    "- findall() : 정규식과 매치되는 모든 문자열을 리스트로 리턴\n",
    "- finditer() : 정규식과 매치되는 모든 문자열을 반복 가능한 객체로 리턴"
   ]
  },
  {
   "cell_type": "code",
   "execution_count": null,
   "id": "6099a144",
   "metadata": {},
   "outputs": [],
   "source": [
    "import re\n",
    "p=re.compile('[a-z]+\\s')\n",
    "m=p.match('python python')\n",
    "print(m)\n",
    "\n"
   ]
  },
  {
   "cell_type": "code",
   "execution_count": null,
   "id": "cb264617",
   "metadata": {
    "scrolled": true
   },
   "outputs": [],
   "source": [
    "re.match('[a-z]+\\s','python python')"
   ]
  },
  {
   "cell_type": "code",
   "execution_count": null,
   "id": "1be70fd8",
   "metadata": {
    "scrolled": true
   },
   "outputs": [],
   "source": [
    "p.findall('python python ')"
   ]
  },
  {
   "cell_type": "code",
   "execution_count": null,
   "id": "0826a8bc",
   "metadata": {},
   "outputs": [],
   "source": [
    "p.findall('python python')"
   ]
  },
  {
   "cell_type": "code",
   "execution_count": null,
   "id": "7fd04ce5",
   "metadata": {},
   "outputs": [],
   "source": [
    "pattern=re.compile('A')\n",
    "p3=pattern.findall('12345Abc')\n",
    "print(p3)"
   ]
  },
  {
   "cell_type": "code",
   "execution_count": null,
   "id": "aaeaba74",
   "metadata": {},
   "outputs": [],
   "source": [
    "m = p.match('3python ')\n",
    "print(m)"
   ]
  },
  {
   "cell_type": "code",
   "execution_count": null,
   "id": "683f7e50",
   "metadata": {},
   "outputs": [],
   "source": [
    "m = p.search('3python ')\n",
    "print(m)"
   ]
  },
  {
   "cell_type": "code",
   "execution_count": null,
   "id": "cd2b91e0",
   "metadata": {},
   "outputs": [],
   "source": [
    "# 문자 클래스 : []\n",
    "pattern = re.compile('[a-z]+')\n",
    "p1 = pattern.search('Banker')\n",
    "p2 = pattern.search('banker')\n",
    "print(p1)\n",
    "print(p2)"
   ]
  },
  {
   "cell_type": "code",
   "execution_count": null,
   "id": "4416a611",
   "metadata": {},
   "outputs": [],
   "source": [
    "# Q. '12345abc'에서 'a'만 출력하세요.\n",
    "import re\n",
    "\n",
    "pattern = re.compile('[a]')\n",
    "text = '12345abc'\n",
    "m = pattern.search(text)\n",
    "m.group()"
   ]
  },
  {
   "cell_type": "code",
   "execution_count": null,
   "id": "ed09eded",
   "metadata": {},
   "outputs": [],
   "source": [
    "# Q. '12345Abc'에서 'A'만 출력하세요.\n",
    "\n",
    "import re\n",
    "p = re.compile('[A]')\n",
    "s = p.search('12345Abd')\n",
    "print(s)\n",
    "s.group()\n"
   ]
  },
  {
   "cell_type": "code",
   "execution_count": null,
   "id": "9d937bff",
   "metadata": {
    "scrolled": true
   },
   "outputs": [],
   "source": [
    "# [과제] 'KOREA 대한민국'에서 '대' 만 출력하세요.\n",
    "pattern=re.compile('대')\n",
    "p3=pattern.findall('KOREA 대한민국')\n",
    "print(p3)"
   ]
  },
  {
   "cell_type": "code",
   "execution_count": null,
   "id": "c61f9f88",
   "metadata": {},
   "outputs": [],
   "source": [
    "\n",
    "# Q. '122333c'를 모두 출력하세요.\n",
    "p=re.compile('12{2}3{3}c')\n",
    "text='122333c'\n",
    "m=p.search(text)\n",
    "m.group()"
   ]
  },
  {
   "cell_type": "code",
   "execution_count": null,
   "id": "7ef16367",
   "metadata": {},
   "outputs": [],
   "source": [
    "# [과제] 'aaaaBBBcccDDDeee'를 모두 출력하세요"
   ]
  },
  {
   "cell_type": "code",
   "execution_count": null,
   "id": "7e7e3203",
   "metadata": {
    "scrolled": false
   },
   "outputs": [],
   "source": [
    "# [과제] BC, CC, ABC 모두 C가 출력되는 정규 표현식을 () 에 작성하세요\n",
    "p=re.compile('a{4}B{3}c{3}D{3}e{3}')\n",
    "n='aaaaBBBcccDDDeee'\n",
    "m=p.search(n)\n",
    "m.group()\n"
   ]
  },
  {
   "cell_type": "code",
   "execution_count": null,
   "id": "cbc19429",
   "metadata": {},
   "outputs": [],
   "source": [
    "p = re.compile('[a-z]+')\n",
    "result1 = p.findall('life is too short')\n",
    "result2 = p.match('life is too short')\n",
    "result3 = p.search('life is too short')\n",
    "print(result1)\n",
    "print(result2.group())\n",
    "print(result3.group())"
   ]
  },
  {
   "cell_type": "code",
   "execution_count": null,
   "id": "1b147b10",
   "metadata": {},
   "outputs": [],
   "source": []
  },
  {
   "cell_type": "code",
   "execution_count": null,
   "id": "cec315ea",
   "metadata": {},
   "outputs": [],
   "source": [
    "import re\n",
    "pattern=re.compile('[A-Z]+')\n",
    "text1='BB'\n",
    "text2='CC'\n",
    "text3='ABC'\n",
    "p1=pattern.search(text1)\n",
    "p2=pattern.search(text2)\n",
    "p3=pattern.search(text3)\n",
    "print(p1.group())\n",
    "print(p2.group())\n",
    "print(p3.group())"
   ]
  },
  {
   "cell_type": "code",
   "execution_count": null,
   "id": "bf30387a",
   "metadata": {},
   "outputs": [],
   "source": [
    "p=re.compile('[a-z]+')\n",
    "result1=p.match('life is too short')\n",
    "result2=p.findall('life is too short')\n",
    "result3=p.search('life is too short')\n",
    "print(result1.group())\n",
    "print(result2)\n",
    "print(result3.group())"
   ]
  },
  {
   "cell_type": "code",
   "execution_count": null,
   "id": "7cb0cf10",
   "metadata": {},
   "outputs": [],
   "source": [
    "#finditer\n",
    "result=p.finditer('life is too short')\n",
    "for i in result:\n",
    "    print(i.group())\n",
    "\n"
   ]
  },
  {
   "cell_type": "code",
   "execution_count": 42,
   "id": "a9a9bb4f",
   "metadata": {},
   "outputs": [
    {
     "name": "stdout",
     "output_type": "stream",
     "text": [
      "문\n"
     ]
    }
   ],
   "source": [
    "text='문의사항이 있으면 032-232-3245로 연락 주시기 바랍니다.'\n",
    "\n",
    "p=re.compile('\\S')\n",
    "result=p.search(text)\n",
    "print(result.group())"
   ]
  },
  {
   "cell_type": "code",
   "execution_count": 48,
   "id": "af1b5b47",
   "metadata": {},
   "outputs": [
    {
     "name": "stdout",
     "output_type": "stream",
     "text": [
      "['1', '2', '3', '4', '1', '2', '3', '4']\n"
     ]
    }
   ],
   "source": [
    "s= re.compile('[^a]')\n",
    "t = '1234a1234'\n",
    "m = s.findall(t)\n",
    "print(m)\n"
   ]
  },
  {
   "cell_type": "code",
   "execution_count": 49,
   "id": "0412058f",
   "metadata": {},
   "outputs": [
    {
     "name": "stdout",
     "output_type": "stream",
     "text": [
      "1234\n"
     ]
    }
   ],
   "source": [
    "s= re.compile('[^a]+')\n",
    "t = '1234a1234'\n",
    "m = s.search(t)\n",
    "print(m.group())\n"
   ]
  },
  {
   "cell_type": "code",
   "execution_count": null,
   "id": "9ba36037",
   "metadata": {},
   "outputs": [],
   "source": [
    "t='abcdefghij'\n",
    "\n"
   ]
  },
  {
   "cell_type": "code",
   "execution_count": 54,
   "id": "97f73c23",
   "metadata": {},
   "outputs": [
    {
     "name": "stdout",
     "output_type": "stream",
     "text": [
      "Python\n",
      "is\n",
      "Very\n",
      "good\n",
      "Programming\n",
      "language\n"
     ]
    }
   ],
   "source": [
    "p=re.compile('[a-zA-Z]+')\n",
    "s='Python is Very good Programming language!'\n",
    "result=p.finditer(s)\n",
    "for i in result:\n",
    "    print(i.group())"
   ]
  },
  {
   "cell_type": "code",
   "execution_count": 55,
   "id": "2ad5fd95",
   "metadata": {},
   "outputs": [
    {
     "data": {
      "text/plain": [
       "['Python', 'is', 'Very', 'good', 'Programming', 'language']"
      ]
     },
     "execution_count": 55,
     "metadata": {},
     "output_type": "execute_result"
    }
   ],
   "source": [
    "p=re.compile('[a-zA-Z]+')\n",
    "s='Python is Very good Programming language!'\n",
    "p.findall(s)"
   ]
  },
  {
   "cell_type": "code",
   "execution_count": 56,
   "id": "bd52cc50",
   "metadata": {},
   "outputs": [
    {
     "name": "stdout",
     "output_type": "stream",
     "text": [
      "python\n",
      "0\n",
      "6\n",
      "(0, 6)\n"
     ]
    }
   ],
   "source": [
    "import re\n",
    "p=re.compile('[a-z]+')\n",
    "m=p.match('python')\n",
    "print(m.group())\n",
    "print(m.start())\n",
    "print(m.end())\n",
    "print(m.span())"
   ]
  }
 ],
 "metadata": {
  "kernelspec": {
   "display_name": "Python 3 (ipykernel)",
   "language": "python",
   "name": "python3"
  },
  "language_info": {
   "codemirror_mode": {
    "name": "ipython",
    "version": 3
   },
   "file_extension": ".py",
   "mimetype": "text/x-python",
   "name": "python",
   "nbconvert_exporter": "python",
   "pygments_lexer": "ipython3",
   "version": "3.8.12"
  }
 },
 "nbformat": 4,
 "nbformat_minor": 5
}
