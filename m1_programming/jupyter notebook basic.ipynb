{
 "cells": [
  {
   "cell_type": "markdown",
   "id": "4f072dec",
   "metadata": {},
   "source": [
    "주피터 노트북은 기본 파이썬 코딩과 가시성을 높여주는 마크다운주석(링크와 이미지) 가능"
   ]
  },
  {
   "cell_type": "code",
   "execution_count": 5,
   "id": "f062542c",
   "metadata": {},
   "outputs": [
    {
     "name": "stdout",
     "output_type": "stream",
     "text": [
      "Hello Python\n"
     ]
    }
   ],
   "source": [
    "print(\"Hello Python\")"
   ]
  },
  {
   "cell_type": "markdown",
   "id": "17b1097d",
   "metadata": {},
   "source": [
    "# 주피터 노트북 사용법\n",
    "## 주피터 노트북 사용법\n",
    "### 주피터 노트북 사용법\n",
    "\n",
    "- 주피터\n",
    "- 노트북\n",
    "\n",
    "#### 주피터 노트북 사용법\n",
    "1. 주피터\n",
    "2. 노트북"
   ]
  },
  {
   "cell_type": "markdown",
   "id": "895f969e",
   "metadata": {},
   "source": [
    "단축키\n",
    "- ESC를 눌러 커맨드 모드로 진입하여 Enter를 통해 cell을 수정 할 수 있다.\n",
    "- A above \n",
    "- B below\n",
    "- M change cell to markdown\n",
    "- Y change cell to code\n",
    "- Ctrl + Enter, Shift + Enter, Alt + Enter"
   ]
  },
  {
   "cell_type": "code",
   "execution_count": 3,
   "id": "58a0f35f",
   "metadata": {},
   "outputs": [
    {
     "data": {
      "text/plain": [
       "'C:\\\\GitHub\\\\cakd5\\\\m1_programming'"
      ]
     },
     "execution_count": 3,
     "metadata": {},
     "output_type": "execute_result"
    }
   ],
   "source": [
    "%pwd"
   ]
  },
  {
   "cell_type": "markdown",
   "id": "542f7c16",
   "metadata": {},
   "source": [
    "매직명령어 : 맨앞에 %를 붙이고 특정 명령을 수행할 수 있다. 파이썬 문법에는 포함 되지\n",
    "않는 Jupyter notebook만의 기능\n",
    "<img src =\"매직명령어.jpg\" Style='width :800px:'>"
   ]
  },
  {
   "cell_type": "code",
   "execution_count": null,
   "id": "9edbd763",
   "metadata": {},
   "outputs": [],
   "source": [
    "# 수식문법\n",
    "# markdown 셀을 이용\n",
    "# $혹은 $$를 앞뒤로 감싸서 수식을 기술\n",
    "# $: 문장 안에 기술해야 하는 경우\n",
    "# $$ : 전체라인으로 표시\n",
    "# _와 ^기호를 이용하여 아래첨자와 위첨자를 사용 : a_1,a_{ij},b^2,b^{ij},c_1^2"
   ]
  },
  {
   "cell_type": "markdown",
   "id": "58ce6b96",
   "metadata": {},
   "source": [
    "\n",
    " $a^2 + b^2 = c^2$\n",
    " \n",
    " $$E=mc^2$$"
   ]
  },
  {
   "cell_type": "markdown",
   "id": "854c0970",
   "metadata": {},
   "source": [
    "https://www.youtube.com/index?skip_registered_account_check=true"
   ]
  }
 ],
 "metadata": {
  "kernelspec": {
   "display_name": "Python 3 (ipykernel)",
   "language": "python",
   "name": "python3"
  },
  "language_info": {
   "codemirror_mode": {
    "name": "ipython",
    "version": 3
   },
   "file_extension": ".py",
   "mimetype": "text/x-python",
   "name": "python",
   "nbconvert_exporter": "python",
   "pygments_lexer": "ipython3",
   "version": "3.8.12"
  }
 },
 "nbformat": 4,
 "nbformat_minor": 5
}
