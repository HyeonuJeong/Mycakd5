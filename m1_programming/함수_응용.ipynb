{
 "cells": [
  {
   "cell_type": "code",
   "execution_count": null,
   "id": "4c30a7dd",
   "metadata": {},
   "outputs": [],
   "source": [
    "# random은 난수를 발생시키는 모듈\n",
    "import random\n",
    "random.random() # 0.0에서 1.0 사이의 실수 중에서 난수값을 리턴"
   ]
  },
  {
   "cell_type": "code",
   "execution_count": null,
   "id": "0da6ff51",
   "metadata": {},
   "outputs": [],
   "source": [
    "# 1.0 ~ 10.0 사이의 난수값\n",
    "random.random() * 10"
   ]
  },
  {
   "cell_type": "code",
   "execution_count": null,
   "id": "ef8a4bdb",
   "metadata": {},
   "outputs": [],
   "source": [
    "# random.shuffle()\n",
    "data = [1,2,3,4,5]\n",
    "random.shuffle(data)\n",
    "data"
   ]
  },
  {
   "cell_type": "code",
   "execution_count": null,
   "id": "36569afc",
   "metadata": {},
   "outputs": [],
   "source": [
    "# 1 ~ 100사이의 임의 짝수를 출력\n",
    "random.randrange(2,101, 2)"
   ]
  },
  {
   "cell_type": "code",
   "execution_count": null,
   "id": "b42186a2",
   "metadata": {},
   "outputs": [],
   "source": [
    "# 1 ~ 55 사이의 정수중에서 난수값를 리턴\n",
    "random.randint(1,55)"
   ]
  },
  {
   "cell_type": "code",
   "execution_count": null,
   "id": "346c35b0",
   "metadata": {},
   "outputs": [],
   "source": [
    "# [1,2,3,4,5,6,7,8,9]에서 임의로 3개 선택\n",
    "numlist = [1,2,3,4,5,6,7,8,9]\n",
    "random.sample(numlist,3)"
   ]
  },
  {
   "cell_type": "code",
   "execution_count": null,
   "id": "a6e71bdc",
   "metadata": {},
   "outputs": [],
   "source": [
    "# Q. numbers 내부에 들어있는 숫자가 몇 번 등장하는지를 출력하는 코드를 작성하세요."
   ]
  },
  {
   "cell_type": "code",
   "execution_count": null,
   "id": "e09b6b94",
   "metadata": {},
   "outputs": [],
   "source": [
    "numbers = [3,6,3,5,8,2,9,7,4,3,6,3,5,8,2,9,7,4]\n",
    "dic_num={}\n",
    "for i in set(numbers):\n",
    "    dic_num[i] = numbers.count(i)\n",
    "print(dic_num)"
   ]
  },
  {
   "cell_type": "code",
   "execution_count": null,
   "id": "c2a1d87d",
   "metadata": {},
   "outputs": [],
   "source": [
    "num=[3,6,3,5,8,2,9,7,4,3,6,3,5,8,2,9,7,4]\n",
    "setnum=set(num)\n",
    "sn=[]\n",
    "lst=[]\n",
    "\n",
    "for i in setnum:\n",
    "    lst.append(num.count(i))\n",
    "    sn.append(i)\n",
    "\n",
    "for i in zip(sn,lst):\n",
    "     print(i,end=\" \")   "
   ]
  },
  {
   "cell_type": "code",
   "execution_count": null,
   "id": "3dd98398",
   "metadata": {},
   "outputs": [],
   "source": [
    "# Q. list [0,1,2,3,4,5,6]을 내림차순으로 출력하세요(2가지 방법)\n",
    "s = [0,1,2,3,4,5,6]\n",
    "\n",
    "# 1번째 방법\n",
    "print(s[::-1])\n",
    "#2번째 방법\n",
    "list.reverse(s)\n",
    "print(s)"
   ]
  },
  {
   "cell_type": "code",
   "execution_count": null,
   "id": "b904d7df",
   "metadata": {},
   "outputs": [],
   "source": [
    "# Q. list = ['a','b','c']을 for문을 사용해서 아래와 같이 출력하세요\n",
    "# 1번째는 a입니다.\n",
    "# 2번째는 b입니다.\n",
    "# 3번째는 c입니다.\n",
    "\n",
    "li=['a','b','c']\n",
    "for i, value in enumerate(li):\n",
    "    print(f'{i+1}번째는 {value}입니다.')"
   ]
  },
  {
   "cell_type": "code",
   "execution_count": null,
   "id": "ad5be350",
   "metadata": {},
   "outputs": [],
   "source": [
    "# Q. 코딩을 한줄로 작성해서 동일한 결과를 출력하세요.\n",
    "li= []\n",
    "for i in range(0,20,2):\n",
    "    li.append(i*i)\n",
    "print(li)"
   ]
  },
  {
   "cell_type": "code",
   "execution_count": null,
   "id": "6ed68f0a",
   "metadata": {},
   "outputs": [],
   "source": [
    "print([x*x for x in range(0,20,2)])"
   ]
  },
  {
   "cell_type": "code",
   "execution_count": null,
   "id": "e44c6570",
   "metadata": {},
   "outputs": [],
   "source": [
    "print(list(map(lambda i:i*i, range(0,20,2))))"
   ]
  },
  {
   "cell_type": "code",
   "execution_count": null,
   "id": "8c907679",
   "metadata": {},
   "outputs": [],
   "source": [
    "# Q. join 함수를 이용해서 ['a','b','c']를 아래와 같이 출력하세요.\n",
    "# a::b::c\n",
    "'::'.join(['a','b','c'])"
   ]
  },
  {
   "cell_type": "code",
   "execution_count": null,
   "id": "ea31b2d9",
   "metadata": {},
   "outputs": [],
   "source": [
    "# Q. 두개의 숫자를 인자로 적용하면 4칙 연산을 수행하는 사용자 함수를 작성한 후 5, 3을 대입한 결과를 튜플로 출력하세요.(소수점 없음)\n",
    "def cal(a,b):\n",
    "    return a+b, a-b, a*b, round(a/b)\n",
    "#     return a+b\n",
    "cal(5,3)"
   ]
  },
  {
   "cell_type": "code",
   "execution_count": null,
   "id": "aecc57c4",
   "metadata": {},
   "outputs": [],
   "source": [
    "# Q. 데이터를 입력하지 않으면 종료되는 코딩을 수행하세요. 단 반복적으로 작업을 수행할 수 있음. \n",
    "while 1:\n",
    "    data = input()\n",
    "    if not data:\n",
    "        break\n",
    "    print(data)"
   ]
  },
  {
   "cell_type": "code",
   "execution_count": null,
   "id": "71a8072f",
   "metadata": {},
   "outputs": [],
   "source": [
    "def factorial(n):\n",
    "    output = 1\n",
    "    for i in range(1,n+1):\n",
    "        output *= i\n",
    "    return output\n",
    "print(factorial(5))\n",
    "print(factorial(10))    "
   ]
  },
  {
   "cell_type": "code",
   "execution_count": null,
   "id": "51b66ab1",
   "metadata": {},
   "outputs": [],
   "source": [
    "# 재귀란 '자기자신을 호출하는 것'을 의미한다. \n",
    "# 재귀함수를 이용해서 팩토리얼을 구하는 사용자 함수를 작성하고 1!, 5!, 10!를 구하세요\n",
    "# factorial(n) = n * factorial(n-1) (n >= 1)\n",
    "\n",
    "def factorial(n):\n",
    "    if n == 1:\n",
    "        return 1\n",
    "    else:\n",
    "        return n * factorial(n - 1)\n",
    " \n",
    "print(factorial(1))\n",
    "print(factorial(5))\n",
    "print(factorial(10))"
   ]
  },
  {
   "cell_type": "code",
   "execution_count": null,
   "id": "8cda410a",
   "metadata": {},
   "outputs": [],
   "source": [
    "# Q. 원의 면적과 둘레의 길이를 구하는 사용자 함수를 작성하여 반지름이 5와 10일때의 면적과 둘레를 구하세요.\n",
    "원 넓이 : PI * radius * radius\n",
    "원 둘레 : 2 * PI * radius"
   ]
  },
  {
   "cell_type": "code",
   "execution_count": null,
   "id": "a8232b4e",
   "metadata": {},
   "outputs": [],
   "source": [
    "def cir(n):\n",
    "    l=round(3.14*2*n,2)\n",
    "    s=round(l*n/2,2)\n",
    "    return l,s\n",
    "print(cir(5))"
   ]
  },
  {
   "cell_type": "code",
   "execution_count": null,
   "id": "fe0ed27f",
   "metadata": {},
   "outputs": [],
   "source": [
    "# Q. list a의 모든 원소를 실수형으로 바꾸어 출력하세요\n",
    "a = [1,2,3,4,5]"
   ]
  },
  {
   "cell_type": "code",
   "execution_count": null,
   "id": "d9a6eb25",
   "metadata": {},
   "outputs": [],
   "source": [
    "a = [1,2,3,4,5]\n",
    "for i in range(len(a)):\n",
    "    a[i] = float(a[i])\n",
    "\n",
    "print(a)"
   ]
  },
  {
   "cell_type": "code",
   "execution_count": null,
   "id": "e3f05c7f",
   "metadata": {},
   "outputs": [],
   "source": [
    "a = [1,2,3,4,5]\n",
    "a = list(map(float,a))\n",
    "a"
   ]
  },
  {
   "cell_type": "code",
   "execution_count": null,
   "id": "2ccc1339",
   "metadata": {},
   "outputs": [],
   "source": [
    "# Q. 문자열 리스트 states를 정형화하여 아래와 같이 출력하세요.\n",
    "states = ['   Alabama ', 'Georgia!', 'Georgia', 'georgia', 'FlOrIda',\n",
    "          'south   carolina', 'West virginia']\n",
    "[출력]\n",
    "['Alabama',\n",
    " 'Georgia',\n",
    " 'Georgia',\n",
    " 'Georgia',\n",
    " 'Florida',\n",
    " 'South   Carolina',\n",
    " 'West Virginia']"
   ]
  },
  {
   "cell_type": "code",
   "execution_count": null,
   "id": "06bac916",
   "metadata": {},
   "outputs": [],
   "source": [
    "states = ['   Alabama ', 'Georgia!', 'Georgia', 'georgia', 'FlOrIda',\n",
    "          'south   carolina', 'West virginia']\n",
    "def clean_strings(strings):\n",
    "    result = []\n",
    "    for value in strings:\n",
    "        value = value.strip()\n",
    "        result.append(value)\n",
    "    return result\n",
    "clean_strings(states)"
   ]
  },
  {
   "cell_type": "code",
   "execution_count": null,
   "id": "9562fa83",
   "metadata": {},
   "outputs": [],
   "source": [
    "# [도전과제] 문자열 리스트 states를 정형화하여 아래와 같이 출력하세요.\n",
    "states = ['   Alabama ', 'Georgia!', 'Georgia', 'georgia', 'FlOrIda',\n",
    "          'south   carolina##', 'West virginia?']\n",
    "[출력]\n",
    "['Alabama',\n",
    " 'Georgia',\n",
    " 'Georgia',\n",
    " 'Georgia',\n",
    " 'Florida',\n",
    " 'South   Carolina',\n",
    " 'West Virginia']"
   ]
  },
  {
   "cell_type": "code",
   "execution_count": null,
   "id": "7d2e22b2",
   "metadata": {},
   "outputs": [],
   "source": [
    "states = ['   Alabama ', 'Georgia!', 'Georgia', 'georgia', 'FlOrIda',\n",
    "          'south   carolina##', 'West virginia?']\n",
    "\n",
    "import re #정규표현식 패키지 \n",
    "\n",
    "def clean_strings(strings):\n",
    "    result = []\n",
    "    for value in strings:\n",
    "        value = value.strip() # 양쪽 공백제거\n",
    "        value = re.sub('[!#?]','',value) # 특수문자 제거\n",
    "        value = value.title() # 첫 글자만 대문자로 변경\n",
    "        result.append(value)\n",
    "    return result\n",
    "\n",
    "clean_strings(states)\n"
   ]
  },
  {
   "cell_type": "code",
   "execution_count": null,
   "id": "6a4d4289",
   "metadata": {},
   "outputs": [],
   "source": [
    "# Q. url에서 호스트 도메인을 추출하여 출력하세요.\n",
    "url = 'http://news.naver.com/main/read.nhn?mode=LSD&mid=shm&sid1=105&oid=028&aid=0002334601'\n",
    "domurl = url.split('/')\n",
    "domain = domurl[2]\n",
    "print(domain)"
   ]
  },
  {
   "cell_type": "code",
   "execution_count": null,
   "id": "c7372030",
   "metadata": {},
   "outputs": [],
   "source": [
    "# Q. url에서 쿼리문을 추출하여 출력하세요\n",
    "# ?뒤에 표시되는 문자열을 쿼리 문자열이라고 하며 변수=값 사이 &로 구분되어 나열된다.\n",
    "url = 'http://news.naver.com/main/read.nhn?mode=LSD&mid=shm&sid1=105&oid=028&aid=0002334601'\n",
    "tmp_q = url.split('?')\n",
    "tmp_q_2 = tmp_q[1]\n",
    "print(tmp_q_2.split('&'))"
   ]
  },
  {
   "cell_type": "code",
   "execution_count": null,
   "id": "e7a8d1eb",
   "metadata": {},
   "outputs": [],
   "source": [
    "# [과제] 게시물의 총 건수와 한 페이지에 보여 줄 게시물 수를 입력하면 총 페이지 수를 출력하는 프로그램을 작성하세요."
   ]
  },
  {
   "cell_type": "code",
   "execution_count": null,
   "id": "a082f8fa",
   "metadata": {},
   "outputs": [],
   "source": [
    "a=int(input(\"게시물 총 건수 : \"))\n",
    "b=int(input(\"페이지 게시될 수 : \"))\n",
    "\n",
    "if (a%b)==0:print(f\"총 페이지 수 {a//b}:\")\n",
    "else:print(f\"총 페이지 수 {a//b+1}:\")"
   ]
  },
  {
   "cell_type": "code",
   "execution_count": null,
   "id": "32fb382e",
   "metadata": {},
   "outputs": [],
   "source": [
    "# 랜덤하게 1000명의 이름, 키, 몸무개 만들기\n",
    "import random\n",
    "lst=[]\n",
    "hanguls=list('가나다라마바사아자차카타파하')\n",
    "with open ('info.txt','w') as f:\n",
    "    for i in range(1000):\n",
    "        name=random.choice(hanguls)+random.choice(hanguls)\n",
    "        a=random.randint(150,200)\n",
    "        b=random.randint(50,100)\n",
    "        f.write(f'{name},{a},{b}\\n')\n",
    "        print(f'{name},{a},{b}\\n')"
   ]
  },
  {
   "cell_type": "code",
   "execution_count": null,
   "id": "d16d5c01",
   "metadata": {},
   "outputs": [],
   "source": [
    "# Q. 1000명에 대하여 아래와 같이 출력하세요\n",
    "# 이름 : 라바\n",
    "# 몸무게 : 80\n",
    "# 키 : 146\n",
    "    \n",
    "# 이름 : 라바\n",
    "# 몸무게 : 80\n",
    "# 키 : 146\n",
    "import random\n",
    "hanguls=list('가나다라마바사아자차카타파하')\n",
    "\n",
    "with open('info.txt','r') as f:\n",
    "    data=f.readlines()\n",
    "    for i in data: \n",
    "        a = i.strip().split(',')\n",
    "        print(f'이름 : {a[0]}\\n키 : {a[1]}\\n몸무게 : {a[2]}\\n')"
   ]
  },
  {
   "cell_type": "code",
   "execution_count": null,
   "id": "1d578b5b",
   "metadata": {},
   "outputs": [],
   "source": [
    "# 출력 포멧\n",
    "with open('info.txt','r') as file:\n",
    "    for line in file:\n",
    "        (name,weight,height) = line.strip().split(',')\n",
    "        print('\\n'.join([\n",
    "            \"이름 : {}\",\n",
    "            \"몸무게 : {}\",\n",
    "            \"키 : {}\"\n",
    "            ]).format(name,height,weight))\n",
    "        print()"
   ]
  },
  {
   "cell_type": "code",
   "execution_count": null,
   "id": "fd4cc72e",
   "metadata": {},
   "outputs": [],
   "source": [
    "# [과제] 1000명에 대하여 아래와 같이 출력하세요.\n",
    "# BMI = round(int(weight) / ((int(height) / 100) ** 2),2)\n",
    "# 이름 : 라바\n",
    "# 몸무게 : 80\n",
    "# 키 : 146\n",
    "# BMI : 35.56789\n",
    "# 결과 : 과체중\n",
    "\n",
    "\n",
    "with open('info.txt','r') as f:\n",
    "    data=f.readlines()\n",
    "    for i in data: \n",
    "        a = i.strip().split(',')\n",
    "        bmi=round(int(a[2])/((int(a[1])/100)**2),2)\n",
    "        print(f'이름 : {a[0]}\\n키 : {a[1]}\\n몸무게 : {a[2]}\\nBMI : {bmi}\\n')"
   ]
  },
  {
   "cell_type": "code",
   "execution_count": null,
   "id": "a1168919",
   "metadata": {},
   "outputs": [],
   "source": [
    "# \n",
    "def getTextFreq(filename):\n",
    "    with open(filename,'r') as f:\n",
    "        text = f.read()\n",
    "        fa = {}\n",
    "        for c in text:\n",
    "            if c in fa:\n",
    "                fa[c] += 1\n",
    "            else:\n",
    "                fa[c] = 1\n",
    "    return fa\n",
    "ret = getTextFreq('data/mydata.txt')\n",
    "ret = sorted(ret.items(), key=lambda x:x[1],reverse=True)\n",
    "\n",
    "\n",
    "for c, f in ret:\n",
    "    if c == '\\n':\n",
    "        continue\n",
    "    print(f'[{c}] -> [{f}]회 나타남')"
   ]
  },
  {
   "cell_type": "code",
   "execution_count": null,
   "id": "ec76cf0b",
   "metadata": {},
   "outputs": [],
   "source": [
    "# Q. 아래와 같이 출력하세요\n",
    "# [ ] -> [177]회 나타남\n",
    "# [e] -> [97]회 나타남\n"
   ]
  },
  {
   "cell_type": "code",
   "execution_count": null,
   "id": "81e80b81",
   "metadata": {},
   "outputs": [],
   "source": [
    "# Q. mydata.txt 파일에 들어있는 단어수를 계산하여 출력하세요."
   ]
  },
  {
   "cell_type": "code",
   "execution_count": null,
   "id": "cfa4175d",
   "metadata": {},
   "outputs": [],
   "source": [
    "with open('data/mydata.txt', 'r') as file:\n",
    "    text = file.read()\n",
    "    tmp = text.split()    \n",
    "    print(f'단어수 : {len(tmp)}개')"
   ]
  },
  {
   "cell_type": "code",
   "execution_count": null,
   "id": "7cad978c",
   "metadata": {},
   "outputs": [],
   "source": [
    "# [과제] mydata.txt 파일에서 특정단어 t1을 다른 단어 t2로 변경하여 출력하세요(a -> A)\n",
    "\n",
    "with open('data/mydata.txt','r') as f:\n",
    "    s=f.readlines()\n",
    "    for i in s:\n",
    "        print(i.replace('a','A'))\n",
    "        \n"
   ]
  },
  {
   "cell_type": "code",
   "execution_count": null,
   "id": "c8950045",
   "metadata": {},
   "outputs": [],
   "source": [
    "\n",
    "def getTextFreq(filename):\n",
    "    with open(filename,'r') as f:\n",
    "        text = f.read()\n",
    "        fa = {}\n",
    "        for c in text:\n",
    "            if c in fa:\n",
    "                fa[c] += 1\n",
    "            else:\n",
    "                fa[c] = 1\n",
    "    return fa\n",
    "ret = getTextFreq('data/mydata.txt')\n",
    "ret = sorted(ret.items(), key=lambda x:x[1],reverse=True)\n",
    "\n",
    "\n",
    "for c, f in ret:\n",
    "    if c == '\\n':\n",
    "        continue\n",
    "    print(f'[{c}] -> [{f}]회 나타남')\n",
    "    "
   ]
  },
  {
   "cell_type": "code",
   "execution_count": null,
   "id": "08ee36e0",
   "metadata": {},
   "outputs": [],
   "source": [
    "with open('data/names/yob1880.txt','r') as f:\n",
    "    data = f.read()\n",
    "    print(data)"
   ]
  },
  {
   "cell_type": "code",
   "execution_count": null,
   "id": "d857e28b",
   "metadata": {},
   "outputs": [],
   "source": [
    "# [과제] 주어진 데이터에서 1880년에서 2015년까지 연도별 출생아 수를 출력하세요.\n",
    "1880 201484\n",
    "\n",
    "for i in range(1880,2016):\n",
    "    with open(f'data/names/yob{i}.txt','r') as f:\n",
    "        data=f.readlines()\n",
    "        sum=0\n",
    "        for j in data:\n",
    "            tmp=j.strip().split(',')\n",
    "            tmp=int(tmp[2])\n",
    "            sum+=tmp\n",
    "        print(f'{i}년도 {sum}명')    \n",
    "            "
   ]
  },
  {
   "cell_type": "code",
   "execution_count": null,
   "id": "30c134a6",
   "metadata": {},
   "outputs": [],
   "source": [
    "# # [도전과제] 연도/성별/출생아수를 구하세요.\n",
    "# 1880, 90994, 110490\n",
    "\n",
    "y=input(\"년도 입력 : \")\n",
    "with open(f'data/names/yob{y}.txt','r') as f:\n",
    "    data=f.readlines()\n",
    "    man=0\n",
    "    wman=0\n",
    "    for j in data:\n",
    "        tmp=j.strip().split(',')\n",
    "        if (tmp[1]) == ('M'):\n",
    "            tmp=int(tmp[2])\n",
    "            man+=tmp\n",
    "        elif (tmp[1]) == ('F'):\n",
    "            tmp=int(tmp[2])\n",
    "            wman+=tmp\n",
    "\n",
    "    print(f'{y}년도 남:{man}명 여:{wman}명')    \n",
    "        "
   ]
  },
  {
   "cell_type": "code",
   "execution_count": null,
   "id": "f1213a6c",
   "metadata": {},
   "outputs": [],
   "source": [
    "# # [도도전과제] 연도별 인기있는 상위 10개 성별 출생아 이름 구하기\n",
    "# TOP_1 여자아기이름:('Emily', 25057)\n",
    "    \n",
    "y=input(\"년도 입력 : \")\n",
    "with open(f'data/names/yob{y}.txt','r') as f:\n",
    "    cnt=0\n",
    "    ct=0\n",
    "    data=f.readlines()\n",
    "    for j in data:\n",
    "        tmp=j.strip().split(',')\n",
    "        if cnt <10:\n",
    "            cnt+=1\n",
    "            tmp[1]='여자아이'\n",
    "            print(f'{y}년도 TOP{cnt} {tmp[1]} 성별 이름:{tmp[0]}')\n",
    "        \n",
    "        elif tmp[1]=='M':\n",
    "            if ct<10:\n",
    "                ct+=1\n",
    "                tmp[1]='남자아이'\n",
    "                print(f'{y}년도 TOP{ct} {tmp[1]} 성별 이름:{tmp[0]}')\n",
    "                \n",
    "            \n"
   ]
  },
  {
   "cell_type": "code",
   "execution_count": null,
   "id": "a7f2e4bc",
   "metadata": {},
   "outputs": [],
   "source": [
    "import pandas as pd\n",
    "import numpy as np\n",
    "\n",
    "df = pd.read_csv(f'data/names/yob1880.txt', sep = \",\", encoding = \"utf-8\", names=['name','sex','count'])\n",
    "for i in range(1880,2019):\n",
    "    df1 =pd.read_csv(f'data/names/yob{i+1}.txt', sep = \",\", encoding = \"utf-8\", names=['name','sex','count'])\n",
    "    df= pd.concat([df,df1])\n",
    "\n",
    "df = df.groupby(by=['name','sex']).sum().groupby(level=[0,1]).cumsum()\n",
    "df = df.sort_values(by=df.columns[0],ascending=False)\n",
    "df\n"
   ]
  },
  {
   "cell_type": "code",
   "execution_count": null,
   "id": "87141c60",
   "metadata": {},
   "outputs": [],
   "source": [
    "import seaborn as sns\n",
    "\n",
    "tt = sns.load_dataset('titanic')\n",
    "tt.head()"
   ]
  },
  {
   "cell_type": "code",
   "execution_count": null,
   "id": "5ddb0f93",
   "metadata": {},
   "outputs": [],
   "source": [
    "tt.age.plot(kind='hist')"
   ]
  },
  {
   "cell_type": "code",
   "execution_count": null,
   "id": "afc49b28",
   "metadata": {
    "scrolled": true
   },
   "outputs": [],
   "source": [
    "# age 변수를 10, 20, 30, 40, 50, 60이상 범주로 구분하여 age_cat 변수를 생성하세요.\n",
    "tt.age"
   ]
  },
  {
   "cell_type": "code",
   "execution_count": null,
   "id": "150ff34b",
   "metadata": {},
   "outputs": [],
   "source": [
    "def age_cat(age):\n",
    "    cat = ''\n",
    "    if age < 20: cat = '10'\n",
    "    elif age < 30: cat = '20'\n",
    "    elif age < 40: cat = '30'\n",
    "    elif age < 50: cat = '40'\n",
    "    elif age < 60: cat = '50'\n",
    "    else: cat = '60'\n",
    "    return cat\n",
    "tt['age_cat'] = tt['age'].apply(lambda x:age_cat(x))\n",
    "tt.age_cat\n",
    "tt[['age','age_cat']].head()"
   ]
  },
  {
   "cell_type": "code",
   "execution_count": null,
   "id": "34244de8",
   "metadata": {},
   "outputs": [],
   "source": [
    "from urllib.request import urlopen\n",
    "\n",
    "imgurl = 'https://imagescdn.gettyimagesbank.com/500/21/349/383/0/1324943224.jpg'\n",
    "imgname = imgurl.split('/')[-1]\n",
    "\n",
    "try:\n",
    "    with urlopen(imgurl) as f:\n",
    "        with open('data/imgname.jpg','wb') as h:\n",
    "            img = f.read()\n",
    "            h.write(img)\n",
    "except Exception as e:\n",
    "    print(e)\n"
   ]
  },
  {
   "cell_type": "code",
   "execution_count": null,
   "id": "7714b90f",
   "metadata": {},
   "outputs": [],
   "source": [
    "!pip install Pillow "
   ]
  },
  {
   "cell_type": "code",
   "execution_count": null,
   "id": "2aca07ab",
   "metadata": {},
   "outputs": [],
   "source": [
    "from PIL import Image\n",
    "im = Image.open('data/imgname.jpg')\n",
    "im.show()"
   ]
  },
  {
   "cell_type": "markdown",
   "id": "15194b71",
   "metadata": {},
   "source": [
    "### 모듈\n",
    "- 특정 기능들 ( 함수, 변수, 클래스 등)이 구현 되어있는 파이썬 파일(.py)\n",
    "\n",
    "### 패키지\n",
    "- 특정 기능과 관련된 여러 모듈들을 하나의 상위 폴더에 넣어놓은 것을 의미\n",
    "- 패키지 안에 여러가지 폴더 존재 가능\n",
    "- 패키지를 표현해주기 위해 _init_.py 존재\n",
    "\n",
    "### 라이브러리\n",
    "- 여러모듈과 패키지를 묶어 라이브러리라고 함\n",
    "- 파이썬 설치시 기본적으로 설치되는 라이브러리를 표준라이브러리 라고 함\n",
    "- 외부 3rd party에서 개발한 모듈과 패키지를 외부라이브러리 라고 함"
   ]
  },
  {
   "cell_type": "code",
   "execution_count": null,
   "id": "1b9f01b4",
   "metadata": {},
   "outputs": [],
   "source": [
    "#모듈 구현\n",
    "with open('mod1.py','w') as f:\n",
    "    f.write(\"\"\"\n",
    "def add(x,y):\n",
    "    return x+y\n",
    "print(add(3,4))\n",
    "    \"\"\")"
   ]
  },
  {
   "cell_type": "code",
   "execution_count": null,
   "id": "28de9775",
   "metadata": {
    "scrolled": true
   },
   "outputs": [],
   "source": [
    "with open('mod1.py','r') as f:\n",
    "    s=f.read()\n",
    "    print(s)"
   ]
  },
  {
   "cell_type": "code",
   "execution_count": null,
   "id": "fbdb3e32",
   "metadata": {
    "scrolled": false
   },
   "outputs": [],
   "source": [
    "!python mod1.py"
   ]
  },
  {
   "cell_type": "code",
   "execution_count": null,
   "id": "48aedd15",
   "metadata": {
    "scrolled": true
   },
   "outputs": [],
   "source": [
    "import mod1"
   ]
  },
  {
   "cell_type": "code",
   "execution_count": null,
   "id": "405835a1",
   "metadata": {},
   "outputs": [],
   "source": [
    "with open('mod2.py','w') as f:\n",
    "    f.write(\"\"\"\n",
    "def add(x,y):\n",
    "    return x+y\n",
    "    \n",
    "if __name__==\"__main__\":\n",
    "    print(add(3,4))\n",
    "    \"\"\")"
   ]
  },
  {
   "cell_type": "code",
   "execution_count": null,
   "id": "bfa79746",
   "metadata": {
    "scrolled": true
   },
   "outputs": [],
   "source": [
    "with open('mod2.py','r') as f:\n",
    "    s=f.read()\n",
    "    print(s)"
   ]
  },
  {
   "cell_type": "code",
   "execution_count": null,
   "id": "7c13a8e0",
   "metadata": {},
   "outputs": [],
   "source": [
    "!python mod2.py"
   ]
  },
  {
   "cell_type": "code",
   "execution_count": null,
   "id": "37b59e53",
   "metadata": {},
   "outputs": [],
   "source": [
    "import mod2\n",
    "\n",
    "mod2.add(2,3)"
   ]
  },
  {
   "cell_type": "code",
   "execution_count": null,
   "id": "c6895327",
   "metadata": {
    "scrolled": true
   },
   "outputs": [],
   "source": [
    "!dir"
   ]
  },
  {
   "cell_type": "code",
   "execution_count": null,
   "id": "65ae1a86",
   "metadata": {},
   "outputs": [],
   "source": [
    "import os\n",
    "f=os.popen('dir')\n",
    "f.read()"
   ]
  },
  {
   "cell_type": "code",
   "execution_count": null,
   "id": "1c66682f",
   "metadata": {},
   "outputs": [],
   "source": [
    "#파일복사\n",
    "import shutil\n",
    "shutil.copy('info.txt','text1.txt')"
   ]
  },
  {
   "cell_type": "code",
   "execution_count": null,
   "id": "96ae8b91",
   "metadata": {
    "scrolled": true
   },
   "outputs": [],
   "source": [
    "!dir"
   ]
  },
  {
   "cell_type": "code",
   "execution_count": null,
   "id": "f0f2a767",
   "metadata": {},
   "outputs": [],
   "source": [
    "#Thread\n",
    "import time\n",
    "def long_task():\n",
    "    for i in range(1,6):\n",
    "        time.sleep(1)\n",
    "        print(f'working :{i}\\n')\n",
    "print('start')\n",
    "print(long_task())\n",
    "print('end')"
   ]
  },
  {
   "cell_type": "code",
   "execution_count": null,
   "id": "48c33885",
   "metadata": {},
   "outputs": [],
   "source": [
    "import time\n",
    "import threading\n",
    "\n",
    "def long_task():\n",
    "    for i in range(1,6):\n",
    "        time.sleep(1)\n",
    "        print(f'working :{i}\\n')\n",
    "        \n",
    "print('start')\n",
    "threads=[]\n",
    "for i in range(5):\n",
    "    t=threading.Thread(target=long_task)\n",
    "    threads.append(t)\n",
    "for t in threads:\n",
    "    t.start()\n",
    "for t in threads:\n",
    "    t.join()\n",
    "\n",
    "print('end')"
   ]
  }
 ],
 "metadata": {
  "kernelspec": {
   "display_name": "Python 3 (ipykernel)",
   "language": "python",
   "name": "python3"
  },
  "language_info": {
   "codemirror_mode": {
    "name": "ipython",
    "version": 3
   },
   "file_extension": ".py",
   "mimetype": "text/x-python",
   "name": "python",
   "nbconvert_exporter": "python",
   "pygments_lexer": "ipython3",
   "version": "3.8.12"
  }
 },
 "nbformat": 4,
 "nbformat_minor": 5
}
