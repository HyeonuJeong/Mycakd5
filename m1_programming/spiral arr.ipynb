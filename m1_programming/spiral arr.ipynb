{
 "cells": [
  {
   "cell_type": "code",
   "execution_count": 444,
   "id": "0557264f",
   "metadata": {
    "scrolled": true
   },
   "outputs": [
    {
     "name": "stdout",
     "output_type": "stream",
     "text": [
      "  0   1   2 \n",
      "  7   8   3 \n",
      "  6   5   4 \n",
      "  0   0   0 \n"
     ]
    }
   ],
   "source": [
    "# a,b=map(int,input().split(' '))\n",
    "a=3\n",
    "b=4\n",
    "\n",
    "size=[[0 for i in range(a)]for i in range(b)]\n",
    "cnt=0\n",
    "x=0\n",
    "y=0\n",
    "turn=-1\n",
    "rule=0\n",
    "\n",
    "\n",
    "for i in range(a+turn):\n",
    "    x=x\n",
    "    y=y+1\n",
    "    cnt+=1\n",
    "    size[x][y]=cnt\n",
    "\n",
    "\n",
    "    \n",
    "    \n",
    "    \n",
    "    \n",
    "if rule>=2 and rule%2==0:turn-=1\n",
    "rule+=1\n",
    "for i in range(a+turn):\n",
    "    x=x+1\n",
    "    y=y\n",
    "    cnt+=1\n",
    "    size[x][y]=cnt\n",
    "\n",
    "\n",
    "if rule>=2 and rule%2==0:turn-=1\n",
    "rule+=1\n",
    "for l in range(a+turn):\n",
    "    x= x\n",
    "    y= y-1\n",
    "    cnt+=1\n",
    "    size[x][y]=cnt\n",
    "\n",
    "\n",
    "if rule>=2 and rule%2==0:turn-=1\n",
    "rule+=1\n",
    "for m in range(a+turn):\n",
    "    x=x-1\n",
    "    y=y\n",
    "    cnt+=1\n",
    "    size[x][y]=cnt\n",
    "\n",
    "\n",
    "if rule>=2 and rule%2==0:turn-=1\n",
    "rule+=1\n",
    "for i in range(a+turn):\n",
    "    x=x\n",
    "    y=y+1\n",
    "    cnt+=1\n",
    "    size[x][y]=cnt\n",
    "    \n",
    "\n",
    "\n",
    "\n",
    "\n",
    "\n",
    "\n",
    "\n",
    "for i in size:\n",
    "    for j in i:\n",
    "        print (f'{j:3d}', end=' ')\n",
    "    print()\n",
    "\n",
    "\n",
    "\n",
    "\n"
   ]
  },
  {
   "cell_type": "code",
   "execution_count": null,
   "id": "64e182e8",
   "metadata": {},
   "outputs": [],
   "source": [
    "    for i in size:\n",
    "        if not i.__contains__(0):\n",
    "            break\n",
    "    rule+=1\n",
    "    if rule==3:\n",
    "        turn-=1\n",
    "    elif rule>4 and rule%2==1:\n",
    "        turn-=1"
   ]
  },
  {
   "cell_type": "code",
   "execution_count": null,
   "id": "5a3edaa9",
   "metadata": {},
   "outputs": [],
   "source": [
    "for i in size:\n",
    "        if not i.__contains__(0):\n",
    "            break\n",
    "    rule+=1\n",
    "    if rule==3:\n",
    "        turn-=1\n",
    "    elif rule>4 and rule%2==1:\n",
    "        turn-=1\n",
    "    turn=a"
   ]
  },
  {
   "cell_type": "code",
   "execution_count": 393,
   "id": "c4ce6775",
   "metadata": {},
   "outputs": [
    {
     "name": "stdout",
     "output_type": "stream",
     "text": [
      "0없음\n",
      "0없음\n",
      "0없음\n"
     ]
    }
   ],
   "source": [
    "size=[[1 for i in range(a)]for i in range(b)]\n",
    "for i in size:\n",
    "    if not i.__contains__(0):\n",
    "        print(\"0없음\")\n",
    "    else:\n",
    "        print(\"0있음\")\n",
    "    \n",
    "\n"
   ]
  },
  {
   "cell_type": "code",
   "execution_count": 406,
   "id": "686dc1f2",
   "metadata": {},
   "outputs": [
    {
     "data": {
      "text/plain": [
       "True"
      ]
     },
     "execution_count": 406,
     "metadata": {},
     "output_type": "execute_result"
    }
   ],
   "source": [
    "rule=3\n",
    "rule%2==1"
   ]
  },
  {
   "cell_type": "code",
   "execution_count": 32,
   "id": "10d577fc",
   "metadata": {},
   "outputs": [
    {
     "name": "stdout",
     "output_type": "stream",
     "text": [
      " 0  1  2  3  4 \n",
      "11 12 13 14  5 \n",
      "10  9  8  7  6 \n"
     ]
    }
   ],
   "source": [
    "from itertools import cycle\n",
    "\n",
    "def spiral(m, n):\n",
    "\n",
    "size = m * n\n",
    "matrix = [''] * size #['', '', '', ... '']\n",
    "matrix[:m] = list(range(m)) #m=3인경우 [0, 1, 2, '', '', ... ]\n",
    "idx = m - 1; s = idx; p = idx\n",
    "pattern = [m, -1, -m, 1] #아래, 왼쪽, 위, 오른쪽\n",
    "for pat in cycle(pattern): #패턴을 반복\n",
    "    while True:\n",
    "        p += pat; s += 1\n",
    "        if p < size and matrix[p] == '': #size를 넘지않고, 값이 비어있는경우\n",
    "            matrix[p] = s\n",
    "        else:\n",
    "            p -= pat; s -= 1 #복원\n",
    "            break #다음 패턴으로\n",
    "    if '' not in matrix: #모두 숫자로 채워지면\n",
    "        return matrix\n",
    "\n",
    "def main(m, n):\n",
    "for i, a in enumerate(spiral(m, n), 1):\n",
    "    print('{:2d}'.format(a), end=' ')\n",
    "    if i % m == 0:\n",
    "        print()\n",
    "\n",
    "main(5, 3)"
   ]
  },
  {
   "cell_type": "code",
   "execution_count": null,
   "id": "45732025",
   "metadata": {},
   "outputs": [],
   "source": []
  },
  {
   "cell_type": "code",
   "execution_count": 42,
   "id": "c4280819",
   "metadata": {},
   "outputs": [
    {
     "name": "stdout",
     "output_type": "stream",
     "text": [
      "[0, 1, 2, 3, 4, 5, '', '', '', '', '', '', '', '', '', '', '', '', '', '', '', '', '', '', '', '', '', '', '', '', '', '', '', '', '', '']\n"
     ]
    }
   ],
   "source": [
    "m=6\n",
    "n=6\n",
    "size = m * n\n",
    "matrix = [''] * size\n",
    "matrix[:m] = list(range(m)) \n",
    "idx = m - 1\n",
    "s = idx\n",
    "p = idx\n",
    "pattern = [m, -1, -m, 1]\n",
    "print(matrix)\n",
    "for pat in cycle(pattern):\n",
    "    p += pat; s += 1\n",
    "    if p < size and matrix[p] == '': #size를 넘지않고, 값이 비어있는경우\n",
    "        matrix[p] = s\n",
    "    else:\n",
    "        p -= pat; s -= 1 #복원\n",
    "        break #다음 패턴으로\n",
    "    if '' not in matrix: #모두 숫자로 채워지면\n",
    "        return matrix"
   ]
  },
  {
   "cell_type": "code",
   "execution_count": 72,
   "id": "33190bd6",
   "metadata": {},
   "outputs": [
    {
     "name": "stdout",
     "output_type": "stream",
     "text": [
      "[[-1, -1, -1, -1], [-1, -1, -1, -1], [-1, -1, -1, -1]]\n"
     ]
    }
   ],
   "source": [
    "X=3\n",
    "Y=4\n",
    "table = [[-1 for _ in range(Y)] for _ in range(X)]\n",
    "print(table)\n",
    "\n",
    "x, y = 0, 0\n",
    "dx, dy = 0, 1\n",
    "count = 0\n",
    "\n",
    "while table[x][y] == -1:\n",
    "    table[x][y] = count\n",
    "    count += 1\n",
    "    x, y = x+dx, y+dy    \n",
    "    if x == X or y == Y or table[x][y] !=-1:\n",
    "        x, y = x-dx, y-dy\n",
    "        dx, dy = dy, -dx\n",
    "        x, y = x+dx, y+dy\n",
    "\n",
    "for i in table:\n",
    "    for j in i:\n",
    "        print (f'{j:3d}', end=' ')\n",
    "    print ()\n"
   ]
  },
  {
   "cell_type": "code",
   "execution_count": 122,
   "id": "90f2aa75",
   "metadata": {},
   "outputs": [
    {
     "name": "stdout",
     "output_type": "stream",
     "text": [
      "[[1, 2, 3], [8, 9, 4], [7, 6, 5]]\n"
     ]
    }
   ],
   "source": [
    "input=3\n",
    "max_val=input*input\n",
    "mat = []\n",
    "for x in range(input):\n",
    "    mat.append( [0] * input )\n",
    "\n",
    "counter = 1\n",
    "pos_x = 0\n",
    "pos_y = 0\n",
    "Direction=\"right\"\n",
    "\n",
    "while counter <= max_val:\n",
    "    mat[pos_x][pos_y]=counter\n",
    "    counter = counter + 1   \n",
    "    if Direction == \"right\":       \n",
    "        if pos_y + 1 == input or mat[pos_x][pos_y+1]>0:\n",
    "            Direction = \"down\"\n",
    "            pos_x = pos_x + 1          \n",
    "        else:       \n",
    "            pos_y = pos_y + 1\n",
    "       \n",
    "    elif Direction == \"down\":\n",
    "        if pos_x + 1  == input or mat[pos_x+1][pos_y]>0:\n",
    "            Direction = \"left\"\n",
    "            pos_y = pos_y - 1\n",
    "        else:          \n",
    "            pos_x = pos_x + 1\n",
    "       \n",
    "       \n",
    "    elif Direction == \"left\":\n",
    "        if pos_y - 1 < 0 or mat[pos_x][pos_y-1]>0:         \n",
    "            Direction = \"up\"\n",
    "            pos_x = pos_x - 1\n",
    "        else:\n",
    "            pos_y = pos_y - 1\n",
    "\n",
    "    elif Direction == \"up\":\n",
    "        if pos_x - 1 < 0 or mat[pos_x-1][pos_y]>0:           \n",
    "            Direction = \"right\"\n",
    "            pos_y = pos_y + 1         \n",
    "        else:           \n",
    "            pos_x = pos_x - 1\n",
    "print ( mat )"
   ]
  }
 ],
 "metadata": {
  "kernelspec": {
   "display_name": "Python 3 (ipykernel)",
   "language": "python",
   "name": "python3"
  },
  "language_info": {
   "codemirror_mode": {
    "name": "ipython",
    "version": 3
   },
   "file_extension": ".py",
   "mimetype": "text/x-python",
   "name": "python",
   "nbconvert_exporter": "python",
   "pygments_lexer": "ipython3",
   "version": "3.8.12"
  }
 },
 "nbformat": 4,
 "nbformat_minor": 5
}
