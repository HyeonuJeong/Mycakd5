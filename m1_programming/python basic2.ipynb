{
 "cells": [
  {
   "cell_type": "code",
   "execution_count": 5,
   "id": "98bcbf9d",
   "metadata": {},
   "outputs": [
    {
     "name": "stdout",
     "output_type": "stream",
     "text": [
      "It is true\n",
      "'Python is fit for data analysis'\n"
     ]
    }
   ],
   "source": [
    "input_a = \"\"\"\n",
    "                       It is true\n",
    "'Python is fit for data analysis'\n",
    "\"\"\"\n",
    "print(input_a.strip())"
   ]
  },
  {
   "cell_type": "code",
   "execution_count": 27,
   "id": "8d2de975",
   "metadata": {},
   "outputs": [
    {
     "name": "stdout",
     "output_type": "stream",
     "text": [
      "2\n",
      "3\n",
      "다시입력\n",
      "결과 : None\n"
     ]
    }
   ],
   "source": [
    "while(1):\n",
    "    a=int(input())\n",
    "    b=int(input())\n",
    "    def couple(a,b):\n",
    "        if a%2==0 and b%2==0:\n",
    "            return a*b\n",
    "        elif a%2==1 and b%2==1:\n",
    "            return a+b\n",
    "        else:\n",
    "            print(\"다시입력\")\n",
    "\n",
    "    print(f\"결과 : {couple(a,b)}\")\n",
    "    break"
   ]
  },
  {
   "cell_type": "code",
   "execution_count": 50,
   "id": "792bdba5",
   "metadata": {
    "scrolled": true
   },
   "outputs": [
    {
     "name": "stdout",
     "output_type": "stream",
     "text": [
      "2500\n"
     ]
    }
   ],
   "source": [
    "def Max(a,b):\n",
    "    lst=[]\n",
    "    for i in range(b):\n",
    "        a+=1\n",
    "        b-=1\n",
    "        lst.append(a*b)\n",
    "    lst.sort(reverse=True)\n",
    "    return lst[0]\n",
    "\n",
    "print(Max(0,100))"
   ]
  },
  {
   "cell_type": "code",
   "execution_count": 52,
   "id": "52fc0143",
   "metadata": {},
   "outputs": [
    {
     "name": "stdout",
     "output_type": "stream",
     "text": [
      "2500\n"
     ]
    }
   ],
   "source": [
    "def Max(a,b):\n",
    "    mx=0\n",
    "    for i in range(b):\n",
    "        a+=1\n",
    "        b-=1\n",
    "        if a*b>=mx:\n",
    "            mx=a*b\n",
    "    return mx\n",
    "\n",
    "print(Max(0,100))"
   ]
  },
  {
   "cell_type": "code",
   "execution_count": 64,
   "id": "b0b0ddca",
   "metadata": {},
   "outputs": [
    {
     "name": "stdout",
     "output_type": "stream",
     "text": [
      "[[1, 4, 7], [2, 5, 8], [3, 6, 9]]\n"
     ]
    }
   ],
   "source": [
    "num=[1,2,3,4,5,6,7,8,9]\n",
    "out=[[], [], []]\n",
    "\n",
    "for i in num:\n",
    "    out[(i%3)-1].append(i)\n",
    "\n",
    "print(out)"
   ]
  },
  {
   "cell_type": "code",
   "execution_count": 86,
   "id": "bc2fbabd",
   "metadata": {},
   "outputs": [
    {
     "data": {
      "text/plain": [
       "array([5, 0, 3, 3, 7, 9, 3, 5, 2, 4])"
      ]
     },
     "execution_count": 86,
     "metadata": {},
     "output_type": "execute_result"
    }
   ],
   "source": [
    "import numpy as np\n",
    "np.random.seed(0)\n",
    "np.random.randint(10,size=10)"
   ]
  },
  {
   "cell_type": "code",
   "execution_count": 266,
   "id": "416ccd83",
   "metadata": {},
   "outputs": [
    {
     "name": "stdout",
     "output_type": "stream",
     "text": [
      "게임 횟수 : 5\n",
      "[10, 11, 20, 23, 24, 26, 28]\n",
      "[5, 17, 29, 31, 38, 39, 41]\n",
      "[2, 7, 12, 14, 16, 34, 36]\n",
      "[6, 8, 17, 23, 32, 33, 35]\n",
      "[3, 11, 14, 16, 29, 41, 42]\n"
     ]
    }
   ],
   "source": [
    "a=int(input(\"게임 횟수 : \"))\n",
    "i=0\n",
    "lst=[]\n",
    "while i!=a:\n",
    "    r=np.random.randint(1,45)\n",
    "    if len(lst)<=6:\n",
    "        if r not in lst:\n",
    "            lst.append(r)\n",
    "    else:\n",
    "        lst.sort()\n",
    "        print(lst)\n",
    "        lst=[]\n",
    "        i+=1\n",
    "        \n"
   ]
  },
  {
   "cell_type": "code",
   "execution_count": 267,
   "id": "3498b0c9",
   "metadata": {},
   "outputs": [
    {
     "name": "stdout",
     "output_type": "stream",
     "text": [
      "남자 : 이씨, 여자 : 이양\n",
      "남자 : 박씨, 여자 : 김양\n",
      "남자 : 정씨, 여자 : 박양\n",
      "남자 : 김씨, 여자 : 정양\n",
      "남자 : 최씨, 여자 : 최양\n"
     ]
    }
   ],
   "source": [
    "import numpy as np\n",
    "m=[\"김씨\",\"이씨\",\"박씨\",\"최씨\",\"정씨\"]\n",
    "w=[\"김양\",\"이양\",\"박양\",\"최양\",\"정양\"]\n",
    "np.random.shuffle(m)\n",
    "np.random.shuffle(w)\n",
    "for i in range(5):\n",
    "    print(f'남자 : {m[i]}, 여자 : {w[i]}')\n"
   ]
  },
  {
   "cell_type": "code",
   "execution_count": 212,
   "id": "9f2f75c3",
   "metadata": {},
   "outputs": [
    {
     "name": "stdout",
     "output_type": "stream",
     "text": [
      "입력 : asdf\n",
      "sdfa\n"
     ]
    }
   ],
   "source": [
    "a=list(input(\"입력 : \"))\n",
    "\n",
    "for i in range(len(a)-1):\n",
    "    print(a[i+1],end='')\n",
    "    print(a[0])"
   ]
  },
  {
   "cell_type": "code",
   "execution_count": null,
   "id": "91acb50a",
   "metadata": {},
   "outputs": [
    {
     "name": "stdout",
     "output_type": "stream",
     "text": [
      "\n",
      "\n",
      "    중앙 식당에 오신 것을 환영합니다\n",
      "\n",
      "    ========================================\n",
      "\n",
      "              - 메  뉴 -\n",
      "        1. 불고기 비빔밥 : 12,000원\n",
      "        2. 야채 비빔밥 : 8,000원\n",
      "        3. 전주 비빔밥 : 10,000원\n",
      "\n",
      "        세트 주문시 : 3000원 추가\n",
      "        (세트는 밥과 반찬이 추가됩니다.)\n",
      "\n",
      "    ========================================\n",
      "\n",
      "    \n",
      "비빔밥 메뉴를 선택해 주세요 (1,2,3) : 1\n",
      "세트 주문을 하시겠습니까? 3000원 추가 (y,n) : 2\n",
      "메뉴를 다시 골라주세요\n",
      "총결제금액 : 0\n",
      "비빔밥 메뉴를 선택해 주세요 (1,2,3) : 1\n",
      "세트 주문을 하시겠습니까? 3000원 추가 (y,n) : y\n",
      "총결제금액 : 15000\n",
      "비빔밥 메뉴를 선택해 주세요 (1,2,3) : 2\n",
      "세트 주문을 하시겠습니까? 3000원 추가 (y,n) : 3\n",
      "메뉴를 다시 골라주세요\n",
      "총결제금액 : 0\n",
      "비빔밥 메뉴를 선택해 주세요 (1,2,3) : 4\n",
      "메뉴를 다시 골라주세요\n",
      "세트 주문을 하시겠습니까? 3000원 추가 (y,n) : 5\n",
      "메뉴를 다시 골라주세요\n",
      "총결제금액 : 0\n",
      "비빔밥 메뉴를 선택해 주세요 (1,2,3) : 2\n",
      "세트 주문을 하시겠습니까? 3000원 추가 (y,n) : 1\n",
      "메뉴를 다시 골라주세요\n",
      "총결제금액 : 0\n",
      "비빔밥 메뉴를 선택해 주세요 (1,2,3) : t\n",
      "메뉴를 다시 골라주세요\n",
      "세트 주문을 하시겠습니까? 3000원 추가 (y,n) : n\n",
      "총결제금액 : 0\n",
      "비빔밥 메뉴를 선택해 주세요 (1,2,3) : 2\n",
      "세트 주문을 하시겠습니까? 3000원 추가 (y,n) : y\n",
      "총결제금액 : 11000\n",
      "비빔밥 메뉴를 선택해 주세요 (1,2,3) : 3\n",
      "세트 주문을 하시겠습니까? 3000원 추가 (y,n) : n\n",
      "총결제금액 : 10000\n"
     ]
    }
   ],
   "source": [
    "print('''\n",
    "\n",
    "    중앙 식당에 오신 것을 환영합니다\n",
    "\n",
    "    ========================================\n",
    "\n",
    "              - 메  뉴 -\n",
    "        1. 불고기 비빔밥 : 12,000원\n",
    "        2. 야채 비빔밥 : 8,000원\n",
    "        3. 전주 비빔밥 : 10,000원\n",
    "\n",
    "        세트 주문시 : 3000원 추가\n",
    "        (세트는 밥과 반찬이 추가됩니다.)\n",
    "\n",
    "    ========================================\n",
    "\n",
    "    ''')\n",
    "\n",
    "price=0\n",
    "while(price == 0):\n",
    "    try:\n",
    "        a=input(\"비빔밥 메뉴를 선택해 주세요 (1,2,3) : \")\n",
    "        if a in ('1','2','3'):\n",
    "            if a=='1':\n",
    "                price+=12000\n",
    "            elif a=='2':\n",
    "                price+=8000\n",
    "            else:\n",
    "                price+=10000\n",
    "        else:\n",
    "            print(\"메뉴를 다시 골라주세요\")\n",
    "\n",
    "                \n",
    "        b=input(\"세트 주문을 하시겠습니까? 3000원 추가 (y,n) : \")\n",
    "        if b=='y':\n",
    "            price+=3000\n",
    "        elif b=='n':\n",
    "            pass\n",
    "        else:\n",
    "            print(\"메뉴를 다시 골라주세요\")\n",
    "            price=0\n",
    "        print(f\"총결제금액 : {price}\")\n",
    "        price=0\n",
    "    except:\n",
    "        print(\"메뉴를 다시 골라주세요\")"
   ]
  },
  {
   "cell_type": "code",
   "execution_count": 2,
   "id": "651a38ae",
   "metadata": {},
   "outputs": [
    {
     "name": "stdout",
     "output_type": "stream",
     "text": [
      "숫자입력 >> 1.가위.2.바위 3.보 (1,2,3) : 1\n",
      "가위를 내셨습니다. 컴퓨터는 바위 입니다. 플레이어 패 \n",
      "숫자입력 >> 1.가위.2.바위 3.보 (1,2,3) : 2\n",
      "바위를 내셨습니다. 컴퓨터는 바위 입니다. 무승부\n",
      "숫자입력 >> 1.가위.2.바위 3.보 (1,2,3) : 3\n",
      "보를 내셨습니다. 컴퓨터는 가위 입니다. 플레이어 패 \n",
      "숫자입력 >> 1.가위.2.바위 3.보 (1,2,3) : 4\n",
      "다시입력\n",
      "숫자입력 >> 1.가위.2.바위 3.보 (1,2,3) : 5\n",
      "다시입력\n",
      "숫자입력 >> 1.가위.2.바위 3.보 (1,2,3) : 3\n",
      "보를 내셨습니다. 컴퓨터는 가위 입니다. 플레이어 패 \n",
      "숫자입력 >> 1.가위.2.바위 3.보 (1,2,3) : 2\n",
      "바위를 내셨습니다. 컴퓨터는 바위 입니다. 무승부\n",
      "숫자입력 >> 1.가위.2.바위 3.보 (1,2,3) : 1\n",
      "가위를 내셨습니다. 컴퓨터는 가위 입니다. 무승부\n",
      "숫자입력 >> 1.가위.2.바위 3.보 (1,2,3) : 3\n",
      "보를 내셨습니다. 컴퓨터는 바위 입니다. 플레이어 승 \n",
      "1승/3승\n",
      "숫자입력 >> 1.가위.2.바위 3.보 (1,2,3) : 2\n",
      "바위를 내셨습니다. 컴퓨터는 가위 입니다. 플레이어 승 \n",
      "2승/3승\n",
      "숫자입력 >> 1.가위.2.바위 3.보 (1,2,3) : 3\n",
      "보를 내셨습니다. 컴퓨터는 가위 입니다. 플레이어 패 \n",
      "숫자입력 >> 1.가위.2.바위 3.보 (1,2,3) : 2\n",
      "바위를 내셨습니다. 컴퓨터는 가위 입니다. 플레이어 승 \n",
      "3승/3승\n"
     ]
    }
   ],
   "source": [
    "import numpy as np\n",
    "\n",
    "lst=[0,\"가위\",\"바위\",\"보\"]\n",
    "i=0\n",
    "\n",
    "while i!=3:\n",
    "    try:\n",
    "        a=int(input(\"숫자입력 >> 1.가위.2.바위 3.보 (1,2,3) : \"))\n",
    "        r=np.random.randint(1,3)\n",
    "        if a in (1,2,3):\n",
    "            if (a==1 and r==1) or (a==2 and r==2) or (a==3 and r==3):\n",
    "                print(f'{lst[a]}를 내셨습니다. 컴퓨터는 {lst[r]} 입니다. 무승부')  \n",
    "            elif (a==1 and r==3) or (a==2 and r==1) or (a==3 and r==2):\n",
    "                print(f'{lst[a]}를 내셨습니다. 컴퓨터는 {lst[r]} 입니다. 플레이어 승 ')\n",
    "                i+=1\n",
    "                print(f\"{i}승/3승\")\n",
    "            else:\n",
    "                print(f'{lst[a]}를 내셨습니다. 컴퓨터는 {lst[r]} 입니다. 플레이어 패 ')\n",
    "        else:\n",
    "            print(\"다시입력\")\n",
    "    except:\n",
    "        print(\"다시입력\")\n",
    "\n"
   ]
  },
  {
   "cell_type": "code",
   "execution_count": 18,
   "id": "69c9cd25",
   "metadata": {},
   "outputs": [
    {
     "name": "stdout",
     "output_type": "stream",
     "text": [
      "수입력 1~5 : 4\n",
      "내숫자4 컴퓨터4 성공\n"
     ]
    }
   ],
   "source": [
    "a= int(input(\"수입력 1~5 : \"))\n",
    "r=np.random.randint(5)\n",
    "if a==r:\n",
    "    print(f\"내숫자{a} 컴퓨터{r} 성공\")\n",
    "else:\n",
    "    print(f\"내숫자{a} 컴퓨터{r} 실패\")"
   ]
  }
 ],
 "metadata": {
  "kernelspec": {
   "display_name": "Python 3 (ipykernel)",
   "language": "python",
   "name": "python3"
  },
  "language_info": {
   "codemirror_mode": {
    "name": "ipython",
    "version": 3
   },
   "file_extension": ".py",
   "mimetype": "text/x-python",
   "name": "python",
   "nbconvert_exporter": "python",
   "pygments_lexer": "ipython3",
   "version": "3.9.7"
  }
 },
 "nbformat": 4,
 "nbformat_minor": 5
}
