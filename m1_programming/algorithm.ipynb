{
 "cells": [
  {
   "cell_type": "code",
   "execution_count": 8,
   "id": "39af2cd1",
   "metadata": {},
   "outputs": [
    {
     "data": {
      "text/plain": [
       "233168"
      ]
     },
     "execution_count": 8,
     "metadata": {},
     "output_type": "execute_result"
    }
   ],
   "source": [
    "#Multiples of 3 and 5\n",
    "\n",
    "lst=[x for x in range(1,1000) if x%3==0 or x%5==0]\n",
    "\n",
    "sum(lst)"
   ]
  },
  {
   "cell_type": "code",
   "execution_count": 18,
   "id": "9701300e",
   "metadata": {},
   "outputs": [
    {
     "name": "stdout",
     "output_type": "stream",
     "text": [
      "공백\n"
     ]
    }
   ],
   "source": [
    "#탭을 공백4개로 교체\n",
    "\n",
    "a=\"\\t\"\n",
    "a=a.replace(\"\\t\",\"    \")\n",
    "\n",
    "if a==\"\\t\":\n",
    "    print(\"탭\")\n",
    "else:\n",
    "    print(\"공백\")"
   ]
  },
  {
   "cell_type": "code",
   "execution_count": 22,
   "id": "0f8fd1fb",
   "metadata": {},
   "outputs": [
    {
     "name": "stdout",
     "output_type": "stream",
     "text": [
      "m:10\n",
      "n:3\n",
      "출력페이지:4\n"
     ]
    }
   ],
   "source": [
    "#게시판 페이징 m출력수 n페이지당게시물 p총페이지수구하기\n",
    "\n",
    "m=int(input('m:'))\n",
    "n=int(input('n:'))\n",
    "if n>=1:\n",
    "    print('p:',end='')\n",
    "    if n%m==0:\n",
    "        print(n%m)\n",
    "    else:\n",
    "        print((n%m)+1)\n",
    "    "
   ]
  },
  {
   "cell_type": "code",
   "execution_count": 36,
   "id": "0dd7d904",
   "metadata": {},
   "outputs": [
    {
     "name": "stdout",
     "output_type": "stream",
     "text": [
      "김:2, 이:6\n",
      "이재영:3\n",
      "{'이성연', '김재성', '전경헌', '김지완', '권종표', '강상희', '이재영', '박민호', '최승혁', '박영서', '송정환', '이유덕'}\n",
      "{'이성연', '김재성', '최승혁', '전경헌', '김지완', '권종표', '강상희', '박영서', '박민호', '송정환', '이재영', '이유덕'}\n"
     ]
    }
   ],
   "source": [
    "import re\n",
    "lst=\"이유덕,이재영,권종표,이재영,박민호,강상희,이재영,김지완,최승혁,이성연,박영서,박민호,전경헌,송정환,김재성,이유덕,전경헌\".split(\",\")\n",
    "kim=0\n",
    "lee=0\n",
    "ljy=0\n",
    "a=set(lst)\n",
    "b=sorted(lst)\n",
    "for i in lst:\n",
    "    if i[0] ==  '김':\n",
    "        kim+=1\n",
    "    if i[0] ==  '이':\n",
    "        lee+=1\n",
    "    if i==\"이재영\":\n",
    "        ljy+=1\n",
    "        \n",
    "print(f'김:{kim}, 이:{lee}')\n",
    "print(f'이재영:{ljy}')\n",
    "print(a)\n",
    "print(set(b))"
   ]
  }
 ],
 "metadata": {
  "kernelspec": {
   "display_name": "Python 3",
   "language": "python",
   "name": "python3"
  },
  "language_info": {
   "codemirror_mode": {
    "name": "ipython",
    "version": 3
   },
   "file_extension": ".py",
   "mimetype": "text/x-python",
   "name": "python",
   "nbconvert_exporter": "python",
   "pygments_lexer": "ipython3",
   "version": "3.8.10"
  }
 },
 "nbformat": 4,
 "nbformat_minor": 5
}
