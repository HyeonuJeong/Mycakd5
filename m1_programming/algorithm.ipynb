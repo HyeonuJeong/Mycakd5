{
 "cells": [
  {
   "cell_type": "code",
   "execution_count": null,
   "id": "39af2cd1",
   "metadata": {},
   "outputs": [],
   "source": [
    "#Multiples of 3 and 5\n",
    "\n",
    "lst=[x for x in range(1,1000) if x%3==0 or x%5==0]\n",
    "\n",
    "sum(lst)"
   ]
  },
  {
   "cell_type": "code",
   "execution_count": null,
   "id": "9701300e",
   "metadata": {},
   "outputs": [],
   "source": [
    "#탭을 공백4개로 교체\n",
    "\n",
    "a=\"\\t\"\n",
    "a=a.replace(\"\\t\",\"    \")\n",
    "\n",
    "if a==\"\\t\":\n",
    "    print(\"탭\")\n",
    "else:\n",
    "    print(\"공백\")"
   ]
  },
  {
   "cell_type": "code",
   "execution_count": null,
   "id": "0f8fd1fb",
   "metadata": {},
   "outputs": [],
   "source": [
    "#게시판 페이징 m출력수 n페이지당게시물 p총페이지수구하기\n",
    "\n",
    "m=int(input('m:'))\n",
    "n=int(input('n:'))\n",
    "if n>=1:\n",
    "    print('p:',end='')\n",
    "    if n%m==0:\n",
    "        print(n%m)\n",
    "    else:\n",
    "        print((n%m)+1)\n",
    "    "
   ]
  },
  {
   "cell_type": "code",
   "execution_count": null,
   "id": "0dd7d904",
   "metadata": {},
   "outputs": [],
   "source": [
    "import re\n",
    "lst=\"이유덕,이재영,권종표,이재영,박민호,강상희,이재영,김지완,최승혁,이성연,박영서,박민호,전경헌,송정환,김재성,이유덕,전경헌\".split(\",\")\n",
    "kim=0\n",
    "lee=0\n",
    "ljy=0\n",
    "a=set(lst)\n",
    "b=sorted(lst)\n",
    "for i in lst:\n",
    "    if i[0] ==  '김':\n",
    "        kim+=1\n",
    "    if i[0] ==  '이':\n",
    "        lee+=1\n",
    "    if i==\"이재영\":\n",
    "        ljy+=1\n",
    "        \n",
    "print(f'김:{kim}, 이:{lee}')\n",
    "print(f'이재영:{ljy}')\n",
    "print(a)\n",
    "print(set(b))"
   ]
  },
  {
   "cell_type": "code",
   "execution_count": null,
   "id": "7ebbeadf",
   "metadata": {},
   "outputs": [],
   "source": [
    "\n",
    "a,b=input().split()\n",
    "a=int(a[::-1])\n",
    "b=int(b[::-1])\n",
    "\n",
    "print(max(a,b))"
   ]
  },
  {
   "cell_type": "code",
   "execution_count": null,
   "id": "a9ba8903",
   "metadata": {
    "scrolled": true
   },
   "outputs": [],
   "source": [
    "s=input().split()\n",
    "print(len(s))"
   ]
  },
  {
   "cell_type": "code",
   "execution_count": null,
   "id": "fc1d2ce7",
   "metadata": {},
   "outputs": [],
   "source": [
    "print(\"\"\"\\\\    /\\\\\n",
    " )  ( ')\n",
    "(  /  )\n",
    " \\\\(__)|\"\"\")"
   ]
  },
  {
   "cell_type": "code",
   "execution_count": null,
   "id": "38ae9125",
   "metadata": {},
   "outputs": [],
   "source": [
    "n = int(input())\n",
    " \n",
    "li = []\n",
    "for i in range(n):\n",
    "    li.append(int(input()))\n",
    " \n",
    "li.sort() # 오름차순 정렬\n",
    " \n",
    "for i in li:\n",
    "    print(i)          "
   ]
  },
  {
   "cell_type": "code",
   "execution_count": null,
   "id": "2ed9d168",
   "metadata": {},
   "outputs": [],
   "source": [
    "# a=input()\n",
    "a='4461'\n",
    "b=int(a)\n",
    "\n",
    "for i in range(1,len(a)):\n",
    "    b=round(int(a),-i)\n",
    "    print(b)\n",
    "    \n"
   ]
  },
  {
   "cell_type": "code",
   "execution_count": 79,
   "id": "18a30f13",
   "metadata": {},
   "outputs": [
    {
     "name": "stdout",
     "output_type": "stream",
     "text": [
      "24 18\n",
      "6\n"
     ]
    },
    {
     "ename": "AttributeError",
     "evalue": "module 'math' has no attribute 'lcm'",
     "output_type": "error",
     "traceback": [
      "\u001b[1;31m---------------------------------------------------------------------------\u001b[0m",
      "\u001b[1;31mAttributeError\u001b[0m                            Traceback (most recent call last)",
      "\u001b[1;32m~\\AppData\\Local\\Temp/ipykernel_11908/1580495941.py\u001b[0m in \u001b[0;36m<module>\u001b[1;34m\u001b[0m\n\u001b[0;32m      3\u001b[0m \u001b[0ma\u001b[0m\u001b[1;33m,\u001b[0m\u001b[0mb\u001b[0m\u001b[1;33m=\u001b[0m\u001b[0mmap\u001b[0m\u001b[1;33m(\u001b[0m\u001b[0mint\u001b[0m\u001b[1;33m,\u001b[0m\u001b[0minput\u001b[0m\u001b[1;33m(\u001b[0m\u001b[1;33m)\u001b[0m\u001b[1;33m.\u001b[0m\u001b[0msplit\u001b[0m\u001b[1;33m(\u001b[0m\u001b[1;33m)\u001b[0m\u001b[1;33m)\u001b[0m\u001b[1;33m\u001b[0m\u001b[1;33m\u001b[0m\u001b[0m\n\u001b[0;32m      4\u001b[0m \u001b[0mprint\u001b[0m\u001b[1;33m(\u001b[0m\u001b[0mmath\u001b[0m\u001b[1;33m.\u001b[0m\u001b[0mgcd\u001b[0m\u001b[1;33m(\u001b[0m\u001b[0ma\u001b[0m\u001b[1;33m,\u001b[0m\u001b[0mb\u001b[0m\u001b[1;33m)\u001b[0m\u001b[1;33m)\u001b[0m\u001b[1;33m\u001b[0m\u001b[1;33m\u001b[0m\u001b[0m\n\u001b[1;32m----> 5\u001b[1;33m \u001b[0mprint\u001b[0m\u001b[1;33m(\u001b[0m\u001b[0mmath\u001b[0m\u001b[1;33m.\u001b[0m\u001b[0mlcm\u001b[0m\u001b[1;33m(\u001b[0m\u001b[1;36m24\u001b[0m\u001b[1;33m,\u001b[0m\u001b[1;36m18\u001b[0m\u001b[1;33m)\u001b[0m\u001b[1;33m)\u001b[0m\u001b[1;33m\u001b[0m\u001b[1;33m\u001b[0m\u001b[0m\n\u001b[0m\u001b[0;32m      6\u001b[0m \u001b[1;33m\u001b[0m\u001b[0m\n\u001b[0;32m      7\u001b[0m \u001b[1;33m\u001b[0m\u001b[0m\n",
      "\u001b[1;31mAttributeError\u001b[0m: module 'math' has no attribute 'lcm'"
     ]
    }
   ],
   "source": [
    "import math\n",
    "\n",
    "a,b=map(int,input().split())\n",
    "print(math.gcd(a,b))\n",
    "print(math.lcm(a,b))\n",
    "\n",
    "\n"
   ]
  },
  {
   "cell_type": "code",
   "execution_count": null,
   "id": "50463d97",
   "metadata": {},
   "outputs": [],
   "source": [
    "a=int(input())\n",
    "\n",
    "if a%2==0:\n",
    "    print('CY')\n",
    "else:\n",
    "    print('SK')\n"
   ]
  },
  {
   "cell_type": "code",
   "execution_count": null,
   "id": "e49b0d13",
   "metadata": {},
   "outputs": [],
   "source": [
    "s=input()\n",
    "n=len(s)\n",
    "for i in range(n):\n",
    "    if s[i:]==s[i:][::-1]:\n",
    "        print(n+i)\n",
    "        break"
   ]
  },
  {
   "cell_type": "code",
   "execution_count": null,
   "id": "20c49741",
   "metadata": {
    "scrolled": false
   },
   "outputs": [],
   "source": [
    "lst=[]\n",
    "n=int(input())\n",
    "for i in range(n):\n",
    "    a=int(input())\n",
    "    if a!=0:\n",
    "        lst.append(a)\n",
    "    else:\n",
    "        lst.pop()\n",
    "print(sum(lst))"
   ]
  },
  {
   "cell_type": "code",
   "execution_count": null,
   "id": "081534e0",
   "metadata": {},
   "outputs": [],
   "source": [
    "case = int(input())\n",
    "\n",
    "dp = [0,0,1,1]\n",
    "\n",
    "for i in range(4, case+1):\n",
    "    dp.append(dp[i-1]+1)\n",
    "    if i%2 == 0:\n",
    "        dp[i] = min(dp[i//2]+1, dp[i])\n",
    "    if i%3 == 0:\n",
    "        dp[i] = min(dp[i//3]+1, dp[i])\n",
    "\n",
    "print(dp[case])"
   ]
  },
  {
   "cell_type": "code",
   "execution_count": null,
   "id": "19ec4082",
   "metadata": {},
   "outputs": [],
   "source": [
    "import collections\n",
    "\n",
    "participant=[\"mislav\", \"stanko\", \"mislav\", \"ana\"]\n",
    "completion=[\"stanko\", \"ana\", \"mislav\"]\n",
    "answer = collections.Counter(participant) - collections.Counter(completion)\n",
    "\n",
    "print(collections.Counter(participant)-collections.Counter(completion))\n",
    "\n",
    "a=collections.Counter(participant)-collections.Counter(completion)\n",
    "print(list(a.keys())[0])"
   ]
  },
  {
   "cell_type": "code",
   "execution_count": null,
   "id": "3de8bc46",
   "metadata": {},
   "outputs": [],
   "source": [
    "def solution(phone_book):\n",
    "    lst=phone_book.split()\n",
    "    answer = True\n",
    "    return answer"
   ]
  },
  {
   "cell_type": "code",
   "execution_count": null,
   "id": "01e365e8",
   "metadata": {},
   "outputs": [],
   "source": [
    "def solution(phone_book):\n",
    "    for i in phone_book:\n",
    "        if phone_book[0] in i:\n",
    "            answer = False\n",
    "    answer = True\n",
    "    return answer\n",
    "\n",
    "pb=[\"119\", \"97674223\", \"1195524421\"]\n",
    "solution(pb)"
   ]
  },
  {
   "cell_type": "code",
   "execution_count": null,
   "id": "af33cb7f",
   "metadata": {},
   "outputs": [],
   "source": [
    "def solution(phone_book):\n",
    "    for i in range(len(phone_book)-1):\n",
    "        if phone_book[0] in phone_book[1+i]:\n",
    "            print(phone_book[0],phone_book[1+i])\n",
    "            return False\n",
    "    return True"
   ]
  },
  {
   "cell_type": "code",
   "execution_count": null,
   "id": "572c9db1",
   "metadata": {},
   "outputs": [],
   "source": [
    "a=int(input())\n",
    "lst=[0]*a\n",
    "\n",
    "for i in range(a):\n",
    "    b=input()\n",
    "    lst[i]=b\n",
    "lst.sort()\n",
    "for i in lst:\n",
    "    print(i)"
   ]
  },
  {
   "cell_type": "code",
   "execution_count": null,
   "id": "757a0ba5",
   "metadata": {},
   "outputs": [],
   "source": [
    "T = int(input())\n",
    "\n",
    "for _ in range(T):\n",
    "    m, n = map(int, input().split())\n",
    "    answer = 1\n",
    "    k = n - m\n",
    "    \n",
    "    while n > k:\n",
    "        answer *= n\n",
    "        n -= 1\n",
    "    while m > 1:\n",
    "        answer = answer // m\n",
    "        m -= 1\n",
    "    \n",
    "    print(answer)\n"
   ]
  },
  {
   "cell_type": "code",
   "execution_count": null,
   "id": "137518d1",
   "metadata": {},
   "outputs": [],
   "source": [
    "a=0\n",
    "lst=0\n",
    "def sn(a):\n",
    "    sa=str(a)"
   ]
  },
  {
   "cell_type": "code",
   "execution_count": null,
   "id": "038db9af",
   "metadata": {},
   "outputs": [],
   "source": [
    "a=0\n",
    "lst=0\n",
    "def sn(a):\n",
    "    sa=str(a)\n",
    "    for i in sa:\n",
    "        \n",
    "    return sa\n",
    "print(type(sn(10)),sn(10))"
   ]
  },
  {
   "cell_type": "code",
   "execution_count": null,
   "id": "b4e5bae5",
   "metadata": {},
   "outputs": [],
   "source": [
    "inpu=75\n",
    "a=str(inpu)\n",
    "lst=list(a)\n",
    "\n",
    "print(inpu+int(lst[0])+(lst[1]))\n",
    "\n",
    "    "
   ]
  },
  {
   "cell_type": "code",
   "execution_count": null,
   "id": "16dfde1c",
   "metadata": {},
   "outputs": [],
   "source": [
    "lst=set(range(1,10000))\n",
    "gen=set()\n",
    "for i in range(10000):\n",
    "    for j in str(i):\n",
    "        i+=int(j)\n",
    "    gen.add(i)\n",
    "\n",
    "self_num=sorted(lst - gen)\n",
    "for i in self_num:\n",
    "    print(i)"
   ]
  },
  {
   "cell_type": "code",
   "execution_count": 75,
   "id": "361bbe14",
   "metadata": {},
   "outputs": [
    {
     "name": "stdout",
     "output_type": "stream",
     "text": [
      "7 3\n",
      "<3, 6, 2, 7, 5, 1, 4>\n"
     ]
    }
   ],
   "source": [
    "n = int(input()) # 설탕\n",
    "\n",
    "result = 0 # 봉지 수\n",
    "\n",
    "while n >= 0:\n",
    "    if n % 5 == 0: # 5로 나눈 나머지가 0인 경우\n",
    "        result += n // 5 # 5로 나눈 몫 추력\n",
    "        print(result)\n",
    "        break\n",
    "    n -= 3 # 설탕이 5의 배수가 될때까지 반복\n",
    "    result += 1 # 봉지 추가\n",
    "else:\n",
    "    print(-1) # while문이 거짓이 되면 -1 출력"
   ]
  },
  {
   "cell_type": "code",
   "execution_count": 90,
   "id": "d4f110ea",
   "metadata": {
    "scrolled": true
   },
   "outputs": [
    {
     "name": "stdout",
     "output_type": "stream",
     "text": [
      "11\n",
      "-1\n"
     ]
    }
   ],
   "source": [
    "a=int(input())\n",
    "\n",
    "if a%3!=0:\n",
    "    d=divmod(a,5)\n",
    "    c=d[1]/3\n",
    "    if d[1]%3==0:\n",
    "        print(round(d[0]+c))\n",
    "    else:\n",
    "        print(-1)\n",
    "else:\n",
    "    print(a//3)\n",
    "    "
   ]
  },
  {
   "cell_type": "code",
   "execution_count": null,
   "id": "ccfe9f23",
   "metadata": {},
   "outputs": [],
   "source": []
  }
 ],
 "metadata": {
  "kernelspec": {
   "display_name": "Python 3 (ipykernel)",
   "language": "python",
   "name": "python3"
  },
  "language_info": {
   "codemirror_mode": {
    "name": "ipython",
    "version": 3
   },
   "file_extension": ".py",
   "mimetype": "text/x-python",
   "name": "python",
   "nbconvert_exporter": "python",
   "pygments_lexer": "ipython3",
   "version": "3.8.12"
  }
 },
 "nbformat": 4,
 "nbformat_minor": 5
}
