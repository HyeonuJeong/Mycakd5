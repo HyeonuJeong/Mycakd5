{
 "cells": [
  {
   "cell_type": "code",
   "execution_count": null,
   "id": "39af2cd1",
   "metadata": {},
   "outputs": [],
   "source": [
    "#Multiples of 3 and 5\n",
    "\n",
    "lst=[x for x in range(1,1000) if x%3==0 or x%5==0]\n",
    "\n",
    "sum(lst)"
   ]
  },
  {
   "cell_type": "code",
   "execution_count": null,
   "id": "9701300e",
   "metadata": {},
   "outputs": [],
   "source": [
    "#탭을 공백4개로 교체\n",
    "\n",
    "a=\"\\t\"\n",
    "a=a.replace(\"\\t\",\"    \")\n",
    "\n",
    "if a==\"\\t\":\n",
    "    print(\"탭\")\n",
    "else:\n",
    "    print(\"공백\")"
   ]
  },
  {
   "cell_type": "code",
   "execution_count": null,
   "id": "0f8fd1fb",
   "metadata": {},
   "outputs": [],
   "source": [
    "#게시판 페이징 m출력수 n페이지당게시물 p총페이지수구하기\n",
    "\n",
    "m=int(input('m:'))\n",
    "n=int(input('n:'))\n",
    "if n>=1:\n",
    "    print('p:',end='')\n",
    "    if n%m==0:\n",
    "        print(n%m)\n",
    "    else:\n",
    "        print((n%m)+1)\n",
    "    "
   ]
  },
  {
   "cell_type": "code",
   "execution_count": null,
   "id": "0dd7d904",
   "metadata": {},
   "outputs": [],
   "source": [
    "import re\n",
    "lst=\"이유덕,이재영,권종표,이재영,박민호,강상희,이재영,김지완,최승혁,이성연,박영서,박민호,전경헌,송정환,김재성,이유덕,전경헌\".split(\",\")\n",
    "kim=0\n",
    "lee=0\n",
    "ljy=0\n",
    "a=set(lst)\n",
    "b=sorted(lst)\n",
    "for i in lst:\n",
    "    if i[0] ==  '김':\n",
    "        kim+=1\n",
    "    if i[0] ==  '이':\n",
    "        lee+=1\n",
    "    if i==\"이재영\":\n",
    "        ljy+=1\n",
    "        \n",
    "print(f'김:{kim}, 이:{lee}')\n",
    "print(f'이재영:{ljy}')\n",
    "print(a)\n",
    "print(set(b))"
   ]
  },
  {
   "cell_type": "code",
   "execution_count": null,
   "id": "7ebbeadf",
   "metadata": {},
   "outputs": [],
   "source": [
    "\n",
    "a,b=input().split()\n",
    "a=int(a[::-1])\n",
    "b=int(b[::-1])\n",
    "\n",
    "print(max(a,b))"
   ]
  },
  {
   "cell_type": "code",
   "execution_count": null,
   "id": "a9ba8903",
   "metadata": {
    "scrolled": true
   },
   "outputs": [],
   "source": [
    "s=input().split()\n",
    "print(len(s))"
   ]
  },
  {
   "cell_type": "code",
   "execution_count": null,
   "id": "fc1d2ce7",
   "metadata": {},
   "outputs": [],
   "source": [
    "print(\"\"\"\\\\    /\\\\\n",
    " )  ( ')\n",
    "(  /  )\n",
    " \\\\(__)|\"\"\")"
   ]
  },
  {
   "cell_type": "code",
   "execution_count": null,
   "id": "38ae9125",
   "metadata": {},
   "outputs": [],
   "source": [
    "n = int(input())\n",
    " \n",
    "li = []\n",
    "for i in range(n):\n",
    "    li.append(int(input()))\n",
    " \n",
    "li.sort() # 오름차순 정렬\n",
    " \n",
    "for i in li:\n",
    "    print(i)          "
   ]
  },
  {
   "cell_type": "code",
   "execution_count": 86,
   "id": "2ed9d168",
   "metadata": {},
   "outputs": [
    {
     "name": "stdout",
     "output_type": "stream",
     "text": [
      "4460\n",
      "4500\n",
      "4000\n"
     ]
    }
   ],
   "source": [
    "# a=input()\n",
    "a='4461'\n",
    "b=int(a)\n",
    "\n",
    "for i in range(1,len(a)):\n",
    "    b=round(int(a),-i)\n",
    "    print(b)\n",
    "    \n"
   ]
  },
  {
   "cell_type": "code",
   "execution_count": 94,
   "id": "18a30f13",
   "metadata": {},
   "outputs": [
    {
     "name": "stdout",
     "output_type": "stream",
     "text": [
      "24 18\n",
      "72\n",
      "6\n"
     ]
    }
   ],
   "source": [
    "import math\n",
    "\n",
    "a,b=map(int,input().split())\n",
    "print(math.gcd(a,b))\n",
    "for i in range(1,a*b):\n",
    "    if i%a==0 and i%b==0:\n",
    "        print(i)\n",
    "        break\n",
    "\n"
   ]
  },
  {
   "cell_type": "code",
   "execution_count": null,
   "id": "50463d97",
   "metadata": {},
   "outputs": [],
   "source": [
    "a=int(input())\n",
    "\n",
    "if a%2==0:\n",
    "    print('CY')\n",
    "else:\n",
    "    print('SK')\n"
   ]
  },
  {
   "cell_type": "code",
   "execution_count": 106,
   "id": "e49b0d13",
   "metadata": {},
   "outputs": [
    {
     "name": "stdout",
     "output_type": "stream",
     "text": [
      "skadkemc\n",
      "15\n"
     ]
    }
   ],
   "source": [
    "s=input()\n",
    "n=len(s)\n",
    "for i in range(n):\n",
    "    if s[i:]==s[i:][::-1]:\n",
    "        print(n+i)\n",
    "        break"
   ]
  },
  {
   "cell_type": "code",
   "execution_count": 116,
   "id": "20c49741",
   "metadata": {
    "scrolled": false
   },
   "outputs": [
    {
     "name": "stdout",
     "output_type": "stream",
     "text": [
      "갯수:5\n",
      "4\n",
      "3\n",
      "4\n",
      "0\n",
      "0\n",
      "4\n"
     ]
    }
   ],
   "source": [
    "lst=[]\n",
    "n=int(input())\n",
    "for i in range(n):\n",
    "    a=int(input())\n",
    "    if a!=0:\n",
    "        lst.append(a)\n",
    "    else:\n",
    "        lst.pop()\n",
    "print(sum(lst))"
   ]
  },
  {
   "cell_type": "code",
   "execution_count": 128,
   "id": "081534e0",
   "metadata": {},
   "outputs": [
    {
     "name": "stdout",
     "output_type": "stream",
     "text": [
      "20\n",
      "4\n"
     ]
    }
   ],
   "source": [
    "case = int(input())\n",
    "\n",
    "dp = [0,0,1,1]\n",
    "\n",
    "for i in range(4, case+1):\n",
    "    dp.append(dp[i-1]+1)\n",
    "    if i%2 == 0:\n",
    "        dp[i] = min(dp[i//2]+1, dp[i])\n",
    "    if i%3 == 0:\n",
    "        dp[i] = min(dp[i//3]+1, dp[i])\n",
    "\n",
    "print(dp[case])"
   ]
  },
  {
   "cell_type": "code",
   "execution_count": null,
   "id": "19ec4082",
   "metadata": {},
   "outputs": [],
   "source": [
    "import collections\n",
    "\n",
    "\n",
    "participant=[\"mislav\", \"stanko\", \"mislav\", \"ana\"]\n",
    "completion=[\"stanko\", \"ana\", \"mislav\"]\n",
    "answer = collections.Counter(participant) - collections.Counter(completion)\n",
    "\n",
    "print(collections.Counter(participant)-collections.Counter(completion))\n",
    "\n",
    "a=collections.Counter(participant)-collections.Counter(completion)\n",
    "print(list(a.keys())[0])"
   ]
  },
  {
   "cell_type": "code",
   "execution_count": null,
   "id": "b899d08b",
   "metadata": {},
   "outputs": [],
   "source": []
  }
 ],
 "metadata": {
  "kernelspec": {
   "display_name": "Python 3 (ipykernel)",
   "language": "python",
   "name": "python3"
  },
  "language_info": {
   "codemirror_mode": {
    "name": "ipython",
    "version": 3
   },
   "file_extension": ".py",
   "mimetype": "text/x-python",
   "name": "python",
   "nbconvert_exporter": "python",
   "pygments_lexer": "ipython3",
   "version": "3.8.12"
  }
 },
 "nbformat": 4,
 "nbformat_minor": 5
}
