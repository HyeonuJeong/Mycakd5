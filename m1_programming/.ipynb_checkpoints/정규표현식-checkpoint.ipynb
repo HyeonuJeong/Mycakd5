{
 "cells": [
  {
   "cell_type": "markdown",
   "id": "4f0bdda2",
   "metadata": {},
   "source": [
    "## 정규표현식의 기초, 메타 문자\n",
    "\n",
    "- . ^ $ * + ? {} [] \\ | ()\n",
    "- [] 문자 클래스\n",
    " - \\d 숫자와 매치, [0-9]와 동일한 표현식\n",
    " - \\D 숫자가 아닌 것과 매치, [^0-9]와 동일한 표현식\n",
    " - \\s whitespace 문자와 매치, [ \\t\\n\\r\\f\\v] 와 동일한 표현식\n",
    " - \\S whitespace 문자가 아닌 것과 매치, [^ \\t\\n\\r\\f\\v]와 동일한 표현식\n",
    " - \\w 문자 + 숫자와 매치, [a-zA-Z0-9]와 동일한 표현식\n",
    " - \\W 문자 + 숫자가 아닌 문자와 매치,[^a-zA-Z0-9]와 동일한 표현식\n",
    "\n",
    "- whitespace\n",
    " - 스페이스 바(아스키코드 32)\n",
    " - \\b 뒤로 한 칸 이동(Backspace) (아스키코드 8)\n",
    " - \\t 수평탭 간격 띄우기\n",
    " - \\n 줄바꿈\n",
    " - \\v 수직탭 간격 띄우기\n",
    " - \\f 프린트 출력 용지를 한 페이지 넘김\n",
    " - \\r 동일한 줄의 맨 앞에서 커서 이동\n",
    "\n",
    "- Dot(.) 메타 문자는 줄바꿈 문자인 \\n를 제외한 모든 문자와 매치됨을 의미\n",
    "- 반복(\\*) ca*t 0부터 무한대로 반복  caaaaat, ct\n",
    "- 반복(\\+) ca+t 최소 1번 이상 반복\n",
    "- ca{m,n} a 반복 횟수가 m부터 n까지인 것을 매치\n",
    "- ca{2}t는 c+a(2번 반복)+t의 의미\n",
    "- 반복 횟수가 {1,}은 1 이상, {0,}은 0 이상인 경우로 +, * 와 동일하며 {,1}은 반복 횟수가 1 이하를 의미\n",
    "- ab?c b가 0~1번 사용되면 매치되는 것으로 ?은 앞에 b가 있어도 되고 없어도 된다.\n",
    "\n",
    "re 모듈 : 파이썬은 정규표현식을 지원하기 위해 기본으로 제공\n",
    "- re.compile의 결과로 리턴되는 객체를 이용하여 그 이후 작업 수행\n",
    "\n",
    "정규식을 이용한 문자열 검색\n",
    "- match() : 문자열의 처음부터 정규식과 매치되는지를 조사\n",
    "- search() : 문자열의 전체를 검색하여 정규식과 매치되는지 조사\n",
    "- findall() : 정규식과 매치되는 모든 문자열을 리스트로 리턴\n",
    "- finditer() : 정규식과 매치되는 모든 문자열을 반복 가능한 객체로 리턴"
   ]
  },
  {
   "cell_type": "code",
   "execution_count": null,
   "id": "b4a9da21",
   "metadata": {},
   "outputs": [],
   "source": [
    "import re\n",
    "p=re.compile('[a-z]+\\S')\n",
    "m=p.match('python python')\n",
    "print(m)\n",
    "\n"
   ]
  },
  {
   "cell_type": "code",
   "execution_count": null,
   "id": "3e51a6f1",
   "metadata": {
    "scrolled": true
   },
   "outputs": [],
   "source": [
    "re.match('[a-z]+\\s','python python')"
   ]
  },
  {
   "cell_type": "code",
   "execution_count": null,
   "id": "a34d7ea0",
   "metadata": {
    "scrolled": true
   },
   "outputs": [],
   "source": [
    "p.findall('python python ')"
   ]
  },
  {
   "cell_type": "code",
   "execution_count": null,
   "id": "2c61a9b8",
   "metadata": {},
   "outputs": [],
   "source": [
    "p.findall('python python')"
   ]
  },
  {
   "cell_type": "code",
   "execution_count": null,
   "id": "6a95f558",
   "metadata": {},
   "outputs": [],
   "source": [
    "pattern=re.compile('A')\n",
    "p3=pattern.findall('12345Abc')\n",
    "print(p3)"
   ]
  },
  {
   "cell_type": "code",
   "execution_count": null,
   "id": "4088f49c",
   "metadata": {},
   "outputs": [],
   "source": [
    "m = p.match('3python ')\n",
    "print(m)"
   ]
  },
  {
   "cell_type": "code",
   "execution_count": null,
   "id": "6f521c7d",
   "metadata": {},
   "outputs": [],
   "source": [
    "m = p.search('3python ')\n",
    "print(m)"
   ]
  },
  {
   "cell_type": "code",
   "execution_count": null,
   "id": "a4b7c002",
   "metadata": {},
   "outputs": [],
   "source": [
    "# 문자 클래스 : []\n",
    "pattern = re.compile('[a-z]+')\n",
    "p1 = pattern.search('Banker')\n",
    "p2 = pattern.search('banker')\n",
    "print(p1)\n",
    "print(p2)"
   ]
  },
  {
   "cell_type": "code",
   "execution_count": null,
   "id": "ebf8a5bb",
   "metadata": {},
   "outputs": [],
   "source": [
    "# Q. '12345abc'에서 'a'만 출력하세요.\n",
    "import re\n",
    "\n",
    "pattern = re.compile('[a]')\n",
    "text = '12345abc'\n",
    "m = pattern.search(text)\n",
    "m.group()"
   ]
  },
  {
   "cell_type": "code",
   "execution_count": null,
   "id": "4de42ca8",
   "metadata": {},
   "outputs": [],
   "source": [
    "# Q. '12345Abc'에서 'A'만 출력하세요.\n",
    "\n",
    "import re\n",
    "p = re.compile('[A]')\n",
    "s = p.search('12345Abd')\n",
    "print(s)\n",
    "s.group()\n"
   ]
  },
  {
   "cell_type": "code",
   "execution_count": null,
   "id": "77d64b80",
   "metadata": {
    "scrolled": true
   },
   "outputs": [],
   "source": [
    "# [과제] 'KOREA 대한민국'에서 '대' 만 출력하세요.\n",
    "p=re.compile('[대]')\n",
    "p3=p.search('KOREA 대한민국')\n",
    "print(p3.group())"
   ]
  },
  {
   "cell_type": "code",
   "execution_count": null,
   "id": "abc198ea",
   "metadata": {},
   "outputs": [],
   "source": [
    "p=re.compile('[가-힣]')\n",
    "m=p.findall('KOREA 대한민국')\n",
    "print(m)"
   ]
  },
  {
   "cell_type": "code",
   "execution_count": null,
   "id": "1cdadb05",
   "metadata": {},
   "outputs": [],
   "source": [
    "# Q. '122333c'를 모두 출력하세요.\n",
    "p=re.compile('12{2}3{3}c')\n",
    "text='122333c'\n",
    "m=p.search(text)\n",
    "m.group()"
   ]
  },
  {
   "cell_type": "code",
   "execution_count": null,
   "id": "b66193f6",
   "metadata": {
    "scrolled": false
   },
   "outputs": [],
   "source": [
    "# [과제] 'aaaaBBBcccDDDeee'를 모두 출력하세요\n",
    "n='aaaaBBBcccDDDeee'\n",
    "p=re.compile('a{4}B{3}c{3}D{3}e{3}')\n",
    "m=p.search(n)\n",
    "m.group()\n"
   ]
  },
  {
   "cell_type": "code",
   "execution_count": null,
   "id": "ea7d0bb1",
   "metadata": {},
   "outputs": [],
   "source": [
    "p = re.compile('[a-z]+')\n",
    "result1 = p.findall('life is too short')\n",
    "result2 = p.match('life is too short')\n",
    "result3 = p.search('life is too short')\n",
    "print(result1)\n",
    "print(result2.group())\n",
    "print(result3.group())"
   ]
  },
  {
   "cell_type": "code",
   "execution_count": null,
   "id": "26faa813",
   "metadata": {},
   "outputs": [],
   "source": [
    "# [과제] BC, CC, ABC 모두 C가 출력되는 정규 표현식을 () 에 작성하세요\n",
    "import re\n",
    "pattern=re.compile('[C]')\n",
    "text1='BC'\n",
    "text2='CC'\n",
    "text3='ABC'\n",
    "p1=pattern.findall(text1)\n",
    "p2=pattern.findall(text2)\n",
    "p3=pattern.findall(text3)\n",
    "print(p1)\n",
    "print(p2)\n",
    "print(p3)"
   ]
  },
  {
   "cell_type": "code",
   "execution_count": null,
   "id": "f3f14e9f",
   "metadata": {},
   "outputs": [],
   "source": [
    "p=re.compile('[a-z]+')\n",
    "result1=p.match('life is too short')\n",
    "result2=p.findall('life is too short')\n",
    "result3=p.search('life is too short')\n",
    "print(result1.group())\n",
    "print(result2)\n",
    "print(result3.group())"
   ]
  },
  {
   "cell_type": "code",
   "execution_count": null,
   "id": "6b9bf21b",
   "metadata": {},
   "outputs": [],
   "source": [
    "#finditer\n",
    "result=p.finditer('life is too short')\n",
    "for i in result:\n",
    "    print(i.group())"
   ]
  },
  {
   "cell_type": "code",
   "execution_count": null,
   "id": "f465aaba",
   "metadata": {},
   "outputs": [],
   "source": [
    "# finditer는 findall과 동일하지만 그 결과로 반복 가능한 객체를 돌려준다.\n",
    "result = p.finditer('life is too short')"
   ]
  },
  {
   "cell_type": "code",
   "execution_count": null,
   "id": "71f0b697",
   "metadata": {
    "scrolled": true
   },
   "outputs": [],
   "source": [
    "text='문의사항이 있으면 032-232-3245로 연락 주시기 바랍니다.'\n",
    "p=re.compile('(\\d{3})-\\d{3}-\\d{4}')\n",
    "result=p.search(text)\n",
    "print(result.group())"
   ]
  },
  {
   "cell_type": "code",
   "execution_count": null,
   "id": "d5b5bbf4",
   "metadata": {},
   "outputs": [],
   "source": [
    "# Q. '1234a1234' 에서 '1', '2',' 3', '4'를 모두 출력하세요.(중복 없이)\n",
    "s= re.compile('[^a]')\n",
    "t = '1234a1234'\n",
    "m = s.findall(t)\n",
    "print(m)\n"
   ]
  },
  {
   "cell_type": "code",
   "execution_count": null,
   "id": "1dba85bd",
   "metadata": {},
   "outputs": [],
   "source": [
    "s= re.compile('[^a]+')\n",
    "t = '1234a1234'\n",
    "m = s.search(t)\n",
    "print(m.group())\n"
   ]
  },
  {
   "cell_type": "code",
   "execution_count": null,
   "id": "dc350312",
   "metadata": {},
   "outputs": [],
   "source": [
    "# ' Python3 is very good programming language!' 에서 \n",
    "#['Python', 'is', 'very', 'good', 'programming', 'language']를 모두 출력하세요.\n",
    "p=re.compile('[a-zA-Z]+')\n",
    "s='Python is Very good Programming language!'\n",
    "result=p.finditer(s)\n",
    "for i in result:\n",
    "    print(i.group())"
   ]
  },
  {
   "cell_type": "code",
   "execution_count": null,
   "id": "77a40838",
   "metadata": {},
   "outputs": [],
   "source": [
    "p=re.compile('[a-zA-Z]+')\n",
    "s='Python is Very good Programming language!'\n",
    "p.findall(s)"
   ]
  },
  {
   "cell_type": "code",
   "execution_count": null,
   "id": "e4ff16a9",
   "metadata": {},
   "outputs": [],
   "source": [
    "import re\n",
    "p=re.compile('[a-z]+')\n",
    "m=p.match('python')\n",
    "print(m.group())\n",
    "print(m.start())\n",
    "print(m.end())\n",
    "print(m.span())"
   ]
  },
  {
   "cell_type": "code",
   "execution_count": null,
   "id": "f9839571",
   "metadata": {},
   "outputs": [],
   "source": [
    "import re\n",
    "m=p.search('3 python')\n",
    "print(m.group())\n",
    "print(m.start())\n",
    "print(m.end())\n",
    "print(m.span())"
   ]
  },
  {
   "cell_type": "code",
   "execution_count": null,
   "id": "7a38f153",
   "metadata": {},
   "outputs": [],
   "source": [
    "# 모듈 단위로 수행하기\n",
    "m = re.match('[a-z]+', \"python\")\n",
    "print(m.group())"
   ]
  },
  {
   "cell_type": "code",
   "execution_count": null,
   "id": "b7e6dc33",
   "metadata": {},
   "outputs": [],
   "source": [
    "#Dot(.) 메타문자\n",
    "p=re.compile('a.+b')\n",
    "m1=p.match('a\\nb')\n",
    "m2=p.match('acb')\n",
    "m3=p.match('a12?Ab')\n",
    "print(m1)\n",
    "print(m2.group())\n",
    "print(m3.group())"
   ]
  },
  {
   "cell_type": "code",
   "execution_count": null,
   "id": "0d0eab0e",
   "metadata": {
    "scrolled": true
   },
   "outputs": [],
   "source": [
    "p=re.compile('a.b',re.DOTALL)\n",
    "m=p.match('a\\nb')\n",
    "print(m.group())"
   ]
  },
  {
   "cell_type": "code",
   "execution_count": null,
   "id": "4363b897",
   "metadata": {},
   "outputs": [],
   "source": [
    "# re.IGNORANCE 또는 re.I 옵션은 대소문자 구분없이 매치를 수행시 사용\n",
    "p= re.compile('[a-z]+', re.I)\n",
    "print(p.match('python'))\n",
    "print(p.match('Python'))\n",
    "print(p.match('PYTHON'))\n",
    "print(p.search('3 python'))\n",
    "print(p.search('3 Python'))\n",
    "print(p.search('3 PYTHON'))"
   ]
  },
  {
   "cell_type": "code",
   "execution_count": null,
   "id": "29dedef8",
   "metadata": {},
   "outputs": [],
   "source": [
    "# ^ : 문자열의 처음과 매치\n",
    "p = re.compile('^python\\s\\w+')\n",
    "\n",
    "data = \"\"\"python one\n",
    "life is too short\n",
    "python two\n",
    "you need python\n",
    "python three\"\"\"\n",
    "\n",
    "print(p.findall(data))"
   ]
  },
  {
   "cell_type": "code",
   "execution_count": null,
   "id": "f972b8de",
   "metadata": {},
   "outputs": [],
   "source": [
    "# $ : 문자열의 끝과 매치\n",
    "p = re.compile('python\\s\\w+$')\n",
    "\n",
    "data = \"\"\"python one\n",
    "life is too short\n",
    "python two\n",
    "you need python\n",
    "python three\"\"\"\n",
    "\n",
    "print(p.findall(data))"
   ]
  },
  {
   "cell_type": "code",
   "execution_count": null,
   "id": "763220aa",
   "metadata": {},
   "outputs": [],
   "source": [
    "# | or와 동일한 의미\n",
    "\n",
    "p = re.compile('Crow|Servo')\n",
    "m = p.match('CrowHello')\n",
    "print(m)"
   ]
  },
  {
   "cell_type": "code",
   "execution_count": null,
   "id": "d9c6dd33",
   "metadata": {},
   "outputs": [],
   "source": [
    "# Raw String 규칙\n",
    "# \n",
    "p = re.compile(r'\\\\section')\n",
    "\n",
    "print(p.match('\\section'))\n",
    "p.findall('\\section\\section')"
   ]
  },
  {
   "cell_type": "code",
   "execution_count": null,
   "id": "9648d231",
   "metadata": {},
   "outputs": [],
   "source": [
    "# Q. 'we are going home'에서 home만 출력하세요.\n",
    "\n",
    "t='we are going home'\n",
    "p=re.compile('home$')\n",
    "a=p.search(t)\n",
    "print(a.group())"
   ]
  },
  {
   "cell_type": "code",
   "execution_count": null,
   "id": "04fd1cd3",
   "metadata": {},
   "outputs": [],
   "source": [
    "# [과제] 'home sweet'에서 home만 출력하세요\n",
    "t='home sweet'\n",
    "p=re.compile('home')\n",
    "a=p.match(t)\n",
    "print(a.group())"
   ]
  },
  {
   "cell_type": "code",
   "execution_count": null,
   "id": "d888b0cf",
   "metadata": {},
   "outputs": [],
   "source": [
    "t='199305, 1923A,a93247'\n",
    "p=re.compile('[0-9]+')\n",
    "a=p.match(t)\n",
    "print(a.group())"
   ]
  },
  {
   "cell_type": "code",
   "execution_count": null,
   "id": "29f0efeb",
   "metadata": {},
   "outputs": [],
   "source": [
    "# 그룹핑 : 매치된 문자열 중에서 특정 부분의 문자열만 뽑아내는 경우 ()을 만들어 준다.\n",
    "# group(0) 매치된 전체 문자열, 1 첫번째 그룹, 2 두번째 그룹, n n번째 그룹\n",
    "p = re.compile('((AB)(CD)(EF))+')\n",
    "# p = re.compile('(AB(CD)EF)+')\n",
    "m = p.search('DEFABCDEFDEF OK?')\n",
    "\n",
    "print(m)\n",
    "print(m.group(0))\n",
    "print(m.group(1))\n",
    "print(m.group(2))\n",
    "print(m.group(3))\n",
    "print(m.group(4))"
   ]
  },
  {
   "cell_type": "code",
   "execution_count": null,
   "id": "84f8070a",
   "metadata": {},
   "outputs": [],
   "source": [
    "# [과제] 'abcdefghij'에 대하여 중첩을 적용한 서브그룹 5개로 컴파일하여 group() 함수를 이용하여 abcdefghi'와'e'를 출력하세요.\n",
    "\n",
    "import re\n",
    "\n",
    "p=re.compile('(a(b(c(d(e)f)g)h)i)j')\n",
    "m = p.match('abcdefghij')\n",
    "\n",
    "print(m.group(1))\n",
    "print(m.group(5))\n",
    "\n"
   ]
  },
  {
   "cell_type": "code",
   "execution_count": null,
   "id": "b0b590d0",
   "metadata": {},
   "outputs": [],
   "source": [
    "import re\n",
    "p = re.compile('(a(b(c(d(e)f)g)h)i)j+')\n",
    "m = p.search('abcdefghij')\n",
    "\n",
    "print(m.group(1))\n",
    "print(m.group(5))\n"
   ]
  },
  {
   "cell_type": "code",
   "execution_count": null,
   "id": "d00803f7",
   "metadata": {},
   "outputs": [],
   "source": []
  }
 ],
 "metadata": {
  "kernelspec": {
   "display_name": "Python 3 (ipykernel)",
   "language": "python",
   "name": "python3"
  },
  "language_info": {
   "codemirror_mode": {
    "name": "ipython",
    "version": 3
   },
   "file_extension": ".py",
   "mimetype": "text/x-python",
   "name": "python",
   "nbconvert_exporter": "python",
   "pygments_lexer": "ipython3",
   "version": "3.8.12"
  }
 },
 "nbformat": 4,
 "nbformat_minor": 5
}
