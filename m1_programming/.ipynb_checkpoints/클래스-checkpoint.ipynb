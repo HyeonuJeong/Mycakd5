{
 "cells": [
  {
   "cell_type": "markdown",
   "id": "a3d1c2a6",
   "metadata": {},
   "source": [
    "## 클래스\n",
    "클래스(class)란 똑같은 무엇인가를 계속해서 만들어 낼 수 있는 설계 도면이고(과자 틀), 객체(object)란 클래스로 만든 피조물(과자 틀을 사용해 만든 과자)을 뜻한다.\n",
    "과자 틀 → 클래스 (class)\n",
    "과자 틀에 의해서 만들어진 과자 → 객체 (object)\n",
    "\n",
    "- class : 함수 + 변수 모아놓은 것\n",
    "- 오브젝트(object) : 클래스를 써서 만든 것\n",
    "- 오브젝트(object) == 인스턴스(instance)\n",
    "- 클래스를 정의한 후, 그 클래스를 사용해서 데이터 객체(인스턴스)를 만들 수 있다.\n",
    "- 동일한 클래스에 의해 만들어진 각 객체들은 유사한 특징을 공유한다.\n",
    "- 모든 인스턴스에서 메소드(=코드)는 동일하지만, 속성(데이터)는 다르다.\n",
    " - 메소드 : 코드\n",
    " - 속성 : 데이터\n",
    " - 인스턴스 : 클래스에 의해 만들어진 데이터 객체\n",
    " - a = 클래스() 이렇게 만든 a는 객체이다. 그리고 a 객체는 클래스의 인스턴스이다. 즉 인스턴스라는 말은 특정 객체(a)가 어떤 클래스의 객체인지를 관계 위주로 설명할 때 사용\n"
   ]
  },
  {
   "cell_type": "markdown",
   "id": "7405cab2",
   "metadata": {},
   "source": [
    "### [과제] 클래스의 정의 및 사용하는 방법을 설명\n",
    "https://wikidocs.net/28"
   ]
  },
  {
   "cell_type": "code",
   "execution_count": null,
   "id": "bcce2b49",
   "metadata": {},
   "outputs": [],
   "source": [
    "# 클래스 생성자(인자가 있는 경우)\n",
    "\n",
    "class Cakd:\n",
    "    def __init__(self,name,age,major):\n",
    "        self.name = name\n",
    "        self.age = age\n",
    "        self.major = major\n",
    "#         print(f'{self.name}는 {self.age}세이며 {self.major}을 전공했습니다')\n",
    "        \n",
    "kevin = Cakd('kevin',25,'business')\n",
    "print(kevin.name)\n",
    "print(kevin.age)\n",
    "print(kevin.major)        "
   ]
  },
  {
   "cell_type": "code",
   "execution_count": null,
   "id": "1da0d046",
   "metadata": {},
   "outputs": [],
   "source": [
    "# 클래스 소멸자\n",
    "# 클래스 인스턴스 객체가 메모리에서 제거될 때 자동으로 호출되는 클래스 메소드\n",
    "\n",
    "class Cakd:\n",
    "    def __del__(self):\n",
    "        print('Cakd 인스턴스 객체가 메모리에서 제거됩니다.')\n",
    "        \n",
    "obj = Cakd()\n",
    "del obj"
   ]
  },
  {
   "cell_type": "markdown",
   "id": "6771c1f9",
   "metadata": {},
   "source": [
    "## 클래스 멤버, 클래스 메소드\n",
    "- 클래스를 구성하는 주요 요소는 클래스 멤버(변수)와 클래스 메소드(함수)로 클래스 공간내에서 정의\n",
    "- 클래스 멤버는 클래스 메소드내에서 정의되는 지역변수나 인스턴스 멤버와는 다름\n",
    "- 클래스 메소드는 첫번째 인자가 반드시 self로 시작\n",
    "- self는 이 클래스의 인스턴스 객체를 가리키는 참조자\n",
    "- 인스턴스 객체에서 클래스 메소드를 호출 시 첫번째 인자인 self 생략"
   ]
  },
  {
   "cell_type": "code",
   "execution_count": null,
   "id": "427eed57",
   "metadata": {},
   "outputs": [],
   "source": [
    "class MyClass:\n",
    "    var = '안녕하세요' # 클래스 멤버\n",
    "    def sayHello(self): # 클래스 메소드\n",
    "        return self.var\n",
    "    \n",
    "obj = MyClass()\n",
    "print(obj.var)\n",
    "print(obj.sayHello())    "
   ]
  },
  {
   "cell_type": "code",
   "execution_count": null,
   "id": "1ed9eb3b",
   "metadata": {},
   "outputs": [],
   "source": [
    "# 클래스 멤버와 인스턴스 멤버\n",
    "# 클래스 멤버는 클래스 메소드 바깥에서 선언되고 인스턴스 멤버는 클래스 메소드 안에서 self와 함께 선언\n",
    "\n",
    "class MyClass:\n",
    "    var = '안녕하세요' # 클래스 멤버\n",
    "    def sayHello(self): # 클래스 메소드\n",
    "        param1 = '안녕' # 지역 변수\n",
    "        self.param2 = '하이' # 인스턴스 멤버\n",
    "        print(param1)\n",
    "        print(self.var)\n",
    "        \n",
    "obj = MyClass()\n",
    "print(obj.var)\n",
    "obj.sayHello()"
   ]
  },
  {
   "cell_type": "code",
   "execution_count": null,
   "id": "90d82841",
   "metadata": {},
   "outputs": [],
   "source": [
    "# 클래스 메소드\n",
    "# 클래스내에서 정의되는 클래스 메소드는 첫번째 인자가 반드시 self여야 한다.\n",
    "\n",
    "class MyClass:\n",
    "    def sayHello(self):\n",
    "        print('안녕하세요')\n",
    "    def sayBye(self,name):\n",
    "        print(f'{name}! 다음에 보자')\n",
    "        \n",
    "obj = MyClass()\n",
    "obj.sayHello()\n",
    "obj.sayBye('kevin')        "
   ]
  },
  {
   "cell_type": "markdown",
   "id": "61c32ab2",
   "metadata": {},
   "source": [
    "## 객체 지향 프로그래밍(Object-Oriented Programming)\n",
    "- 클래스 인스턴스는 객체(Object)라고도 하며 이렇게 클래스를 정의하고 객체를 만드는 패턴을 객체 지향 프로그래밍(OOP)이라고 함\n",
    "- 인스턴스를 불러온다는 것은 클래스를 가져와 객체로 바꿔준다는 것인데 type() 함수를 사용하는 것은 그 반대\n",
    "- 객체의 type을 확인해 보면 해당 객체가 어떤 클래스의 인스턴스인지를 확인\n",
    "- 파이썬에서 main은 \"현재 실행중인 파일\"을 의미"
   ]
  },
  {
   "cell_type": "code",
   "execution_count": null,
   "id": "6ea47d25",
   "metadata": {},
   "outputs": [],
   "source": [
    "# 임의의 클래스를 작성한 후 인스턴스를 생성하고 그것의 타입을 확인\n",
    "class Test:\n",
    "    pass\n",
    "\n",
    "test = Test()\n",
    "print(type(test))"
   ]
  },
  {
   "cell_type": "markdown",
   "id": "c8fd3924",
   "metadata": {},
   "source": [
    "## 클래스 상속\n",
    "- 어떤 클래스가 가지고 있는 모든 멤버나 메소드에 대해서 상속받는 클래스가 모두 사용할 수 있도록 해주는 것\n",
    "- 상속을 해주는 클래스가 부모클래스(슈퍼), 상속을 받는 클래스가 자식클래스(서브)라 함. class 자식클래스명(부모클래스명)\n",
    "- 자식 클래스는 여러 부모클래스로 부터 상속받을 수 있으며 다중상속이라 함. class 자식클래스명(부모클래스1, 부모클래스2,...)"
   ]
  },
  {
   "cell_type": "code",
   "execution_count": null,
   "id": "2e5e8e23",
   "metadata": {},
   "outputs": [],
   "source": [
    "class Sum:\n",
    "    def sum(self, n1,n2):\n",
    "        return n1 + n2\n",
    "    \n",
    "class Mul:\n",
    "    def mul(self, n1,n2):\n",
    "        return n1 * n2\n",
    "    \n",
    "class Cal(Sum,Mul):\n",
    "    def sub(self,n1,n2):\n",
    "        return n1 - n2\n",
    "    \n",
    "obj = Cal()\n",
    "print(obj.sum(1,2))\n",
    "print(obj.mul(3,2))\n",
    "print(obj.sub(5,3))"
   ]
  },
  {
   "cell_type": "code",
   "execution_count": null,
   "id": "f3efc6bb",
   "metadata": {},
   "outputs": [],
   "source": [
    "# Q. 클래스 MyClass를 작성하고 객체를 생성하여 아래와 같이 출력하세요(생성자 사용)\n",
    "# kevin, 안녕하세요\n",
    "# kevin! 다음에 보자"
   ]
  },
  {
   "cell_type": "code",
   "execution_count": null,
   "id": "80a2319a",
   "metadata": {},
   "outputs": [],
   "source": [
    "class MyClass:\n",
    "    def __init__(self,name):\n",
    "        self.name=name\n",
    "    def sayHello(self):\n",
    "        print(f'{self.name}, 안녕하세요')\n",
    "    def sayBye(self):\n",
    "        print(f'{self.name}, 다음에 보자')\n",
    "obj=MyClass('박광민')\n",
    "obj.sayHello()\n",
    "obj.sayBye()\n"
   ]
  },
  {
   "cell_type": "code",
   "execution_count": null,
   "id": "75c501ff",
   "metadata": {},
   "outputs": [],
   "source": [
    "# [과제] 사용자 함수를 작성하여 기본가격 1000원에 입력 받은 값을 추가한 가격을 산출하세요.(지역변수, 전역변수 2가지 방법)"
   ]
  },
  {
   "cell_type": "code",
   "execution_count": null,
   "id": "2f718445",
   "metadata": {},
   "outputs": [],
   "source": [
    "class upp():\n",
    "    def ex(self,a):\n",
    "        self.a=a\n",
    "        print(1000+a)\n",
    "ob=upp()\n",
    "ob.ex(2000)\n",
    "        "
   ]
  },
  {
   "cell_type": "code",
   "execution_count": null,
   "id": "5c197f3e",
   "metadata": {},
   "outputs": [],
   "source": [
    "a=1000\n",
    "class upp():\n",
    "    def ex(self,a):\n",
    "        self.a= a\n",
    "        print(a+1000)\n",
    "ob=upp()\n",
    "ob.ex(a)"
   ]
  },
  {
   "cell_type": "code",
   "execution_count": null,
   "id": "24f71430",
   "metadata": {},
   "outputs": [],
   "source": [
    "# [과제] 4칙 연산 기능을 포함한 Cal4 클래스(생성자 이용)을 작성하고 이 클래스를 이용하여 Cal 계산기 객체를 만든 후 \n",
    "# 적절한 수를 적용하여 사칙연산 수행 결과를 출력하세요. "
   ]
  },
  {
   "cell_type": "code",
   "execution_count": null,
   "id": "0bd9bfbc",
   "metadata": {},
   "outputs": [],
   "source": [
    "class cal():\n",
    "    def add(self,n1,n2):\n",
    "        return n1+n2\n",
    "    def sub(self,n1,n2):\n",
    "        return n1-n2\n",
    "    def mul(self,n1,n2):\n",
    "        return n1*n2\n",
    "    def div(self,n1,n2):\n",
    "        return n1/n2\n",
    "    \n",
    "num=cal()\n",
    "print(num.add(3,4))\n",
    "print(num.sub(3,4))\n",
    "print(num.mul(3,4))\n",
    "print(num.div(3,4))"
   ]
  },
  {
   "cell_type": "code",
   "execution_count": null,
   "id": "3c4b2a27",
   "metadata": {},
   "outputs": [],
   "source": [
    "# [도전과제] 관심 주제에 대하여 100 ~ 200라인 정도의 프로그램을 구조지향적으로 작성하신 후 \n",
    "# 클래스를 이용한 객체지향 프로그래밍으로 수정하세요.(필요시 상속 이용)"
   ]
  },
  {
   "cell_type": "code",
   "execution_count": null,
   "id": "ec432277",
   "metadata": {
    "scrolled": true
   },
   "outputs": [],
   "source": [
    "a=0\n",
    "try:\n",
    "    num=input(\"크기입력 : \")\n",
    "    a=int(num)\n",
    "except:\n",
    "    print(\"정수만 가능\")\n",
    "      \n",
    "\n",
    "size=[[0 for i in range(a)]for i in range(a)]\n",
    "cnt=0;n=0\n",
    "x=0;y=0\n",
    "turn=-1;rule=0\n",
    "\n",
    "\n",
    "for i in range(a+turn):\n",
    "    x=x\n",
    "    y=y+1\n",
    "    cnt+=1\n",
    "    size[x][y]=cnt\n",
    "    \n",
    "while n<a:\n",
    "    n+=1\n",
    "\n",
    "    if rule>=2 and rule%2==0:turn-=1\n",
    "    rule+=1\n",
    "    for i in range(a+turn):\n",
    "        x=x+1\n",
    "        y=y\n",
    "        cnt+=1\n",
    "        size[x][y]=cnt\n",
    "        \n",
    "    if rule>=2 and rule%2==0:turn-=1\n",
    "    rule+=1\n",
    "    for l in range(a+turn):\n",
    "        x= x\n",
    "        y= y-1\n",
    "        cnt+=1\n",
    "        size[x][y]=cnt\n",
    "\n",
    "    if rule>=2 and rule%2==0:turn-=1\n",
    "    rule+=1\n",
    "    for m in range(a+turn):\n",
    "        x=x-1\n",
    "        y=y\n",
    "        cnt+=1\n",
    "        size[x][y]=cnt\n",
    "        \n",
    "    if rule>=2 and rule%2==0:turn-=1\n",
    "    rule+=1\n",
    "    for i in range(a+turn):\n",
    "        x=x\n",
    "        y=y+1\n",
    "        cnt+=1\n",
    "        size[x][y]=cnt\n",
    "    \n",
    "\n",
    "for i in size:\n",
    "    for j in i:\n",
    "        print (f'{j:3d}', end=' ')\n",
    "    print()\n",
    "\n",
    "\n",
    "\n",
    "\n"
   ]
  },
  {
   "cell_type": "code",
   "execution_count": null,
   "id": "2f8c8a55",
   "metadata": {},
   "outputs": [],
   "source": [
    "class Sarry:    \n",
    "    def arr(self,a):\n",
    "        size = [[0 for i in range(a)]for i in range(a)]\n",
    "        cnt=0;n=0\n",
    "        x=0;y=0\n",
    "        turn=-1;rule=0\n",
    "            \n",
    "        for i in range(a+turn):\n",
    "            x=x\n",
    "            y=y+1\n",
    "            cnt+=1\n",
    "            size[x][y]=cnt\n",
    "\n",
    "        while n<a:\n",
    "            n+=1\n",
    "            if rule>=2 and rule%2==0:turn-=1\n",
    "            rule+=1\n",
    "            for i in range(a+turn):\n",
    "                x=x+1\n",
    "                y=y\n",
    "                cnt+=1\n",
    "                size[x][y]=cnt\n",
    "\n",
    "            if rule>=2 and rule%2==0:turn-=1\n",
    "            rule+=1\n",
    "            for l in range(a+turn):\n",
    "                x= x\n",
    "                y= y-1\n",
    "                cnt+=1\n",
    "                size[x][y]=cnt\n",
    "\n",
    "            if rule>=2 and rule%2==0:turn-=1\n",
    "            rule+=1\n",
    "            for m in range(a+turn):\n",
    "                x=x-1\n",
    "                y=y\n",
    "                cnt+=1\n",
    "                size[x][y]=cnt\n",
    "\n",
    "            if rule>=2 and rule%2==0:turn-=1\n",
    "            rule+=1\n",
    "            for i in range(a+turn):\n",
    "                x=x\n",
    "                y=y+1\n",
    "                cnt+=1\n",
    "                size[x][y]=cnt\n",
    "        return size\n",
    "    \n",
    "    def sor(self,lst):\n",
    "        for i in lst:\n",
    "            for j in i:\n",
    "                print(f'{j:3d}', end=' ')\n",
    "            print()\n",
    "        return \"\"\n",
    "\n",
    "\n",
    "\n",
    "num =int(input(\"배열크기입력 : \"))\n",
    "    \n",
    "a=Sarry()\n",
    "sarr=a.arr(10)\n",
    "print(a.sor(sarr))\n",
    "\n",
    "\n",
    "\n",
    "\n",
    "\n"
   ]
  },
  {
   "cell_type": "code",
   "execution_count": null,
   "id": "483381a3",
   "metadata": {},
   "outputs": [],
   "source": [
    "class order:\n",
    "    def __init__(self):\n",
    "        self.basic=1000\n",
    "    def ap(self,alpha):\n",
    "        return self.basic+alpha\n",
    "    \n",
    "a=order()\n",
    "b=order()\n",
    "c=order()\n",
    "\n",
    "print(a.ap(1000))\n",
    "print(b.ap(2000))\n",
    "print(c.ap(3000))"
   ]
  },
  {
   "cell_type": "code",
   "execution_count": null,
   "id": "df042e98",
   "metadata": {},
   "outputs": [],
   "source": [
    "class order:\n",
    "    def __init__(self):\n",
    "        self.basic=1000\n",
    "    def hund(self,alpha):\n",
    "        return self.basic+alpha\n",
    "    def nine(self,alpha):\n",
    "        return round((self.basic+alpha)*0.9)\n",
    "\n",
    "a=order()\n",
    "b=order()\n",
    "\n",
    "print(a.hund(1000))\n",
    "print(b.nine(1000))"
   ]
  },
  {
   "cell_type": "code",
   "execution_count": null,
   "id": "9dbed14b",
   "metadata": {},
   "outputs": [],
   "source": [
    "class AutoM:\n",
    "    def __init__(self):\n",
    "        self.hi='안녕하세요'\n",
    "        self.name='kevin'\n",
    "        \n",
    "    def alarm(self,time):\n",
    "        self.time=time\n",
    "        print(f'{self.hi}, {self.name}님, 업무미팅은 {time}시 입니다.')\n",
    "\n",
    "\n",
    "a=autoM()\n",
    "print(a.alarm(2))"
   ]
  },
  {
   "cell_type": "code",
   "execution_count": null,
   "id": "4878d7b9",
   "metadata": {},
   "outputs": [],
   "source": [
    "class Order():\n",
    "    def __init__(self,name):\n",
    "        self.basic=2000\n",
    "        self.ctm=0\n",
    "        self.name = name\n",
    "    \n",
    "    def order(self,price):\n",
    "        self.ctm+=price\n",
    "        return self.ctm\n",
    "\n",
    "\n",
    "class extOrder(Order):\n",
    "    \n",
    "    def order(self,price):\n",
    "        self.ctm+=price\n",
    "        return str(self.ctm)+\"원\"\n",
    "\n",
    "a=Order('kevin')\n",
    "print(a.order(1000))\n",
    "\n",
    "    \n",
    "a=extOrder('kevin')\n",
    "print(a.order(1000))\n"
   ]
  },
  {
   "cell_type": "code",
   "execution_count": null,
   "id": "0ca0b38f",
   "metadata": {},
   "outputs": [],
   "source": [
    "class Circle:\n",
    "    pi=3.14\n",
    "    def area(self,radius):\n",
    "        return self.pi * radius **2\n",
    "cir=Circle()\n",
    "p_area=cir.area(6)\n",
    "t_area=cir.area(18)\n",
    "print(p_area)\n",
    "print(t_area)\n"
   ]
  },
  {
   "cell_type": "code",
   "execution_count": null,
   "id": "c3c6cc52",
   "metadata": {},
   "outputs": [],
   "source": [
    "# 변수 값을 굳이 사용할 필요가 없는 경우\n",
    "\n",
    "for _ in range(5):\n",
    "    print('hello world!')\n",
    "print()    \n",
    "for _ in range(3):\n",
    "    print(_)\n",
    "print()\n",
    "def values():\n",
    "    return (1,2,3,4) # 튜플을 반환\n",
    "\n",
    "a, b, _, _ = values() # 반환된 튜플 값중 2개만 필요\n",
    "print(a,b)"
   ]
  },
  {
   "cell_type": "code",
   "execution_count": null,
   "id": "6d811073",
   "metadata": {},
   "outputs": [],
   "source": [
    "# 예약어를 변수명으로 사용할 수 없는 경우\n",
    "class Order:\n",
    "    def __init__(self):\n",
    "        self.coffee = 'Americano'\n",
    "        self.price = 3000\n",
    "        \n",
    "def printClassName(class_):        \n",
    "        print(class_)\n",
    "        \n",
    "order = Order()\n",
    "printClassName(order.__class__)"
   ]
  },
  {
   "cell_type": "code",
   "execution_count": null,
   "id": "92516ba3",
   "metadata": {},
   "outputs": [],
   "source": [
    "class order:\n",
    "    def __init__(self):\n",
    "        self.basic=1000\n",
    "    def hund(self,alpha):\n",
    "        return self.basic+alpha\n",
    "    def nine(self,alpha):\n",
    "        return round((self.basic+alpha)*0.9)\n",
    "\n",
    "a=order()\n",
    "b=order()\n",
    "\n",
    "print(a.hund(1000))\n",
    "print(b.nine(1000))"
   ]
  },
  {
   "cell_type": "code",
   "execution_count": null,
   "id": "18635606",
   "metadata": {},
   "outputs": [],
   "source": [
    "# 클래스 변수 : 인스턴스 변수와 달리 모든 인스턴스 사이에 공유된 값을 가진 변수\n",
    "\n",
    "class MyClass:\n",
    "    value = 'abc' # 클래스 변수를 선언\n",
    "\n",
    "if __name__ == \"__main__\":\n",
    "    print(MyClass.value)"
   ]
  },
  {
   "cell_type": "code",
   "execution_count": null,
   "id": "0b939567",
   "metadata": {},
   "outputs": [],
   "source": [
    "# 인스턴스를 생성할 때마다 클래스 변수 value를 +1\n",
    "class MyClass:\n",
    "    value = 0\n",
    "    def __init__(self):\n",
    "        MyClass.value += 1\n",
    "        \n",
    "if __name__ == \"__main__\":\n",
    "    a = MyClass() # 인스턴스 a 생성\n",
    "    print(MyClass.value)\n",
    "    b = MyClass() # 인스턴스 b 생성\n",
    "    print(MyClass.value)\n",
    "    c = MyClass() # 인스턴스 c 생성\n",
    "    print(MyClass.value)"
   ]
  },
  {
   "cell_type": "code",
   "execution_count": null,
   "id": "c3d1758a",
   "metadata": {},
   "outputs": [],
   "source": [
    "# 인스턴스 변수\n",
    "class User:\n",
    "    num_users = 0 # 클래스 변수\n",
    "    def __init__(self,name):\n",
    "        self.name = name # 인스턴스 변수\n",
    "        User.num_users += 1\n",
    "        \n",
    "u = User('honux')\n",
    "print(User.num_users, u.name)\n",
    "\n",
    "u2 = User('crong')\n",
    "print(User.num_users,u2.name)"
   ]
  },
  {
   "cell_type": "code",
   "execution_count": null,
   "id": "a3f5de8e",
   "metadata": {},
   "outputs": [],
   "source": [
    "# 메소드 : 메소드는 크래스 안에서 정의된 함수. 첫번째 인수를 항상 self로 지정\n",
    "\n",
    "class Musician:\n",
    "    title = 'Rockstar'\n",
    "    def explanation(self):\n",
    "        print(f'I am a {self.title}!')\n",
    "\n",
    "drummer = Musician()\n",
    "drummer.explanation()"
   ]
  },
  {
   "cell_type": "code",
   "execution_count": null,
   "id": "816ea1d8",
   "metadata": {},
   "outputs": [],
   "source": [
    "# 다른 인수가 있는 메소드\n",
    "class Circle:\n",
    "    pi = 3.14\n",
    "    def area(self,radius):\n",
    "        return self.pi * radius ** 2\n",
    "    \n",
    "circle = Circle()\n",
    "pizza_area = circle.area(6)\n",
    "table_area = circle.area(18)\n",
    "print(pizza_area)\n",
    "print(table_area)"
   ]
  },
  {
   "cell_type": "code",
   "execution_count": null,
   "id": "f1b5f6e4",
   "metadata": {},
   "outputs": [],
   "source": [
    "# 생성자(Constructor)\n",
    "# 클래스를 호출할 때 자동으로 어떤 함수를 실행하거나 값을 호출하고 싶은 경우. __init__을 사용\n",
    "# Shouter라는 클래스를 객체로 불러올 때마다 \"Hello?!\" 라는 문자열을 출력\n",
    "\n",
    "class Shouter:\n",
    "    def __init__(self):\n",
    "        print('Hello?!')\n",
    "shout = Shouter()"
   ]
  },
  {
   "cell_type": "code",
   "execution_count": null,
   "id": "8c355ae9",
   "metadata": {},
   "outputs": [],
   "source": [
    "import random\n",
    "name = ['권혁종', '김기연', '김기현', '김민성', '김영수', '김재경', '김정수', '김태형', '마경수', '문성윤',\n",
    "       '박광민','박종석','손창효','어정호','예지우','오주완','용지영','이동연','이용준','이재우',\n",
    "       '이재호','이현정','임재곤','장종호','정현우','조경윤','조남현','최종원','최지원']\n",
    "a=int(input())\n",
    "name=list(set(name))\n",
    "random.shuffle(name)\n",
    "[name[i] for i in range(a)]\n",
    "        "
   ]
  }
 ],
 "metadata": {
  "kernelspec": {
   "display_name": "Python 3 (ipykernel)",
   "language": "python",
   "name": "python3"
  },
  "language_info": {
   "codemirror_mode": {
    "name": "ipython",
    "version": 3
   },
   "file_extension": ".py",
   "mimetype": "text/x-python",
   "name": "python",
   "nbconvert_exporter": "python",
   "pygments_lexer": "ipython3",
   "version": "3.8.12"
  }
 },
 "nbformat": 4,
 "nbformat_minor": 5
}
