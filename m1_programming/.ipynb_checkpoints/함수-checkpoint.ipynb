{
 "cells": [
  {
   "cell_type": "code",
   "execution_count": 5,
   "id": "628c7e1d",
   "metadata": {},
   "outputs": [
    {
     "name": "stdout",
     "output_type": "stream",
     "text": [
      "HI\n"
     ]
    }
   ],
   "source": [
    "# 입력값이 없고 결과값만 있는 함수\n",
    "def say():\n",
    "    return 'HI'\n",
    "\n",
    "a = say()\n",
    "print(a)"
   ]
  },
  {
   "cell_type": "code",
   "execution_count": 6,
   "id": "2265b9fc",
   "metadata": {},
   "outputs": [
    {
     "name": "stdout",
     "output_type": "stream",
     "text": [
      "3, 4의 합은 7입니다.\n"
     ]
    }
   ],
   "source": [
    "# 입력값은 있고 결과값이 없는 함수\n",
    "# 결과값은 오직 return 명령어로만 돌려 받을 수 있음\n",
    "def add(a,b):\n",
    "    print('%d, %d의 합은 %d입니다.' %(a,b,a+b))\n",
    "add(3,4)"
   ]
  },
  {
   "cell_type": "code",
   "execution_count": 7,
   "id": "d4178154",
   "metadata": {},
   "outputs": [
    {
     "name": "stdout",
     "output_type": "stream",
     "text": [
      "Hi\n"
     ]
    }
   ],
   "source": [
    "# 입력값도 결과값도 없는 함수\n",
    "\n",
    "def say():\n",
    "    print('Hi')\n",
    "    \n",
    "say()"
   ]
  },
  {
   "cell_type": "code",
   "execution_count": 12,
   "id": "a64e2f72",
   "metadata": {},
   "outputs": [
    {
     "data": {
      "text/plain": [
       "30"
      ]
     },
     "execution_count": 12,
     "metadata": {},
     "output_type": "execute_result"
    }
   ],
   "source": [
    "# 입력값, 결과값이 모두 있는 함수\n",
    "def max(a,b,c):\n",
    "    if a>b:\n",
    "        if a>c:\n",
    "            return a\n",
    "        elif a<c:\n",
    "            return c\n",
    "    if a<b:\n",
    "        if b>c:\n",
    "            return b\n",
    "        else:\n",
    "            return c\n",
    "\n",
    "# print(\"가장 큰 수는 %d입니다.\" %(max(20,1,30)))\n",
    "max(10,20,30)\n"
   ]
  },
  {
   "cell_type": "code",
   "execution_count": 16,
   "id": "ae65873e",
   "metadata": {},
   "outputs": [
    {
     "data": {
      "text/plain": [
       "5"
      ]
     },
     "execution_count": 16,
     "metadata": {},
     "output_type": "execute_result"
    }
   ],
   "source": [
    "def math(x, y, z):\n",
    "    if z == '*':\n",
    "        return x*y\n",
    "    elif z== '/':\n",
    "        return x/y\n",
    "    elif z== '+':\n",
    "        return x+y\n",
    "    elif z== '%':\n",
    "        return x%y\n",
    "    elif z== '^':\n",
    "        return x**y\n",
    "    elif z== '-':\n",
    "        return x-y\n",
    "    elif z== '//':\n",
    "        return x//y\n",
    "    else:\n",
    "        return\n",
    "\n",
    "# print(math(int(input(\"숫자1 : \")), int(input(\"숫자2 : \")), input(\"기호 : \")))\n",
    "math(10,2,'//')\n"
   ]
  },
  {
   "cell_type": "code",
   "execution_count": 18,
   "id": "a2846810",
   "metadata": {},
   "outputs": [
    {
     "data": {
      "text/plain": [
       "'3 equal 3'"
      ]
     },
     "execution_count": 18,
     "metadata": {},
     "output_type": "execute_result"
    }
   ],
   "source": [
    "def com(a,b):\n",
    "    if a>b:\n",
    "        return f'{a} bigger than {b}'\n",
    "    elif a<b:\n",
    "        return f'{a} smaller than {b}'\n",
    "    else:\n",
    "        return f'{a} equal {b}'\n",
    "com(3,3)\n"
   ]
  },
  {
   "cell_type": "code",
   "execution_count": 22,
   "id": "e77da357",
   "metadata": {},
   "outputs": [
    {
     "data": {
      "text/plain": [
       "55"
      ]
     },
     "execution_count": 22,
     "metadata": {},
     "output_type": "execute_result"
    }
   ],
   "source": [
    "# 여러 개의 입력값을 받는 함수 만들기\n",
    "# *args 처럼 입력 변수명 앞에 *를 붙이면 입력값들을 전부 모아서 튜플로 만들어 줌\n",
    "\n",
    "def add_many(*args):\n",
    "    add = 0\n",
    "    for i in args:\n",
    "        add += i\n",
    "    return add\n",
    "\n",
    "add_many(1,2,3,4,5,6,7,8,9,10)"
   ]
  },
  {
   "cell_type": "code",
   "execution_count": 23,
   "id": "c32e9f7d",
   "metadata": {},
   "outputs": [
    {
     "name": "stdout",
     "output_type": "stream",
     "text": [
      "(7, 12)\n"
     ]
    }
   ],
   "source": [
    "# 함수의 반환 값은 언제나 하나임 - 결과 값으로 튜플 값 하나를 갖게 됨\n",
    "def add_and_mul(a,b):\n",
    "    return a+b, a*b\n",
    "\n",
    "result = add_and_mul(3,4)\n",
    "print(result)"
   ]
  },
  {
   "cell_type": "code",
   "execution_count": 79,
   "id": "857888c5",
   "metadata": {},
   "outputs": [
    {
     "name": "stdout",
     "output_type": "stream",
     "text": [
      "120\n",
      "15\n"
     ]
    }
   ],
   "source": [
    "# add_mul() 함수를 정의하여 1,2,3,4,5를 입력 값으로 적용하여 덧셈,곱셈 연산을 수행하세요.\n",
    "def add_mul(choice, *args):\n",
    "    sum=0\n",
    "    mul=1\n",
    "    if choice == '+':\n",
    "        for i in args:\n",
    "            sum+=i\n",
    "        return sum    \n",
    "    elif choice == '*':\n",
    "        for i in args:\n",
    "            mul*=i\n",
    "        return mul\n",
    "\n",
    "           \n",
    "print(add_mul('*',1,2,3,4,5))\n",
    "print(add_mul('+',1,2,3,4,5))"
   ]
  },
  {
   "cell_type": "code",
   "execution_count": 75,
   "id": "90622315",
   "metadata": {},
   "outputs": [
    {
     "name": "stdout",
     "output_type": "stream",
     "text": [
      "-26\n",
      "0.1\n"
     ]
    }
   ],
   "source": [
    "# [과제] 뻴셈, 나눗셈 멀티 계산 함수를 작성\n",
    "# ('sub', 2,4,6,8,10)\n",
    "# ('div', 2,4,6,8,10)\n",
    "def subdiv(choice,*args):\n",
    "    lst=[]\n",
    "    result=0\n",
    "    a=0\n",
    "    for i in args:\n",
    "        lst.append(i)\n",
    "        \n",
    "    if choice == '-':\n",
    "        for i in range(len(lst)-1):\n",
    "            result=result-lst[i+1]\n",
    "        return result+lst[0]\n",
    "    \n",
    "    if choice == '/':\n",
    "        ini=lst[0]/lst[1]\n",
    "        for i in range(len(lst)-2):\n",
    "            ini=ini/lst[i+2]\n",
    "        return ini\n",
    "        \n",
    "\n",
    "\n",
    "print(subdiv('-',2,4,6,8,10))\n",
    "print(subdiv('/',2,4,6,8,10))"
   ]
  },
  {
   "cell_type": "code",
   "execution_count": null,
   "id": "e2878246",
   "metadata": {},
   "outputs": [],
   "source": [
    "# 함수 안에서 선언된 변수의 효력 범위\n",
    "a = 1\n",
    "def vartest(a):    \n",
    "    a = a + 1\n",
    "    \n",
    "print(vartest(a))\n",
    "print(a)"
   ]
  },
  {
   "cell_type": "code",
   "execution_count": null,
   "id": "58e93e12",
   "metadata": {},
   "outputs": [],
   "source": [
    "# 함수 안에서 함수 밖의 변수를 변경하는 방법 - return 이용\n",
    "\n",
    "a = 1\n",
    "def vartest(a):\n",
    "    a =  a+1\n",
    "    return a\n",
    "a = vartest(a)\n",
    "print(a)"
   ]
  },
  {
   "cell_type": "code",
   "execution_count": null,
   "id": "7b4ac05a",
   "metadata": {},
   "outputs": [],
   "source": [
    "# global 명령을 이용하는 방법\n",
    "a = 1\n",
    "def vartest():\n",
    "    global a\n",
    "    a = a + 1\n",
    "    \n",
    "vartest()\n",
    "print(a)"
   ]
  },
  {
   "cell_type": "code",
   "execution_count": 3,
   "id": "d5140d01",
   "metadata": {},
   "outputs": [],
   "source": [
    "f= open('test1.txt','w')\n",
    "for i in range(1,11):\n",
    "    data = f\"{i}번째 줄 입니다.\\n\"\n",
    "    f.write(data)\n",
    "f.close()"
   ]
  },
  {
   "cell_type": "code",
   "execution_count": 8,
   "id": "1615c916",
   "metadata": {},
   "outputs": [
    {
     "name": "stdout",
     "output_type": "stream",
     "text": [
      "1번째 줄 입니다.\n",
      "\n",
      "2번째 줄 입니다.\n",
      "\n",
      "3번째 줄 입니다.\n",
      "\n",
      "4번째 줄 입니다.\n",
      "\n",
      "5번째 줄 입니다.\n",
      "\n",
      "6번째 줄 입니다.\n",
      "\n",
      "7번째 줄 입니다.\n",
      "\n",
      "8번째 줄 입니다.\n",
      "\n",
      "9번째 줄 입니다.\n",
      "\n",
      "10번째 줄 입니다.\n",
      "\n"
     ]
    }
   ],
   "source": [
    "f= open('test1.txt','r')\n",
    "for i in range(1,11):\n",
    "    line = f.readline()\n",
    "    print(line)\n",
    "f.close()\n"
   ]
  },
  {
   "cell_type": "code",
   "execution_count": 12,
   "id": "be02fdf4",
   "metadata": {},
   "outputs": [
    {
     "name": "stdout",
     "output_type": "stream",
     "text": [
      "1번째 줄 입니다.\n",
      "\n",
      "2번째 줄 입니다.\n",
      "\n",
      "3번째 줄 입니다.\n",
      "\n",
      "4번째 줄 입니다.\n",
      "\n",
      "5번째 줄 입니다.\n",
      "\n",
      "6번째 줄 입니다.\n",
      "\n",
      "7번째 줄 입니다.\n",
      "\n",
      "8번째 줄 입니다.\n",
      "\n",
      "9번째 줄 입니다.\n",
      "\n",
      "10번째 줄 입니다.\n",
      "\n"
     ]
    }
   ],
   "source": [
    "f= open('test1.txt','r')\n",
    "while True:\n",
    "    \n",
    "    line=f.readline()\n",
    "    if not line: break\n",
    "    print (line)\n",
    "f.close()"
   ]
  },
  {
   "cell_type": "code",
   "execution_count": 14,
   "id": "5b1aea1f",
   "metadata": {
    "scrolled": false
   },
   "outputs": [
    {
     "name": "stdout",
     "output_type": "stream",
     "text": [
      "1번째 줄 입니다.\n",
      "2번째 줄 입니다.\n",
      "3번째 줄 입니다.\n",
      "4번째 줄 입니다.\n",
      "5번째 줄 입니다.\n",
      "6번째 줄 입니다.\n",
      "7번째 줄 입니다.\n",
      "8번째 줄 입니다.\n",
      "9번째 줄 입니다.\n",
      "10번째 줄 입니다.\n",
      "\n"
     ]
    }
   ],
   "source": [
    "f= open('test1.txt','r')\n",
    "data=f.read()\n",
    "print(data)\n",
    "f.close()"
   ]
  },
  {
   "cell_type": "code",
   "execution_count": null,
   "id": "c6a9cb48",
   "metadata": {},
   "outputs": [],
   "source": [
    "f = open('test1.txt', 'a')\n",
    "for i in range(11,16):\n",
    "    data = '%d번째 줄입니다.\\n' %i\n",
    "    f.write(data)\n",
    "f.close()"
   ]
  },
  {
   "cell_type": "code",
   "execution_count": 15,
   "id": "afa97ac1",
   "metadata": {},
   "outputs": [],
   "source": [
    "with open('foo.txt','w') as f:\n",
    "    f.write( '파이썬을 배웁시다')"
   ]
  },
  {
   "cell_type": "code",
   "execution_count": 23,
   "id": "a1a3dbce",
   "metadata": {},
   "outputs": [],
   "source": [
    "with open('test1.txt','w')as f :\n",
    "    for i in range(1,11):\n",
    "        data = f\"{i}번째 줄 입니다.\\n\"\n",
    "        f.write(data)"
   ]
  },
  {
   "cell_type": "code",
   "execution_count": 25,
   "id": "e068b427",
   "metadata": {},
   "outputs": [
    {
     "name": "stdout",
     "output_type": "stream",
     "text": [
      "1번째 줄 입니다.\n",
      "2번째 줄 입니다.\n",
      "3번째 줄 입니다.\n",
      "4번째 줄 입니다.\n",
      "5번째 줄 입니다.\n",
      "6번째 줄 입니다.\n",
      "7번째 줄 입니다.\n",
      "8번째 줄 입니다.\n",
      "9번째 줄 입니다.\n",
      "10번째 줄 입니다.\n",
      "\n"
     ]
    }
   ],
   "source": [
    "with open('test1.txt','r') as f :\n",
    "    data = f.read()\n",
    "    print(data)"
   ]
  },
  {
   "cell_type": "code",
   "execution_count": null,
   "id": "406e1543",
   "metadata": {},
   "outputs": [],
   "source": [
    "# 내장함수\n",
    "print(abs(-3))\n",
    "print(all([1,2,3,0])) # x가 모두 참이면 True, 거짓이 하나라도 있으면 False\n",
    "print(any([1,2,3,0])) # x가 하나라도 참이면 True, 모두 거짓이면 False\n",
    "print(chr(65))"
   ]
  },
  {
   "cell_type": "code",
   "execution_count": null,
   "id": "2bd29a4e",
   "metadata": {},
   "outputs": [],
   "source": [
    "sum = lambda a,b:a+b\n",
    "sum(3,4)"
   ]
  },
  {
   "cell_type": "code",
   "execution_count": null,
   "id": "2992d642",
   "metadata": {},
   "outputs": [],
   "source": [
    "myList = [lambda a,b:a+b, lambda a,b:a*b]\n",
    "print(myList[0](3,4))\n",
    "print(myList[1](3,4))"
   ]
  },
  {
   "cell_type": "code",
   "execution_count": null,
   "id": "7e0e8d9c",
   "metadata": {},
   "outputs": [],
   "source": [
    "print(len('python'))\n",
    "print(len([1,2,3]))\n",
    "print(len([1,2,'a']))"
   ]
  },
  {
   "cell_type": "code",
   "execution_count": null,
   "id": "00fe0831",
   "metadata": {},
   "outputs": [],
   "source": [
    "list(range(5))\n",
    "list(range(1,6))\n",
    "list(range(1,10, 2))\n",
    "list(range(0, -10, -1))"
   ]
  },
  {
   "cell_type": "code",
   "execution_count": null,
   "id": "51231622",
   "metadata": {},
   "outputs": [],
   "source": [
    "print(divmod(7,3))"
   ]
  },
  {
   "cell_type": "code",
   "execution_count": 32,
   "id": "34b707a9",
   "metadata": {
    "scrolled": true
   },
   "outputs": [
    {
     "name": "stdout",
     "output_type": "stream",
     "text": [
      "0 james\n",
      "1 tom\n",
      "2 susan\n"
     ]
    }
   ],
   "source": [
    "for i,name in enumerate(['james','tom','susan']):\n",
    "    print(i,name)"
   ]
  },
  {
   "cell_type": "code",
   "execution_count": null,
   "id": "96d9f33d",
   "metadata": {},
   "outputs": [],
   "source": [
    "# 실행 가능한 문자열 입력으로 받아 문자열을 실행한 결과값을 리턴\n",
    "print(eval('1+2'))"
   ]
  },
  {
   "cell_type": "code",
   "execution_count": null,
   "id": "bcfc7ef0",
   "metadata": {},
   "outputs": [],
   "source": [
    "# 정렬된 결과를 반환하는 함수는 본체는 변형되지 않는다.\n",
    "li = [0,2,1,5,4]\n",
    "s = sorted(li)\n",
    "print(s)\n",
    "li"
   ]
  },
  {
   "cell_type": "code",
   "execution_count": 34,
   "id": "2a146ddb",
   "metadata": {},
   "outputs": [],
   "source": [
    "import pickle\n",
    "\n",
    "f=open('test.txt','wb')\n",
    "data={1:'python',2:'you need'}\n",
    "pickle.dump(data,f)\n",
    "f.close()"
   ]
  },
  {
   "cell_type": "code",
   "execution_count": 38,
   "id": "e4e089b3",
   "metadata": {
    "scrolled": true
   },
   "outputs": [
    {
     "name": "stdout",
     "output_type": "stream",
     "text": [
      "{1: 'python', 2: 'you need'}\n"
     ]
    }
   ],
   "source": [
    "f=open('test.txt','rb')\n",
    "data=pickle.load(f)\n",
    "print(data)\n",
    "f.close()"
   ]
  },
  {
   "cell_type": "code",
   "execution_count": 42,
   "id": "6d1a6069",
   "metadata": {},
   "outputs": [
    {
     "data": {
      "text/plain": [
       "'C:\\\\GitHub\\\\cakd5\\\\m1_programming'"
      ]
     },
     "execution_count": 42,
     "metadata": {},
     "output_type": "execute_result"
    }
   ],
   "source": [
    "%pwd"
   ]
  },
  {
   "cell_type": "code",
   "execution_count": null,
   "id": "713e4fc1",
   "metadata": {},
   "outputs": [],
   "source": [
    "import os\n",
    "os.environ['PATH']"
   ]
  },
  {
   "cell_type": "code",
   "execution_count": null,
   "id": "dc6cf725",
   "metadata": {},
   "outputs": [],
   "source": [
    "# 폴더변경\n",
    "os.chdir('C:\\cakd5\\workspace')"
   ]
  },
  {
   "cell_type": "code",
   "execution_count": null,
   "id": "e5808e06",
   "metadata": {},
   "outputs": [],
   "source": [
    "os.chdir('C:\\cakd5\\workspace\\m1_programming')"
   ]
  },
  {
   "cell_type": "code",
   "execution_count": null,
   "id": "b3917a64",
   "metadata": {},
   "outputs": [],
   "source": [
    "os.getcwd()"
   ]
  },
  {
   "cell_type": "code",
   "execution_count": null,
   "id": "adab4a79",
   "metadata": {},
   "outputs": [],
   "source": [
    "!dir"
   ]
  },
  {
   "cell_type": "code",
   "execution_count": 43,
   "id": "0a35cc45",
   "metadata": {},
   "outputs": [],
   "source": [
    "os.rename('test1.txt','text1.txt')"
   ]
  },
  {
   "cell_type": "code",
   "execution_count": 46,
   "id": "3d8c4101",
   "metadata": {
    "scrolled": true
   },
   "outputs": [
    {
     "data": {
      "text/plain": [
       "['C:\\\\GitHub\\\\cakd5\\\\m1_programming\\\\foo.txt',\n",
       " 'C:\\\\GitHub\\\\cakd5\\\\m1_programming\\\\jupyter notebook basic.ipynb',\n",
       " 'C:\\\\GitHub\\\\cakd5\\\\m1_programming\\\\python basic.ipynb',\n",
       " 'C:\\\\GitHub\\\\cakd5\\\\m1_programming\\\\python basic2.ipynb',\n",
       " 'C:\\\\GitHub\\\\cakd5\\\\m1_programming\\\\test.txt',\n",
       " 'C:\\\\GitHub\\\\cakd5\\\\m1_programming\\\\text1.txt',\n",
       " 'C:\\\\GitHub\\\\cakd5\\\\m1_programming\\\\매직명령어.jpg',\n",
       " 'C:\\\\GitHub\\\\cakd5\\\\m1_programming\\\\함수.ipynb',\n",
       " 'C:\\\\GitHub\\\\cakd5\\\\m1_programming\\\\환경설정_anaconda.pptx']"
      ]
     },
     "execution_count": 46,
     "metadata": {},
     "output_type": "execute_result"
    }
   ],
   "source": [
    "import glob\n",
    "glob.glob('C:\\\\GitHub\\\\cakd5\\\\m1_programming/*')"
   ]
  },
  {
   "cell_type": "code",
   "execution_count": null,
   "id": "b8f77451",
   "metadata": {},
   "outputs": [],
   "source": [
    "import time\n",
    "time.time()"
   ]
  },
  {
   "cell_type": "code",
   "execution_count": null,
   "id": "8aa73301",
   "metadata": {},
   "outputs": [],
   "source": [
    "time.localtime(time.time())"
   ]
  },
  {
   "cell_type": "code",
   "execution_count": null,
   "id": "7a41ac3f",
   "metadata": {},
   "outputs": [],
   "source": [
    "time.asctime(time.localtime(time.time()))"
   ]
  },
  {
   "cell_type": "code",
   "execution_count": null,
   "id": "a0a5ca6e",
   "metadata": {},
   "outputs": [],
   "source": [
    "import time\n",
    "for i in range(5):\n",
    "    print(i)\n",
    "    time.sleep(2)"
   ]
  },
  {
   "cell_type": "code",
   "execution_count": null,
   "id": "440200cb",
   "metadata": {},
   "outputs": [],
   "source": [
    "for i,name in enumerate(['james','tom','susan']):\n",
    "    print(i,name)"
   ]
  },
  {
   "cell_type": "code",
   "execution_count": null,
   "id": "7ab41189",
   "metadata": {},
   "outputs": [],
   "source": [
    "import calendar\n",
    "type(calendar.prmonth(2021,12))"
   ]
  },
  {
   "cell_type": "code",
   "execution_count": null,
   "id": "1788aa52",
   "metadata": {},
   "outputs": [],
   "source": [
    "# 요일(0 월요일 ~ 6 일요일)\n",
    "print(calendar.weekday(2021,12,31))"
   ]
  },
  {
   "cell_type": "code",
   "execution_count": null,
   "id": "38c808ba",
   "metadata": {},
   "outputs": [],
   "source": [
    "# 1일의 요일, 날수\n",
    "calendar.monthrange(2022,1)"
   ]
  },
  {
   "cell_type": "code",
   "execution_count": null,
   "id": "829da169",
   "metadata": {},
   "outputs": [],
   "source": [
    "import webbrowser\n",
    "\n",
    "webbrowser.open('naver.com')"
   ]
  },
  {
   "cell_type": "code",
   "execution_count": 158,
   "id": "9725d3e4",
   "metadata": {},
   "outputs": [
    {
     "name": "stdout",
     "output_type": "stream",
     "text": [
      "[0, 1, 2, 3, 4, 6]\n"
     ]
    }
   ],
   "source": [
    "lst=[0,1,2,3,4,5,6]\n",
    "\n",
    "lst.remove(2)\n",
    "\n",
    "print(lst)"
   ]
  },
  {
   "cell_type": "code",
   "execution_count": null,
   "id": "c481ca3f",
   "metadata": {},
   "outputs": [],
   "source": [
    "lt = [0, 1, 2, 3, 4, 5, 6]\n",
    "print(lt)\n",
    "lt.pop(2)\n",
    "print(lt)"
   ]
  },
  {
   "cell_type": "code",
   "execution_count": 57,
   "id": "e1b8e841",
   "metadata": {
    "scrolled": true
   },
   "outputs": [
    {
     "name": "stdout",
     "output_type": "stream",
     "text": [
      "0\n",
      "1\n",
      "2\n",
      "3\n",
      "4\n",
      "5\n",
      "6\n"
     ]
    }
   ],
   "source": [
    "lst=[0,1,2,3,4,5,6]\n",
    "\n",
    "for i in range(len(lst)):\n",
    "    print(lst[0])\n",
    "    del lst[0]"
   ]
  },
  {
   "cell_type": "code",
   "execution_count": 78,
   "id": "afadb5dc",
   "metadata": {
    "scrolled": true
   },
   "outputs": [
    {
     "name": "stdout",
     "output_type": "stream",
     "text": [
      "[1, 4, 9, 16, 25]\n"
     ]
    }
   ],
   "source": [
    "a=list(map(lambda x: x ** 2, range(1,6)))\n",
    "print(a)"
   ]
  },
  {
   "cell_type": "code",
   "execution_count": 83,
   "id": "ab1bc50d",
   "metadata": {},
   "outputs": [
    {
     "name": "stdout",
     "output_type": "stream",
     "text": [
      "[1, 2, 6]\n"
     ]
    }
   ],
   "source": [
    "lst=[1,-3,2,0,-5,6]\n",
    "a=[]\n",
    "for i in lst:\n",
    "    if i>0:\n",
    "        a.append(i)\n",
    "print(a)        "
   ]
  },
  {
   "cell_type": "code",
   "execution_count": 151,
   "id": "45a8e8a9",
   "metadata": {
    "scrolled": true
   },
   "outputs": [
    {
     "name": "stdout",
     "output_type": "stream",
     "text": [
      "[(1, 4), (2, 5), (3, 6)]\n"
     ]
    }
   ],
   "source": [
    "a=[[1,2,3],[4,5,6]]\n",
    "lst=[]\n",
    "res=[]\n",
    "\n",
    "\n",
    "for i in range(len(a)):\n",
    "    for j in range(len(a[1])):\n",
    "        lst.append(a[i][j])\n",
    "for i in range(len(a[1])):\n",
    "    tup=[]\n",
    "    tup.append(lst[i])\n",
    "    tup.append(lst[i+3])\n",
    "    tup=tuple(tup)\n",
    "    res.append(tup)\n",
    "print(res)"
   ]
  },
  {
   "cell_type": "code",
   "execution_count": 152,
   "id": "47ec2bb1",
   "metadata": {
    "scrolled": true
   },
   "outputs": [
    {
     "name": "stdout",
     "output_type": "stream",
     "text": [
      "[(1, 4, 7), (2, 5, 8), (3, 6, 9)]\n"
     ]
    }
   ],
   "source": [
    "a=[[1,2,3],[4,5,6],[7,8,9]]\n",
    "lst=[]\n",
    "res=[]\n",
    "\n",
    "\n",
    "for i in range(len(a)):\n",
    "    for j in range(len(a[1])):\n",
    "        lst.append(a[i][j])\n",
    "for i in range(len(a[1])):\n",
    "    tup=[]\n",
    "    tup.append(lst[i])\n",
    "    tup.append(lst[i+3])\n",
    "    tup.append(lst[i+6])\n",
    "    tup=tuple(tup)\n",
    "    res.append(tup)\n",
    "print(res)"
   ]
  },
  {
   "cell_type": "code",
   "execution_count": 185,
   "id": "a28a444b",
   "metadata": {
    "scrolled": true
   },
   "outputs": [
    {
     "name": "stdout",
     "output_type": "stream",
     "text": [
      "[('a', 'd'), ('b', 'e'), ('c', 'f')]\n"
     ]
    }
   ],
   "source": [
    "a=('abc','def')\n",
    "lst=[]\n",
    "res=[]\n",
    "\n",
    "for i in range(len(a)):\n",
    "    b=a[i]\n",
    "    lst.extend(list(b))\n",
    "\n",
    "for i in range(len(a[1])):\n",
    "    tup=[]\n",
    "    tup.append(lst[i])\n",
    "    tup.append(lst[i+3])\n",
    "    tup=tuple(tup)\n",
    "    res.append(tup)   \n",
    "    \n",
    "print(res)\n",
    "    \n",
    "\n"
   ]
  },
  {
   "cell_type": "code",
   "execution_count": 186,
   "id": "6f7bb6c4",
   "metadata": {
    "scrolled": true
   },
   "outputs": [
    {
     "name": "stdout",
     "output_type": "stream",
     "text": [
      "(1, 'a')\n",
      "(2, 'b')\n",
      "(3, 'c')\n"
     ]
    }
   ],
   "source": [
    "num=[1,2,3]\n",
    "it=['a','b','c']\n",
    "\n",
    "for i in zip(num,it):\n",
    "    print(i)"
   ]
  },
  {
   "cell_type": "code",
   "execution_count": 211,
   "id": "0e1c7bcf",
   "metadata": {
    "scrolled": false
   },
   "outputs": [
    {
     "name": "stdout",
     "output_type": "stream",
     "text": [
      "수 입력 : 5,8,3\n",
      "5.333333333333333\n"
     ]
    }
   ],
   "source": [
    "# 입력으로 들어오는 모든 수의 평균 값을 계산해 주는 함수를 작성한 후 1,2,3을 입력한 결과를 출력하세요.\n",
    "sum=0\n",
    "a=list(map(int,input(\"수 입력 : \").split(',')))\n",
    "\n",
    "for i in a:\n",
    "    sum+=i\n",
    "print(sum/len(a))\n"
   ]
  },
  {
   "cell_type": "code",
   "execution_count": 27,
   "id": "64845a27",
   "metadata": {},
   "outputs": [
    {
     "name": "stdout",
     "output_type": "stream",
     "text": [
      "[('bar', 3), ('ca', 2), ('ababa', 2), ('a', 1), ('aaaa', 1)]\n"
     ]
    }
   ],
   "source": [
    "# [과제] strings를 다양한 문자가 포함된 순서로 정렬하세요.\n",
    "strings = ['a', 'ca', 'bar', 'aaaa', 'ababa']\n",
    "rank=[]\n",
    "for i in strings:\n",
    "    lst=[]\n",
    "    lst.extend(i)\n",
    "    rank.append(len(set(lst)))\n",
    "\n",
    "dic=dict(zip(strings,rank))\n",
    "print(sorted(dic.items(), key=lambda x:x[1],reverse=True))\n",
    "\n"
   ]
  },
  {
   "cell_type": "code",
   "execution_count": 29,
   "id": "53fe502d",
   "metadata": {},
   "outputs": [
    {
     "name": "stdout",
     "output_type": "stream",
     "text": [
      "[('bar', 3), ('ca', 2), ('ababa', 2), ('a', 1), ('aaaa', 1)]\n"
     ]
    }
   ],
   "source": [
    "# [과제] 튜플 형태인 strings를 다양한 문자가 포함된 순서로 정렬하세요.\n",
    "strings = ('a', 'ca', 'bar', 'aaaa', 'ababa')\n",
    "rank=[]\n",
    "for i in strings:\n",
    "    lst=[]\n",
    "    lst.extend(i)\n",
    "    rank.append(len(set(lst)))\n",
    "\n",
    "dic=dict(zip(strings,rank))\n",
    "print(sorted(dic.items(), key=lambda x:x[1],reverse=True))\n"
   ]
  }
 ],
 "metadata": {
  "kernelspec": {
   "display_name": "Python 3 (ipykernel)",
   "language": "python",
   "name": "python3"
  },
  "language_info": {
   "codemirror_mode": {
    "name": "ipython",
    "version": 3
   },
   "file_extension": ".py",
   "mimetype": "text/x-python",
   "name": "python",
   "nbconvert_exporter": "python",
   "pygments_lexer": "ipython3",
   "version": "3.8.12"
  }
 },
 "nbformat": 4,
 "nbformat_minor": 5
}
