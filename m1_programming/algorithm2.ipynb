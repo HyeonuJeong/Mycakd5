{
 "cells": [
  {
   "cell_type": "code",
   "execution_count": null,
   "id": "86ccc317",
   "metadata": {
    "scrolled": true
   },
   "outputs": [],
   "source": [
    "import sys\n",
    "case=int(input())\n",
    "for i in range(case):\n",
    "    a,b=map(int, sys.stdin.readline().split())\n",
    "    print(a+b)\n"
   ]
  },
  {
   "cell_type": "code",
   "execution_count": null,
   "id": "1907b9b5",
   "metadata": {
    "scrolled": false
   },
   "outputs": [],
   "source": [
    "a=input()\n",
    "cnt=0\n",
    "ab=a\n",
    "while 1:\n",
    "    cnt+=1\n",
    "    lst=list(map(int,a))\n",
    "    tmp=sum(lst)\n",
    "    if tmp<10:\n",
    "        tmp='0'+str(tmp)\n",
    "        tmp=list(tmp)\n",
    "        tmp=list(map(int,tmp))\n",
    "    else:\n",
    "        tmp=list(str(tmp))\n",
    "    ts=list(map(str,(lst[-1],tmp[-1])))\n",
    "    if ts[0]+ts[1]==ab :\n",
    "        print(ts[0]+ts[1])\n",
    "        print(cnt)\n",
    "        break\n",
    "    a=ts[0]+ts[1]\n",
    "        \n",
    "    print(a)\n",
    "\n",
    "\n",
    "\n",
    "\n"
   ]
  },
  {
   "cell_type": "code",
   "execution_count": 96,
   "id": "03ffcbc1",
   "metadata": {},
   "outputs": [
    {
     "name": "stdout",
     "output_type": "stream",
     "text": [
      "26\n",
      "4\n"
     ]
    }
   ],
   "source": [
    "n=int(input())\n",
    "cnt=0\n",
    "ab=n\n",
    "while 1:\n",
    "    cnt+=1\n",
    "    a=ab//10\n",
    "    b=ab%10\n",
    "    c=(a+b)%10\n",
    "    ab=(b*10)+c\n",
    "    if ab==n:\n",
    "        break\n",
    "print(cnt)"
   ]
  },
  {
   "cell_type": "code",
   "execution_count": 103,
   "id": "f9553b6f",
   "metadata": {
    "scrolled": true
   },
   "outputs": [
    {
     "name": "stdout",
     "output_type": "stream",
     "text": [
      "['B', 'A', 'C', 'H', 'D', 'I', 'J', 'M', 'E', 'G', 'K', 'F', 'L']\n"
     ]
    }
   ],
   "source": [
    "graph = {\n",
    "    'A': ['B'],\n",
    "    'B': ['A', 'C', 'H'],\n",
    "    'C': ['B', 'D'],\n",
    "    'D': ['C', 'E', 'G'],\n",
    "    'E': ['D', 'F'],\n",
    "    'F': ['E'],\n",
    "    'G': ['D'],\n",
    "    'H': ['B', 'I', 'J', 'M'],\n",
    "    'I': ['H'],\n",
    "    'J': ['H', 'K'],\n",
    "    'K': ['J', 'L'],\n",
    "    'L': ['K'],\n",
    "    'M': ['H']\n",
    "}\n",
    "\n",
    "def bfs(graph, start_node):\n",
    "    visit = list()\n",
    "    queue = list()\n",
    "    queue.append(start_node)\n",
    "    while queue:\n",
    "        node = queue.pop(0)\n",
    "        if node not in visit:\n",
    "            visit.append(node)\n",
    "            queue.extend(graph[node])\n",
    "    return visit\n",
    "dd=bfs(graph,'B')\n",
    "print(dd)"
   ]
  },
  {
   "cell_type": "code",
   "execution_count": 109,
   "id": "cd6a0f0a",
   "metadata": {},
   "outputs": [
    {
     "name": "stdout",
     "output_type": "stream",
     "text": [
      "['A', 'B', 'H', 'M', 'J', 'K', 'L', 'I', 'C', 'D', 'G', 'E', 'F']\n"
     ]
    }
   ],
   "source": [
    "graph = {\n",
    "    'A': ['B'],\n",
    "    'B': ['A', 'C', 'H'],\n",
    "    'C': ['B', 'D'],\n",
    "    'D': ['C', 'E', 'G'],\n",
    "    'E': ['D', 'F'],\n",
    "    'F': ['E'],\n",
    "    'G': ['D'],\n",
    "    'H': ['B', 'I', 'J', 'M'],\n",
    "    'I': ['H'],\n",
    "    'J': ['H', 'K'],\n",
    "    'K': ['J', 'L'],\n",
    "    'L': ['K'],\n",
    "    'M': ['H']\n",
    "}\n",
    "def dfs(graph, start_node):\n",
    "    visit = list()\n",
    "    stack = list()\n",
    "    \n",
    "    stack.append(start_node)\n",
    "\n",
    "    while stack:\n",
    "        node = stack.pop()\n",
    "        if node not in visit:\n",
    "            visit.append(node)\n",
    "            stack.extend(graph[node])\n",
    "    return visit\n",
    "\n",
    "dd=dfs(graph,'A')\n",
    "print(dd)"
   ]
  },
  {
   "cell_type": "code",
   "execution_count": null,
   "id": "8808bd90",
   "metadata": {},
   "outputs": [],
   "source": []
  }
 ],
 "metadata": {
  "kernelspec": {
   "display_name": "Python 3 (ipykernel)",
   "language": "python",
   "name": "python3"
  },
  "language_info": {
   "codemirror_mode": {
    "name": "ipython",
    "version": 3
   },
   "file_extension": ".py",
   "mimetype": "text/x-python",
   "name": "python",
   "nbconvert_exporter": "python",
   "pygments_lexer": "ipython3",
   "version": "3.8.12"
  }
 },
 "nbformat": 4,
 "nbformat_minor": 5
}
