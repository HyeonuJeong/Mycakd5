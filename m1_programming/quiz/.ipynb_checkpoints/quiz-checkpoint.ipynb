{
 "cells": [
  {
   "cell_type": "code",
   "execution_count": null,
   "id": "fbaff1a4",
   "metadata": {},
   "outputs": [
    {
     "name": "stdout",
     "output_type": "stream",
     "text": [
      "\n",
      "원하는 주제를 고르시면 문제가 출제 됩니다.\n",
      "1.넌센스\n",
      "2.수도\n",
      "3.영화 자음\n",
      "번호 : 2\n",
      "=-==-==-==-==-= 퀴즈시작 =-==-==-==-==-=\n",
      "1번 문제 : 요르단 \n",
      "답 : 요르단\n",
      "X 틀렸습니다! 정답은 '암만' 입니다!\n",
      "\n",
      "2번 문제 : 인도 \n",
      "답 : 뉴델리\n",
      "◎ 정답입니다!\n",
      "\n",
      "3번 문제 : 루마니아  \n"
     ]
    }
   ],
   "source": [
    "import random\n",
    "\n",
    "while 1:\n",
    "    print(\"\"\"\n",
    "원하는 주제를 고르시면 문제가 출제 됩니다.\n",
    "1.넌센스\n",
    "2.수도\n",
    "3.영화 자음\"\"\")\n",
    "\n",
    "    a=input(\"번호 : \")\n",
    "    \n",
    "    if a not in ('1','2','3') : print('*올바른 숫자를 입력해주세요.\\n\\n');continue\n",
    "    \n",
    "    with open(f'문제{a}.txt', 'r', encoding=\"utf-8\") as f: questions = f.readlines(); random.shuffle(questions)\n",
    "    \n",
    "    print('=-='*5,'퀴즈시작','=-='*5)\n",
    "\n",
    "    count = 0\n",
    "    score = 0\n",
    "\n",
    "    for s in questions:\n",
    "        count += 1\n",
    "        tmp = s.strip().split('\\t')\n",
    "        \n",
    "        print(f'{count}번 문제 : {tmp[0]}')\n",
    "        \n",
    "        if input('답 : ') == tmp[1]:\n",
    "            print('◎ 정답입니다!\\n');score += 1\n",
    "        else:\n",
    "            print(f\"X 틀렸습니다! 정답은 '{tmp[1]}' 입니다!\\n\")\n",
    "        \n",
    "        if count==5:break\n",
    "\n",
    "    print(f'총 맞춘 갯수 : {score}')\n",
    "\n",
    "    print(\"\"\"\n",
    "0개 아쉬워요\n",
    "1~2개 잘했어요 \n",
    "3~4개 평균이상\n",
    "5개  전문가\n",
    "    \"\"\")\n"
   ]
  },
  {
   "cell_type": "code",
   "execution_count": null,
   "id": "d2fc9c6a",
   "metadata": {},
   "outputs": [],
   "source": [
    "print(str(count) + '번 문제 : ' + tmp[0])"
   ]
  }
 ],
 "metadata": {
  "kernelspec": {
   "display_name": "Python 3 (ipykernel)",
   "language": "python",
   "name": "python3"
  },
  "language_info": {
   "codemirror_mode": {
    "name": "ipython",
    "version": 3
   },
   "file_extension": ".py",
   "mimetype": "text/x-python",
   "name": "python",
   "nbconvert_exporter": "python",
   "pygments_lexer": "ipython3",
   "version": "3.8.12"
  }
 },
 "nbformat": 4,
 "nbformat_minor": 5
}
