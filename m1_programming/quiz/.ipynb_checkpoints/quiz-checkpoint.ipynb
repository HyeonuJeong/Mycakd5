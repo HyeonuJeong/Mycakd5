{
 "cells": [
  {
   "cell_type": "code",
   "execution_count": null,
   "id": "fbaff1a4",
   "metadata": {},
   "outputs": [],
   "source": [
    "import random\n",
    "\n",
    "while 1:\n",
    "    print(\"\"\"\n",
    "원하는 주제를 고르시면 문제가 출제 됩니다.\n",
    "1.넌센스\n",
    "2.수도\n",
    "3.영화 자음\"\"\")\n",
    " \n",
    "    a=int(input(\"번호 : \"))\n",
    "\n",
    "    if a not in (1,2,3) : print('*올바른 숫자를 입력해주세요.\\n\\n');continue\n",
    "    try:\n",
    "        with open(f'문제{a}.txt', 'r', encoding=\"utf-8\") as f: questions = f.readlines(); random.shuffle(questions)\n",
    "    except:\n",
    "        print(\"파일 불러오기 실패\")\n",
    "        \n",
    "    print('=-='*5,'퀴즈시작','=-='*5)\n",
    "\n",
    "    count = 0\n",
    "    score = 0\n",
    "\n",
    "    for s in questions:\n",
    "        count += 1\n",
    "        try:\n",
    "            tmp = s.strip().split('\\t')\n",
    "        except:\n",
    "            print(\"원본 파일 확인\")\n",
    "        print(f'{count}번 문제 : {tmp[0]}')\n",
    "        \n",
    "        if input('답 : ') == tmp[1]:\n",
    "            print('◎ 정답입니다!\\n');score += 1\n",
    "        else:\n",
    "            print(f\"X 틀렸습니다! 정답은 '{tmp[1]}' 입니다!\\n\")\n",
    "        \n",
    "        if count==5:break\n",
    "\n",
    "    print(f'총 맞춘 갯수 : {score}')\n",
    "\n",
    "    print(\"\"\"\n",
    "0개 아쉬워요\n",
    "1~2개 잘했어요 \n",
    "3~4개 평균이상\n",
    "5개  전문가\n",
    "    \"\"\")\n"
   ]
  },
  {
   "cell_type": "code",
   "execution_count": null,
   "id": "3ca15df9",
   "metadata": {},
   "outputs": [],
   "source": []
  }
 ],
 "metadata": {
  "kernelspec": {
   "display_name": "Python 3 (ipykernel)",
   "language": "python",
   "name": "python3"
  },
  "language_info": {
   "codemirror_mode": {
    "name": "ipython",
    "version": 3
   },
   "file_extension": ".py",
   "mimetype": "text/x-python",
   "name": "python",
   "nbconvert_exporter": "python",
   "pygments_lexer": "ipython3",
   "version": "3.8.12"
  }
 },
 "nbformat": 4,
 "nbformat_minor": 5
}
