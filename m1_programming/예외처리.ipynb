{
 "cells": [
  {
   "cell_type": "code",
   "execution_count": null,
   "id": "27038e64",
   "metadata": {},
   "outputs": [],
   "source": [
    "# 구문 오류 : 프로그램 실행전에 발생하는 오류\n",
    "# 예외 또는 런타임 오류 : 프로그램 실행중에 발생하는 오류\n",
    "\n",
    "print('구문오류!)"
   ]
  },
  {
   "cell_type": "code",
   "execution_count": null,
   "id": "353e8bba",
   "metadata": {},
   "outputs": [],
   "source": [
    "# 정수를 입력하지 않은 경우 예외 발생\n",
    "num_input = int(input('정수 입력> '))\n",
    "print('원의 반지름: ', num_input)"
   ]
  },
  {
   "cell_type": "code",
   "execution_count": null,
   "id": "ea788df5",
   "metadata": {},
   "outputs": [],
   "source": [
    "# 조건문으로 예외 처리\n",
    "num_input = input('정수입력')\n",
    "if num_input.isdigit() == True:\n",
    "    print(\"정수 : {0}\".format(num_input))\n",
    "else:\n",
    "    print(\"오류\")\n"
   ]
  },
  {
   "cell_type": "code",
   "execution_count": null,
   "id": "612e8753",
   "metadata": {},
   "outputs": [],
   "source": [
    "num_input = input('정수를 입력해 주세용 >> ')\n",
    "if str.isdigit(num_input) == 1:\n",
    "    print('입력한 정수:', int(num_input))\n",
    "else: print('잘못 입력하셨어용')\n"
   ]
  },
  {
   "cell_type": "code",
   "execution_count": null,
   "id": "d1742e41",
   "metadata": {},
   "outputs": [],
   "source": [
    "# param = 1\n",
    "print('안녕하세요')\n",
    "print(param1)"
   ]
  },
  {
   "cell_type": "code",
   "execution_count": null,
   "id": "e602dbc8",
   "metadata": {},
   "outputs": [],
   "source": [
    "try:\n",
    "    print('안녕하세요')\n",
    "    print(param1)\n",
    "except:\n",
    "    print('예외가 발생했습니다.')"
   ]
  },
  {
   "cell_type": "code",
   "execution_count": null,
   "id": "04263e63",
   "metadata": {},
   "outputs": [],
   "source": [
    "try:\n",
    "    print('안녕하세요')\n",
    "    print(param1)\n",
    "except:\n",
    "    print('예외가 발생했습니다.')\n",
    "finally:\n",
    "    print('무조건 실행하는 코드')"
   ]
  },
  {
   "cell_type": "code",
   "execution_count": null,
   "id": "e88a203c",
   "metadata": {},
   "outputs": [],
   "source": [
    "# 코드에서 예외 발생 내용을 확인하고자 하는 경우 처리 방법\n",
    "\n",
    "try:\n",
    "    print(param2)\n",
    "except Exception as e:\n",
    "    print(e)"
   ]
  },
  {
   "cell_type": "code",
   "execution_count": null,
   "id": "a7ab6c8a",
   "metadata": {},
   "outputs": [],
   "source": [
    "import time\n",
    "count = 1\n",
    "try:\n",
    "    5\n",
    "    while True:\n",
    "        print(count)\n",
    "        count += 1\n",
    "        time.sleep(0.5)\n",
    "except KeyboardInterrupt:\n",
    "    print('사용자에 의해 프로그램이 중단되었습니다.')"
   ]
  },
  {
   "cell_type": "code",
   "execution_count": null,
   "id": "75b28374",
   "metadata": {},
   "outputs": [],
   "source": [
    "# Q. 리스트 ['52','273','32','문자','103'] 에서 숫자 부분만 출력하세요(예외처리 수행)"
   ]
  },
  {
   "cell_type": "code",
   "execution_count": null,
   "id": "4b2d5d6d",
   "metadata": {},
   "outputs": [],
   "source": [
    "lst=['52','273','32','문자','103']\n",
    "for i in lst:\n",
    "    try:\n",
    "        print(int(i))\n",
    "    except:\n",
    "        pass\n"
   ]
  },
  {
   "cell_type": "code",
   "execution_count": null,
   "id": "3217c056",
   "metadata": {},
   "outputs": [],
   "source": [
    "# Q. 정수를 입력하면 '정수', 정수가 아니면 '정수 아님'을 출력하세요."
   ]
  },
  {
   "cell_type": "code",
   "execution_count": null,
   "id": "3de04207",
   "metadata": {},
   "outputs": [],
   "source": [
    "num = input('정수를 입력해 주세요. >> ')\n",
    "\n",
    "try:\n",
    "    int(num)\n",
    "    print('정수입니다.')\n",
    "except:\n",
    "    print('정수가 아닙니다.')\n"
   ]
  },
  {
   "cell_type": "code",
   "execution_count": null,
   "id": "ac13c5f2",
   "metadata": {},
   "outputs": [],
   "source": [
    "try:\n",
    "    num = int(input(\"입력: \"))\n",
    "    print(\"정수\")\n",
    "except:\n",
    "    print(\"정수 아님\")\n"
   ]
  },
  {
   "cell_type": "code",
   "execution_count": null,
   "id": "65af3967",
   "metadata": {},
   "outputs": [],
   "source": [
    "try:\n",
    "    num_input = int(input('정수 입력> '))\n",
    "except:\n",
    "    print('정수 아님')\n",
    "else:\n",
    "    print('정수')"
   ]
  },
  {
   "cell_type": "code",
   "execution_count": null,
   "id": "fb0b3f40",
   "metadata": {},
   "outputs": [],
   "source": [
    "# Q. 정수를 입력하면 '입력 정수' > '예외 발생하지 않음' > '프로그램 종료'\n",
    "# 정수가 아니면 '입력 값' > '정수 아님' > '프로그램 종료' 순서대로 출력하세요.(try ~ except ~ else ~ finally)"
   ]
  },
  {
   "cell_type": "code",
   "execution_count": null,
   "id": "cfe8f0c7",
   "metadata": {},
   "outputs": [],
   "source": [
    "try:\n",
    "    num = int(input('정수를 입력해주세요.>> '))    \n",
    "except:\n",
    "    \n",
    "    print(\"정수아님.\")\n",
    "else:\n",
    "    print(num)\n",
    "    print('예외 발생하지 않음')\n",
    "finally:\n",
    "    print(\"프로그램 종료\")\n"
   ]
  },
  {
   "cell_type": "code",
   "execution_count": null,
   "id": "eed854e1",
   "metadata": {},
   "outputs": [],
   "source": [
    "print('프로그램이 시작되었습니다.')\n",
    "while True:\n",
    "    try:\n",
    "        print('try 구문이 시작되었습니다.')      \n",
    "        break\n",
    "    except:\n",
    "        print('except 구문이 실행되었습니다.')\n",
    "        \n",
    "    print('finally 구문이 실행되었습니다.')\n",
    "    print('while 반복문의 마지막 줄입니다.')\n",
    "print('프로그램이 종료되었습니다.')"
   ]
  },
  {
   "cell_type": "code",
   "execution_count": null,
   "id": "d68b956a",
   "metadata": {},
   "outputs": [],
   "source": [
    "# 위 코드에서 try ~ except ~ finally를 사용하여 아래와 같이 출력하세요.\n",
    "\n",
    "프로그램이 시작되었습니다.\n",
    "try 구문이 시작되었습니다.\n",
    "except 구문이 실행되었습니다.\n",
    "finally 구문이 실행되었습니다.\n",
    "프로그램이 종료되었습니다."
   ]
  },
  {
   "cell_type": "code",
   "execution_count": null,
   "id": "7e904cc8",
   "metadata": {},
   "outputs": [],
   "source": [
    "print('프로그램이 시작되었습니다.')\n",
    "while 1:\n",
    "    try:\n",
    "        print('try 구문이 시작되었습니다.')\n",
    "        c = a + 1\n",
    "        print(c)\n",
    "        break\n",
    "    except:\n",
    "        print('except 구문이 실행되었습니다.')\n",
    "        break\n",
    "    finally:\n",
    "        print('finally 구문이 실행되었습니다.')        \n",
    "    print('while 반복문의 마지막 줄입니다.')\n",
    "print('프로그램이 종료되었습니다.')\n"
   ]
  },
  {
   "cell_type": "code",
   "execution_count": null,
   "id": "aecfedf9",
   "metadata": {
    "scrolled": true
   },
   "outputs": [],
   "source": [
    "# [과제] 숫자 대신 문자를 입력 시 예외가 발생되는데 아래 코드를 수정해서 예외 객체의 자료형과 예외 객체 자체를 출력하세요.\n",
    "\n",
    "num_input = int(input('정수 입력> '))\n",
    "print('원의 반지름:', num_input)\n",
    "print('원의 둘레:', 2*3.14*num_input)\n",
    "print('원의 넓이:', 3.14*num_input*num_input)"
   ]
  },
  {
   "cell_type": "code",
   "execution_count": null,
   "id": "91a8fc3a",
   "metadata": {},
   "outputs": [],
   "source": [
    "try:\n",
    "    num=input(\"정수입력\")\n",
    "    a=int(num)\n",
    "    print('원의반지름',a)\n",
    "    print('원의둘레',2*3.14*a)\n",
    "    print('원의널이',3.14*a*a)\n",
    "except:\n",
    "    print(\"입력값 : \",num)\n",
    "    print(type(num))"
   ]
  },
  {
   "cell_type": "code",
   "execution_count": null,
   "id": "92ba809a",
   "metadata": {},
   "outputs": [],
   "source": [
    "# [과제] 아래 코드를 보완하여 발생 가능한 모든 예외(정수, 인덱스, 미리 파악하지 못한 예외)를 처리한 후 마지막에 \"모든 예외처리 완료\"를\n",
    "# 출력하세요.\n",
    "\n",
    "num=[52,273,32,72,100]\n",
    "\n",
    "try:\n",
    "    a=int(input(\"정수입력 : \"))\n",
    "    print(f'{a}번째 요소 : {num[a-1]}')\n",
    "except:\n",
    "    print(\"정수아님\")\n",
    "finally:\n",
    "    print(\"모든 예외 처리 완료\")"
   ]
  },
  {
   "cell_type": "code",
   "execution_count": null,
   "id": "6ecda3bf",
   "metadata": {},
   "outputs": [],
   "source": [
    "# [도전 과제] 자유 주제로 프로그램밍을 수행하세요. 단 예외처리 3건 이상"
   ]
  }
 ],
 "metadata": {
  "kernelspec": {
   "display_name": "Python 3 (ipykernel)",
   "language": "python",
   "name": "python3"
  },
  "language_info": {
   "codemirror_mode": {
    "name": "ipython",
    "version": 3
   },
   "file_extension": ".py",
   "mimetype": "text/x-python",
   "name": "python",
   "nbconvert_exporter": "python",
   "pygments_lexer": "ipython3",
   "version": "3.8.12"
  }
 },
 "nbformat": 4,
 "nbformat_minor": 5
}
