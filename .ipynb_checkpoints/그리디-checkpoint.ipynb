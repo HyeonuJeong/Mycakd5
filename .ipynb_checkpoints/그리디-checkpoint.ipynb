{
 "cells": [
  {
   "cell_type": "markdown",
   "id": "365a9fc3",
   "metadata": {
    "tags": []
   },
   "source": [
    "# 그리디\n",
    "https://github.com/Youngminah/thisiscodingtest/tree/master/2%EC%9E%A5.%EC%A3%BC%EC%9A%94%EC%95%8C%EA%B3%A0%EB%A6%AC%EC%A6%98%EC%9D%B4%EB%A1%A0/03.%EA%B7%B8%EB%A6%AC%EB%94%94"
   ]
  },
  {
   "cell_type": "markdown",
   "id": "ddf36368",
   "metadata": {},
   "source": [
    "💡 그리디 알고리즘이란?\n",
    "현재 상황에서 지금 당장 좋은 것만 고르는 방법\n",
    "\n",
    "다른 알고리즘과 비교했을 때, '사전에 외우고 있지 않아도 풀 수 있을 가능성이 높은 문제 유형'이라는 특징이 있다. ( 정렬, 최단 경로 등의 알고리즘 유형은 이미 그 알고리즘의 사용 방법을 정확히 알고 있어야만 해결 가능하다)\n",
    "\n",
    "다익스트라 알고리즘은 그리디 알고리즘으로 분류되기도 하므로, 그리디 알고리즘 이면서도 암기가 필요한 알고리즘이다.\n",
    "\n",
    "\n",
    "결론: 그리디 알고리즘은 문제 출제의 폭이 넓기 때문에, 다익스트라와 같은 특이 케이스를 제외하고는 암기로 푸는 문제가 아니다.\n",
    "\n",
    "\n",
    "\n",
    "💡 그리디 알고리즘의 정당성\n",
    "그리디 알고리즘을 모든 알고리즘 문제에 적용할 수 있는 것은 아니다. 즉, 대부분의 문제는 그리디 알고리즘을 이용 하였을 때 '최적의 해'를 찾을 수 없을 가능성이 다분하다.\n",
    "\n",
    "\n",
    "따라서, 그리디 알고리즘을 쓰기 위해선 그 해법으로 최적의 해를 찾을 수 있는지 정당성을 검토하여야 한다.\n",
    "\n",
    "\n",
    "그리디 알고리즘의 대표적 문제 : 거스름돈 문제는 동전 들이 항상 작은 동전들의 배수이기 때문에 그리디 알고리즘으로 풀었을 때 최적의 해가 보장된다. 다르게 말하면, 만약 동전을 배수가 아닌 값으로 조금만 변형시켜도 그리디 알고리즘을 적용하여 해법을 찾을 수 없다는 말이 된다.\n",
    "\n",
    "\n",
    "\n",
    "💡 코딩테스트에서 그리디 알고리즘 접근법\n",
    "코딩 테스트에서 바로 문제 유형을 파악하기 어렵다면 그리디 알고리즘을 의심해보는 것이 좋다. 만약 그리디 알고리즘으로 해결방법을 찾을 수 없다면, 그때는 다이나믹 프로그래밍이나 그래프 알고리즘 등으로 문제를 해결할 수 있는지를 재차 고민해보는 것이 좋다.\n",
    "\n",
    "\n",
    "안정적이게 코딩 테스트를 통과하기 위해선 대부분의 그리디 알고리즘 문제는 아이디어를 떠올리고 코드를 제출하기까지 시간이 30분 이내로 소요되어야 한다."
   ]
  },
  {
   "cell_type": "code",
   "execution_count": 17,
   "id": "95589cbe",
   "metadata": {},
   "outputs": [
    {
     "name": "stdout",
     "output_type": "stream",
     "text": [
      "3\n"
     ]
    }
   ],
   "source": [
    "#1이 될때까지\n",
    "# n,k=map(int,input().split())\n",
    "n,k=17,4\n",
    "\n",
    "cnt=0\n",
    "while 1:\n",
    "\n",
    "  if n%k==0:\n",
    "    n=n/k\n",
    "\n",
    "  else:\n",
    "    n=n-1\n",
    "  if n==0:\n",
    "    break\n",
    "  cnt+=1\n",
    "print(cnt)"
   ]
  },
  {
   "cell_type": "code",
   "execution_count": 24,
   "id": "e35c2b49",
   "metadata": {},
   "outputs": [
    {
     "name": "stdout",
     "output_type": "stream",
     "text": [
      "210\n"
     ]
    }
   ],
   "source": [
    "#곱,더하기로 큰수 만들기\n",
    "# a=input()\n",
    "a='567'\n",
    "lst=list(map(int,list(a)))\n",
    "res=lst[0]\n",
    "for i in range(1,len(lst)):\n",
    "    if res>1 and lst[i]>1:\n",
    "        res=res*lst[i]\n",
    "    else:\n",
    "        res=res+lst[i]\n",
    "print(res)\n",
    "        \n",
    "        "
   ]
  },
  {
   "cell_type": "code",
   "execution_count": 4,
   "id": "fa173758",
   "metadata": {},
   "outputs": [
    {
     "name": "stdout",
     "output_type": "stream",
     "text": [
      "2\n"
     ]
    }
   ],
   "source": [
    "#모험가 길드\n",
    "n=5\n",
    "lst=[2,3,1,2,2]\n",
    "tc=0\n",
    "gc=0\n",
    "lst.sort()\n",
    "\n",
    "for i in lst:\n",
    "    tc+=1\n",
    "    if tc>=i:\n",
    "        gc+=1\n",
    "        tc=0\n",
    "print(gc)\n"
   ]
  },
  {
   "cell_type": "code",
   "execution_count": 5,
   "id": "d48290fc-6094-41d8-996a-b0099e2324d9",
   "metadata": {},
   "outputs": [
    {
     "name": "stdin",
     "output_type": "stream",
     "text": [
      " 4\n"
     ]
    },
    {
     "name": "stdout",
     "output_type": "stream",
     "text": [
      "-1\n"
     ]
    }
   ],
   "source": [
    "a=int(input())\n",
    "res=0\n",
    "\n",
    "while a>=0:\n",
    "    if a%5==0:\n",
    "        res+=(a//5)\n",
    "        print(res)\n",
    "        break\n",
    "    a-=3\n",
    "    res+=1\n",
    "else:\n",
    "    print(-1)"
   ]
  },
  {
   "cell_type": "code",
   "execution_count": 33,
   "id": "bc3d72bb-628b-45e4-bc27-3c43b1f4e9ec",
   "metadata": {},
   "outputs": [
    {
     "name": "stdin",
     "output_type": "stream",
     "text": [
      " 189\n"
     ]
    },
    {
     "name": "stdout",
     "output_type": "stream",
     "text": [
      "-1\n"
     ]
    }
   ],
   "source": [
    "a=300\n",
    "b=60\n",
    "c=10\n",
    "a1=0\n",
    "b1=0\n",
    "c1=0\n",
    "n1=int(input())\n",
    "if n1%10!=0:\n",
    "    print(-1)\n",
    "else:\n",
    "    if n1>=a:\n",
    "        a1=n1//a\n",
    "        n1=n1%a\n",
    "        \n",
    "    if b<=n1:\n",
    "        b1=n1//b\n",
    "        n1=n1%b\n",
    "    if c<=n1:\n",
    "        c1=n1//c\n",
    "    print(a1,b1,c1)"
   ]
  },
  {
   "cell_type": "code",
   "execution_count": 34,
   "id": "2dc91bcf-8cbb-4219-8c89-0e84c6f02e0d",
   "metadata": {},
   "outputs": [
    {
     "name": "stdin",
     "output_type": "stream",
     "text": [
      " asd\n"
     ]
    },
    {
     "name": "stdout",
     "output_type": "stream",
     "text": [
      "asd\n"
     ]
    }
   ],
   "source": [
    "board = input()\n",
    "\n",
    "board = board.replace(\"XXXX\", \"AAAA\")\n",
    "board = board.replace(\"XX\", \"BB\")\n",
    "\n",
    "if 'X' in board:\n",
    "    print(-1)\n",
    "    \n",
    "else:\n",
    "    print(board)\n",
    "\n"
   ]
  },
  {
   "cell_type": "code",
   "execution_count": null,
   "id": "bf0b4c83-fe68-4a4a-89ed-e3f325c4c5f9",
   "metadata": {},
   "outputs": [],
   "source": [
    "n = int(input())\n",
    "s = list(map(int, input().split()))\n",
    "num = 0\n",
    "s.sort()\n",
    "for i in range(n):\n",
    "    for j in range(i + 1):\n",
    "        num += s[j]\n",
    "print(num)"
   ]
  },
  {
   "cell_type": "code",
   "execution_count": 81,
   "id": "f4fb95ed-5d93-4a66-a086-1da904970d1e",
   "metadata": {},
   "outputs": [
    {
     "ename": "ImportError",
     "evalue": "cannot import name 'counter' from 'collections' (C:\\Users\\admin\\anaconda3\\lib\\collections\\__init__.py)",
     "output_type": "error",
     "traceback": [
      "\u001b[1;31m---------------------------------------------------------------------------\u001b[0m",
      "\u001b[1;31mImportError\u001b[0m                               Traceback (most recent call last)",
      "\u001b[1;32m~\\AppData\\Local\\Temp/ipykernel_8048/763395567.py\u001b[0m in \u001b[0;36m<module>\u001b[1;34m\u001b[0m\n\u001b[1;32m----> 1\u001b[1;33m \u001b[1;32mfrom\u001b[0m \u001b[0mcollections\u001b[0m \u001b[1;32mimport\u001b[0m \u001b[0mcounter\u001b[0m\u001b[1;33m\u001b[0m\u001b[1;33m\u001b[0m\u001b[0m\n\u001b[0m\u001b[0;32m      2\u001b[0m \u001b[1;33m\u001b[0m\u001b[0m\n\u001b[0;32m      3\u001b[0m \u001b[0mlst\u001b[0m\u001b[1;33m=\u001b[0m\u001b[1;33m[\u001b[0m\u001b[1;33m]\u001b[0m\u001b[1;33m\u001b[0m\u001b[1;33m\u001b[0m\u001b[0m\n\u001b[0;32m      4\u001b[0m \u001b[0mx\u001b[0m\u001b[1;33m=\u001b[0m\u001b[1;36m0\u001b[0m\u001b[1;33m\u001b[0m\u001b[1;33m\u001b[0m\u001b[0m\n\u001b[0;32m      5\u001b[0m \u001b[0my\u001b[0m\u001b[1;33m=\u001b[0m\u001b[1;36m0\u001b[0m\u001b[1;33m\u001b[0m\u001b[1;33m\u001b[0m\u001b[0m\n",
      "\u001b[1;31mImportError\u001b[0m: cannot import name 'counter' from 'collections' (C:\\Users\\admin\\anaconda3\\lib\\collections\\__init__.py)"
     ]
    }
   ],
   "source": [
    "from collections import counter\n",
    "\n",
    "lst=[]\n",
    "x=0\n",
    "y=0\n",
    "# for _ in range(3):\n",
    "#     lst.append(input().split())\n",
    "lst=[['5', '5'], ['5', '7'], ['7', '5']]\n",
    "fro=[]\n",
    "bac=[]\n",
    "cnt=0\n",
    "for i in lst:\n",
    "    bac.append(lst[cnt][1])\n",
    "    fro.append(lst[cnt][0])\n",
    "    cnt+=1\n",
    "\n",
    "print(fro)\n",
    "print(bac)\n",
    "\n",
    "Counter(fro)"
   ]
  }
 ],
 "metadata": {
  "kernelspec": {
   "display_name": "Python 3 (ipykernel)",
   "language": "python",
   "name": "python3"
  },
  "language_info": {
   "codemirror_mode": {
    "name": "ipython",
    "version": 3
   },
   "file_extension": ".py",
   "mimetype": "text/x-python",
   "name": "python",
   "nbconvert_exporter": "python",
   "pygments_lexer": "ipython3",
   "version": "3.9.7"
  }
 },
 "nbformat": 4,
 "nbformat_minor": 5
}
