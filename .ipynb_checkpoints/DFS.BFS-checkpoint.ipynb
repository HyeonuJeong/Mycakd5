{
 "cells": [
  {
   "cell_type": "code",
   "execution_count": null,
   "id": "67feb78a-8699-4ed1-905c-2ac4ab5aeced",
   "metadata": {},
   "outputs": [],
   "source": [
    "#2진수구하기\n",
    "def DFS(x):\n",
    "    if x==0:\n",
    "        return\n",
    "    else:\n",
    "        DFS(x//2)\n",
    "        print(x%2, end='')\n",
    "a=int(input())\n",
    "DFS(a)"
   ]
  },
  {
   "cell_type": "code",
   "execution_count": 57,
   "id": "a2e77c35-485f-45e6-b403-e923ba1fb34e",
   "metadata": {},
   "outputs": [
    {
     "name": "stdin",
     "output_type": "stream",
     "text": [
      " 1234567\n"
     ]
    },
    {
     "name": "stdout",
     "output_type": "stream",
     "text": [
      "3\n",
      "NO\n",
      "Wall time: 1.43 s\n"
     ]
    }
   ],
   "source": [
    "%%time\n",
    "def tc(a,cnt):  \n",
    "    if len(a)==1:\n",
    "        print(cnt)\n",
    "        if int(a)%3==0:\n",
    "            print('YES')\n",
    "        else:\n",
    "            print('NO')\n",
    "    else:\n",
    "        cnt+=1\n",
    "        a=str(sum(list(map(int,list(a)))))\n",
    "        tc(a,cnt)\n",
    "    \n",
    "c=0\n",
    "n=input()\n",
    "\n",
    "tc(n,c)\n",
    "\n",
    "\n",
    "    \n"
   ]
  },
  {
   "cell_type": "code",
   "execution_count": 83,
   "id": "3bd16d10-0dbb-4eff-a15c-0b20650b571e",
   "metadata": {},
   "outputs": [
    {
     "name": "stdin",
     "output_type": "stream",
     "text": [
      " 6\n",
      " 3\n",
      " 72\n",
      " 3\n",
      " 12\n",
      " 12\n",
      " 1\n",
      " 2\n"
     ]
    },
    {
     "name": "stdout",
     "output_type": "stream",
     "text": [
      "71\n",
      "Wall time: 9.74 s\n"
     ]
    }
   ],
   "source": [
    "%%time\n",
    "from itertools import permutations\n",
    "n=int(input())\n",
    "k=int(input())\n",
    "num=[]\n",
    "for _ in range(n):\n",
    "    num.append(input())\n",
    "\n",
    "result=set()\n",
    "for per in permutations(num,k):\n",
    "    # result.add(''.join(map(str,per)))\n",
    "    result.add(''.join(list(map(str,per))))\n",
    "\n",
    "\n",
    "print(len(result))\n"
   ]
  },
  {
   "cell_type": "code",
   "execution_count": null,
   "id": "bb684b15-b250-4b84-868f-eb0eb2dbc3f5",
   "metadata": {},
   "outputs": [],
   "source": [
    "def rec(i):\n",
    "    if i == 100:\n",
    "        return\n",
    "    print(i)\n",
    "    rec(i+1)\n",
    "    print(i)\n",
    "rec(1)"
   ]
  },
  {
   "cell_type": "code",
   "execution_count": 7,
   "id": "c09eb379-48ad-41c3-a125-9dbe1d46aeec",
   "metadata": {},
   "outputs": [],
   "source": [
    "def dfs(x,y):\n",
    "    if x<=-1 or x>=n or y<=-1 or y>=m:\n",
    "        return False\n",
    "    if graph[x][y]==0:\n",
    "        graph[x][y]=1\n",
    "        dfs(x-1,y)\n",
    "        dfs(x,y-1)\n",
    "        dfs(x+1,y)\n",
    "        dfs(x,y+1)\n",
    "        return True\n",
    "    return False"
   ]
  },
  {
   "cell_type": "code",
   "execution_count": 11,
   "id": "fcd3bf37-eaf5-4af2-a37e-1806a17c7677",
   "metadata": {},
   "outputs": [
    {
     "name": "stdin",
     "output_type": "stream",
     "text": [
      " 00110\n",
      " 00011\n",
      " 11111\n",
      " 00000\n"
     ]
    },
    {
     "name": "stdout",
     "output_type": "stream",
     "text": [
      "3\n"
     ]
    }
   ],
   "source": [
    "def dfs(x,y):\n",
    "    if x<=-1 or x>=n or y<=-1 or y>=m:\n",
    "        return False\n",
    "    if graph[x][y]==0:\n",
    "        graph[x][y]=1\n",
    "        dfs(x-1,y)\n",
    "        dfs(x,y-1)\n",
    "        dfs(x+1,y)\n",
    "        dfs(x,y+1)\n",
    "        return True\n",
    "    return False\n",
    "n,m=4,5\n",
    "graph=[]\n",
    "for i in range(n):\n",
    "    graph.append(list(map(int,input())))\n",
    "result=0\n",
    "for i in range(n):\n",
    "    for j in range(m):\n",
    "        if dfs(i,j)==True:\n",
    "            result+=1\n",
    "print(result)\n"
   ]
  },
  {
   "cell_type": "code",
   "execution_count": 89,
   "id": "42d0d760-ff94-4e28-a00a-e943825f5b00",
   "metadata": {},
   "outputs": [
    {
     "name": "stdin",
     "output_type": "stream",
     "text": [
      " 4\n"
     ]
    },
    {
     "name": "stdout",
     "output_type": "stream",
     "text": [
      "어느 한 컴퓨터공학과 학생이 유명한 교수님을 찾아가 물었다.\n",
      " 재귀함수가 뭔가요?\n",
      " 잘 들어보게. 옛날옛날 한 산 꼭대기에 이세상 모든 지식을 통달한 선인이 있었어.\n",
      " 마을 사람들은 모두 그 선인에게 수많은 질문을 했고, 모두 지혜롭게 대답해 주었지.\n",
      " 그의 답은 대부분 옳았다고 하네. 그런데 어느 날, 그 선인에게 한 선비가 찾아와서 물었어.\n",
      "____ 재귀함수가 뭔가요?\n",
      "____ 잘 들어보게. 옛날옛날 한 산 꼭대기에 이세상 모든 지식을 통달한 선인이 있었어.\n",
      "____ 마을 사람들은 모두 그 선인에게 수많은 질문을 했고, 모두 지혜롭게 대답해 주었지.\n",
      "____ 그의 답은 대부분 옳았다고 하네. 그런데 어느 날, 그 선인에게 한 선비가 찾아와서 물었어.\n",
      "________ 재귀함수가 뭔가요?\n",
      "________ 잘 들어보게. 옛날옛날 한 산 꼭대기에 이세상 모든 지식을 통달한 선인이 있었어.\n",
      "________ 마을 사람들은 모두 그 선인에게 수많은 질문을 했고, 모두 지혜롭게 대답해 주었지.\n",
      "________ 그의 답은 대부분 옳았다고 하네. 그런데 어느 날, 그 선인에게 한 선비가 찾아와서 물었어.\n",
      "____________ 재귀함수가 뭔가요?\n",
      "____________ 잘 들어보게. 옛날옛날 한 산 꼭대기에 이세상 모든 지식을 통달한 선인이 있었어.\n",
      "____________ 마을 사람들은 모두 그 선인에게 수많은 질문을 했고, 모두 지혜롭게 대답해 주었지.\n",
      "____________ 그의 답은 대부분 옳았다고 하네. 그런데 어느 날, 그 선인에게 한 선비가 찾아와서 물었어.\n",
      "________________ 재귀함수가 뭔가요?\n",
      "________________ 재귀함수는 자기 자신을 호출하는 함수라네\n",
      "________________ 라고 답변하였지.\n",
      "____________ 라고 답변하였지.\n",
      "________ 라고 답변하였지.\n",
      "____ 라고 답변하였지.\n",
      " 라고 답변하였지.\n"
     ]
    }
   ],
   "source": [
    "def pro(i,n):\n",
    "    print('____'*i,\"재귀함수가 뭔가요?\")\n",
    "    if i==n:\n",
    "        print('____'*i,\"재귀함수는 자기 자신을 호출하는 함수라네\")\n",
    "    else:\n",
    "        print('____'*i,\"잘 들어보게. 옛날옛날 한 산 꼭대기에 이세상 모든 지식을 통달한 선인이 있었어.\")\n",
    "        print('____'*i,\"마을 사람들은 모두 그 선인에게 수많은 질문을 했고, 모두 지혜롭게 대답해 주었지.\")\n",
    "        print('____'*i,\"그의 답은 대부분 옳았다고 하네. 그런데 어느 날, 그 선인에게 한 선비가 찾아와서 물었어.\")\n",
    "        pro(i+1,n)\n",
    "    print('____'*i,\"라고 답변하였지.\")\n",
    "    \n",
    "a=int(input())\n",
    "print(\"어느 한 컴퓨터공학과 학생이 유명한 교수님을 찾아가 물었다.\")\n",
    "pro(0,a)"
   ]
  }
 ],
 "metadata": {
  "kernelspec": {
   "display_name": "Python 3.9 (XPython)",
   "language": "python",
   "name": "xpython"
  },
  "language_info": {
   "file_extension": ".py",
   "mimetype": "text/x-python",
   "name": "python",
   "version": "3.9.7"
  }
 },
 "nbformat": 4,
 "nbformat_minor": 5
}
