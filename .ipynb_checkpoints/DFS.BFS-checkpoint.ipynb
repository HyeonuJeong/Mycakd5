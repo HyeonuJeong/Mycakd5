{
 "cells": [
  {
   "cell_type": "code",
   "execution_count": 20,
   "id": "67feb78a-8699-4ed1-905c-2ac4ab5aeced",
   "metadata": {},
   "outputs": [
    {
     "name": "stdin",
     "output_type": "stream",
     "text": [
      " 20\n"
     ]
    },
    {
     "name": "stdout",
     "output_type": "stream",
     "text": [
      "10100"
     ]
    }
   ],
   "source": [
    "#2진수구하기\n",
    "def DFS(x):\n",
    "    if x==0:\n",
    "        return\n",
    "    else:\n",
    "        DFS(x//2)\n",
    "        print(x%2, end='')\n",
    "a=int(input())\n",
    "DFS(a)"
   ]
  },
  {
   "cell_type": "code",
   "execution_count": 32,
   "id": "a2e77c35-485f-45e6-b403-e923ba1fb34e",
   "metadata": {},
   "outputs": [
    {
     "ename": "<class 'TypeError'>",
     "evalue": "'int' object is not iterable",
     "output_type": "error",
     "traceback": [
      "\u001b[1;31m---------------------------------------------------------------------------\u001b[0m",
      "\u001b[1;31mTypeError\u001b[0m                                 Traceback (most recent call last)",
      "\u001b[1;32mC:/Users/admin/AppData/Local/Temp/xpython_4680/203708610.py\u001b[0m in \u001b[0;36m<module>\u001b[1;34m\u001b[0m\n\u001b[0;32m      1\u001b[0m \u001b[0mn\u001b[0m\u001b[1;33m=\u001b[0m\u001b[1;34m'1234567'\u001b[0m\u001b[1;33m\u001b[0m\u001b[1;33m\u001b[0m\u001b[0m\n\u001b[0;32m      2\u001b[0m \u001b[0mcnt\u001b[0m\u001b[1;33m=\u001b[0m\u001b[1;36m0\u001b[0m\u001b[1;33m\u001b[0m\u001b[1;33m\u001b[0m\u001b[0m\n\u001b[1;32m----> 3\u001b[1;33m \u001b[0ma\u001b[0m\u001b[1;33m=\u001b[0m\u001b[0msum\u001b[0m\u001b[1;33m(\u001b[0m\u001b[0mlist\u001b[0m\u001b[1;33m(\u001b[0m\u001b[0mmap\u001b[0m\u001b[1;33m(\u001b[0m\u001b[0mint\u001b[0m\u001b[1;33m,\u001b[0m\u001b[0mlist\u001b[0m\u001b[1;33m(\u001b[0m\u001b[0ma\u001b[0m\u001b[1;33m)\u001b[0m\u001b[1;33m)\u001b[0m\u001b[1;33m)\u001b[0m\u001b[1;33m)\u001b[0m\u001b[1;33m\u001b[0m\u001b[1;33m\u001b[0m\u001b[0m\n\u001b[0m\u001b[0;32m      4\u001b[0m \u001b[0mprint\u001b[0m\u001b[1;33m(\u001b[0m\u001b[0ma\u001b[0m\u001b[1;33m)\u001b[0m\u001b[1;33m\u001b[0m\u001b[1;33m\u001b[0m\u001b[0m\n",
      "\u001b[1;31mTypeError\u001b[0m: 'int' object is not iterable"
     ]
    }
   ],
   "source": [
    "n='1234567'\n",
    "cnt=0\n",
    "a=sum(list(map(int,list(a))))\n",
    "print(a)\n"
   ]
  },
  {
   "cell_type": "code",
   "execution_count": null,
   "id": "bb684b15-b250-4b84-868f-eb0eb2dbc3f5",
   "metadata": {},
   "outputs": [],
   "source": [
    "def rec(i):\n",
    "    if i == 100:\n",
    "        return\n",
    "    print(i)\n",
    "    rec(i+1)\n",
    "    print(i)\n",
    "rec(1)"
   ]
  },
  {
   "cell_type": "code",
   "execution_count": 7,
   "id": "c09eb379-48ad-41c3-a125-9dbe1d46aeec",
   "metadata": {},
   "outputs": [],
   "source": [
    "def dfs(x,y):\n",
    "    if x<=-1 or x>=n or y<=-1 or y>=m:\n",
    "        return False\n",
    "    if graph[x][y]==0:\n",
    "        graph[x][y]=1\n",
    "        dfs(x-1,y)\n",
    "        dfs(x,y-1)\n",
    "        dfs(x+1,y)\n",
    "        dfs(x,y+1)\n",
    "        return True\n",
    "    return False"
   ]
  },
  {
   "cell_type": "code",
   "execution_count": 11,
   "id": "fcd3bf37-eaf5-4af2-a37e-1806a17c7677",
   "metadata": {},
   "outputs": [
    {
     "name": "stdin",
     "output_type": "stream",
     "text": [
      " 00110\n",
      " 00011\n",
      " 11111\n",
      " 00000\n"
     ]
    },
    {
     "name": "stdout",
     "output_type": "stream",
     "text": [
      "3\n"
     ]
    }
   ],
   "source": [
    "def dfs(x,y):\n",
    "    if x<=-1 or x>=n or y<=-1 or y>=m:\n",
    "        return False\n",
    "    if graph[x][y]==0:\n",
    "        graph[x][y]=1\n",
    "        dfs(x-1,y)\n",
    "        dfs(x,y-1)\n",
    "        dfs(x+1,y)\n",
    "        dfs(x,y+1)\n",
    "        return True\n",
    "    return False\n",
    "n,m=4,5\n",
    "graph=[]\n",
    "for i in range(n):\n",
    "    graph.append(list(map(int,input())))\n",
    "result=0\n",
    "for i in range(n):\n",
    "    for j in range(m):\n",
    "        if dfs(i,j)==True:\n",
    "            result+=1\n",
    "print(result)\n"
   ]
  },
  {
   "cell_type": "code",
   "execution_count": null,
   "id": "42d0d760-ff94-4e28-a00a-e943825f5b00",
   "metadata": {},
   "outputs": [],
   "source": []
  }
 ],
 "metadata": {
  "kernelspec": {
   "display_name": "Python 3.9 (XPython)",
   "language": "python",
   "name": "xpython"
  },
  "language_info": {
   "file_extension": ".py",
   "mimetype": "text/x-python",
   "name": "python",
   "version": "3.9.7"
  }
 },
 "nbformat": 4,
 "nbformat_minor": 5
}
