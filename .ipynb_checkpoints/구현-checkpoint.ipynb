{
 "cells": [
  {
   "cell_type": "code",
   "execution_count": null,
   "id": "b9bc275d-85ae-41a1-863f-6d230cc6804e",
   "metadata": {},
   "outputs": [],
   "source": [
    "#상하좌우\n",
    "n=5\n",
    "x,y=1,1\n",
    "lst=['R','R','R','U','D','D']\n",
    "dx=[0,0,-1,1]\n",
    "dy=[-1,1,0,0]\n",
    "move=['L','R','U','D']\n",
    "\n",
    "for plan in lst:\n",
    "    for i in range(len(move)):\n",
    "        if plan == move[i]:\n",
    "            nx=x+dx[i]\n",
    "            ny=y+dy[i]\n",
    "    if nx<1 or ny<1 or nx>n or ny>n:\n",
    "        continue\n",
    "    x,y=nx,ny\n",
    "print(x,y)\n"
   ]
  },
  {
   "cell_type": "code",
   "execution_count": null,
   "id": "dd0df7b0-4efe-4178-8ca6-e60073ca3948",
   "metadata": {
    "tags": []
   },
   "outputs": [],
   "source": [
    "#시간\n",
    "\n",
    "h=5\n",
    "cnt=0\n",
    "for i in range(h+1):\n",
    "    for j in range(60):\n",
    "        for k in range(60):\n",
    "            if '3' in str(i)+str(j)+str(k):\n",
    "                cnt+=1\n",
    "                \n",
    "print(cnt)\n",
    "                \n"
   ]
  },
  {
   "cell_type": "code",
   "execution_count": null,
   "id": "fed01d16-4510-4bc2-b567-2dbe1317ef2d",
   "metadata": {
    "tags": []
   },
   "outputs": [],
   "source": [
    "#체스 나이트\n",
    "m='g5'\n",
    "pos=[[-2,-1],[-1,-2],[1,-2],[-1,2],[1,2],[-2,1],[2,1],[2,-1]]\n",
    "x=(ord(m[0])+1)-ord('a')\n",
    "y=int(m[1])\n",
    "res=0\n",
    "for i in pos:\n",
    "    mx=x+i[0]\n",
    "    my=y+i[1]\n",
    "    if mx>=1 and my>=1 and mx<=8 and my<=8:\n",
    "           res+=1\n",
    "print(res)"
   ]
  },
  {
   "cell_type": "code",
   "execution_count": 84,
   "id": "2e750d9c-e712-4826-8323-73916886d107",
   "metadata": {},
   "outputs": [
    {
     "name": "stdout",
     "output_type": "stream",
     "text": [
      "[[0, 0, 0, 0, 0], [0, 0, 0, 0, 0], [0, 0, 0, 0, 0], [0, 0, 0, 0, 0], [0, 0, 0, 0, 0]]\n",
      "fm진입\n",
      "[[0, 1, 0, 0, 0], [0, 0, 0, 0, 0], [0, 0, 0, 0, 0], [0, 0, 0, 0, 0], [0, 0, 0, 0, 0]]\n",
      "[[0, 1, 2, 0, 0], [0, 0, 0, 0, 0], [0, 0, 0, 0, 0], [0, 0, 0, 0, 0], [0, 0, 0, 0, 0]]\n",
      "[[0, 1, 2, 3, 0], [0, 0, 0, 0, 0], [0, 0, 0, 0, 0], [0, 0, 0, 0, 0], [0, 0, 0, 0, 0]]\n"
     ]
    }
   ],
   "source": [
    "a=5   #배열 길이 입력\n",
    "cnt=0\n",
    "x=0\n",
    "y=0\n",
    "\n",
    "size=[[0 for i in range(a)]for i in range(a)]\n",
    "mov=[[0,-1],[1,0],[0,1],[-1,0]]\n",
    "fm=mov[0]\n",
    "\n",
    "size[y][x]=cnt\n",
    "cnt+=1\n",
    "print(size)\n",
    "if cnt%a-1==0:\n",
    "    print(\"fm진입\")\n",
    "    fm=mov[cnt%4]\n",
    "x=x+fm[0];y=y+fm[1]\n",
    "\n",
    "size[y][x]=cnt\n",
    "cnt+=1\n",
    "print(size)\n",
    "if cnt%a-1==0:\n",
    "    print(\"fm진입\")\n",
    "    fm=mov[cnt%4]\n",
    "x=x+fm[0];y=y+fm[1]\n",
    "\n",
    "size[y][x]=cnt\n",
    "cnt+=1\n",
    "print(size)\n",
    "if cnt%a-1==0:\n",
    "    print(\"fm진입\")\n",
    "    fm=mov[cnt%4]\n",
    "x=x+fm[0];y=y+fm[1]\n",
    "\n",
    "\n",
    "size[y][x]=cnt\n",
    "cnt+=1\n",
    "print(size)\n",
    "\n",
    "if cnt%a-1==0:\n",
    "    print(\"fm진입\")\n",
    "    fm=mov[cnt%4]\n",
    "x=x+fm[0];y=y+fm[1]\n",
    "\n",
    "\n"
   ]
  },
  {
   "cell_type": "code",
   "execution_count": null,
   "id": "75fadca0-9769-4572-89a4-18757ec5c0b2",
   "metadata": {},
   "outputs": [],
   "source": []
  }
 ],
 "metadata": {
  "kernelspec": {
   "display_name": "Python 3.9 (XPython)",
   "language": "python",
   "name": "xpython"
  },
  "language_info": {
   "file_extension": ".py",
   "mimetype": "text/x-python",
   "name": "python",
   "version": "3.9.7"
  }
 },
 "nbformat": 4,
 "nbformat_minor": 5
}
