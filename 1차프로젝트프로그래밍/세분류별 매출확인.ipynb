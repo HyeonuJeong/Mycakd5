{
 "cells": [
  {
   "cell_type": "code",
   "execution_count": 56,
   "id": "1177de65",
   "metadata": {},
   "outputs": [],
   "source": [
    "import pandas as pd\n",
    "import numpy as np\n",
    "import matplotlib.pyplot as plt\n",
    "import warnings\n",
    "warnings.filterwarnings('ignore')"
   ]
  },
  {
   "cell_type": "code",
   "execution_count": 88,
   "id": "7087662e",
   "metadata": {},
   "outputs": [
    {
     "data": {
      "text/html": [
       "<div>\n",
       "<style scoped>\n",
       "    .dataframe tbody tr th:only-of-type {\n",
       "        vertical-align: middle;\n",
       "    }\n",
       "\n",
       "    .dataframe tbody tr th {\n",
       "        vertical-align: top;\n",
       "    }\n",
       "\n",
       "    .dataframe thead th {\n",
       "        text-align: right;\n",
       "    }\n",
       "</style>\n",
       "<table border=\"1\" class=\"dataframe\">\n",
       "  <thead>\n",
       "    <tr style=\"text-align: right;\">\n",
       "      <th></th>\n",
       "      <th>고객번호</th>\n",
       "      <th>식료품_1Q</th>\n",
       "      <th>식료품_2Q</th>\n",
       "      <th>식료품_3Q</th>\n",
       "      <th>식료품_4Q</th>\n",
       "      <th>식료품_5Q</th>\n",
       "      <th>식료품_6Q</th>\n",
       "      <th>식료품_7Q</th>\n",
       "      <th>식료품_8Q</th>\n",
       "    </tr>\n",
       "  </thead>\n",
       "  <tbody>\n",
       "    <tr>\n",
       "      <th>0</th>\n",
       "      <td>0</td>\n",
       "      <td>635666.0</td>\n",
       "      <td>995603.0</td>\n",
       "      <td>889163.0</td>\n",
       "      <td>1579134.0</td>\n",
       "      <td>1481879.0</td>\n",
       "      <td>1085088.0</td>\n",
       "      <td>570742.0</td>\n",
       "      <td>284778.0</td>\n",
       "    </tr>\n",
       "    <tr>\n",
       "      <th>1</th>\n",
       "      <td>1</td>\n",
       "      <td>2455558.0</td>\n",
       "      <td>2030956.0</td>\n",
       "      <td>1652569.0</td>\n",
       "      <td>1511411.0</td>\n",
       "      <td>1874481.0</td>\n",
       "      <td>965639.0</td>\n",
       "      <td>1319363.0</td>\n",
       "      <td>1149868.0</td>\n",
       "    </tr>\n",
       "    <tr>\n",
       "      <th>2</th>\n",
       "      <td>2</td>\n",
       "      <td>142184.0</td>\n",
       "      <td>316266.0</td>\n",
       "      <td>486706.0</td>\n",
       "      <td>191094.0</td>\n",
       "      <td>170284.0</td>\n",
       "      <td>198980.0</td>\n",
       "      <td>346174.0</td>\n",
       "      <td>183260.0</td>\n",
       "    </tr>\n",
       "    <tr>\n",
       "      <th>3</th>\n",
       "      <td>3</td>\n",
       "      <td>566579.0</td>\n",
       "      <td>893745.0</td>\n",
       "      <td>398993.0</td>\n",
       "      <td>288153.0</td>\n",
       "      <td>754249.0</td>\n",
       "      <td>730851.0</td>\n",
       "      <td>622233.0</td>\n",
       "      <td>396264.0</td>\n",
       "    </tr>\n",
       "    <tr>\n",
       "      <th>4</th>\n",
       "      <td>4</td>\n",
       "      <td>1321780.0</td>\n",
       "      <td>1258834.0</td>\n",
       "      <td>834808.0</td>\n",
       "      <td>229015.0</td>\n",
       "      <td>688662.0</td>\n",
       "      <td>256589.0</td>\n",
       "      <td>NaN</td>\n",
       "      <td>556818.0</td>\n",
       "    </tr>\n",
       "    <tr>\n",
       "      <th>...</th>\n",
       "      <td>...</td>\n",
       "      <td>...</td>\n",
       "      <td>...</td>\n",
       "      <td>...</td>\n",
       "      <td>...</td>\n",
       "      <td>...</td>\n",
       "      <td>...</td>\n",
       "      <td>...</td>\n",
       "      <td>...</td>\n",
       "    </tr>\n",
       "    <tr>\n",
       "      <th>19367</th>\n",
       "      <td>19367</td>\n",
       "      <td>NaN</td>\n",
       "      <td>NaN</td>\n",
       "      <td>22595.0</td>\n",
       "      <td>95546.0</td>\n",
       "      <td>111095.0</td>\n",
       "      <td>110589.0</td>\n",
       "      <td>94170.0</td>\n",
       "      <td>72374.0</td>\n",
       "    </tr>\n",
       "    <tr>\n",
       "      <th>19368</th>\n",
       "      <td>19368</td>\n",
       "      <td>NaN</td>\n",
       "      <td>NaN</td>\n",
       "      <td>NaN</td>\n",
       "      <td>14899.0</td>\n",
       "      <td>125099.0</td>\n",
       "      <td>45489.0</td>\n",
       "      <td>108496.0</td>\n",
       "      <td>299238.0</td>\n",
       "    </tr>\n",
       "    <tr>\n",
       "      <th>19369</th>\n",
       "      <td>19369</td>\n",
       "      <td>NaN</td>\n",
       "      <td>NaN</td>\n",
       "      <td>NaN</td>\n",
       "      <td>NaN</td>\n",
       "      <td>621103.0</td>\n",
       "      <td>1493127.0</td>\n",
       "      <td>1214638.0</td>\n",
       "      <td>729185.0</td>\n",
       "    </tr>\n",
       "    <tr>\n",
       "      <th>19370</th>\n",
       "      <td>19370</td>\n",
       "      <td>NaN</td>\n",
       "      <td>NaN</td>\n",
       "      <td>NaN</td>\n",
       "      <td>NaN</td>\n",
       "      <td>575658.0</td>\n",
       "      <td>808235.0</td>\n",
       "      <td>1019750.0</td>\n",
       "      <td>824414.0</td>\n",
       "    </tr>\n",
       "    <tr>\n",
       "      <th>19371</th>\n",
       "      <td>19371</td>\n",
       "      <td>NaN</td>\n",
       "      <td>NaN</td>\n",
       "      <td>NaN</td>\n",
       "      <td>NaN</td>\n",
       "      <td>NaN</td>\n",
       "      <td>4289.0</td>\n",
       "      <td>143666.0</td>\n",
       "      <td>95169.0</td>\n",
       "    </tr>\n",
       "  </tbody>\n",
       "</table>\n",
       "<p>19372 rows × 9 columns</p>\n",
       "</div>"
      ],
      "text/plain": [
       "        고객번호     식료품_1Q     식료품_2Q     식료품_3Q     식료품_4Q     식료품_5Q  \\\n",
       "0          0   635666.0   995603.0   889163.0  1579134.0  1481879.0   \n",
       "1          1  2455558.0  2030956.0  1652569.0  1511411.0  1874481.0   \n",
       "2          2   142184.0   316266.0   486706.0   191094.0   170284.0   \n",
       "3          3   566579.0   893745.0   398993.0   288153.0   754249.0   \n",
       "4          4  1321780.0  1258834.0   834808.0   229015.0   688662.0   \n",
       "...      ...        ...        ...        ...        ...        ...   \n",
       "19367  19367        NaN        NaN    22595.0    95546.0   111095.0   \n",
       "19368  19368        NaN        NaN        NaN    14899.0   125099.0   \n",
       "19369  19369        NaN        NaN        NaN        NaN   621103.0   \n",
       "19370  19370        NaN        NaN        NaN        NaN   575658.0   \n",
       "19371  19371        NaN        NaN        NaN        NaN        NaN   \n",
       "\n",
       "          식료품_6Q     식료품_7Q     식료품_8Q  \n",
       "0      1085088.0   570742.0   284778.0  \n",
       "1       965639.0  1319363.0  1149868.0  \n",
       "2       198980.0   346174.0   183260.0  \n",
       "3       730851.0   622233.0   396264.0  \n",
       "4       256589.0        NaN   556818.0  \n",
       "...          ...        ...        ...  \n",
       "19367   110589.0    94170.0    72374.0  \n",
       "19368    45489.0   108496.0   299238.0  \n",
       "19369  1493127.0  1214638.0   729185.0  \n",
       "19370   808235.0  1019750.0   824414.0  \n",
       "19371     4289.0   143666.0    95169.0  \n",
       "\n",
       "[19372 rows x 9 columns]"
      ]
     },
     "execution_count": 88,
     "metadata": {},
     "output_type": "execute_result"
    }
   ],
   "source": [
    "## 메인데이터\n",
    "df_food = pd.read_csv('./dataset/cat/식료품구매금액.csv',encoding = 'cp949')\n",
    "df_food=df_food.reset_index()\n",
    "df_food.columns=['고객번호','식료품_1Q','식료품_2Q','식료품_3Q','식료품_4Q','식료품_5Q','식료품_6Q','식료품_7Q','식료품_8Q']\n",
    "df_food"
   ]
  },
  {
   "cell_type": "code",
   "execution_count": 91,
   "id": "5ddf0c4c",
   "metadata": {},
   "outputs": [],
   "source": [
    "df_food.고객번호=df_food.고객번호.apply(lambda x:x+1)"
   ]
  },
  {
   "cell_type": "code",
   "execution_count": 92,
   "id": "9043342c",
   "metadata": {},
   "outputs": [
    {
     "data": {
      "text/html": [
       "<div>\n",
       "<style scoped>\n",
       "    .dataframe tbody tr th:only-of-type {\n",
       "        vertical-align: middle;\n",
       "    }\n",
       "\n",
       "    .dataframe tbody tr th {\n",
       "        vertical-align: top;\n",
       "    }\n",
       "\n",
       "    .dataframe thead th {\n",
       "        text-align: right;\n",
       "    }\n",
       "</style>\n",
       "<table border=\"1\" class=\"dataframe\">\n",
       "  <thead>\n",
       "    <tr style=\"text-align: right;\">\n",
       "      <th></th>\n",
       "      <th>고객번호</th>\n",
       "      <th>식료품_1Q</th>\n",
       "      <th>식료품_2Q</th>\n",
       "      <th>식료품_3Q</th>\n",
       "      <th>식료품_4Q</th>\n",
       "      <th>식료품_5Q</th>\n",
       "      <th>식료품_6Q</th>\n",
       "      <th>식료품_7Q</th>\n",
       "      <th>식료품_8Q</th>\n",
       "    </tr>\n",
       "  </thead>\n",
       "  <tbody>\n",
       "    <tr>\n",
       "      <th>0</th>\n",
       "      <td>1</td>\n",
       "      <td>635666.0</td>\n",
       "      <td>995603.0</td>\n",
       "      <td>889163.0</td>\n",
       "      <td>1579134.0</td>\n",
       "      <td>1481879.0</td>\n",
       "      <td>1085088.0</td>\n",
       "      <td>570742.0</td>\n",
       "      <td>284778.0</td>\n",
       "    </tr>\n",
       "    <tr>\n",
       "      <th>1</th>\n",
       "      <td>2</td>\n",
       "      <td>2455558.0</td>\n",
       "      <td>2030956.0</td>\n",
       "      <td>1652569.0</td>\n",
       "      <td>1511411.0</td>\n",
       "      <td>1874481.0</td>\n",
       "      <td>965639.0</td>\n",
       "      <td>1319363.0</td>\n",
       "      <td>1149868.0</td>\n",
       "    </tr>\n",
       "    <tr>\n",
       "      <th>2</th>\n",
       "      <td>3</td>\n",
       "      <td>142184.0</td>\n",
       "      <td>316266.0</td>\n",
       "      <td>486706.0</td>\n",
       "      <td>191094.0</td>\n",
       "      <td>170284.0</td>\n",
       "      <td>198980.0</td>\n",
       "      <td>346174.0</td>\n",
       "      <td>183260.0</td>\n",
       "    </tr>\n",
       "    <tr>\n",
       "      <th>3</th>\n",
       "      <td>4</td>\n",
       "      <td>566579.0</td>\n",
       "      <td>893745.0</td>\n",
       "      <td>398993.0</td>\n",
       "      <td>288153.0</td>\n",
       "      <td>754249.0</td>\n",
       "      <td>730851.0</td>\n",
       "      <td>622233.0</td>\n",
       "      <td>396264.0</td>\n",
       "    </tr>\n",
       "    <tr>\n",
       "      <th>4</th>\n",
       "      <td>5</td>\n",
       "      <td>1321780.0</td>\n",
       "      <td>1258834.0</td>\n",
       "      <td>834808.0</td>\n",
       "      <td>229015.0</td>\n",
       "      <td>688662.0</td>\n",
       "      <td>256589.0</td>\n",
       "      <td>NaN</td>\n",
       "      <td>556818.0</td>\n",
       "    </tr>\n",
       "    <tr>\n",
       "      <th>...</th>\n",
       "      <td>...</td>\n",
       "      <td>...</td>\n",
       "      <td>...</td>\n",
       "      <td>...</td>\n",
       "      <td>...</td>\n",
       "      <td>...</td>\n",
       "      <td>...</td>\n",
       "      <td>...</td>\n",
       "      <td>...</td>\n",
       "    </tr>\n",
       "    <tr>\n",
       "      <th>19367</th>\n",
       "      <td>19368</td>\n",
       "      <td>NaN</td>\n",
       "      <td>NaN</td>\n",
       "      <td>22595.0</td>\n",
       "      <td>95546.0</td>\n",
       "      <td>111095.0</td>\n",
       "      <td>110589.0</td>\n",
       "      <td>94170.0</td>\n",
       "      <td>72374.0</td>\n",
       "    </tr>\n",
       "    <tr>\n",
       "      <th>19368</th>\n",
       "      <td>19369</td>\n",
       "      <td>NaN</td>\n",
       "      <td>NaN</td>\n",
       "      <td>NaN</td>\n",
       "      <td>14899.0</td>\n",
       "      <td>125099.0</td>\n",
       "      <td>45489.0</td>\n",
       "      <td>108496.0</td>\n",
       "      <td>299238.0</td>\n",
       "    </tr>\n",
       "    <tr>\n",
       "      <th>19369</th>\n",
       "      <td>19370</td>\n",
       "      <td>NaN</td>\n",
       "      <td>NaN</td>\n",
       "      <td>NaN</td>\n",
       "      <td>NaN</td>\n",
       "      <td>621103.0</td>\n",
       "      <td>1493127.0</td>\n",
       "      <td>1214638.0</td>\n",
       "      <td>729185.0</td>\n",
       "    </tr>\n",
       "    <tr>\n",
       "      <th>19370</th>\n",
       "      <td>19371</td>\n",
       "      <td>NaN</td>\n",
       "      <td>NaN</td>\n",
       "      <td>NaN</td>\n",
       "      <td>NaN</td>\n",
       "      <td>575658.0</td>\n",
       "      <td>808235.0</td>\n",
       "      <td>1019750.0</td>\n",
       "      <td>824414.0</td>\n",
       "    </tr>\n",
       "    <tr>\n",
       "      <th>19371</th>\n",
       "      <td>19372</td>\n",
       "      <td>NaN</td>\n",
       "      <td>NaN</td>\n",
       "      <td>NaN</td>\n",
       "      <td>NaN</td>\n",
       "      <td>NaN</td>\n",
       "      <td>4289.0</td>\n",
       "      <td>143666.0</td>\n",
       "      <td>95169.0</td>\n",
       "    </tr>\n",
       "  </tbody>\n",
       "</table>\n",
       "<p>19372 rows × 9 columns</p>\n",
       "</div>"
      ],
      "text/plain": [
       "        고객번호     식료품_1Q     식료품_2Q     식료품_3Q     식료품_4Q     식료품_5Q  \\\n",
       "0          1   635666.0   995603.0   889163.0  1579134.0  1481879.0   \n",
       "1          2  2455558.0  2030956.0  1652569.0  1511411.0  1874481.0   \n",
       "2          3   142184.0   316266.0   486706.0   191094.0   170284.0   \n",
       "3          4   566579.0   893745.0   398993.0   288153.0   754249.0   \n",
       "4          5  1321780.0  1258834.0   834808.0   229015.0   688662.0   \n",
       "...      ...        ...        ...        ...        ...        ...   \n",
       "19367  19368        NaN        NaN    22595.0    95546.0   111095.0   \n",
       "19368  19369        NaN        NaN        NaN    14899.0   125099.0   \n",
       "19369  19370        NaN        NaN        NaN        NaN   621103.0   \n",
       "19370  19371        NaN        NaN        NaN        NaN   575658.0   \n",
       "19371  19372        NaN        NaN        NaN        NaN        NaN   \n",
       "\n",
       "          식료품_6Q     식료품_7Q     식료품_8Q  \n",
       "0      1085088.0   570742.0   284778.0  \n",
       "1       965639.0  1319363.0  1149868.0  \n",
       "2       198980.0   346174.0   183260.0  \n",
       "3       730851.0   622233.0   396264.0  \n",
       "4       256589.0        NaN   556818.0  \n",
       "...          ...        ...        ...  \n",
       "19367   110589.0    94170.0    72374.0  \n",
       "19368    45489.0   108496.0   299238.0  \n",
       "19369  1493127.0  1214638.0   729185.0  \n",
       "19370   808235.0  1019750.0   824414.0  \n",
       "19371     4289.0   143666.0    95169.0  \n",
       "\n",
       "[19372 rows x 9 columns]"
      ]
     },
     "execution_count": 92,
     "metadata": {},
     "output_type": "execute_result"
    }
   ],
   "source": [
    "df_food"
   ]
  },
  {
   "cell_type": "code",
   "execution_count": 13,
   "id": "03decb52",
   "metadata": {},
   "outputs": [
    {
     "data": {
      "text/html": [
       "<div>\n",
       "<style scoped>\n",
       "    .dataframe tbody tr th:only-of-type {\n",
       "        vertical-align: middle;\n",
       "    }\n",
       "\n",
       "    .dataframe tbody tr th {\n",
       "        vertical-align: top;\n",
       "    }\n",
       "\n",
       "    .dataframe thead th {\n",
       "        text-align: right;\n",
       "    }\n",
       "</style>\n",
       "<table border=\"1\" class=\"dataframe\">\n",
       "  <thead>\n",
       "    <tr style=\"text-align: right;\">\n",
       "      <th></th>\n",
       "      <th>고객번호</th>\n",
       "    </tr>\n",
       "  </thead>\n",
       "  <tbody>\n",
       "    <tr>\n",
       "      <th>0</th>\n",
       "      <td>1</td>\n",
       "    </tr>\n",
       "    <tr>\n",
       "      <th>1</th>\n",
       "      <td>2</td>\n",
       "    </tr>\n",
       "    <tr>\n",
       "      <th>2</th>\n",
       "      <td>3</td>\n",
       "    </tr>\n",
       "    <tr>\n",
       "      <th>3</th>\n",
       "      <td>4</td>\n",
       "    </tr>\n",
       "    <tr>\n",
       "      <th>4</th>\n",
       "      <td>6</td>\n",
       "    </tr>\n",
       "    <tr>\n",
       "      <th>...</th>\n",
       "      <td>...</td>\n",
       "    </tr>\n",
       "    <tr>\n",
       "      <th>18861</th>\n",
       "      <td>19333</td>\n",
       "    </tr>\n",
       "    <tr>\n",
       "      <th>18862</th>\n",
       "      <td>19334</td>\n",
       "    </tr>\n",
       "    <tr>\n",
       "      <th>18863</th>\n",
       "      <td>19335</td>\n",
       "    </tr>\n",
       "    <tr>\n",
       "      <th>18864</th>\n",
       "      <td>19336</td>\n",
       "    </tr>\n",
       "    <tr>\n",
       "      <th>18865</th>\n",
       "      <td>19337</td>\n",
       "    </tr>\n",
       "  </tbody>\n",
       "</table>\n",
       "<p>18866 rows × 1 columns</p>\n",
       "</div>"
      ],
      "text/plain": [
       "        고객번호\n",
       "0          1\n",
       "1          2\n",
       "2          3\n",
       "3          4\n",
       "4          6\n",
       "...      ...\n",
       "18861  19333\n",
       "18862  19334\n",
       "18863  19335\n",
       "18864  19336\n",
       "18865  19337\n",
       "\n",
       "[18866 rows x 1 columns]"
      ]
     },
     "execution_count": 13,
     "metadata": {},
     "output_type": "execute_result"
    }
   ],
   "source": [
    "## 기존고객데이터\n",
    "df_ex = pd.read_csv('ex_cust.csv',encoding = 'utf-8-sig')\n",
    "df_ex=df_ex[['Unnamed: 0']]\n",
    "df_ex.columns=['고객번호']\n",
    "df_ex"
   ]
  },
  {
   "cell_type": "code",
   "execution_count": 93,
   "id": "622933e6",
   "metadata": {},
   "outputs": [],
   "source": [
    "# pd.merge(df_food,df_ex, how='inner', left_on='고객번호', right_on='기존고객번호')\n",
    "df_ex_food=pd.merge(df_food,df_ex, how='inner', on='고객번호')"
   ]
  },
  {
   "cell_type": "code",
   "execution_count": 75,
   "id": "3e4e995c",
   "metadata": {},
   "outputs": [
    {
     "data": {
      "text/plain": [
       "식료품_1Q    1.678890e+10\n",
       "식료품_2Q    1.732952e+10\n",
       "식료품_3Q    2.070951e+10\n",
       "식료품_4Q    1.409319e+10\n",
       "식료품_5Q    1.823550e+10\n",
       "식료품_6Q    1.733499e+10\n",
       "식료품_7Q    2.080155e+10\n",
       "식료품_8Q    1.251125e+10\n",
       "dtype: float64"
      ]
     },
     "execution_count": 75,
     "metadata": {},
     "output_type": "execute_result"
    }
   ],
   "source": [
    "a=df_ex_food.sum()[1:]\n",
    "a\n",
    "# b=[]\n",
    "# for i in a:\n",
    "#     b.append(i)\n",
    "# b=pd.DataFrame(b)\n",
    "# b_x=b.index\n",
    "# b_y=b[0]\n",
    "# sns.barplot(x=b_x,y=b_y)"
   ]
  },
  {
   "cell_type": "code",
   "execution_count": 37,
   "id": "c828b143",
   "metadata": {},
   "outputs": [
    {
     "data": {
      "text/plain": [
       "<AxesSubplot:ylabel='0'>"
      ]
     },
     "execution_count": 37,
     "metadata": {},
     "output_type": "execute_result"
    },
    {
     "data": {
      "image/png": "[encoded data removed]",
      "text/plain": [
       "<Figure size 432x288 with 1 Axes>"
      ]
     },
     "metadata": {
      "needs_background": "light"
     },
     "output_type": "display_data"
    }
   ],
   "source": [
    "import seaborn as sns\n",
    "b=pd.DataFrame(b)\n",
    "b_x=b.index\n",
    "b_y=b[0]\n",
    "sns.barplot(x=b_x,y=b_y)"
   ]
  },
  {
   "cell_type": "code",
   "execution_count": 144,
   "id": "1613a98c",
   "metadata": {},
   "outputs": [],
   "source": [
    "def data_cat(x,y):\n",
    "    df = pd.read_csv(x,encoding = 'cp949')\n",
    "    df=df.reset_index()\n",
    "    df_c=['고객번호']\n",
    "    for i in range(1,9):\n",
    "        t= y+str(i)\n",
    "        df_c.append(t)\n",
    "    df.columns=df_c\n",
    "    df.고객번호=df.고객번호.apply(lambda x:x+1)\n",
    "    df_main_n=pd.merge(df,df_ex, how='inner', on='고객번호')\n",
    "    df_main_n.fillna(0,inplace=True)\n",
    "    return df_main_n"
   ]
  },
  {
   "cell_type": "code",
   "execution_count": 136,
   "id": "53cd611d",
   "metadata": {},
   "outputs": [],
   "source": [
    "def data_cat2(x,y):\n",
    "    df = pd.read_csv(x,encoding = 'cp949')\n",
    "    df=df.reset_index()\n",
    "    df_c=['고객번호']\n",
    "    for i in range(1,9):\n",
    "        t= y+str(i)\n",
    "        df_c.append(t)\n",
    "    df.columns=df_c\n",
    "    df.고객번호=df.고객번호.apply(lambda x:x+1)\n",
    "    df_main_n=pd.merge(df,df_ex, how='inner', on='고객번호')\n",
    "    df_main_n.fillna(0,inplace=True)\n",
    "    quar_sales=df_main_n.sum()[1:]\n",
    "    b=[]\n",
    "    for i in quar_sales:\n",
    "        b.append(i)\n",
    "    b=pd.DataFrame(b)\n",
    "    b_x=df_main_n.columns[1:]\n",
    "    b_y=b[0]\n",
    "    display(sns.barplot(x=b_x,y=b_y))\n",
    "    return df_main_n"
   ]
  },
  {
   "cell_type": "code",
   "execution_count": 100,
   "id": "cf8cdb54",
   "metadata": {},
   "outputs": [],
   "source": [
    "plt.rc('font', family='NanumGothic')\n",
    "li=['식료품','의류잡화','생활잡화','레저취미','전자제품','문구류','기타','화장품','가구','기호품','차량용품','고급식료품','도서음반','사치품']"
   ]
  },
  {
   "cell_type": "code",
   "execution_count": 101,
   "id": "b1f53072",
   "metadata": {},
   "outputs": [
    {
     "data": {
      "text/plain": [
       "<AxesSubplot:ylabel='0'>"
      ]
     },
     "metadata": {},
     "output_type": "display_data"
    },
    {
     "data": {
      "image/png": "[encoded data removed]",
      "text/plain": [
       "<Figure size 432x288 with 1 Axes>"
      ]
     },
     "metadata": {
      "needs_background": "light"
     },
     "output_type": "display_data"
    }
   ],
   "source": [
    "text=li[0]\n",
    "link= './dataset/cat/'+ text +'구매금액.csv'\n",
    "df_main=data_cat2(link,text)"
   ]
  },
  {
   "cell_type": "code",
   "execution_count": 102,
   "id": "aae65af6",
   "metadata": {},
   "outputs": [
    {
     "data": {
      "text/plain": [
       "<AxesSubplot:ylabel='0'>"
      ]
     },
     "metadata": {},
     "output_type": "display_data"
    },
    {
     "data": {
      "image/png": "[encoded data removed]",
      "text/plain": [
       "<Figure size 432x288 with 1 Axes>"
      ]
     },
     "metadata": {
      "needs_background": "light"
     },
     "output_type": "display_data"
    }
   ],
   "source": [
    "text=li[1]\n",
    "link= './dataset/cat/'+ text +'구매금액.csv'\n",
    "df_main=data_cat2(link,text)"
   ]
  },
  {
   "cell_type": "code",
   "execution_count": 103,
   "id": "2324ec77",
   "metadata": {},
   "outputs": [
    {
     "data": {
      "text/plain": [
       "<AxesSubplot:ylabel='0'>"
      ]
     },
     "metadata": {},
     "output_type": "display_data"
    },
    {
     "data": {
      "image/png": "[encoded data removed]",
      "text/plain": [
       "<Figure size 432x288 with 1 Axes>"
      ]
     },
     "metadata": {
      "needs_background": "light"
     },
     "output_type": "display_data"
    }
   ],
   "source": [
    "text=li[2]\n",
    "link= './dataset/cat/'+ text +'구매금액.csv'\n",
    "df_main=data_cat2(link,text)"
   ]
  },
  {
   "cell_type": "code",
   "execution_count": 64,
   "id": "51582001",
   "metadata": {},
   "outputs": [
    {
     "data": {
      "text/plain": [
       "<AxesSubplot:ylabel='0'>"
      ]
     },
     "metadata": {},
     "output_type": "display_data"
    },
    {
     "data": {
      "image/png": "[encoded data removed]",
      "text/plain": [
       "<Figure size 432x288 with 1 Axes>"
      ]
     },
     "metadata": {
      "needs_background": "light"
     },
     "output_type": "display_data"
    }
   ],
   "source": [
    "text=li[4]\n",
    "link= './dataset/cat/'+ text +'구매금액.csv'\n",
    "df_main=data_cat2(link,text)"
   ]
  },
  {
   "cell_type": "code",
   "execution_count": 66,
   "id": "3f0e0fd8",
   "metadata": {},
   "outputs": [
    {
     "data": {
      "text/plain": [
       "<AxesSubplot:ylabel='0'>"
      ]
     },
     "metadata": {},
     "output_type": "display_data"
    },
    {
     "data": {
      "image/png": "[encoded data removed]",
      "text/plain": [
       "<Figure size 432x288 with 1 Axes>"
      ]
     },
     "metadata": {
      "needs_background": "light"
     },
     "output_type": "display_data"
    }
   ],
   "source": [
    "text=li[5]\n",
    "link= './dataset/cat/'+ text +'구매금액.csv'\n",
    "df_main=data_cat2(link,text)"
   ]
  },
  {
   "cell_type": "code",
   "execution_count": 67,
   "id": "0b94e6c2",
   "metadata": {},
   "outputs": [
    {
     "data": {
      "text/plain": [
       "<AxesSubplot:ylabel='0'>"
      ]
     },
     "metadata": {},
     "output_type": "display_data"
    },
    {
     "data": {
      "image/png": "[encoded data removed]",
      "text/plain": [
       "<Figure size 432x288 with 1 Axes>"
      ]
     },
     "metadata": {
      "needs_background": "light"
     },
     "output_type": "display_data"
    }
   ],
   "source": [
    "text=li[6]\n",
    "link= './dataset/cat/'+ text +'구매금액.csv'\n",
    "df_main=data_cat2(link,text)"
   ]
  },
  {
   "cell_type": "code",
   "execution_count": 68,
   "id": "a97bf42c",
   "metadata": {},
   "outputs": [
    {
     "data": {
      "text/plain": [
       "<AxesSubplot:ylabel='0'>"
      ]
     },
     "metadata": {},
     "output_type": "display_data"
    },
    {
     "data": {
      "image/png": "[encoded data removed]",
      "text/plain": [
       "<Figure size 432x288 with 1 Axes>"
      ]
     },
     "metadata": {
      "needs_background": "light"
     },
     "output_type": "display_data"
    }
   ],
   "source": [
    "text=li[7]\n",
    "link= './dataset/cat/'+ text +'구매금액.csv'\n",
    "df_main=data_cat2(link,text)"
   ]
  },
  {
   "cell_type": "code",
   "execution_count": 69,
   "id": "9927460a",
   "metadata": {},
   "outputs": [
    {
     "data": {
      "text/plain": [
       "<AxesSubplot:ylabel='0'>"
      ]
     },
     "metadata": {},
     "output_type": "display_data"
    },
    {
     "data": {
      "image/png": "[encoded data removed]",
      "text/plain": [
       "<Figure size 432x288 with 1 Axes>"
      ]
     },
     "metadata": {
      "needs_background": "light"
     },
     "output_type": "display_data"
    }
   ],
   "source": [
    "text=li[8]\n",
    "link= './dataset/cat/'+ text +'구매금액.csv'\n",
    "df_main=data_cat2(link,text)"
   ]
  },
  {
   "cell_type": "code",
   "execution_count": 70,
   "id": "fe92d410",
   "metadata": {},
   "outputs": [
    {
     "data": {
      "text/plain": [
       "<AxesSubplot:ylabel='0'>"
      ]
     },
     "metadata": {},
     "output_type": "display_data"
    },
    {
     "data": {
      "image/png": "[encoded data removed]",
      "text/plain": [
       "<Figure size 432x288 with 1 Axes>"
      ]
     },
     "metadata": {
      "needs_background": "light"
     },
     "output_type": "display_data"
    }
   ],
   "source": [
    "text=li[9]\n",
    "link= './dataset/cat/'+ text +'구매금액.csv'\n",
    "df_main=data_cat2(link,text)"
   ]
  },
  {
   "cell_type": "code",
   "execution_count": 71,
   "id": "0cfea58f",
   "metadata": {},
   "outputs": [
    {
     "data": {
      "text/plain": [
       "<AxesSubplot:ylabel='0'>"
      ]
     },
     "metadata": {},
     "output_type": "display_data"
    },
    {
     "data": {
      "image/png": "[encoded data removed]",
      "text/plain": [
       "<Figure size 432x288 with 1 Axes>"
      ]
     },
     "metadata": {
      "needs_background": "light"
     },
     "output_type": "display_data"
    }
   ],
   "source": [
    "text=li[10]\n",
    "link= './dataset/cat/'+ text +'구매금액.csv'\n",
    "df_main=data_cat2(link,text)"
   ]
  },
  {
   "cell_type": "code",
   "execution_count": 72,
   "id": "4f06bd86",
   "metadata": {},
   "outputs": [
    {
     "data": {
      "text/plain": [
       "<AxesSubplot:ylabel='0'>"
      ]
     },
     "metadata": {},
     "output_type": "display_data"
    },
    {
     "data": {
      "image/png": "[encoded data removed]",
      "text/plain": [
       "<Figure size 432x288 with 1 Axes>"
      ]
     },
     "metadata": {
      "needs_background": "light"
     },
     "output_type": "display_data"
    }
   ],
   "source": [
    "text=li[11]\n",
    "link= './dataset/cat/'+ text +'구매금액.csv'\n",
    "df_main=data_cat2(link,text)"
   ]
  },
  {
   "cell_type": "code",
   "execution_count": 73,
   "id": "3acaabde",
   "metadata": {},
   "outputs": [
    {
     "data": {
      "text/plain": [
       "<AxesSubplot:ylabel='0'>"
      ]
     },
     "metadata": {},
     "output_type": "display_data"
    },
    {
     "data": {
      "image/png": "[encoded data removed]",
      "text/plain": [
       "<Figure size 432x288 with 1 Axes>"
      ]
     },
     "metadata": {
      "needs_background": "light"
     },
     "output_type": "display_data"
    }
   ],
   "source": [
    "text=li[12]\n",
    "link= './dataset/cat/'+ text +'구매금액.csv'\n",
    "df_main=data_cat2(link,text)"
   ]
  },
  {
   "cell_type": "code",
   "execution_count": 74,
   "id": "1014c5df",
   "metadata": {},
   "outputs": [
    {
     "data": {
      "text/plain": [
       "<AxesSubplot:ylabel='0'>"
      ]
     },
     "metadata": {},
     "output_type": "display_data"
    },
    {
     "data": {
      "image/png": "[encoded data removed]",
      "text/plain": [
       "<Figure size 432x288 with 1 Axes>"
      ]
     },
     "metadata": {
      "needs_background": "light"
     },
     "output_type": "display_data"
    }
   ],
   "source": [
    "text=li[13]\n",
    "link= './dataset/cat/'+ text +'구매금액.csv'\n",
    "df_main=data_cat2(link,text)"
   ]
  },
  {
   "cell_type": "code",
   "execution_count": 140,
   "id": "d2a21c0c",
   "metadata": {},
   "outputs": [
    {
     "data": {
      "text/plain": [
       "<AxesSubplot:ylabel='0'>"
      ]
     },
     "metadata": {},
     "output_type": "display_data"
    },
    {
     "data": {
      "image/png": "[encoded data removed]",
      "text/plain": [
       "<Figure size 432x288 with 1 Axes>"
      ]
     },
     "metadata": {
      "needs_background": "light"
     },
     "output_type": "display_data"
    }
   ],
   "source": [
    "text=li[0]\n",
    "link= './dataset/cat/'+ text +'구매금액.csv'\n",
    "df_main=data_cat2(link,text)"
   ]
  },
  {
   "cell_type": "code",
   "execution_count": 141,
   "id": "446bca76",
   "metadata": {},
   "outputs": [
    {
     "name": "stdout",
     "output_type": "stream",
     "text": [
      "428188.5\n",
      "737982.7857142857\n",
      "1119195.2857142857\n",
      "379308711.28571427\n"
     ]
    }
   ],
   "source": [
    "asa = df_main.iloc[:,1:-1].describe()\n",
    "print((asa.loc['25%'].sum())/7)\n",
    "print((asa.loc['50%'].sum())/7)\n",
    "print((asa.loc['75%'].sum())/7)"
   ]
  },
  {
   "cell_type": "code",
   "execution_count": null,
   "id": "df0d7392",
   "metadata": {},
   "outputs": [],
   "source": [
    "#식료품등급\n",
    "text=li[1]\n",
    "link= './dataset/cat/'+ text +'구매금액.csv'\n",
    "df_main=data_cat(link,text)\n",
    "df_main"
   ]
  },
  {
   "cell_type": "code",
   "execution_count": 145,
   "id": "3f09df3b",
   "metadata": {},
   "outputs": [
    {
     "data": {
      "text/html": [
       "<div>\n",
       "<style scoped>\n",
       "    .dataframe tbody tr th:only-of-type {\n",
       "        vertical-align: middle;\n",
       "    }\n",
       "\n",
       "    .dataframe tbody tr th {\n",
       "        vertical-align: top;\n",
       "    }\n",
       "\n",
       "    .dataframe thead th {\n",
       "        text-align: right;\n",
       "    }\n",
       "</style>\n",
       "<table border=\"1\" class=\"dataframe\">\n",
       "  <thead>\n",
       "    <tr style=\"text-align: right;\">\n",
       "      <th></th>\n",
       "      <th>고객번호</th>\n",
       "      <th>의류잡화1</th>\n",
       "      <th>의류잡화2</th>\n",
       "      <th>의류잡화3</th>\n",
       "      <th>의류잡화4</th>\n",
       "      <th>의류잡화5</th>\n",
       "      <th>의류잡화6</th>\n",
       "      <th>의류잡화7</th>\n",
       "      <th>의류잡화8</th>\n",
       "    </tr>\n",
       "  </thead>\n",
       "  <tbody>\n",
       "    <tr>\n",
       "      <th>0</th>\n",
       "      <td>1</td>\n",
       "      <td>4813259.0</td>\n",
       "      <td>5975047.0</td>\n",
       "      <td>6635532.0</td>\n",
       "      <td>5584480.0</td>\n",
       "      <td>5735435.0</td>\n",
       "      <td>6914818.0</td>\n",
       "      <td>5930058.0</td>\n",
       "      <td>3016727.0</td>\n",
       "    </tr>\n",
       "    <tr>\n",
       "      <th>1</th>\n",
       "      <td>2</td>\n",
       "      <td>1917126.0</td>\n",
       "      <td>2751441.0</td>\n",
       "      <td>4834960.0</td>\n",
       "      <td>2176999.0</td>\n",
       "      <td>7456623.0</td>\n",
       "      <td>2046243.0</td>\n",
       "      <td>4899422.0</td>\n",
       "      <td>4696512.0</td>\n",
       "    </tr>\n",
       "    <tr>\n",
       "      <th>2</th>\n",
       "      <td>3</td>\n",
       "      <td>0.0</td>\n",
       "      <td>82407.0</td>\n",
       "      <td>0.0</td>\n",
       "      <td>0.0</td>\n",
       "      <td>0.0</td>\n",
       "      <td>0.0</td>\n",
       "      <td>0.0</td>\n",
       "      <td>6444.0</td>\n",
       "    </tr>\n",
       "    <tr>\n",
       "      <th>3</th>\n",
       "      <td>4</td>\n",
       "      <td>574609.0</td>\n",
       "      <td>2601328.0</td>\n",
       "      <td>1194615.0</td>\n",
       "      <td>682933.0</td>\n",
       "      <td>659840.0</td>\n",
       "      <td>926929.0</td>\n",
       "      <td>1181191.0</td>\n",
       "      <td>612226.0</td>\n",
       "    </tr>\n",
       "    <tr>\n",
       "      <th>4</th>\n",
       "      <td>6</td>\n",
       "      <td>457586.0</td>\n",
       "      <td>1479824.0</td>\n",
       "      <td>1171496.0</td>\n",
       "      <td>734920.0</td>\n",
       "      <td>393014.0</td>\n",
       "      <td>1470931.0</td>\n",
       "      <td>1687090.0</td>\n",
       "      <td>1209693.0</td>\n",
       "    </tr>\n",
       "    <tr>\n",
       "      <th>...</th>\n",
       "      <td>...</td>\n",
       "      <td>...</td>\n",
       "      <td>...</td>\n",
       "      <td>...</td>\n",
       "      <td>...</td>\n",
       "      <td>...</td>\n",
       "      <td>...</td>\n",
       "      <td>...</td>\n",
       "      <td>...</td>\n",
       "    </tr>\n",
       "    <tr>\n",
       "      <th>18796</th>\n",
       "      <td>19257</td>\n",
       "      <td>0.0</td>\n",
       "      <td>0.0</td>\n",
       "      <td>0.0</td>\n",
       "      <td>398987.0</td>\n",
       "      <td>344873.0</td>\n",
       "      <td>364381.0</td>\n",
       "      <td>59577.0</td>\n",
       "      <td>274129.0</td>\n",
       "    </tr>\n",
       "    <tr>\n",
       "      <th>18797</th>\n",
       "      <td>19258</td>\n",
       "      <td>0.0</td>\n",
       "      <td>0.0</td>\n",
       "      <td>0.0</td>\n",
       "      <td>0.0</td>\n",
       "      <td>0.0</td>\n",
       "      <td>31098.0</td>\n",
       "      <td>0.0</td>\n",
       "      <td>0.0</td>\n",
       "    </tr>\n",
       "    <tr>\n",
       "      <th>18798</th>\n",
       "      <td>19259</td>\n",
       "      <td>0.0</td>\n",
       "      <td>0.0</td>\n",
       "      <td>0.0</td>\n",
       "      <td>0.0</td>\n",
       "      <td>418702.0</td>\n",
       "      <td>67235.0</td>\n",
       "      <td>91224.0</td>\n",
       "      <td>14707.0</td>\n",
       "    </tr>\n",
       "    <tr>\n",
       "      <th>18799</th>\n",
       "      <td>19260</td>\n",
       "      <td>0.0</td>\n",
       "      <td>0.0</td>\n",
       "      <td>0.0</td>\n",
       "      <td>0.0</td>\n",
       "      <td>82629.0</td>\n",
       "      <td>87932.0</td>\n",
       "      <td>77596.0</td>\n",
       "      <td>40650.0</td>\n",
       "    </tr>\n",
       "    <tr>\n",
       "      <th>18800</th>\n",
       "      <td>19261</td>\n",
       "      <td>0.0</td>\n",
       "      <td>0.0</td>\n",
       "      <td>0.0</td>\n",
       "      <td>0.0</td>\n",
       "      <td>0.0</td>\n",
       "      <td>0.0</td>\n",
       "      <td>475607.0</td>\n",
       "      <td>341649.0</td>\n",
       "    </tr>\n",
       "  </tbody>\n",
       "</table>\n",
       "<p>18801 rows × 9 columns</p>\n",
       "</div>"
      ],
      "text/plain": [
       "        고객번호      의류잡화1      의류잡화2      의류잡화3      의류잡화4      의류잡화5  \\\n",
       "0          1  4813259.0  5975047.0  6635532.0  5584480.0  5735435.0   \n",
       "1          2  1917126.0  2751441.0  4834960.0  2176999.0  7456623.0   \n",
       "2          3        0.0    82407.0        0.0        0.0        0.0   \n",
       "3          4   574609.0  2601328.0  1194615.0   682933.0   659840.0   \n",
       "4          6   457586.0  1479824.0  1171496.0   734920.0   393014.0   \n",
       "...      ...        ...        ...        ...        ...        ...   \n",
       "18796  19257        0.0        0.0        0.0   398987.0   344873.0   \n",
       "18797  19258        0.0        0.0        0.0        0.0        0.0   \n",
       "18798  19259        0.0        0.0        0.0        0.0   418702.0   \n",
       "18799  19260        0.0        0.0        0.0        0.0    82629.0   \n",
       "18800  19261        0.0        0.0        0.0        0.0        0.0   \n",
       "\n",
       "           의류잡화6      의류잡화7      의류잡화8  \n",
       "0      6914818.0  5930058.0  3016727.0  \n",
       "1      2046243.0  4899422.0  4696512.0  \n",
       "2            0.0        0.0     6444.0  \n",
       "3       926929.0  1181191.0   612226.0  \n",
       "4      1470931.0  1687090.0  1209693.0  \n",
       "...          ...        ...        ...  \n",
       "18796   364381.0    59577.0   274129.0  \n",
       "18797    31098.0        0.0        0.0  \n",
       "18798    67235.0    91224.0    14707.0  \n",
       "18799    87932.0    77596.0    40650.0  \n",
       "18800        0.0   475607.0   341649.0  \n",
       "\n",
       "[18801 rows x 9 columns]"
      ]
     },
     "execution_count": 145,
     "metadata": {},
     "output_type": "execute_result"
    }
   ],
   "source": [
    "text=li[1]\n",
    "link= './dataset/cat/'+ text +'구매금액.csv'\n",
    "df_main=data_cat(link,text)\n",
    "df_main"
   ]
  },
  {
   "cell_type": "code",
   "execution_count": 147,
   "id": "45becd94",
   "metadata": {},
   "outputs": [
    {
     "name": "stdout",
     "output_type": "stream",
     "text": [
      "70711.42857142857\n",
      "402081.14285714284\n",
      "1706776.857142857\n",
      "564981687.1428572\n"
     ]
    }
   ],
   "source": [
    "df_main.iloc[:,1:-1].describe()\n",
    "asa = df_main.iloc[:,1:-1].describe()\n",
    "print((asa.loc['25%'].sum())/7)\n",
    "print((asa.loc['50%'].sum())/7)\n",
    "print((asa.loc['75%'].sum())/7)"
   ]
  },
  {
   "cell_type": "code",
   "execution_count": 105,
   "id": "0ba32d98",
   "metadata": {
    "scrolled": true
   },
   "outputs": [
    {
     "data": {
      "text/plain": [
       "376157.75"
      ]
     },
     "execution_count": 105,
     "metadata": {},
     "output_type": "execute_result"
    }
   ],
   "source": [
    "df_ex_food.식료품_1Q.describe()['25%']"
   ]
  },
  {
   "cell_type": "code",
   "execution_count": 110,
   "id": "3ca9806f",
   "metadata": {},
   "outputs": [
    {
     "data": {
      "text/plain": [
       "17919707103.0"
      ]
     },
     "execution_count": 110,
     "metadata": {},
     "output_type": "execute_result"
    }
   ],
   "source": [
    "(df_ex_food.sum()[1:-1].sum())/7"
   ]
  }
 ],
 "metadata": {
  "kernelspec": {
   "display_name": "Python 3 (ipykernel)",
   "language": "python",
   "name": "python3"
  },
  "language_info": {
   "codemirror_mode": {
    "name": "ipython",
    "version": 3
   },
   "file_extension": ".py",
   "mimetype": "text/x-python",
   "name": "python",
   "nbconvert_exporter": "python",
   "pygments_lexer": "ipython3",
   "version": "3.8.12"
  }
 },
 "nbformat": 4,
 "nbformat_minor": 5
}
