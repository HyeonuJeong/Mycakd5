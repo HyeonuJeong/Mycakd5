{
 "cells": [
  {
   "cell_type": "code",
   "execution_count": 7,
   "id": "1f6fdf72-b47f-44fe-980e-fcdd5e831221",
   "metadata": {},
   "outputs": [
    {
     "name": "stdout",
     "output_type": "stream",
     "text": [
      "26\n"
     ]
    }
   ],
   "source": [
    "a=[1,2,5,4,3]\n",
    "b=[5,5,6,6,5]\n",
    "\n",
    "a.sort()\n",
    "b.sort(reverse=True)\n",
    "for i in range(3):\n",
    "    a[i]=b[i]\n",
    "print(sum(a))"
   ]
  }
 ],
 "metadata": {
  "kernelspec": {
   "display_name": "Python 3.9 (XPython)",
   "language": "python",
   "name": "xpython"
  },
  "language_info": {
   "file_extension": ".py",
   "mimetype": "text/x-python",
   "name": "python",
   "version": "3.9.7"
  }
 },
 "nbformat": 4,
 "nbformat_minor": 5
}
