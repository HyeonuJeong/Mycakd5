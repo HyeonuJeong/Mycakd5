{
 "cells": [
  {
   "cell_type": "code",
   "execution_count": 6,
   "id": "b830cce0-2863-4d63-8625-e687076bb4ba",
   "metadata": {},
   "outputs": [
    {
     "name": "stdout",
     "output_type": "stream",
     "text": [
      "1\n"
     ]
    }
   ],
   "source": [
    "x=12\n",
    "y=5\n",
    "# x=int(input())\n",
    "# y=int(input())\n",
    "\n",
    "\n",
    "if x>0 and y>0:\n",
    "    print(1)\n",
    "elif x>0 and y<0:\n",
    "    print(4)\n",
    "elif x<0 and y>0:\n",
    "    print(2)\n",
    "else:\n",
    "    print(3)"
   ]
  },
  {
   "cell_type": "code",
   "execution_count": 6,
   "id": "f437ca2d-955c-4553-a258-466e830d30c9",
   "metadata": {},
   "outputs": [
    {
     "name": "stdin",
     "output_type": "stream",
     "text": [
      " 161 181 762 375\n"
     ]
    },
    {
     "data": {
      "text/plain": [
       "161"
      ]
     },
     "execution_count": 6,
     "metadata": {},
     "output_type": "execute_result"
    }
   ],
   "source": [
    "# x,y,w,h= 653,375, 1000,1000\n",
    "x,y,w,h=map(int, input().split())\n",
    "\n",
    "print(min(w-x,h-y,x,y))"
   ]
  },
  {
   "cell_type": "code",
   "execution_count": 29,
   "id": "aa046dfd-720c-4374-bd01-0f8be040ed19",
   "metadata": {},
   "outputs": [
    {
     "name": "stdin",
     "output_type": "stream",
     "text": [
      " 21\n"
     ]
    },
    {
     "name": "stdout",
     "output_type": "stream",
     "text": [
      "1385.442360\n",
      "882.000000\n"
     ]
    }
   ],
   "source": [
    "import math\n",
    "r=int(input())\n",
    "print(f'{r*r*math.pi:.6f}')\n",
    "print(f'{2*r*r:.6f}')"
   ]
  }
 ],
 "metadata": {
  "kernelspec": {
   "display_name": "Python 3.9 (XPython)",
   "language": "python",
   "name": "xpython"
  },
  "language_info": {
   "file_extension": ".py",
   "mimetype": "text/x-python",
   "name": "python",
   "version": "3.9.7"
  }
 },
 "nbformat": 4,
 "nbformat_minor": 5
}
