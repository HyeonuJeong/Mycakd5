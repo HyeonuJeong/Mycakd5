{
 "cells": [
  {
   "cell_type": "code",
   "execution_count": null,
   "metadata": {},
   "outputs": [
    {
     "ename": "",
     "evalue": "",
     "output_type": "error",
     "traceback": [
      "\u001b[1;31mRunning cells with 'Python 3.10.4 64-bit' requires ipykernel package.\n",
      "Run the following command to install 'ipykernel' into the Python environment. \n",
      "Command: 'c:/Users/jhw/AppData/Local/Programs/Python/Python310/python.exe -m pip install ipykernel -U --user --force-reinstall'"
     ]
    }
   ],
   "source": [
    "#동시발생행렬\n",
    "\n",
    "#짝짓기\n",
    "input=[[0,1,1],[1,1,2],[0,1,0]]\n",
    "lst=[]\n",
    "stack=''\n",
    "\n",
    "for i in input:\n",
    "  stack=''\n",
    "  for j in i:\n",
    "    stack+=str(j)\n",
    "    if len(stack)==2:\n",
    "      lst.append([stack])\n",
    "      stack=stack[1:]\n",
    "      \n",
    "print(lst)\n",
    "\n"
   ]
  },
  {
   "cell_type": "code",
   "execution_count": null,
   "metadata": {},
   "outputs": [],
   "source": [
    "#중복되는 수 카운트\n",
    "import numpy as np\n",
    "lst=np.array(lst).flatten().tolist()\n",
    "\n",
    "cnt=dict()\n",
    "for i in lst:\n",
    "  try : cnt[i]+=1\n",
    "  except: cnt[i]=1\n",
    "print(cnt)\n",
    "\n"
   ]
  },
  {
   "cell_type": "code",
   "execution_count": null,
   "metadata": {},
   "outputs": [],
   "source": [
    "#좌표에 맞게 출력\n",
    "mat= [[0,0,0],[0,0,0],[0,0,0]]\n",
    "values = list(cnt.values())\n",
    "\n",
    "for i,m in enumerate(cnt.keys()):  \n",
    "  # print(int(m[0]),int(m[1]))\n",
    "  # print(values[i])\n",
    "  mat[int(m[0])][int(m[1])]=values[i]\n",
    "  \n",
    "mat"
   ]
  }
 ],
 "metadata": {
  "kernelspec": {
   "display_name": "Python 3.10.4 64-bit",
   "language": "python",
   "name": "python3"
  },
  "language_info": {
   "name": "python",
   "version": "3.10.4"
  },
  "orig_nbformat": 4,
  "vscode": {
   "interpreter": {
    "hash": "a85f39b96c1ed58f7e4d01c16a565fc8fe52283d2e03fe0a10f04874c62e78f7"
   }
  }
 },
 "nbformat": 4,
 "nbformat_minor": 2
}
