{
 "cells": [
  {
   "cell_type": "code",
   "execution_count": 7,
   "id": "1f6fdf72-b47f-44fe-980e-fcdd5e831221",
   "metadata": {},
   "outputs": [
    {
     "name": "stdout",
     "output_type": "stream",
     "text": [
      "26\n"
     ]
    }
   ],
   "source": [
    "a=[1,2,5,4,3]\n",
    "b=[5,5,6,6,5]\n",
    "\n",
    "a.sort()\n",
    "b.sort(reverse=True)\n",
    "for i in range(3):\n",
    "    a[i]=b[i]\n",
    "print(sum(a))"
   ]
  },
  {
   "cell_type": "code",
   "execution_count": null,
   "id": "04a9d8b6-be7e-426b-b54f-4a57cb9db46b",
   "metadata": {},
   "outputs": [],
   "source": [
    "n,m=4,6\n",
    "lst=[19,15,10,17]\n",
    "for j in range(20):\n",
    "    res=0\n",
    "    for i in lst:\n",
    "        print(i)\n",
    "        res=res+i-j\n",
    "        print(res)\n",
    "    if res==6:\n",
    "        print(j)"
   ]
  },
  {
   "cell_type": "code",
   "execution_count": 15,
   "id": "79a4b311-ebff-40c7-bc95-7240b6c1ca1c",
   "metadata": {},
   "outputs": [
    {
     "name": "stdout",
     "output_type": "stream",
     "text": [
      "15\n"
     ]
    }
   ],
   "source": [
    "n,m=4,6\n",
    "lst=[19,15,10,17]\n",
    "\n",
    "start=0\n",
    "end=max(lst)\n",
    "\n",
    "result=0\n",
    "while start<=end:\n",
    "    total=0\n",
    "    mid=(start+end)//2\n",
    "    for x in lst:\n",
    "        if x > mid:\n",
    "            total+=x-mid\n",
    "    if total <m:\n",
    "        end=mid-1\n",
    "    else:\n",
    "        result=mid\n",
    "        start=mid+1\n",
    "print(result)\n"
   ]
  }
 ],
 "metadata": {
  "kernelspec": {
   "display_name": "Python 3.9 (XPython)",
   "language": "python",
   "name": "xpython"
  },
  "language_info": {
   "file_extension": ".py",
   "mimetype": "text/x-python",
   "name": "python",
   "version": "3.9.7"
  }
 },
 "nbformat": 4,
 "nbformat_minor": 5
}
