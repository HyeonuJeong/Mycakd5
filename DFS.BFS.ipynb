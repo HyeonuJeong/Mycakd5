{
 "cells": [
  {
   "cell_type": "code",
   "execution_count": null,
   "id": "67feb78a-8699-4ed1-905c-2ac4ab5aeced",
   "metadata": {},
   "outputs": [],
   "source": [
    "#2진수구하기\n",
    "def DFS(x):\n",
    "    if x==0:\n",
    "        return\n",
    "    else:\n",
    "        DFS(x//2)\n",
    "        print(x%2, end='')\n",
    "a=int(input())\n",
    "DFS(a)"
   ]
  },
  {
   "cell_type": "code",
   "execution_count": null,
   "id": "a2e77c35-485f-45e6-b403-e923ba1fb34e",
   "metadata": {},
   "outputs": [],
   "source": [
    "%%time\n",
    "def tc(a,cnt):  \n",
    "    if len(a)==1:\n",
    "        print(cnt)\n",
    "        if int(a)%3==0:\n",
    "            print('YES')\n",
    "        else:\n",
    "            print('NO')\n",
    "    else:\n",
    "        cnt+=1\n",
    "        a=str(sum(list(map(int,list(a)))))\n",
    "        tc(a,cnt)\n",
    "    \n",
    "c=0\n",
    "n=input()\n",
    "\n",
    "tc(n,c)\n",
    "\n",
    "\n",
    "    \n"
   ]
  },
  {
   "cell_type": "code",
   "execution_count": null,
   "id": "3bd16d10-0dbb-4eff-a15c-0b20650b571e",
   "metadata": {},
   "outputs": [],
   "source": [
    "%%time\n",
    "from itertools import permutations\n",
    "n=int(input())\n",
    "k=int(input())\n",
    "num=[]\n",
    "for _ in range(n):\n",
    "    num.append(input())\n",
    "\n",
    "result=set()\n",
    "for per in permutations(num,k):\n",
    "    # result.add(''.join(map(str,per)))\n",
    "    result.add(''.join(list(map(str,per))))\n",
    "\n",
    "\n",
    "print(len(result))\n"
   ]
  },
  {
   "cell_type": "code",
   "execution_count": null,
   "id": "bb684b15-b250-4b84-868f-eb0eb2dbc3f5",
   "metadata": {},
   "outputs": [],
   "source": [
    "def rec(i):\n",
    "    if i == 100:\n",
    "        return\n",
    "    print(i)\n",
    "    rec(i+1)\n",
    "    print(i)\n",
    "rec(1)"
   ]
  },
  {
   "cell_type": "code",
   "execution_count": null,
   "id": "fcd3bf37-eaf5-4af2-a37e-1806a17c7677",
   "metadata": {},
   "outputs": [],
   "source": [
    "from collections import deque\n",
    "def bfs(x,y):\n",
    "    if x<=-1 or x>=n or y<=-1 or y>=m:\n",
    "        return False\n",
    "    if graph[x][y]==0:\n",
    "        graph[x][y]=1\n",
    "        dfs(x-1,y)\n",
    "        dfs(x,y-1)\n",
    "        dfs(x+1,y)\n",
    "        dfs(x,y+1)\n",
    "        return True\n",
    "    return False\n",
    "n,m=4,5\n",
    "graph=[]\n",
    "for _ in range(n):\n",
    "    graph.append(list(map(int,input())))\n",
    "result=0\n",
    "for i in range(n):\n",
    "    for j in range(m):\n",
    "        if dfs(i,j)==True:\n",
    "            result+=1\n",
    "print(result)\n"
   ]
  },
  {
   "cell_type": "code",
   "execution_count": null,
   "id": "83ade663-a809-4145-b87d-2821f430139e",
   "metadata": {},
   "outputs": [],
   "source": [
    "n = int(input()) \n",
    "def recur(i, n): \n",
    "    print(\"____\"*i + '\"재귀함수가 뭔가요?\"') \n",
    "    if i == n: \n",
    "        print(\"____\"*i + '\"재귀함수는 자기 자신을 호출하는 함수라네\"')\n",
    "    else: \n",
    "        print(\"____\"*i + '\"잘 들어보게. 옛날옛날 한 산 꼭대기에 이세상 모든 지식을 통달한 선인이 있었어.') \n",
    "        print(\"____\"*i + \"마을 사람들은 모두 그 선인에게 수많은 질문을 했고, 모두 지혜롭게 대답해 주었지.\") \n",
    "        print(\"____\"*i + '그의 답은 대부분 옳았다고 하네. 그런데 어느 날, 그 선인에게 한 선비가 찾아와서 물었어.\"') \n",
    "        recur(i+1, n) \n",
    "    print(\"____\"*i + \"라고 답변하였지.\") \n",
    "print(\"어느 한 컴퓨터공학과 학생이 유명한 교수님을 찾아가 물었다.\") \n",
    "recur(0, n)\n"
   ]
  },
  {
   "cell_type": "code",
   "execution_count": 12,
   "id": "cd705b56-258c-4004-936d-4b7e1c6bd0d5",
   "metadata": {},
   "outputs": [
    {
     "name": "stdout",
     "output_type": "stream",
     "text": [
      "1 2 3 8 7 4 5 6 "
     ]
    },
    {
     "data": {
      "text/plain": [
       "collections.deque"
      ]
     },
     "execution_count": 12,
     "metadata": {},
     "output_type": "execute_result"
    }
   ],
   "source": [
    "from collections import deque\n",
    "\n",
    "def bfs(graph,start,visited):\n",
    "    queue=deque([start])\n",
    "    visited[start]=True\n",
    "    while queue:\n",
    "        v=queue.popleft()\n",
    "        print(v,end=' ')\n",
    "        for i in graph[v]:\n",
    "            if not visited[i]:\n",
    "                queue.append(i)\n",
    "                visited[i]=True\n",
    "\n",
    "graph=[\n",
    "    [],\n",
    "    [2,3,8],\n",
    "    [1,7],\n",
    "    [1,4,5],\n",
    "    [3,5],\n",
    "    [3,4],\n",
    "    [7],\n",
    "    [2,6,8],\n",
    "    [1,7]\n",
    "]\n",
    "visited=[False]*9\n",
    "\n",
    "bfs(graph,1,visited)\n",
    "\n",
    "type(deque())"
   ]
  },
  {
   "cell_type": "code",
   "execution_count": 9,
   "id": "a4ab5261-d93d-401d-8292-960570fa2450",
   "metadata": {},
   "outputs": [
    {
     "name": "stdout",
     "output_type": "stream",
     "text": [
      "1 2 7 6 8 3 4 5 "
     ]
    }
   ],
   "source": [
    "from collections import deque\n",
    "def dfs(graph,v,visited):\n",
    "    visited[v]=True\n",
    "    print(v,end=' ')\n",
    "    for i in graph[v]:\n",
    "        if not visited[i]:\n",
    "            dfs(graph,i,visited)\n",
    "graph=[\n",
    "    [],\n",
    "    [2,3,8],\n",
    "    [1,7],\n",
    "    [1,4,5],\n",
    "    [3,5],\n",
    "    [3,4],\n",
    "    [7],\n",
    "    [2,6,8],\n",
    "    [1,7]\n",
    "]\n",
    "visited=[False]*9\n",
    "\n",
    "dfs(graph,1,visited)\n"
   ]
  },
  {
   "cell_type": "code",
   "execution_count": null,
   "id": "9b506416-d22e-49f7-ba31-bc5fb888d61d",
   "metadata": {},
   "outputs": [],
   "source": [
    "from collections import deque\n",
    "def bfs(x,y):\n",
    "    if x<=-1 or x>=n or y<=-1 or y>=m:\n",
    "        return False\n",
    "    if graph[x][y]==0:\n",
    "        graph[x][y]=1\n",
    "        dfs(x-1,y)\n",
    "        dfs(x,y-1)\n",
    "        dfs(x+1,y)\n",
    "        dfs(x,y+1)\n",
    "        return True\n",
    "    return False\n",
    "n,m=5,6\n",
    "graph=[]\n",
    "for _ in range(n):\n",
    "    graph.append(list(map(int,input())))\n",
    "    \n",
    "result=0\n",
    "for i in range(n):\n",
    "    for j in range(m):\n",
    "        if dfs(i,j)==True:\n",
    "            result+=1\n",
    "print(result)\n"
   ]
  },
  {
   "cell_type": "code",
   "execution_count": null,
   "id": "48831c58-04a0-474d-9a63-e524f60152c4",
   "metadata": {},
   "outputs": [],
   "source": []
  }
 ],
 "metadata": {
  "kernelspec": {
   "display_name": "Python 3.9 (XPython)",
   "language": "python",
   "name": "xpython"
  },
  "language_info": {
   "file_extension": ".py",
   "mimetype": "text/x-python",
   "name": "python",
   "version": "3.9.7"
  }
 },
 "nbformat": 4,
 "nbformat_minor": 5
}
