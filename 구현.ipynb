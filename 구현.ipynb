{
 "cells": [
  {
   "cell_type": "code",
   "execution_count": null,
   "id": "b9bc275d-85ae-41a1-863f-6d230cc6804e",
   "metadata": {},
   "outputs": [],
   "source": [
    "#상하좌우\n",
    "n=5\n",
    "x,y=1,1\n",
    "lst=['R','R','R','U','D','D']\n",
    "dx=[0,0,-1,1]\n",
    "dy=[-1,1,0,0]\n",
    "move=['L','R','U','D']\n",
    "\n",
    "for plan in lst:\n",
    "    for i in range(len(move)):\n",
    "        if plan == move[i]:\n",
    "            nx=x+dx[i]\n",
    "            ny=y+dy[i]\n",
    "    if nx<1 or ny<1 or nx>n or ny>n:\n",
    "        continue\n",
    "    x,y=nx,ny\n",
    "print(x,y)\n"
   ]
  },
  {
   "cell_type": "code",
   "execution_count": null,
   "id": "dd0df7b0-4efe-4178-8ca6-e60073ca3948",
   "metadata": {
    "tags": []
   },
   "outputs": [],
   "source": [
    "#시간\n",
    "\n",
    "h=5\n",
    "cnt=0\n",
    "for i in range(h+1):\n",
    "    for j in range(60):\n",
    "        for k in range(60):\n",
    "            if '3' in str(i)+str(j)+str(k):\n",
    "                cnt+=1\n",
    "                \n",
    "print(cnt)\n",
    "                \n"
   ]
  },
  {
   "cell_type": "code",
   "execution_count": null,
   "id": "fed01d16-4510-4bc2-b567-2dbe1317ef2d",
   "metadata": {
    "tags": []
   },
   "outputs": [],
   "source": [
    "#체스 나이트\n",
    "m='g5'\n",
    "pos=[[-2,-1],[-1,-2],[1,-2],[-1,2],[1,2],[-2,1],[2,1],[2,-1]]\n",
    "x=(ord(m[0])+1)-ord('a')\n",
    "y=int(m[1])\n",
    "res=0\n",
    "for i in pos:\n",
    "    mx=x+i[0]\n",
    "    my=y+i[1]\n",
    "    if mx>=1 and my>=1 and mx<=8 and my<=8:\n",
    "           res+=1\n",
    "print(res)"
   ]
  },
  {
   "cell_type": "code",
   "execution_count": null,
   "id": "2e750d9c-e712-4826-8323-73916886d107",
   "metadata": {},
   "outputs": [],
   "source": [
    "a=4   #배열 길이 입력\n",
    "x=0\n",
    "y=0\n",
    "e=0\n",
    "fm=0\n",
    "\n",
    "size=[[0 for i in range(a)]for i in range(a)]\n",
    "mov=[[1,0],[0,1],[-1,0],[0,-1]]\n",
    "\n",
    "# if cnt%a-1==0:\n",
    "#         print(\"fm진입\")\n",
    "#         fm=mov[cnt%4]\n",
    "\n",
    "for i in range(a*a):\n",
    "    size[y][x]=i\n",
    "    if x+mov[fm][0] in [e-1-(1 if d==3 else 0),a-e] or y+mov[fm][1] in [e-1,a-e]:\n",
    "        \n",
    "    print(x,y,i)\n",
    "    x=x+fm[0]\n",
    "    y=y+fm[1]\n",
    "    \n",
    "\n",
    "    print(size)\n",
    "    \n",
    "\n",
    "\n",
    "\n"
   ]
  },
  {
   "cell_type": "code",
   "execution_count": 38,
   "id": "ea2a0ab5-900d-43e8-803c-64ba3148a793",
   "metadata": {},
   "outputs": [
    {
     "name": "stdout",
     "output_type": "stream",
     "text": [
      "[-1, 5]\n",
      "1\n",
      "  0  1  2  3  4\n",
      " 15 16 17 18  5\n",
      " 14 23 24 19  6\n",
      " 13 22 21 20  7\n",
      " 12 11 10  9  8\n"
     ]
    }
   ],
   "source": [
    "w, h = 5,5\n",
    "t = eval(repr([[0]*h]*w))\n",
    "ds = [[1,0],[0,1],[-1,0],[0,-1]]\n",
    "e=x=y=d=0\n",
    "print([e-1-(1 if d==3 else 0),w-e])\n",
    "print(x+ds[d][0])\n",
    "for i in range(w*h):\n",
    "    t[x][y] = i\n",
    "    if x+ds[d][0] in [e-1-(1 if d==3 else 0),w-e] or y+ds[d][1] in [e-1,h-e]:\n",
    "        d = (d+1)%4\n",
    "        e += d//3\n",
    "    x, y = map(sum,zip(ds[d],[x,y]))\n",
    "for i in range(w*h):\n",
    "    print((\"%%%dd\" % (len(str(w*h-1))+1)) % t[i%w][i//w], end=('\\n' if i%w==w-1 else ''))"
   ]
  }
 ],
 "metadata": {
  "kernelspec": {
   "display_name": "Python 3.9 (XPython)",
   "language": "python",
   "name": "xpython"
  },
  "language_info": {
   "file_extension": ".py",
   "mimetype": "text/x-python",
   "name": "python",
   "version": "3.9.7"
  }
 },
 "nbformat": 4,
 "nbformat_minor": 5
}
