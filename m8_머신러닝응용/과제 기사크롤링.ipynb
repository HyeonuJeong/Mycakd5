{
 "cells": [
  {
   "cell_type": "markdown",
   "id": "668af869-f322-4fb1-bb43-4d22562360bd",
   "metadata": {},
   "source": [
    "### 과제 네이버뉴스 4가지 카테고리에서 기사를 크롤링\n",
    "- 뉴스기사를 카테고리별로 저장 (파일 or db)\n",
    "- 텍스트 전처리 및 피처 벡터화\n",
    "- 모델링 및 평가 (성능개선 포함)"
   ]
  }
 ],
 "metadata": {
  "kernelspec": {
   "display_name": "Python 3 (ipykernel)",
   "language": "python",
   "name": "python3"
  },
  "language_info": {
   "codemirror_mode": {
    "name": "ipython",
    "version": 3
   },
   "file_extension": ".py",
   "mimetype": "text/x-python",
   "name": "python",
   "nbconvert_exporter": "python",
   "pygments_lexer": "ipython3",
   "version": "3.8.12"
  }
 },
 "nbformat": 4,
 "nbformat_minor": 5
}
