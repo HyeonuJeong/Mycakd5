{
 "cells": [
  {
   "cell_type": "markdown",
   "id": "7f84b6d0-ea0a-4820-9478-9e4c483b51d5",
   "metadata": {
    "tags": []
   },
   "source": [
    "<img src='st1.jpg'>\n",
    "<img src='st2.jpg'>\n",
    "<img src='st3.jpg'>\n",
    "<img src='st4.jpg'>"
   ]
  },
  {
   "cell_type": "code",
   "execution_count": 104,
   "id": "37f3f94e-7ead-4c96-b207-17f82398a29e",
   "metadata": {},
   "outputs": [
    {
     "data": {
      "text/html": [
       "<div>\n",
       "<style scoped>\n",
       "    .dataframe tbody tr th:only-of-type {\n",
       "        vertical-align: middle;\n",
       "    }\n",
       "\n",
       "    .dataframe tbody tr th {\n",
       "        vertical-align: top;\n",
       "    }\n",
       "\n",
       "    .dataframe thead th {\n",
       "        text-align: right;\n",
       "    }\n",
       "</style>\n",
       "<table border=\"1\" class=\"dataframe\">\n",
       "  <thead>\n",
       "    <tr style=\"text-align: right;\">\n",
       "      <th></th>\n",
       "      <th>score</th>\n",
       "    </tr>\n",
       "  </thead>\n",
       "  <tbody>\n",
       "    <tr>\n",
       "      <th>0</th>\n",
       "      <td>76</td>\n",
       "    </tr>\n",
       "    <tr>\n",
       "      <th>1</th>\n",
       "      <td>55</td>\n",
       "    </tr>\n",
       "    <tr>\n",
       "      <th>2</th>\n",
       "      <td>80</td>\n",
       "    </tr>\n",
       "    <tr>\n",
       "      <th>3</th>\n",
       "      <td>80</td>\n",
       "    </tr>\n",
       "    <tr>\n",
       "      <th>4</th>\n",
       "      <td>74</td>\n",
       "    </tr>\n",
       "    <tr>\n",
       "      <th>...</th>\n",
       "      <td>...</td>\n",
       "    </tr>\n",
       "    <tr>\n",
       "      <th>395</th>\n",
       "      <td>77</td>\n",
       "    </tr>\n",
       "    <tr>\n",
       "      <th>396</th>\n",
       "      <td>60</td>\n",
       "    </tr>\n",
       "    <tr>\n",
       "      <th>397</th>\n",
       "      <td>83</td>\n",
       "    </tr>\n",
       "    <tr>\n",
       "      <th>398</th>\n",
       "      <td>80</td>\n",
       "    </tr>\n",
       "    <tr>\n",
       "      <th>399</th>\n",
       "      <td>85</td>\n",
       "    </tr>\n",
       "  </tbody>\n",
       "</table>\n",
       "<p>400 rows × 1 columns</p>\n",
       "</div>"
      ],
      "text/plain": [
       "     score\n",
       "0       76\n",
       "1       55\n",
       "2       80\n",
       "3       80\n",
       "4       74\n",
       "..     ...\n",
       "395     77\n",
       "396     60\n",
       "397     83\n",
       "398     80\n",
       "399     85\n",
       "\n",
       "[400 rows x 1 columns]"
      ]
     },
     "execution_count": 104,
     "metadata": {},
     "output_type": "execute_result"
    }
   ],
   "source": [
    "import numpy as np\n",
    "import pandas as pd\n",
    "import matplotlib.pyplot as plt\n",
    "df=pd.read_csv('data/ch4_scores400.csv')\n",
    "\n",
    "df.shape\n",
    "\n",
    "scores=np.array(df['score'])\n"
   ]
  },
  {
   "cell_type": "code",
   "execution_count": 199,
   "id": "16cbbf62-58be-440e-995f-5f8e02a762a2",
   "metadata": {},
   "outputs": [
    {
     "data": {
      "text/plain": [
       "array([3, 1, 3])"
      ]
     },
     "execution_count": 199,
     "metadata": {},
     "output_type": "execute_result"
    }
   ],
   "source": [
    "#복원추출\n",
    "np.random.choice([1,2,3],3)"
   ]
  },
  {
   "cell_type": "code",
   "execution_count": 219,
   "id": "35d32d2f-a90f-4f84-8a30-2ff1155b30ab",
   "metadata": {},
   "outputs": [
    {
     "data": {
      "text/plain": [
       "array([3, 2, 1])"
      ]
     },
     "execution_count": 219,
     "metadata": {},
     "output_type": "execute_result"
    }
   ],
   "source": [
    "#비복원추출\n",
    "np.random.choice([1,2,3],3,replace=False)"
   ]
  },
  {
   "cell_type": "code",
   "execution_count": 224,
   "id": "bcbbdd92-90e9-4256-88d9-29f08a5af269",
   "metadata": {},
   "outputs": [
    {
     "data": {
      "text/plain": [
       "70.4"
      ]
     },
     "execution_count": 224,
     "metadata": {},
     "output_type": "execute_result"
    }
   ],
   "source": [
    "np.random.seed(0)\n",
    "sample=np.random.choice(scores,20)\n",
    "sample.mean()"
   ]
  },
  {
   "cell_type": "code",
   "execution_count": 222,
   "id": "bfc1b2c3-ec57-4ae9-a34e-f1ab9f0bf070",
   "metadata": {},
   "outputs": [
    {
     "data": {
      "text/plain": [
       "69.53"
      ]
     },
     "execution_count": 222,
     "metadata": {},
     "output_type": "execute_result"
    }
   ],
   "source": [
    "scores.mean()"
   ]
  },
  {
   "cell_type": "code",
   "execution_count": 270,
   "id": "ff41eae7-12fe-415d-b74a-34d8cdbe8e17",
   "metadata": {},
   "outputs": [
    {
     "name": "stdout",
     "output_type": "stream",
     "text": [
      "[71 54 67 78 54 82 58 31 42 68 81 64 57 86 86 77 69 58 82 45]\n",
      "1번째 무작위 추출로 얻은 \n",
      "표본평균: 65.5\n",
      "[64 61 61 72 61 81 63 43 64 79 70 66 57 76 76 58 97 73 54 93]\n",
      "2번째 무작위 추출로 얻은 \n",
      "표본평균: 68.45\n",
      "[72 58 56 63 80 79 76 82 73 57 54 74 99 76 80 62 58 79 45 87]\n",
      "3번째 무작위 추출로 얻은 \n",
      "표본평균: 70.5\n",
      "[74 67 75 78 83 76 54 64 83 67 91 64 78 83 86 91 96 81 70 58]\n",
      "4번째 무작위 추출로 얻은 \n",
      "표본평균: 75.95\n",
      "[55 90 79 43 82 56 94 54 79 86 52 62 85 78 77 64 75 70 78 56]\n",
      "5번째 무작위 추출로 얻은 \n",
      "표본평균: 70.75\n"
     ]
    }
   ],
   "source": [
    "for i in range(5):\n",
    "    sample=np.random.choice(scores,20)\n",
    "    print(sample)\n",
    "    print(f'{i+1}번째 무작위 추출로 얻은 표본평균:',sample.mean())"
   ]
  },
  {
   "cell_type": "code",
   "execution_count": 315,
   "id": "ea2c7974-6b76-4e9f-bd74-70f69b24cee1",
   "metadata": {},
   "outputs": [],
   "source": [
    "#확률분포(균형이 안맞는 주사위)\n",
    "dice=[1,2,3,4,5,6]\n",
    "prob=[1/21,2/21,3/21,4/21,5/21,6/21]"
   ]
  },
  {
   "cell_type": "code",
   "execution_count": 316,
   "id": "0fc519ae-7366-4b91-abd6-ed5b0d78530f",
   "metadata": {},
   "outputs": [
    {
     "data": {
      "text/plain": [
       "4"
      ]
     },
     "execution_count": 316,
     "metadata": {},
     "output_type": "execute_result"
    }
   ],
   "source": [
    "np.random.choice(dice,p=prob)"
   ]
  },
  {
   "cell_type": "code",
   "execution_count": 317,
   "id": "6508c358-6a18-4b35-b09c-1814ab976708",
   "metadata": {},
   "outputs": [
    {
     "data": {
      "text/plain": [
       "array([4, 6, 1, 4, 3, 2, 3, 4, 4, 5, 4, 5, 3, 6, 1, 5, 4, 5, 2, 3, 6, 6,\n",
       "       4, 5, 6, 6, 2, 1, 3, 6, 2, 4, 6, 5, 5, 4, 5, 6, 1, 6, 6, 6, 3, 6,\n",
       "       2, 4, 6, 4, 4, 2, 1, 5, 3, 3, 5, 2, 5, 3, 5, 5, 2, 4, 5, 4, 2, 5,\n",
       "       5, 5, 6, 5, 6, 2, 2, 6, 4, 3, 6, 4, 6, 6, 6, 5, 6, 4, 3, 6, 4, 6,\n",
       "       5, 5, 2, 6, 4, 5, 4, 3, 6, 5, 1, 5])"
      ]
     },
     "execution_count": 317,
     "metadata": {},
     "output_type": "execute_result"
    }
   ],
   "source": [
    "np.random.seed(1)\n",
    "num_trial=100\n",
    "sample=np.random.choice(dice,num_trial,p=prob)\n",
    "sample"
   ]
  },
  {
   "cell_type": "code",
   "execution_count": 318,
   "id": "99b76d4b-5f2b-450a-b235-a7572217a52f",
   "metadata": {},
   "outputs": [
    {
     "name": "stdout",
     "output_type": "stream",
     "text": [
      "[ 6 12 12 20 24 26]\n"
     ]
    },
    {
     "data": {
      "text/html": [
       "<div>\n",
       "<style scoped>\n",
       "    .dataframe tbody tr th:only-of-type {\n",
       "        vertical-align: middle;\n",
       "    }\n",
       "\n",
       "    .dataframe tbody tr th {\n",
       "        vertical-align: top;\n",
       "    }\n",
       "\n",
       "    .dataframe thead th {\n",
       "        text-align: right;\n",
       "    }\n",
       "</style>\n",
       "<table border=\"1\" class=\"dataframe\">\n",
       "  <thead>\n",
       "    <tr style=\"text-align: right;\">\n",
       "      <th></th>\n",
       "      <th>frequency</th>\n",
       "      <th>relative frequency</th>\n",
       "    </tr>\n",
       "    <tr>\n",
       "      <th>dice</th>\n",
       "      <th></th>\n",
       "      <th></th>\n",
       "    </tr>\n",
       "  </thead>\n",
       "  <tbody>\n",
       "    <tr>\n",
       "      <th>1</th>\n",
       "      <td>6</td>\n",
       "      <td>0.06</td>\n",
       "    </tr>\n",
       "    <tr>\n",
       "      <th>2</th>\n",
       "      <td>12</td>\n",
       "      <td>0.12</td>\n",
       "    </tr>\n",
       "    <tr>\n",
       "      <th>3</th>\n",
       "      <td>12</td>\n",
       "      <td>0.12</td>\n",
       "    </tr>\n",
       "    <tr>\n",
       "      <th>4</th>\n",
       "      <td>20</td>\n",
       "      <td>0.20</td>\n",
       "    </tr>\n",
       "    <tr>\n",
       "      <th>5</th>\n",
       "      <td>24</td>\n",
       "      <td>0.24</td>\n",
       "    </tr>\n",
       "    <tr>\n",
       "      <th>6</th>\n",
       "      <td>26</td>\n",
       "      <td>0.26</td>\n",
       "    </tr>\n",
       "  </tbody>\n",
       "</table>\n",
       "</div>"
      ],
      "text/plain": [
       "      frequency  relative frequency\n",
       "dice                               \n",
       "1             6                0.06\n",
       "2            12                0.12\n",
       "3            12                0.12\n",
       "4            20                0.20\n",
       "5            24                0.24\n",
       "6            26                0.26"
      ]
     },
     "execution_count": 318,
     "metadata": {},
     "output_type": "execute_result"
    }
   ],
   "source": [
    "freq,_=np.histogram(sample,bins=6,range=(1,7))\n",
    "print(freq)\n",
    "rdf=pd.DataFrame({'frequency':freq,'relative frequency':freq/num_trial},\n",
    "                 index=pd.Index(np.arange(1,7),name='dice'))\n",
    "rdf"
   ]
  },
  {
   "cell_type": "code",
   "execution_count": 326,
   "id": "5bed0fe1-999b-45c0-9d9f-dc3145511c3b",
   "metadata": {},
   "outputs": [
    {
     "data": {
      "image/png": "[encoded data removed]",
      "text/plain": [
       "<Figure size 576x432 with 1 Axes>"
      ]
     },
     "metadata": {
      "needs_background": "light"
     },
     "output_type": "display_data"
    }
   ],
   "source": [
    "import seaborn as sns\n",
    "import matplotlib.pyplot as plt\n",
    "\n",
    "num_trial=10000\n",
    "sample=np.random.choice(dice,size=num_trial,p=prob)\n",
    "fig=plt.figure(figsize=(8,6))\n",
    "ax=fig.add_subplot(111)\n",
    "ax.hist(sample,bins=6,range=(1,7),density=True,rwidth=0.8)\n",
    "ax.hlines(prob,np.arange(1,7),np.arange(2,8),colors='gray')\n",
    "plt.show()\n"
   ]
  },
  {
   "cell_type": "code",
   "execution_count": 339,
   "id": "196b2c57-3946-4090-bad9-1f4178e4c45a",
   "metadata": {
    "tags": []
   },
   "outputs": [
    {
     "data": {
      "text/plain": [
       "array([ 76,  55,  80,  80,  74,  61,  81,  76,  23,  80,  41,  80,  68,\n",
       "        88,  69,  57,  68,  86,  70,  68,  81,  73,  70,  90,  93,  79,\n",
       "        66,  92,  88,  81,  52,  72,  59,  68,  74,  72,  63,  89,  45,\n",
       "        81,  42,  76,  57,  83,  71,  74,  55,  60,  73,  79, 100,  73,\n",
       "        85,  47,  50,  65,  52,  92,  64,  91,  92,  71,  78,  69,  78,\n",
       "        77,  68,  78,  96,  81,  75,  72,  55,  55,  75,  49,  59,  89,\n",
       "        99,  45,  94,  67,  70,  68,  86,  46,  77,  56,  79,  93,  70,\n",
       "        76,  76,  58,  93,  96,  81,  71,  63,  61,  96,  91,  69,  46,\n",
       "        28,  54,  68,  91,  60,  78,  90,  72,  68,  50,  52,  76,  67,\n",
       "        72,  69,  80,  58,  65,  98,  58,  66,  61,  77,  85,  63,  64,\n",
       "        66,  78,  59,  64,  34,  49,  68,  83,  74,  54,  49,  73,  45,\n",
       "        86,  71,  46,  56,  59,  58,  48,  57,  60,  59,  87,  72,  55,\n",
       "        65,  57,  65,  83,  74, 100,  76,  56,  82,  86,  86,  54,  68,\n",
       "        87,  45,  63,  49,  56,  55,  89,  66,  57,  54,  72,  70,  90,\n",
       "        78,  49,  61,  86,  61,  96,  54,  79,  57,  62,  86,  68,  82,\n",
       "        77,  81,  57,  67,  76,  57,  94,  58,  65,  55,  38,  97,  67,\n",
       "        63,  67,  91,  56,  80,  64,  61,  79,  85,  62,  58,  52,  87,\n",
       "        61,  42,  91,  49,  82,  73,  74,  61,  75,  45,  79,  93,  83,\n",
       "        40,  55,  67,  77,  68,  63,  79,  87,  67,  81,  31,  56,  65,\n",
       "        63,  75,  85,  78,  61,  47,  78,  42,  80,  67,  52,  74,  70,\n",
       "        69,  69,  76,  84,  77,  85,  69,  94,  79,  62,  54,  73,  50,\n",
       "        55,  74,  61,  56,  69,  71,  67,  64,  83,  75,  67, 100,  73,\n",
       "        87,  62,  50,  58,  66,  63,  90,  68,  77,  69,  63,  71,  96,\n",
       "        58,  82,  55,  63,  70,  75,  92,  69,  57,  80,  65,  74,  68,\n",
       "        41,  78,  79,  84,  97,  52,  78,  76,  64,  76,  77,  52,  74,\n",
       "        56,  60,  43,  63,  67,  78,  70,  47,  83,  68,  77,  84,  91,\n",
       "        99,  69,  75,  54,  86,  52,  43,  82,  62,  82,  76,  46,  29,\n",
       "        54,  70,  52,  60,  48,  73,  71,  63,  91,  92,  78,  43,  53,\n",
       "        76,  61,  63,  83,  78,  90,  64,  91,  62,  92,  72,  57,  46,\n",
       "        65,  66,  83,  68,  64,  86,  67,  61,  79,  63,  80,  61,  67,\n",
       "        72,  64,  70,  82,  76,  77,  60,  83,  80,  85], dtype=int64)"
      ]
     },
     "execution_count": 339,
     "metadata": {},
     "output_type": "execute_result"
    }
   ],
   "source": [
    "#추측 통계에서의 확률\n",
    "df=pd.read_csv('data/ch4_scores400.csv')\n",
    "scores=np.array(df['score'])\n"
   ]
  },
  {
   "cell_type": "code",
   "execution_count": 353,
   "id": "e9633a6f-daf3-42ae-813e-a2c5a29b0e43",
   "metadata": {},
   "outputs": [
    {
     "data": {
      "image/png": "[encoded data removed]",
      "text/plain": [
       "<Figure size 432x288 with 1 Axes>"
      ]
     },
     "metadata": {},
     "output_type": "display_data"
    }
   ],
   "source": [
    "import seaborn as sns\n",
    "#seaborn 테마 darkgrid, whitegrid,dark,white,ticks\n",
    "sns.set_style('darkgrid')\n",
    "sns.histplot(scores,kde=True)\n",
    "plt.show()"
   ]
  },
  {
   "cell_type": "code",
   "execution_count": 359,
   "id": "2cc2cd4e-2c1b-431e-b31d-daa6e573ce4a",
   "metadata": {},
   "outputs": [
    {
     "data": {
      "text/plain": [
       "(20.0, 120.0, 0.0, 0.5)"
      ]
     },
     "execution_count": 359,
     "metadata": {},
     "output_type": "execute_result"
    },
    {
     "data": {
      "image/png": "[encoded data removed]",
      "text/plain": [
       "<Figure size 720x432 with 1 Axes>"
      ]
     },
     "metadata": {},
     "output_type": "display_data"
    }
   ],
   "source": [
    "plt.figure(figsize=(10,6))\n",
    "plt.hist(scores,bins=100,range=(0,100),density=True)\n",
    "plt.xlabel('score')\n",
    "plt.ylabel('relative freq')\n",
    "plt.axis([20,120,0,0.5])"
   ]
  }
 ],
 "metadata": {
  "kernelspec": {
   "display_name": "Python 3 (ipykernel)",
   "language": "python",
   "name": "python3"
  },
  "language_info": {
   "codemirror_mode": {
    "name": "ipython",
    "version": 3
   },
   "file_extension": ".py",
   "mimetype": "text/x-python",
   "name": "python",
   "nbconvert_exporter": "python",
   "pygments_lexer": "ipython3",
   "version": "3.9.7"
  }
 },
 "nbformat": 4,
 "nbformat_minor": 5
}
