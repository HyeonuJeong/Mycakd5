{
 "cells": [
  {
   "cell_type": "markdown",
   "id": "4b703245",
   "metadata": {},
   "source": [
    "## 회귀\n",
    "- 소득이 증가하면 소비도 증가, 어떤 변수가 다른 변수에 영향을 준다면 두 변수 사이에 선형관계가 있다고 할 수 있음.\n",
    "- 두 변수 사이에 일대일로 대응되는 확률적, 통계적 상관성을 찾는 알고리즘을 Simple Linear Regression이라고 함.\n",
    "- 변수 X, Y에 대한 정보를 가지고 일차 방정식의 계수 a, b를 찾는 과정이 단순회귀분석 알고리즘"
   ]
  },
  {
   "cell_type": "markdown",
   "id": "12d5b4ba",
   "metadata": {},
   "source": [
    "## 회귀 평가 지표\n",
    "- MAE : 실제값과 예측값의 차이를 절대값으로 변환해 평균한 것\n",
    "- MSE : 실제값과 예측값의 차이를 제곱해 평균한 것\n",
    "- RMSE : MSE에 루트를 씌운 것(실제 오류 평균보다 커지는 것을 보정)\n",
    "- R square : 분산 기반으로 예측 성능을 평가. 실제값의 분산 대비 예측값의 분산 비율을 지표로 함\n",
    " - 1에 가까울 수록 예측 정확도가 높음. 예측값 Variance / 실제값 Variance"
   ]
  },
  {
   "cell_type": "code",
   "execution_count": 3,
   "id": "c80c88c1",
   "metadata": {},
   "outputs": [],
   "source": [
    "import pandas as pd\n",
    "import numpy as np\n",
    "import matplotlib.pyplot as plt\n",
    "import seaborn as sns\n",
    "import warnings\n",
    "import openpyxl\n",
    "warnings.filterwarnings('ignore')"
   ]
  },
  {
   "cell_type": "code",
   "execution_count": 4,
   "id": "e3971484",
   "metadata": {},
   "outputs": [
    {
     "data": {
      "text/html": [
       "<div>\n",
       "<style scoped>\n",
       "    .dataframe tbody tr th:only-of-type {\n",
       "        vertical-align: middle;\n",
       "    }\n",
       "\n",
       "    .dataframe tbody tr th {\n",
       "        vertical-align: top;\n",
       "    }\n",
       "\n",
       "    .dataframe thead th {\n",
       "        text-align: right;\n",
       "    }\n",
       "</style>\n",
       "<table border=\"1\" class=\"dataframe\">\n",
       "  <thead>\n",
       "    <tr style=\"text-align: right;\">\n",
       "      <th></th>\n",
       "      <th>mpg</th>\n",
       "      <th>cylinders</th>\n",
       "      <th>horsepower</th>\n",
       "      <th>weight</th>\n",
       "    </tr>\n",
       "  </thead>\n",
       "  <tbody>\n",
       "    <tr>\n",
       "      <th>0</th>\n",
       "      <td>18.0</td>\n",
       "      <td>8</td>\n",
       "      <td>130</td>\n",
       "      <td>3504</td>\n",
       "    </tr>\n",
       "    <tr>\n",
       "      <th>1</th>\n",
       "      <td>15.0</td>\n",
       "      <td>8</td>\n",
       "      <td>165</td>\n",
       "      <td>3693</td>\n",
       "    </tr>\n",
       "    <tr>\n",
       "      <th>2</th>\n",
       "      <td>18.0</td>\n",
       "      <td>8</td>\n",
       "      <td>150</td>\n",
       "      <td>3436</td>\n",
       "    </tr>\n",
       "    <tr>\n",
       "      <th>3</th>\n",
       "      <td>16.0</td>\n",
       "      <td>8</td>\n",
       "      <td>150</td>\n",
       "      <td>3433</td>\n",
       "    </tr>\n",
       "    <tr>\n",
       "      <th>4</th>\n",
       "      <td>17.0</td>\n",
       "      <td>8</td>\n",
       "      <td>140</td>\n",
       "      <td>3449</td>\n",
       "    </tr>\n",
       "    <tr>\n",
       "      <th>...</th>\n",
       "      <td>...</td>\n",
       "      <td>...</td>\n",
       "      <td>...</td>\n",
       "      <td>...</td>\n",
       "    </tr>\n",
       "    <tr>\n",
       "      <th>393</th>\n",
       "      <td>27.0</td>\n",
       "      <td>4</td>\n",
       "      <td>86</td>\n",
       "      <td>2790</td>\n",
       "    </tr>\n",
       "    <tr>\n",
       "      <th>394</th>\n",
       "      <td>44.0</td>\n",
       "      <td>4</td>\n",
       "      <td>52</td>\n",
       "      <td>2130</td>\n",
       "    </tr>\n",
       "    <tr>\n",
       "      <th>395</th>\n",
       "      <td>32.0</td>\n",
       "      <td>4</td>\n",
       "      <td>84</td>\n",
       "      <td>2295</td>\n",
       "    </tr>\n",
       "    <tr>\n",
       "      <th>396</th>\n",
       "      <td>28.0</td>\n",
       "      <td>4</td>\n",
       "      <td>79</td>\n",
       "      <td>2625</td>\n",
       "    </tr>\n",
       "    <tr>\n",
       "      <th>397</th>\n",
       "      <td>31.0</td>\n",
       "      <td>4</td>\n",
       "      <td>82</td>\n",
       "      <td>2720</td>\n",
       "    </tr>\n",
       "  </tbody>\n",
       "</table>\n",
       "<p>398 rows × 4 columns</p>\n",
       "</div>"
      ],
      "text/plain": [
       "      mpg  cylinders horsepower  weight\n",
       "0    18.0          8        130    3504\n",
       "1    15.0          8        165    3693\n",
       "2    18.0          8        150    3436\n",
       "3    16.0          8        150    3433\n",
       "4    17.0          8        140    3449\n",
       "..    ...        ...        ...     ...\n",
       "393  27.0          4         86    2790\n",
       "394  44.0          4         52    2130\n",
       "395  32.0          4         84    2295\n",
       "396  28.0          4         79    2625\n",
       "397  31.0          4         82    2720\n",
       "\n",
       "[398 rows x 4 columns]"
      ]
     },
     "execution_count": 4,
     "metadata": {},
     "output_type": "execute_result"
    }
   ],
   "source": [
    "df = pd.read_excel(\"auto-mpg.xlsx\")\n",
    "ndf = df[['mpg','cylinders','horsepower','weight']]\n",
    "ndf"
   ]
  },
  {
   "cell_type": "code",
   "execution_count": 5,
   "id": "8d52394a",
   "metadata": {},
   "outputs": [
    {
     "data": {
      "text/plain": [
       "array([130, 165, 150, 140, 198, 220, 215, 225, 190, 170, 160, 95, 97, 85,\n",
       "       88, 46, 87, 90, 113, 200, 210, 193, '?', 100, 105, 175, 153, 180,\n",
       "       110, 72, 86, 70, 76, 65, 69, 60, 80, 54, 208, 155, 112, 92, 145,\n",
       "       137, 158, 167, 94, 107, 230, 49, 75, 91, 122, 67, 83, 78, 52, 61,\n",
       "       93, 148, 129, 96, 71, 98, 115, 53, 81, 79, 120, 152, 102, 108, 68,\n",
       "       58, 149, 89, 63, 48, 66, 139, 103, 125, 133, 138, 135, 142, 77, 62,\n",
       "       132, 84, 64, 74, 116, 82], dtype=object)"
      ]
     },
     "execution_count": 5,
     "metadata": {},
     "output_type": "execute_result"
    }
   ],
   "source": [
    "ndf.horsepower.unique()"
   ]
  },
  {
   "cell_type": "code",
   "execution_count": 6,
   "id": "e2134981",
   "metadata": {},
   "outputs": [
    {
     "name": "stdout",
     "output_type": "stream",
     "text": [
      "<class 'pandas.core.frame.DataFrame'>\n",
      "Int64Index: 392 entries, 0 to 397\n",
      "Data columns (total 4 columns):\n",
      " #   Column      Non-Null Count  Dtype  \n",
      "---  ------      --------------  -----  \n",
      " 0   mpg         392 non-null    float64\n",
      " 1   cylinders   392 non-null    int64  \n",
      " 2   horsepower  392 non-null    float64\n",
      " 3   weight      392 non-null    int64  \n",
      "dtypes: float64(2), int64(2)\n",
      "memory usage: 15.3 KB\n"
     ]
    }
   ],
   "source": [
    "ndf.horsepower[ndf.horsepower == '?'] = np.nan # NAN 으로 값 변경\n",
    "ndf.dropna(subset=['horsepower'],axis=0,inplace=True)\n",
    "ndf.horsepower = ndf.horsepower.astype('float') # float로 type 변경\n",
    "ndf.info()"
   ]
  },
  {
   "cell_type": "code",
   "execution_count": 7,
   "id": "ea7f8efa",
   "metadata": {},
   "outputs": [],
   "source": [
    "ndf.to_pickle('auto-mpg.pkl')"
   ]
  },
  {
   "cell_type": "code",
   "execution_count": 36,
   "id": "88c2e0e5",
   "metadata": {},
   "outputs": [
    {
     "data": {
      "text/html": [
       "<div>\n",
       "<style scoped>\n",
       "    .dataframe tbody tr th:only-of-type {\n",
       "        vertical-align: middle;\n",
       "    }\n",
       "\n",
       "    .dataframe tbody tr th {\n",
       "        vertical-align: top;\n",
       "    }\n",
       "\n",
       "    .dataframe thead th {\n",
       "        text-align: right;\n",
       "    }\n",
       "</style>\n",
       "<table border=\"1\" class=\"dataframe\">\n",
       "  <thead>\n",
       "    <tr style=\"text-align: right;\">\n",
       "      <th></th>\n",
       "      <th>weight</th>\n",
       "    </tr>\n",
       "  </thead>\n",
       "  <tbody>\n",
       "    <tr>\n",
       "      <th>105</th>\n",
       "      <td>4654</td>\n",
       "    </tr>\n",
       "    <tr>\n",
       "      <th>226</th>\n",
       "      <td>3425</td>\n",
       "    </tr>\n",
       "    <tr>\n",
       "      <th>276</th>\n",
       "      <td>2795</td>\n",
       "    </tr>\n",
       "    <tr>\n",
       "      <th>336</th>\n",
       "      <td>2905</td>\n",
       "    </tr>\n",
       "    <tr>\n",
       "      <th>184</th>\n",
       "      <td>2572</td>\n",
       "    </tr>\n",
       "    <tr>\n",
       "      <th>...</th>\n",
       "      <td>...</td>\n",
       "    </tr>\n",
       "    <tr>\n",
       "      <th>269</th>\n",
       "      <td>2230</td>\n",
       "    </tr>\n",
       "    <tr>\n",
       "      <th>337</th>\n",
       "      <td>2290</td>\n",
       "    </tr>\n",
       "    <tr>\n",
       "      <th>91</th>\n",
       "      <td>4464</td>\n",
       "    </tr>\n",
       "    <tr>\n",
       "      <th>80</th>\n",
       "      <td>2395</td>\n",
       "    </tr>\n",
       "    <tr>\n",
       "      <th>191</th>\n",
       "      <td>3233</td>\n",
       "    </tr>\n",
       "  </tbody>\n",
       "</table>\n",
       "<p>278 rows × 1 columns</p>\n",
       "</div>"
      ],
      "text/plain": [
       "     weight\n",
       "105    4654\n",
       "226    3425\n",
       "276    2795\n",
       "336    2905\n",
       "184    2572\n",
       "..      ...\n",
       "269    2230\n",
       "337    2290\n",
       "91     4464\n",
       "80     2395\n",
       "191    3233\n",
       "\n",
       "[278 rows x 1 columns]"
      ]
     },
     "execution_count": 36,
     "metadata": {},
     "output_type": "execute_result"
    }
   ],
   "source": [
    "X = ndf[['weight']]\n",
    "y = ndf['mpg']\n",
    "\n",
    "from sklearn.model_selection import train_test_split\n",
    "X_train, X_test, y_train, y_test = train_test_split(X,\n",
    "                                                   y,\n",
    "                                                   test_size = 0.3,\n",
    "                                                   random_state = 11)\n",
    "X_train"
   ]
  },
  {
   "cell_type": "code",
   "execution_count": 9,
   "id": "976e1d28",
   "metadata": {},
   "outputs": [
    {
     "data": {
      "text/plain": [
       "<AxesSubplot:title={'center':'Regplot'}, xlabel='weight', ylabel='mpg'>"
      ]
     },
     "execution_count": 9,
     "metadata": {},
     "output_type": "execute_result"
    },
    {
     "data": {
      "image/png": "[encoded data removed]",
      "text/plain": [
       "<Figure size 720x432 with 1 Axes>"
      ]
     },
     "metadata": {},
     "output_type": "display_data"
    }
   ],
   "source": [
    "sns.set_style('darkgrid')\n",
    "\n",
    "fig,axes = plt.subplots(1,1,figsize=(10,6))\n",
    "plt.title('Regplot', fontsize=30)\n",
    "sns.regplot(ax=axes, x='weight',y='mpg',data=ndf, scatter_kws={'color':'green'})"
   ]
  },
  {
   "cell_type": "code",
   "execution_count": 38,
   "id": "87841b78",
   "metadata": {},
   "outputs": [],
   "source": [
    "from sklearn.linear_model import LinearRegression\n",
    "lr = LinearRegression()\n",
    "lr.fit(X_train,y_train)\n",
    "y_preds = lr.predict(X_test)\n",
    "\n"
   ]
  },
  {
   "cell_type": "code",
   "execution_count": 11,
   "id": "1fed1f62",
   "metadata": {},
   "outputs": [
    {
     "name": "stdout",
     "output_type": "stream",
     "text": [
      " 기울기: [-0.00762163]\n",
      " 절편: 45.97121770475769\n"
     ]
    }
   ],
   "source": [
    "print(f' 기울기: {lr.coef_}')\n",
    "print(f' 절편: {lr.intercept_}')"
   ]
  },
  {
   "cell_type": "raw",
   "id": "2b3101dc-d5c1-4d13-bf9b-0b3407a64859",
   "metadata": {},
   "source": [
    "from sklearn.metrics import mean_squared_error, r2_score\n",
    "\n",
    "mse = mean_squared_error(y_test,y_preds)\n",
    "rmse = np.sqrt(mse)\n",
    "r_square = r2_score(y_test,y_preds)\n",
    "print(f'mse: {mse}, rmse: {rmse}, r_square: {r_square}')"
   ]
  },
  {
   "cell_type": "code",
   "execution_count": 13,
   "id": "2b6045b4",
   "metadata": {},
   "outputs": [
    {
     "data": {
      "text/plain": [
       "<AxesSubplot:xlabel='mpg', ylabel='Density'>"
      ]
     },
     "execution_count": 13,
     "metadata": {},
     "output_type": "execute_result"
    },
    {
     "data": {
      "image/png": "[encoded data removed]",
      "text/plain": [
       "<Figure size 432x288 with 1 Axes>"
      ]
     },
     "metadata": {},
     "output_type": "display_data"
    }
   ],
   "source": [
    "sns.distplot(y,kde=True)"
   ]
  },
  {
   "cell_type": "code",
   "execution_count": 14,
   "id": "1c96790c",
   "metadata": {},
   "outputs": [
    {
     "data": {
      "text/plain": [
       "<AxesSubplot:ylabel='Density'>"
      ]
     },
     "execution_count": 14,
     "metadata": {},
     "output_type": "execute_result"
    },
    {
     "data": {
      "image/png": "[encoded data removed]",
      "text/plain": [
       "<Figure size 432x288 with 1 Axes>"
      ]
     },
     "metadata": {},
     "output_type": "display_data"
    }
   ],
   "source": [
    "y_hat = lr.predict(X)\n",
    "sns.distplot(y_hat,kde=True)"
   ]
  },
  {
   "cell_type": "code",
   "execution_count": 15,
   "id": "b5630853",
   "metadata": {},
   "outputs": [
    {
     "data": {
      "image/png": "[encoded data removed]",
      "text/plain": [
       "<Figure size 720x360 with 1 Axes>"
      ]
     },
     "metadata": {},
     "output_type": "display_data"
    }
   ],
   "source": [
    "plt.figure(figsize=(10,5))\n",
    "ax1 = sns.distplot(y,hist=False,label='y')\n",
    "ax2 = sns.distplot(y_hat,hist=False,label='y_hat')\n",
    "plt.show()\n",
    "plt.close()"
   ]
  },
  {
   "cell_type": "markdown",
   "id": "d9481e68",
   "metadata": {},
   "source": [
    "## 다항 회귀분석\n",
    "- 직선보다 곡선으로 설명하는 것이 적합할 경우 다항 함수를 사용하면 복잡한 곡선 형태의 회귀선을 표현할 수 있음\n",
    "- 2차 함수 이상의 다항 함수를 이용하여 두 변수간의 선형관계를 설명하는 알고리즘\n",
    "- 다항회귀도 선형회귀임. 선형/비선형 회귀를 나누는 기준은 회귀계수가 선형/비선형인지에 따르며 독립변수의 선형/비선형 여부와는 무관"
   ]
  },
  {
   "cell_type": "code",
   "execution_count": 16,
   "id": "e62c5c5c",
   "metadata": {},
   "outputs": [
    {
     "data": {
      "text/html": [
       "<div>\n",
       "<style scoped>\n",
       "    .dataframe tbody tr th:only-of-type {\n",
       "        vertical-align: middle;\n",
       "    }\n",
       "\n",
       "    .dataframe tbody tr th {\n",
       "        vertical-align: top;\n",
       "    }\n",
       "\n",
       "    .dataframe thead th {\n",
       "        text-align: right;\n",
       "    }\n",
       "</style>\n",
       "<table border=\"1\" class=\"dataframe\">\n",
       "  <thead>\n",
       "    <tr style=\"text-align: right;\">\n",
       "      <th></th>\n",
       "      <th>mpg</th>\n",
       "      <th>cylinders</th>\n",
       "      <th>horsepower</th>\n",
       "      <th>weight</th>\n",
       "    </tr>\n",
       "  </thead>\n",
       "  <tbody>\n",
       "    <tr>\n",
       "      <th>0</th>\n",
       "      <td>18.0</td>\n",
       "      <td>8</td>\n",
       "      <td>130</td>\n",
       "      <td>3504</td>\n",
       "    </tr>\n",
       "    <tr>\n",
       "      <th>1</th>\n",
       "      <td>15.0</td>\n",
       "      <td>8</td>\n",
       "      <td>165</td>\n",
       "      <td>3693</td>\n",
       "    </tr>\n",
       "    <tr>\n",
       "      <th>2</th>\n",
       "      <td>18.0</td>\n",
       "      <td>8</td>\n",
       "      <td>150</td>\n",
       "      <td>3436</td>\n",
       "    </tr>\n",
       "    <tr>\n",
       "      <th>3</th>\n",
       "      <td>16.0</td>\n",
       "      <td>8</td>\n",
       "      <td>150</td>\n",
       "      <td>3433</td>\n",
       "    </tr>\n",
       "    <tr>\n",
       "      <th>4</th>\n",
       "      <td>17.0</td>\n",
       "      <td>8</td>\n",
       "      <td>140</td>\n",
       "      <td>3449</td>\n",
       "    </tr>\n",
       "  </tbody>\n",
       "</table>\n",
       "</div>"
      ],
      "text/plain": [
       "    mpg  cylinders horsepower  weight\n",
       "0  18.0          8        130    3504\n",
       "1  15.0          8        165    3693\n",
       "2  18.0          8        150    3436\n",
       "3  16.0          8        150    3433\n",
       "4  17.0          8        140    3449"
      ]
     },
     "execution_count": 16,
     "metadata": {},
     "output_type": "execute_result"
    }
   ],
   "source": [
    "import pandas as pd\n",
    "df = pd.read_excel(\"auto-mpg.xlsx\")\n",
    "ndf = df[['mpg','cylinders','horsepower','weight']]\n",
    "ndf.head()"
   ]
  },
  {
   "cell_type": "code",
   "execution_count": 17,
   "id": "0f5d8997",
   "metadata": {},
   "outputs": [],
   "source": [
    "X = ndf[['weight']]\n",
    "y = ndf['mpg']\n",
    "\n",
    "from sklearn.model_selection import train_test_split\n",
    "X_train, X_test, y_train, y_test = train_test_split(X,\n",
    "                                                   y,\n",
    "                                                   test_size = 0.3,\n",
    "                                                   random_state = 10)"
   ]
  },
  {
   "cell_type": "code",
   "execution_count": 18,
   "id": "242d4dba",
   "metadata": {},
   "outputs": [],
   "source": [
    "from sklearn.linear_model import LinearRegression\n",
    "from sklearn.preprocessing import PolynomialFeatures # 다항식 변환"
   ]
  },
  {
   "cell_type": "code",
   "execution_count": 19,
   "id": "9c6de6e6",
   "metadata": {},
   "outputs": [
    {
     "name": "stdout",
     "output_type": "stream",
     "text": [
      "(278, 1)\n",
      "(278, 3)\n"
     ]
    }
   ],
   "source": [
    "poly = PolynomialFeatures(degree=2)\n",
    "X_train_poly = poly.fit_transform(X_train)\n",
    "\n",
    "print(X_train.shape)\n",
    "print(X_train_poly.shape)"
   ]
  },
  {
   "cell_type": "code",
   "execution_count": 20,
   "id": "e5e2e7a0",
   "metadata": {},
   "outputs": [
    {
     "data": {
      "text/plain": [
       "array([[1.0000000e+00, 2.7200000e+03, 7.3984000e+06],\n",
       "       [1.0000000e+00, 4.6150000e+03, 2.1298225e+07],\n",
       "       [1.0000000e+00, 2.1350000e+03, 4.5582250e+06],\n",
       "       [1.0000000e+00, 3.6200000e+03, 1.3104400e+07],\n",
       "       [1.0000000e+00, 2.4510000e+03, 6.0074010e+06]])"
      ]
     },
     "execution_count": 20,
     "metadata": {},
     "output_type": "execute_result"
    }
   ],
   "source": [
    "X_train_poly[:5]"
   ]
  },
  {
   "cell_type": "code",
   "execution_count": 21,
   "id": "ec506266",
   "metadata": {},
   "outputs": [
    {
     "data": {
      "text/plain": [
       "['1', 'x0', 'x0^2']"
      ]
     },
     "execution_count": 21,
     "metadata": {},
     "output_type": "execute_result"
    }
   ],
   "source": [
    "# 차수 확인\n",
    "poly.get_feature_names()"
   ]
  },
  {
   "cell_type": "code",
   "execution_count": 22,
   "id": "6af5d46c",
   "metadata": {},
   "outputs": [
    {
     "data": {
      "text/plain": [
       "0.72554701541758"
      ]
     },
     "execution_count": 22,
     "metadata": {},
     "output_type": "execute_result"
    }
   ],
   "source": [
    "\n",
    "\n",
    "pr = LinearRegression()\n",
    "pr.fit(X_train_poly,y_train)\n",
    "\n",
    "X_test_poly = poly.fit_transform(X_test)\n",
    "r_square = pr.score(X_test_poly,y_test)\n",
    "r_square"
   ]
  },
  {
   "cell_type": "code",
   "execution_count": 23,
   "id": "295578e3",
   "metadata": {},
   "outputs": [
    {
     "name": "stdout",
     "output_type": "stream",
     "text": [
      "[ 0.00000000e+00 -1.69114181e-02  1.43451114e-06]\n",
      "60.405921782601645\n"
     ]
    }
   ],
   "source": [
    "print(pr.coef_)\n",
    "print(pr.intercept_)"
   ]
  },
  {
   "cell_type": "code",
   "execution_count": 24,
   "id": "90ab3f26-3eb4-4982-8832-9aeffb3ac619",
   "metadata": {},
   "outputs": [
    {
     "data": {
      "text/html": [
       "<div>\n",
       "<style scoped>\n",
       "    .dataframe tbody tr th:only-of-type {\n",
       "        vertical-align: middle;\n",
       "    }\n",
       "\n",
       "    .dataframe tbody tr th {\n",
       "        vertical-align: top;\n",
       "    }\n",
       "\n",
       "    .dataframe thead th {\n",
       "        text-align: right;\n",
       "    }\n",
       "</style>\n",
       "<table border=\"1\" class=\"dataframe\">\n",
       "  <thead>\n",
       "    <tr style=\"text-align: right;\">\n",
       "      <th></th>\n",
       "      <th>weight</th>\n",
       "    </tr>\n",
       "  </thead>\n",
       "  <tbody>\n",
       "    <tr>\n",
       "      <th>331</th>\n",
       "      <td>2145</td>\n",
       "    </tr>\n",
       "    <tr>\n",
       "      <th>111</th>\n",
       "      <td>2124</td>\n",
       "    </tr>\n",
       "    <tr>\n",
       "      <th>350</th>\n",
       "      <td>2215</td>\n",
       "    </tr>\n",
       "    <tr>\n",
       "      <th>205</th>\n",
       "      <td>2155</td>\n",
       "    </tr>\n",
       "    <tr>\n",
       "      <th>56</th>\n",
       "      <td>1955</td>\n",
       "    </tr>\n",
       "    <tr>\n",
       "      <th>...</th>\n",
       "      <td>...</td>\n",
       "    </tr>\n",
       "    <tr>\n",
       "      <th>17</th>\n",
       "      <td>2587</td>\n",
       "    </tr>\n",
       "    <tr>\n",
       "      <th>225</th>\n",
       "      <td>3520</td>\n",
       "    </tr>\n",
       "    <tr>\n",
       "      <th>223</th>\n",
       "      <td>4140</td>\n",
       "    </tr>\n",
       "    <tr>\n",
       "      <th>59</th>\n",
       "      <td>2254</td>\n",
       "    </tr>\n",
       "    <tr>\n",
       "      <th>114</th>\n",
       "      <td>2265</td>\n",
       "    </tr>\n",
       "  </tbody>\n",
       "</table>\n",
       "<p>120 rows × 1 columns</p>\n",
       "</div>"
      ],
      "text/plain": [
       "     weight\n",
       "331    2145\n",
       "111    2124\n",
       "350    2215\n",
       "205    2155\n",
       "56     1955\n",
       "..      ...\n",
       "17     2587\n",
       "225    3520\n",
       "223    4140\n",
       "59     2254\n",
       "114    2265\n",
       "\n",
       "[120 rows x 1 columns]"
      ]
     },
     "execution_count": 24,
     "metadata": {},
     "output_type": "execute_result"
    }
   ],
   "source": [
    "X_test"
   ]
  },
  {
   "cell_type": "code",
   "execution_count": 25,
   "id": "ee22a38a-9428-4786-9243-21c15f4497cf",
   "metadata": {
    "tags": []
   },
   "outputs": [
    {
     "data": {
      "image/png": "[encoded data removed]",
      "text/plain": [
       "<Figure size 720x360 with 1 Axes>"
      ]
     },
     "metadata": {},
     "output_type": "display_data"
    }
   ],
   "source": [
    "y_hat_test = pr.predict(X_test_poly)\n",
    "fig = plt.figure(figsize=(10, 5))\n",
    "ax = fig.add_subplot(1, 1, 1)\n",
    "ax.plot(X_train.to_numpy(), y_train.to_numpy(), 'o', label='Train Data')  # 데이터 분포\n",
    "ax.plot(X_test.to_numpy(), y_hat_test, 'r+', label='Predicted Value') # 모형이 학습한 회귀선\n",
    "ax.legend(loc='best')\n",
    "plt.xlabel('weight')\n",
    "plt.ylabel('mpg')\n",
    "plt.show()\n",
    "plt.close()"
   ]
  },
  {
   "cell_type": "code",
   "execution_count": 26,
   "id": "d4501903",
   "metadata": {
    "tags": []
   },
   "outputs": [
    {
     "data": {
      "text/plain": [
       "array([[0.55514957],\n",
       "       [0.71947024],\n",
       "       [0.95941828],\n",
       "       [0.92808303],\n",
       "       [0.77024743],\n",
       "       [0.71709453],\n",
       "       [0.56487702],\n",
       "       [0.95622582],\n",
       "       [0.55399697],\n",
       "       [0.19778574],\n",
       "       [0.78468927],\n",
       "       [0.28761332],\n",
       "       [0.75864684],\n",
       "       [0.78563861],\n",
       "       [0.6214784 ],\n",
       "       [0.92902088],\n",
       "       [0.72068722],\n",
       "       [0.23712936],\n",
       "       [0.50325399],\n",
       "       [0.58903156],\n",
       "       [0.20019338],\n",
       "       [0.51085206],\n",
       "       [0.89887658],\n",
       "       [0.3835806 ],\n",
       "       [0.43884822],\n",
       "       [0.5924918 ],\n",
       "       [0.03520228],\n",
       "       [0.37795543],\n",
       "       [0.14629358],\n",
       "       [0.08922028],\n",
       "       [0.67598096],\n",
       "       [0.72132453],\n",
       "       [0.02633901],\n",
       "       [0.87307843],\n",
       "       [0.85493966],\n",
       "       [0.06575067],\n",
       "       [0.44985289],\n",
       "       [0.97465628],\n",
       "       [0.91123789],\n",
       "       [0.21188723],\n",
       "       [0.39294278],\n",
       "       [0.21150598],\n",
       "       [0.00253254],\n",
       "       [0.70842744],\n",
       "       [0.49492714],\n",
       "       [0.0782663 ],\n",
       "       [0.91224522],\n",
       "       [0.30226568],\n",
       "       [0.48891946],\n",
       "       [0.61656489],\n",
       "       [0.82069731],\n",
       "       [0.29087234],\n",
       "       [0.20921541],\n",
       "       [0.66500591],\n",
       "       [0.50737663],\n",
       "       [0.09561899],\n",
       "       [0.54252754],\n",
       "       [0.50888424],\n",
       "       [0.42912949],\n",
       "       [0.01972297],\n",
       "       [0.76195877],\n",
       "       [0.28313015],\n",
       "       [0.47450224],\n",
       "       [0.76612661],\n",
       "       [0.60635945],\n",
       "       [0.74248329],\n",
       "       [0.14899312],\n",
       "       [0.07256857],\n",
       "       [0.11732345],\n",
       "       [0.48652022],\n",
       "       [0.48864682],\n",
       "       [0.15245204],\n",
       "       [0.51632861],\n",
       "       [0.82031238],\n",
       "       [0.34779847],\n",
       "       [0.73093673],\n",
       "       [0.44117384],\n",
       "       [0.63599339],\n",
       "       [0.40716798],\n",
       "       [0.74174306],\n",
       "       [0.15540636],\n",
       "       [0.76577028],\n",
       "       [0.1100451 ],\n",
       "       [0.03503723],\n",
       "       [0.4804613 ],\n",
       "       [0.34913586],\n",
       "       [0.11627071],\n",
       "       [0.85341488],\n",
       "       [0.10533749],\n",
       "       [0.27943523],\n",
       "       [0.59541106],\n",
       "       [0.15138329],\n",
       "       [0.11507832],\n",
       "       [0.87716583],\n",
       "       [0.79204342],\n",
       "       [0.60494821],\n",
       "       [0.45189456],\n",
       "       [0.30347741],\n",
       "       [0.46961869],\n",
       "       [0.83270027]])"
      ]
     },
     "execution_count": 26,
     "metadata": {},
     "output_type": "execute_result"
    }
   ],
   "source": [
    "# 0 ~ 1 균일분포\n",
    "import numpy as np\n",
    "np.random.rand(100,1)"
   ]
  },
  {
   "cell_type": "code",
   "execution_count": 27,
   "id": "6f3cd06c",
   "metadata": {},
   "outputs": [],
   "source": [
    "# [과제] X 데이터를 X_poly 데이터셋으로 변환하여 2차함수로 만들어진 데이터셋을 예측하고 시각화하세요\n",
    "import numpy as np\n",
    "np.random.seed(42)\n",
    "m = 100\n",
    "X = 6 * np.random.rand(m,1) - 3\n",
    "y = 0.5 * X**2 + X + 2 + np.random.randn(m,1)"
   ]
  },
  {
   "cell_type": "code",
   "execution_count": 28,
   "id": "43ab79e1",
   "metadata": {},
   "outputs": [
    {
     "data": {
      "image/png": "[encoded data removed]",
      "text/plain": [
       "<Figure size 720x432 with 1 Axes>"
      ]
     },
     "metadata": {},
     "output_type": "display_data"
    }
   ],
   "source": [
    "from sklearn.model_selection import train_test_split\n",
    "from sklearn.preprocessing import PolynomialFeatures\n",
    "from sklearn.linear_model import LinearRegression\n",
    "\n",
    "\n",
    "X_train, X_test, y_train, y_test = train_test_split(X,y,test_size=0.3,random_state = 11)\n",
    "# 2차 다항식으로 바꿈\n",
    "poly = PolynomialFeatures(degree=2)\n",
    "X_train_poly = poly.fit_transform(X_train)\n",
    "X_test_poly = poly.fit_transform(X_test)\n",
    "# 훈련 및 학습\n",
    "lr = LinearRegression()\n",
    "lr.fit(X_train_poly,y_train)\n",
    "y_preds = lr.predict(X_test_poly)\n",
    "# 시각화\n",
    "fig = plt.figure(figsize=(10,6))\n",
    "ax = fig.add_subplot(1,1,1)\n",
    "ax.plot(X_train,y_train,'o',label='Train Data')\n",
    "ax.plot(X_test,y_preds,'r+', label='Predicted Value')\n",
    "ax.legend(loc='best')\n",
    "plt.show()\n",
    "plt.close()\n"
   ]
  },
  {
   "cell_type": "code",
   "execution_count": 29,
   "id": "d52f41c9",
   "metadata": {},
   "outputs": [
    {
     "data": {
      "text/plain": [
       "['1', 'x0', 'x0^2']"
      ]
     },
     "execution_count": 29,
     "metadata": {},
     "output_type": "execute_result"
    }
   ],
   "source": [
    "poly.get_feature_names()"
   ]
  },
  {
   "cell_type": "markdown",
   "id": "cd1b0537",
   "metadata": {},
   "source": [
    "## 다중 회귀분석\n",
    "- 여러 개의 독립변수가 종속변수에 영향을 주고 선형관계를 갖는 경우에 다중회귀분석을 사용\n",
    "- 다중 회귀분석 알고리즘은 각 독립 변수의 계수와 상수항에 적절한 값들을 찾아서 모형을 완성"
   ]
  },
  {
   "cell_type": "code",
   "execution_count": 30,
   "id": "e2f8d242",
   "metadata": {},
   "outputs": [
    {
     "data": {
      "text/html": [
       "<div>\n",
       "<style scoped>\n",
       "    .dataframe tbody tr th:only-of-type {\n",
       "        vertical-align: middle;\n",
       "    }\n",
       "\n",
       "    .dataframe tbody tr th {\n",
       "        vertical-align: top;\n",
       "    }\n",
       "\n",
       "    .dataframe thead th {\n",
       "        text-align: right;\n",
       "    }\n",
       "</style>\n",
       "<table border=\"1\" class=\"dataframe\">\n",
       "  <thead>\n",
       "    <tr style=\"text-align: right;\">\n",
       "      <th></th>\n",
       "      <th>mpg</th>\n",
       "      <th>cylinders</th>\n",
       "      <th>horsepower</th>\n",
       "      <th>weight</th>\n",
       "    </tr>\n",
       "  </thead>\n",
       "  <tbody>\n",
       "    <tr>\n",
       "      <th>0</th>\n",
       "      <td>18.0</td>\n",
       "      <td>8</td>\n",
       "      <td>130.0</td>\n",
       "      <td>3504</td>\n",
       "    </tr>\n",
       "    <tr>\n",
       "      <th>1</th>\n",
       "      <td>15.0</td>\n",
       "      <td>8</td>\n",
       "      <td>165.0</td>\n",
       "      <td>3693</td>\n",
       "    </tr>\n",
       "    <tr>\n",
       "      <th>2</th>\n",
       "      <td>18.0</td>\n",
       "      <td>8</td>\n",
       "      <td>150.0</td>\n",
       "      <td>3436</td>\n",
       "    </tr>\n",
       "    <tr>\n",
       "      <th>3</th>\n",
       "      <td>16.0</td>\n",
       "      <td>8</td>\n",
       "      <td>150.0</td>\n",
       "      <td>3433</td>\n",
       "    </tr>\n",
       "    <tr>\n",
       "      <th>4</th>\n",
       "      <td>17.0</td>\n",
       "      <td>8</td>\n",
       "      <td>140.0</td>\n",
       "      <td>3449</td>\n",
       "    </tr>\n",
       "  </tbody>\n",
       "</table>\n",
       "</div>"
      ],
      "text/plain": [
       "    mpg  cylinders  horsepower  weight\n",
       "0  18.0          8       130.0    3504\n",
       "1  15.0          8       165.0    3693\n",
       "2  18.0          8       150.0    3436\n",
       "3  16.0          8       150.0    3433\n",
       "4  17.0          8       140.0    3449"
      ]
     },
     "execution_count": 30,
     "metadata": {},
     "output_type": "execute_result"
    }
   ],
   "source": [
    "df = pd.read_pickle('auto-mpg.pkl')\n",
    "df.head()"
   ]
  },
  {
   "cell_type": "code",
   "execution_count": 31,
   "id": "3e7427c0",
   "metadata": {},
   "outputs": [],
   "source": [
    "X = df.drop('mpg',axis=1)\n",
    "y =df['mpg']\n",
    "\n",
    "X_train, X_test, y_train, y_test = train_test_split(X, y, test_size=0.3, random_state=10)\n",
    "\n",
    "lr = LinearRegression()\n",
    "lr.fit(X_train, y_train)\n",
    "y_preds = lr.predict(X_test)\n",
    "r_square = lr.score(X_test,y_test)\n"
   ]
  },
  {
   "cell_type": "code",
   "execution_count": 32,
   "id": "98a00bd3",
   "metadata": {},
   "outputs": [
    {
     "name": "stdout",
     "output_type": "stream",
     "text": [
      "mse: 17.330085628989945, rmse: 4.16294194398504, r_square: 0.6939048496695599\n",
      " 기울기: [-0.60691288 -0.03714088 -0.00522268]\n",
      " 절편: 46.414351269634025\n"
     ]
    }
   ],
   "source": [
    "# Q. mse, rmse, r_square(r2_score) 기울기, 절편\n",
    "\n",
    "mse = mean_squared_error(y_test,y_preds)\n",
    "rmse = np.sqrt(mse)\n",
    "r_square = r2_score(y_test,y_preds)\n",
    "print(f'mse: {mse}, rmse: {rmse}, r_square: {r_square}')\n",
    "print(f' 기울기: {lr.coef_}')\n",
    "print(f' 절편: {lr.intercept_}')"
   ]
  },
  {
   "cell_type": "code",
   "execution_count": 33,
   "id": "da576e26",
   "metadata": {},
   "outputs": [
    {
     "data": {
      "image/png": "[encoded data removed]",
      "text/plain": [
       "<Figure size 720x360 with 1 Axes>"
      ]
     },
     "metadata": {},
     "output_type": "display_data"
    }
   ],
   "source": [
    "# [과제] y_test, y_hat 을 하나의 그래프로 비교하여 시각화\n",
    "\n",
    "y_hat = lr.predict(X_test)\n",
    "plt.figure(figsize=(10, 5))\n",
    "ax1 = sns.distplot(y_test, hist=False, label=\"y_test\") \n",
    "ax2 = sns.distplot(y_hat, hist=False, label=\"y_hat\", ax=ax1)\n",
    "plt.show()\n",
    "plt.close()\n",
    "\n"
   ]
  }
 ],
 "metadata": {
  "kernelspec": {
   "display_name": "Python 3 (ipykernel)",
   "language": "python",
   "name": "python3"
  },
  "language_info": {
   "codemirror_mode": {
    "name": "ipython",
    "version": 3
   },
   "file_extension": ".py",
   "mimetype": "text/x-python",
   "name": "python",
   "nbconvert_exporter": "python",
   "pygments_lexer": "ipython3",
   "version": "3.8.12"
  }
 },
 "nbformat": 4,
 "nbformat_minor": 5
}
