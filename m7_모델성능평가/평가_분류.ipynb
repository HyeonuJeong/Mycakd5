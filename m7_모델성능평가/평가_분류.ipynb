{
 "cells": [
  {
   "cell_type": "markdown",
   "id": "cd52203d",
   "metadata": {},
   "source": [
    "#### 분류평가\n",
    "- 정확도만으로 불균형한 레이블 데이터 세트에서 평가지표로 사용하기에는 부적합\n",
    "- 정확도가 가지는 분류 평가 지표로의 한계점을 극복하기 위해 여러가지 분류 지표와 함께 적용해야 함\n",
    "\n",
    "#### Confusion Matrix(혼동행렬, 오차행렬)\n",
    "- 이진분류에서 성능 지표로 잘 활용되는 오차행렬은 학습된 분류 모델이 예측을 수행하면 얼마나 혼동될 수 있는지도 함께 보여주는 지표\n",
    "- 이진 분류의 예측 오류가 얼마인지와 더불어 어떠한 유형의 예측 오류가 발생하고 있는지를 함께 보여줌\n",
    "\n",
    "#### 평가 지표\n",
    "- TP,FP,FN,TN 예측클래스와 실제 클래스의 Positive 결정 값과 Negative 결정 값의 결합에 따라 결정\n",
    "- 앞문자 True/False는 예측값과 실제값이 같은가/틀린가를 의미하고 뒤 문자 N/P는 예측 결과값이 부정/긍정을 의미\n",
    "- 정확도 = (TP + TN) / (TP + TN + FP + FN)\n",
    "- 정밀도 = TP / (TP + FP) : P로 예측한 것중에서 실제도 P\n",
    "- 재현율 = TP / (TP + FN) : 실제 P인 것중에서 예측도 P\n",
    "- F1 = 2 * (정밀도 * 재현율) / (정밀도 + 재현율) : 정밀도와 재현율이 어느 한쪽으로 치우치지 않는 수치를 나타낼때 높아짐\n",
    "- 정밀도와 재현율은 Positive 데이터 세트의 예측 성능에 좀 더 초점을 맞춘 평가 지표\n",
    "- 재현율이 중요 지표인 경우 : 양성 데이터를 음성으로 잘못 판단하면 업무상 큰 영향이 발생하는 경우(암진단, 보험사기)\n",
    "- 정밀도가 더 중요한 지표인 사례 : 스팸 메일 여부를 판단하는 경우로 스팸 메일이 아닌데 스팸 메일로 분류해서 업무 차질 발생.\n",
    "\n",
    "#### 정밀도 및 재현율 활용 시 유의사항\n",
    "- 정밀도와 재현율 성능 수치는 어느 한쪽만 참조하면 극단적인 수치 조작이 가능\n",
    "- 정밀도 100%가 되는 방법 : 확실한 기준이 되는 경우만 P로 예측하고 나머지는 모두 N로 예측 TP/(TP+FP) = 1/(1+0) = 1\n",
    "- 재현율이 100%가 되는 방법 : 실제 양성 1000명중 30명 TP/(TP + FN) = 30/(30 + 0) = 1\n",
    "- 분류가 정밀도, 재현율 중 하나에 상대적인 중요도를 부여할 수 있지만 하나만 강조해서는 안됨\n",
    "- 암 예측 모델에서 재현율을 높인다고 주로 양성만 판정한다면 환자의 불만과 불평이 커지게 됨"
   ]
  },
  {
   "cell_type": "markdown",
   "id": "2b79cea1-72ed-4a38-8804-69a72ac3867d",
   "metadata": {
    "tags": []
   },
   "source": [
    "## 정밀도와 재현율"
   ]
  },
  {
   "cell_type": "code",
   "execution_count": 166,
   "id": "ae3df96c",
   "metadata": {},
   "outputs": [],
   "source": [
    "import re\n",
    "from sklearn.preprocessing import LabelEncoder\n",
    "from sklearn.preprocessing import MinMaxScaler\n",
    "import numpy as np\n",
    "from sklearn.datasets import load_iris\n",
    "from sklearn.tree import DecisionTreeClassifier\n",
    "from sklearn.model_selection import train_test_split\n",
    "import pandas as pd\n",
    "\n",
    "\n",
    "def fillnas(df):\n",
    "    def callname(x):\n",
    "        m = re.compile('[A-Za-z]+[.]')\n",
    "        p = re.findall(m,x)\n",
    "        return p[0]\n",
    "    \n",
    "    df['Callname']=df.Name.apply(lambda x:callname(x))\n",
    "    \n",
    "    df1 = df.loc[df.Age.isnull()]\n",
    "    age_nulllist = list(set(df1.Callname.values.tolist()))\n",
    "    \n",
    "    df2 = df.loc[df.Age.notnull()]\n",
    "    pivot = pd.pivot_table(df2, index = 'Callname', values = 'Age',aggfunc = 'mean')\n",
    "    \n",
    "    for age in age_nulllist:\n",
    "        df.loc[(df.Age.isnull())&(df.Callname == age),['Age']]=(pivot.loc[age][0])\n",
    "        \n",
    "    df['Embarked'].fillna(method = 'ffill',inplace=True)\n",
    "    \n",
    "    df3 = df.loc[df.Cabin.notnull()]\n",
    "\n",
    "    df3['Cabins'] = df3['Cabin'].str[:1]\n",
    "    df4 = df.loc[df.Cabin.isnull()]\n",
    "    \n",
    "    for i in range(1,4):\n",
    "        df33 = df3.loc[df3.Pclass == i]\n",
    "        cabin_fill_list=list(set(df33.Cabins.values.tolist()))\n",
    "        df44 = df4.loc[df4.Pclass == i]\n",
    "        fill_index = list(df44.index)\n",
    "        for index in fill_index:\n",
    "            df.loc[index,'Cabin'] = np.random.choice(cabin_fill_list)\n",
    "            \n",
    "    return df\n",
    "\n",
    "# 불필요 항목 제거\n",
    "def drop_feat(df):\n",
    "    df.drop(['PassengerId','Name','Ticket','Callname'],axis=1,inplace = True)\n",
    "    return df\n",
    "\n",
    "def format_features(df):\n",
    "    df['Cabin'] = df['Cabin'].str[:1]\n",
    "    features = ['Cabin','Sex','Embarked']\n",
    "    for feature in features:\n",
    "        le = LabelEncoder()\n",
    "        le = le.fit(df[feature])\n",
    "        df[feature] = le.transform(df[feature])\n",
    "    scaler = MinMaxScaler()\n",
    "    scaler.fit(df[['Fare']])\n",
    "    fare_scaled = scaler.transform(df[['Fare']])\n",
    "    df['Fare'] = fare_scaled\n",
    "    \n",
    "    return df\n",
    "\n",
    "def transform_features(df):\n",
    "    df = fillnas(df)\n",
    "    df = drop_feat(df)\n",
    "    df = format_features(df)\n",
    "    return df"
   ]
  },
  {
   "cell_type": "code",
   "execution_count": 169,
   "id": "e252c78b",
   "metadata": {},
   "outputs": [
    {
     "name": "stderr",
     "output_type": "stream",
     "text": [
      "C:\\Users\\admin\\AppData\\Local\\Temp/ipykernel_16248/1216502576.py:32: SettingWithCopyWarning: \n",
      "A value is trying to be set on a copy of a slice from a DataFrame.\n",
      "Try using .loc[row_indexer,col_indexer] = value instead\n",
      "\n",
      "See the caveats in the documentation: https://pandas.pydata.org/pandas-docs/stable/user_guide/indexing.html#returning-a-view-versus-a-copy\n",
      "  df3['Cabins'] = df3['Cabin'].str[:1]\n"
     ]
    },
    {
     "data": {
      "text/html": [
       "<div>\n",
       "<style scoped>\n",
       "    .dataframe tbody tr th:only-of-type {\n",
       "        vertical-align: middle;\n",
       "    }\n",
       "\n",
       "    .dataframe tbody tr th {\n",
       "        vertical-align: top;\n",
       "    }\n",
       "\n",
       "    .dataframe thead th {\n",
       "        text-align: right;\n",
       "    }\n",
       "</style>\n",
       "<table border=\"1\" class=\"dataframe\">\n",
       "  <thead>\n",
       "    <tr style=\"text-align: right;\">\n",
       "      <th></th>\n",
       "      <th>Pclass</th>\n",
       "      <th>Sex</th>\n",
       "      <th>Age</th>\n",
       "      <th>SibSp</th>\n",
       "      <th>Parch</th>\n",
       "      <th>Fare</th>\n",
       "      <th>Cabin</th>\n",
       "      <th>Embarked</th>\n",
       "    </tr>\n",
       "  </thead>\n",
       "  <tbody>\n",
       "    <tr>\n",
       "      <th>0</th>\n",
       "      <td>3</td>\n",
       "      <td>1</td>\n",
       "      <td>22.000000</td>\n",
       "      <td>1</td>\n",
       "      <td>0</td>\n",
       "      <td>0.014151</td>\n",
       "      <td>5</td>\n",
       "      <td>2</td>\n",
       "    </tr>\n",
       "    <tr>\n",
       "      <th>1</th>\n",
       "      <td>1</td>\n",
       "      <td>0</td>\n",
       "      <td>38.000000</td>\n",
       "      <td>1</td>\n",
       "      <td>0</td>\n",
       "      <td>0.139136</td>\n",
       "      <td>2</td>\n",
       "      <td>0</td>\n",
       "    </tr>\n",
       "    <tr>\n",
       "      <th>2</th>\n",
       "      <td>3</td>\n",
       "      <td>0</td>\n",
       "      <td>26.000000</td>\n",
       "      <td>0</td>\n",
       "      <td>0</td>\n",
       "      <td>0.015469</td>\n",
       "      <td>5</td>\n",
       "      <td>2</td>\n",
       "    </tr>\n",
       "    <tr>\n",
       "      <th>3</th>\n",
       "      <td>1</td>\n",
       "      <td>0</td>\n",
       "      <td>35.000000</td>\n",
       "      <td>1</td>\n",
       "      <td>0</td>\n",
       "      <td>0.103644</td>\n",
       "      <td>2</td>\n",
       "      <td>2</td>\n",
       "    </tr>\n",
       "    <tr>\n",
       "      <th>4</th>\n",
       "      <td>3</td>\n",
       "      <td>1</td>\n",
       "      <td>35.000000</td>\n",
       "      <td>0</td>\n",
       "      <td>0</td>\n",
       "      <td>0.015713</td>\n",
       "      <td>4</td>\n",
       "      <td>2</td>\n",
       "    </tr>\n",
       "    <tr>\n",
       "      <th>...</th>\n",
       "      <td>...</td>\n",
       "      <td>...</td>\n",
       "      <td>...</td>\n",
       "      <td>...</td>\n",
       "      <td>...</td>\n",
       "      <td>...</td>\n",
       "      <td>...</td>\n",
       "      <td>...</td>\n",
       "    </tr>\n",
       "    <tr>\n",
       "      <th>886</th>\n",
       "      <td>2</td>\n",
       "      <td>1</td>\n",
       "      <td>27.000000</td>\n",
       "      <td>0</td>\n",
       "      <td>0</td>\n",
       "      <td>0.025374</td>\n",
       "      <td>4</td>\n",
       "      <td>2</td>\n",
       "    </tr>\n",
       "    <tr>\n",
       "      <th>887</th>\n",
       "      <td>1</td>\n",
       "      <td>0</td>\n",
       "      <td>19.000000</td>\n",
       "      <td>0</td>\n",
       "      <td>0</td>\n",
       "      <td>0.058556</td>\n",
       "      <td>1</td>\n",
       "      <td>2</td>\n",
       "    </tr>\n",
       "    <tr>\n",
       "      <th>888</th>\n",
       "      <td>3</td>\n",
       "      <td>0</td>\n",
       "      <td>21.773973</td>\n",
       "      <td>1</td>\n",
       "      <td>2</td>\n",
       "      <td>0.045771</td>\n",
       "      <td>5</td>\n",
       "      <td>2</td>\n",
       "    </tr>\n",
       "    <tr>\n",
       "      <th>889</th>\n",
       "      <td>1</td>\n",
       "      <td>1</td>\n",
       "      <td>26.000000</td>\n",
       "      <td>0</td>\n",
       "      <td>0</td>\n",
       "      <td>0.058556</td>\n",
       "      <td>2</td>\n",
       "      <td>0</td>\n",
       "    </tr>\n",
       "    <tr>\n",
       "      <th>890</th>\n",
       "      <td>3</td>\n",
       "      <td>1</td>\n",
       "      <td>32.000000</td>\n",
       "      <td>0</td>\n",
       "      <td>0</td>\n",
       "      <td>0.015127</td>\n",
       "      <td>4</td>\n",
       "      <td>1</td>\n",
       "    </tr>\n",
       "  </tbody>\n",
       "</table>\n",
       "<p>891 rows × 8 columns</p>\n",
       "</div>"
      ],
      "text/plain": [
       "     Pclass  Sex        Age  SibSp  Parch      Fare  Cabin  Embarked\n",
       "0         3    1  22.000000      1      0  0.014151      5         2\n",
       "1         1    0  38.000000      1      0  0.139136      2         0\n",
       "2         3    0  26.000000      0      0  0.015469      5         2\n",
       "3         1    0  35.000000      1      0  0.103644      2         2\n",
       "4         3    1  35.000000      0      0  0.015713      4         2\n",
       "..      ...  ...        ...    ...    ...       ...    ...       ...\n",
       "886       2    1  27.000000      0      0  0.025374      4         2\n",
       "887       1    0  19.000000      0      0  0.058556      1         2\n",
       "888       3    0  21.773973      1      2  0.045771      5         2\n",
       "889       1    1  26.000000      0      0  0.058556      2         0\n",
       "890       3    1  32.000000      0      0  0.015127      4         1\n",
       "\n",
       "[891 rows x 8 columns]"
      ]
     },
     "execution_count": 169,
     "metadata": {},
     "output_type": "execute_result"
    }
   ],
   "source": [
    "\n",
    "# 원본 데이터를 재로딩 하고, feature데이터 셋과 Label 데이터 셋 추출. \n",
    "titanic_df = pd.read_csv('train.csv')\n",
    "y_titanic_df = titanic_df['Survived']\n",
    "X_titanic_df= titanic_df.drop('Survived',axis=1)\n",
    "\n",
    "X_titanic_df = transform_features(X_titanic_df)\n",
    "X_titanic_df"
   ]
  },
  {
   "cell_type": "code",
   "execution_count": 170,
   "id": "9524e53f",
   "metadata": {},
   "outputs": [],
   "source": [
    "from sklearn.metrics import accuracy_score, precision_score , recall_score , confusion_matrix\n",
    "\n",
    "def get_clf_eval(y_test , pred):\n",
    "    confusion = confusion_matrix( y_test, pred)\n",
    "    accuracy = accuracy_score(y_test, pred)\n",
    "    precision = precision_score(y_test , pred)\n",
    "    recall = recall_score(y_test , pred)\n",
    "    print('오차 행렬')\n",
    "    print(confusion)\n",
    "    print('정확도: {0:.4f}, 정밀도: {1:.4f}, 재현율: {2:.4f}'.format(accuracy , precision ,recall))"
   ]
  },
  {
   "cell_type": "code",
   "execution_count": 195,
   "id": "df708d5f",
   "metadata": {},
   "outputs": [
    {
     "name": "stdout",
     "output_type": "stream",
     "text": [
      "오차 행렬\n",
      "[[108  10]\n",
      " [ 15  46]]\n",
      "정확도: 0.8603, 정밀도: 0.8214, 재현율: 0.7541\n"
     ]
    },
    {
     "name": "stderr",
     "output_type": "stream",
     "text": [
      "C:\\Users\\admin\\anaconda3\\lib\\site-packages\\sklearn\\linear_model\\_logistic.py:763: ConvergenceWarning: lbfgs failed to converge (status=1):\n",
      "STOP: TOTAL NO. of ITERATIONS REACHED LIMIT.\n",
      "\n",
      "Increase the number of iterations (max_iter) or scale the data as shown in:\n",
      "    https://scikit-learn.org/stable/modules/preprocessing.html\n",
      "Please also refer to the documentation for alternative solver options:\n",
      "    https://scikit-learn.org/stable/modules/linear_model.html#logistic-regression\n",
      "  n_iter_i = _check_optimize_result(\n"
     ]
    }
   ],
   "source": [
    "from sklearn.model_selection import train_test_split \n",
    "from sklearn.linear_model import LogisticRegression\n",
    "\n",
    "X_train, X_test, y_train, y_test=train_test_split(X_titanic_df, y_titanic_df, test_size=0.2, random_state=11)\n",
    "\n",
    "lr_clf = LogisticRegression()\n",
    "\n",
    "lr_clf.fit(X_train , y_train)\n",
    "pred = lr_clf.predict(X_test)\n",
    "get_clf_eval(y_test , pred)"
   ]
  },
  {
   "cell_type": "code",
   "execution_count": 196,
   "id": "3b97bed1",
   "metadata": {},
   "outputs": [
    {
     "name": "stdout",
     "output_type": "stream",
     "text": [
      "accuracy : 0.8603351955307262\n",
      "precision: 0.8214285714285714\n",
      "recall: 0.7540983606557377\n",
      "F1 SCORE: 0.7863247863247864\n"
     ]
    }
   ],
   "source": [
    "TN=108; FP=10;FN=15;TP=46\n",
    "print('accuracy :',(TP+TN)/(TP+TN+FP+FN))\n",
    "print('precision:',TP/(TP+FP))\n",
    "print('recall:',TP/(TP+FN))\n",
    "print('F1 SCORE:',2*((TP/(TP+FP)*TP/(TP+FN))/(TP/(TP+FP)+TP/(TP+FN))))"
   ]
  },
  {
   "cell_type": "markdown",
   "id": "90d7b4e3",
   "metadata": {
    "tags": []
   },
   "source": [
    "## Precision/Recall Trade-off"
   ]
  },
  {
   "cell_type": "markdown",
   "id": "49b47e12",
   "metadata": {},
   "source": [
    "** predict_proba( ) 메소드 확인 **"
   ]
  },
  {
   "cell_type": "code",
   "execution_count": 198,
   "id": "d1895ca3",
   "metadata": {
    "tags": []
   },
   "outputs": [
    {
     "name": "stdout",
     "output_type": "stream",
     "text": [
      "df Shape : (768, 9)\n",
      "pred_proba()결과 Shape : (179, 2)\n",
      "pred_proba array에서 앞 3개만 샘플로 추출 \n",
      ": [[0.52395488 0.47604512]\n",
      " [0.89069594 0.10930406]\n",
      " [0.87793575 0.12206425]]\n",
      "두개의 class 중에서 더 큰 확률을 클래스 값으로 예측 \n",
      " [[0.52395488 0.47604512 0.        ]\n",
      " [0.89069594 0.10930406 0.        ]\n",
      " [0.87793575 0.12206425 0.        ]]\n"
     ]
    }
   ],
   "source": [
    "print('df Shape : {0}'.format(df.shape))\n",
    "pred_proba = lr_clf.predict_proba(X_test)\n",
    "pred  = lr_clf.predict(X_test)\n",
    "print('pred_proba()결과 Shape : {0}'.format(pred_proba.shape))\n",
    "print('pred_proba array에서 앞 3개만 샘플로 추출 \\n:', pred_proba[:3])\n",
    "\n",
    "# 예측 확률 array 와 예측 결과값 array 를 concatenate 하여 예측 확률과 결과값을 한눈에 확인\n",
    "pred_proba_result = np.concatenate([pred_proba , pred.reshape(-1,1)],axis=1)\n",
    "print('두개의 class 중에서 더 큰 확률을 클래스 값으로 예측 \\n',pred_proba_result[:3])\n"
   ]
  },
  {
   "cell_type": "markdown",
   "id": "23c7254a",
   "metadata": {
    "tags": []
   },
   "source": [
    "## ** Binarizer 활용 **"
   ]
  },
  {
   "cell_type": "code",
   "execution_count": 90,
   "id": "b146d68d",
   "metadata": {},
   "outputs": [
    {
     "name": "stdout",
     "output_type": "stream",
     "text": [
      "[[0. 0. 1.]\n",
      " [1. 0. 0.]\n",
      " [0. 0. 1.]]\n"
     ]
    }
   ],
   "source": [
    "from sklearn.preprocessing import Binarizer\n",
    "\n",
    "X = [[ 1, -1,  2],\n",
    "     [ 2,  0,  0],\n",
    "     [ 0,  1.1, 1.2]]\n",
    "\n",
    "# threshold 기준값보다 같거나 작으면 0을, 크면 1을 반환\n",
    "binarizer = Binarizer(threshold=1.1)                     \n",
    "print(binarizer.fit_transform(X))"
   ]
  },
  {
   "cell_type": "markdown",
   "id": "98659f8d",
   "metadata": {},
   "source": [
    "** 분류 결정 임계값 0.5 기반에서 Binarizer를 이용하여 예측값 변환 **"
   ]
  },
  {
   "cell_type": "code",
   "execution_count": 207,
   "id": "74873b42",
   "metadata": {},
   "outputs": [
    {
     "name": "stdout",
     "output_type": "stream",
     "text": [
      "오차 행렬\n",
      "[[108  10]\n",
      " [ 15  46]]\n",
      "정확도: 0.8603, 정밀도: 0.8214, 재현율: 0.7541\n"
     ]
    }
   ],
   "source": [
    "from sklearn.preprocessing import Binarizer\n",
    "\n",
    "#Binarizer의 threshold 설정값. 분류 결정 임곗값임.  \n",
    "custom_threshold = 0.5\n",
    "\n",
    "# predict_proba( ) 반환값의 두번째 컬럼 , 즉 Positive 클래스 컬럼 하나만 추출하여 Binarizer를 적용\n",
    "pred_proba_1 = pred_proba[:,1].reshape(-1,1)\n",
    "\n",
    "binarizer = Binarizer(threshold=custom_threshold).fit(pred_proba_1) \n",
    "custom_predict = binarizer.transform(pred_proba_1)\n",
    "\n",
    "get_clf_eval(y_test, custom_predict)"
   ]
  },
  {
   "cell_type": "markdown",
   "id": "67e13495",
   "metadata": {},
   "source": [
    "** 분류 결정 임계값 0.4 기반에서 Binarizer를 이용하여 예측값 변환 **"
   ]
  },
  {
   "cell_type": "code",
   "execution_count": 92,
   "id": "39bc02a4",
   "metadata": {},
   "outputs": [
    {
     "name": "stdout",
     "output_type": "stream",
     "text": [
      "오차 행렬\n",
      "[[98 20]\n",
      " [11 50]]\n",
      "정확도: 0.8268, 정밀도: 0.7143, 재현율: 0.8197\n"
     ]
    }
   ],
   "source": [
    "# Binarizer의 threshold 설정값을 0.4로 설정. 즉 분류 결정 임곗값을 0.5에서 0.4로 낮춤  \n",
    "custom_threshold = 0.4\n",
    "pred_proba_1 = pred_proba[:,1].reshape(-1,1)\n",
    "binarizer = Binarizer(threshold=custom_threshold).fit(pred_proba_1) \n",
    "custom_predict = binarizer.transform(pred_proba_1)\n",
    "\n",
    "get_clf_eval(y_test , custom_predict)"
   ]
  },
  {
   "cell_type": "markdown",
   "id": "a6475f04",
   "metadata": {},
   "source": [
    "** 여러개의 분류 결정 임곗값을 변경하면서  Binarizer를 이용하여 예측값 변환 **"
   ]
  },
  {
   "cell_type": "code",
   "execution_count": 93,
   "id": "0914ab21",
   "metadata": {
    "scrolled": true,
    "tags": []
   },
   "outputs": [
    {
     "name": "stdout",
     "output_type": "stream",
     "text": [
      "임곗값 : 0.4\n",
      "오차 행렬\n",
      "[[98 20]\n",
      " [11 50]]\n",
      "정확도: 0.8268, 정밀도: 0.7143, 재현율: 0.8197\n",
      "\n",
      "임곗값 : 0.45\n",
      "오차 행렬\n",
      "[[100  18]\n",
      " [ 13  48]]\n",
      "정확도: 0.8268, 정밀도: 0.7273, 재현율: 0.7869\n",
      "\n",
      "임곗값 : 0.5\n",
      "오차 행렬\n",
      "[[107  11]\n",
      " [ 14  47]]\n",
      "정확도: 0.8603, 정밀도: 0.8103, 재현율: 0.7705\n",
      "\n",
      "임곗값 : 0.55\n",
      "오차 행렬\n",
      "[[111   7]\n",
      " [ 15  46]]\n",
      "정확도: 0.8771, 정밀도: 0.8679, 재현율: 0.7541\n",
      "\n",
      "임곗값 : 0.6\n",
      "오차 행렬\n",
      "[[111   7]\n",
      " [ 17  44]]\n",
      "정확도: 0.8659, 정밀도: 0.8627, 재현율: 0.7213\n",
      "\n"
     ]
    }
   ],
   "source": [
    "th = [0.4, 0.45, 0.50, 0.55, 0.60]\n",
    "\n",
    "for i in th:\n",
    "    print('임곗값 :',i)\n",
    "    pred_proba_1 = pred_proba[:,1].reshape(-1,1)\n",
    "    binarizer = Binarizer(threshold=i).fit(pred_proba_1) \n",
    "    custom_predict = binarizer.transform(pred_proba_1)\n",
    "    get_clf_eval(y_test , custom_predict)\n",
    "    print()\n"
   ]
  },
  {
   "cell_type": "code",
   "execution_count": 225,
   "id": "f6bb7664-d1d7-4591-acc3-fd59254b130c",
   "metadata": {
    "collapsed": true,
    "jupyter": {
     "outputs_hidden": true
    },
    "tags": []
   },
   "outputs": [
    {
     "data": {
      "text/plain": [
       "array([0.47604512, 0.10930406, 0.12206425, 0.13480657, 0.15964559,\n",
       "       0.13252714, 0.09627786, 0.8115267 , 0.2539835 , 0.64808615,\n",
       "       0.0997891 , 0.12698114, 0.11560016, 0.09107865, 0.45832582,\n",
       "       0.14344656, 0.08452345, 0.28515812, 0.2894898 , 0.83999299,\n",
       "       0.28696564, 0.34614878, 0.14825395, 0.182083  , 0.09145431,\n",
       "       0.24160208, 0.15950922, 0.05847119, 0.31391985, 0.32224706,\n",
       "       0.91829342, 0.79572932, 0.12842057, 0.84610232, 0.36533349,\n",
       "       0.25310831, 0.06263112, 0.61324376, 0.05050148, 0.10310615,\n",
       "       0.42301785, 0.07732447, 0.82516327, 0.74464126, 0.71617964,\n",
       "       0.71619688, 0.89578486, 0.31366262, 0.95282569, 0.09148933,\n",
       "       0.45205265, 0.10184339, 0.1344289 , 0.73624321, 0.36138712,\n",
       "       0.19504734, 0.23283679, 0.11559447, 0.14992296, 0.462849  ,\n",
       "       0.31354185, 0.10058551, 0.47904925, 0.6532968 , 0.33491053,\n",
       "       0.08319643, 0.65729397, 0.57757672, 0.95263778, 0.13810866,\n",
       "       0.12437178, 0.16505902, 0.10310886, 0.93618231, 0.21898108,\n",
       "       0.09632676, 0.36484058, 0.19196084, 0.85708712, 0.10942372,\n",
       "       0.79630533, 0.66033317, 0.95913934, 0.1369502 , 0.94974751,\n",
       "       0.93464106, 0.14840363, 0.12241544, 0.89395223, 0.10184339,\n",
       "       0.09107865, 0.25310831, 0.2582285 , 0.09632676, 0.69041227,\n",
       "       0.07314542, 0.94741613, 0.09966901, 0.38254828, 0.95708281,\n",
       "       0.48179416, 0.09123571, 0.93136101, 0.08602961, 0.52534043,\n",
       "       0.12273386, 0.14350445, 0.14563215, 0.43027468, 0.24847153,\n",
       "       0.12465837, 0.10846371, 0.42311442, 0.63735804, 0.09672177,\n",
       "       0.0694694 , 0.13303432, 0.22942581, 0.90414716, 0.06577035,\n",
       "       0.09631733, 0.13269669, 0.0662776 , 0.30237164, 0.00936386,\n",
       "       0.09631733, 0.11114326, 0.36988074, 0.66908341, 0.22239619,\n",
       "       0.95708281, 0.4844208 , 0.73307121, 0.41897274, 0.53826985,\n",
       "       0.30559302, 0.77053042, 0.12728405, 0.09225153, 0.84628642,\n",
       "       0.89645238, 0.1381083 , 0.12096892, 0.09728716, 0.08033887,\n",
       "       0.67760336, 0.06901355, 0.2496363 , 0.88148919, 0.18514574,\n",
       "       0.50458889, 0.60967803, 0.62662752, 0.11553047, 0.79185407,\n",
       "       0.86087344, 0.44452195, 0.1208654 , 0.77312673, 0.7016873 ,\n",
       "       0.15309536, 0.82417197, 0.08952988, 0.65721091, 0.4104068 ,\n",
       "       0.62594332, 0.86664215, 0.43697486, 0.0899829 , 0.90380113,\n",
       "       0.09103215, 0.86201563, 0.28041947, 0.26918134, 0.36883618,\n",
       "       0.05919178, 0.12897638, 0.47835703, 0.57235151])"
      ]
     },
     "execution_count": 225,
     "metadata": {},
     "output_type": "execute_result"
    }
   ],
   "source": [
    "pred_proba_class1"
   ]
  },
  {
   "cell_type": "code",
   "execution_count": 226,
   "id": "23845b30-0ba5-49c7-9452-53d043026213",
   "metadata": {},
   "outputs": [
    {
     "data": {
      "text/plain": [
       "array([  0,  15,  30,  45,  60,  75,  90, 105, 120, 135])"
      ]
     },
     "execution_count": 226,
     "metadata": {},
     "output_type": "execute_result"
    }
   ],
   "source": [
    "thr_index "
   ]
  },
  {
   "cell_type": "code",
   "execution_count": 224,
   "id": "b022b977",
   "metadata": {},
   "outputs": [
    {
     "name": "stdout",
     "output_type": "stream",
     "text": [
      "반환된 분류 결정 임곗값 배열의 Shape: (141,)\n",
      "반환된 precisions 배열의 Shape: (142,)\n",
      "반환된 recalls 배열의 Shape: (142,)\n",
      "thresholds 5 sample: [0.10310615 0.10310886 0.10846371 0.10930406 0.10942372]\n",
      "precisions 5 sample: [0.42657343 0.42253521 0.42553191 0.42857143 0.42446043]\n",
      "recalls 5 sample: [1.         0.98360656 0.98360656 0.98360656 0.96721311]\n",
      "샘플 추출을 위한 임계값 배열의 index 10개: [  0  15  30  45  60  75  90 105 120 135]\n",
      "샘플용 10개의 임곗값:  [0.1  0.12 0.15 0.23 0.31 0.43 0.58 0.72 0.85 0.95]\n",
      "샘플 임계값별 정밀도:  [0.427 0.438 0.496 0.571 0.671 0.746 0.865 0.919 0.955 1.   ]\n",
      "샘플 임계값별 재현율:  [1.    0.918 0.918 0.918 0.902 0.82  0.738 0.557 0.344 0.115]\n"
     ]
    }
   ],
   "source": [
    "from sklearn.metrics import precision_recall_curve\n",
    "\n",
    "# 레이블 값이 1일때의 예측 확률을 추출 \n",
    "pred_proba_class1 = lr_clf.predict_proba(X_test)[:, 1] \n",
    "\n",
    "# 실제값 데이터 셋과 레이블 값이 1일 때의 예측 확률을 precision_recall_curve 인자로 입력 \n",
    "precisions, recalls, thresholds = precision_recall_curve(y_test, pred_proba_class1 )\n",
    "print('반환된 분류 결정 임곗값 배열의 Shape:', thresholds.shape)\n",
    "print('반환된 precisions 배열의 Shape:', precisions.shape)\n",
    "print('반환된 recalls 배열의 Shape:', recalls.shape)\n",
    "\n",
    "print(\"thresholds 5 sample:\", thresholds[:5])\n",
    "print(\"precisions 5 sample:\", precisions[:5])\n",
    "print(\"recalls 5 sample:\", recalls[:5])\n",
    "\n",
    "#반환된 임계값 배열 로우가 147건이므로 샘플로 10건만 추출하되, 임곗값을 15 Step으로 추출. \n",
    "thr_index = np.arange(0, thresholds.shape[0], 15)\n",
    "print('샘플 추출을 위한 임계값 배열의 index 10개:', thr_index)\n",
    "print('샘플용 10개의 임곗값: ', np.round(thresholds[thr_index], 2))\n",
    "\n",
    "# 15 step 단위로 추출된 임계값에 따른 정밀도와 재현율 값 \n",
    "print('샘플 임계값별 정밀도: ', np.round(precisions[thr_index], 3))\n",
    "print('샘플 임계값별 재현율: ', np.round(recalls[thr_index], 3))"
   ]
  },
  {
   "cell_type": "code",
   "execution_count": 227,
   "id": "b64f7027",
   "metadata": {},
   "outputs": [
    {
     "name": "stdout",
     "output_type": "stream",
     "text": [
      "141\n"
     ]
    },
    {
     "data": {
      "image/png": "[encoded data removed]",
      "text/plain": [
       "<Figure size 576x432 with 1 Axes>"
      ]
     },
     "metadata": {
      "needs_background": "light"
     },
     "output_type": "display_data"
    }
   ],
   "source": [
    "import matplotlib.pyplot as plt\n",
    "import matplotlib.ticker as ticker\n",
    "%matplotlib inline\n",
    "\n",
    "def precision_recall_curve_plot(y_test , pred_proba_c1):\n",
    "\n",
    "    precisions, recalls, thresholds = precision_recall_curve( y_test, pred_proba_c1)\n",
    "    \n",
    "    plt.figure(figsize=(8,6))\n",
    "    threshold_boundary = thresholds.shape[0]\n",
    "    # print(thresholds.shape[0]) 141\n",
    "    plt.plot(thresholds, precisions[0:threshold_boundary], linestyle='--', label='precision')\n",
    "    plt.plot(thresholds, recalls[0:threshold_boundary],label='recall')\n",
    "    \n",
    "\n",
    "    start, end = plt.xlim()\n",
    "    plt.xticks(np.round(np.arange(start, end, 0.1),2))\n",
    "\n",
    "    plt.xlabel('Threshold value')\n",
    "    plt.ylabel('Precision and Recall value')\n",
    "    plt.legend(); plt.grid()\n",
    "    plt.show()\n",
    "    \n",
    "precision_recall_curve_plot( y_test, lr_clf.predict_proba(X_test)[:, 1] )\n"
   ]
  },
  {
   "cell_type": "code",
   "execution_count": 228,
   "id": "48befe2f",
   "metadata": {},
   "outputs": [
    {
     "name": "stdout",
     "output_type": "stream",
     "text": [
      "F1 스코어: 0.7863\n"
     ]
    }
   ],
   "source": [
    "from sklearn.metrics import f1_score \n",
    "f1 = f1_score(y_test , pred)\n",
    "print('F1 스코어: {0:.4f}'.format(f1))\n"
   ]
  },
  {
   "cell_type": "code",
   "execution_count": 229,
   "id": "8f419a02",
   "metadata": {
    "scrolled": true
   },
   "outputs": [
    {
     "name": "stdout",
     "output_type": "stream",
     "text": [
      "오차 행렬\n",
      "[[108  10]\n",
      " [ 15  46]]\n",
      "정확도: 0.8603, 정밀도: 0.8214, 재현율: 0.7541, F1:0.7863\n"
     ]
    }
   ],
   "source": [
    "def get_clf_eval(y_test , pred):\n",
    "    confusion = confusion_matrix( y_test, pred)\n",
    "    accuracy = accuracy_score(y_test , pred)\n",
    "    precision = precision_score(y_test , pred)\n",
    "    recall = recall_score(y_test , pred)\n",
    "    # F1 스코어 추가\n",
    "    f1 = f1_score(y_test,pred)\n",
    "    print('오차 행렬')\n",
    "    print(confusion)\n",
    "    # f1 score print 추가\n",
    "    print('정확도: {0:.4f}, 정밀도: {1:.4f}, 재현율: {2:.4f}, F1:{3:.4f}'.format(accuracy, precision, recall, f1))\n",
    "\n",
    "get_clf_eval(y_test , custom_predict)"
   ]
  },
  {
   "cell_type": "markdown",
   "id": "c4451c6c",
   "metadata": {},
   "source": [
    "## 3-5 ROC Curve와 AUC"
   ]
  },
  {
   "cell_type": "code",
   "execution_count": 235,
   "id": "f74d72d4-7f71-4815-a1c2-a994907b3a9e",
   "metadata": {},
   "outputs": [
    {
     "data": {
      "text/plain": [
       "array([0.        , 0.        , 0.        , 0.        , 0.00847458,\n",
       "       0.00847458, 0.01694915, 0.01694915, 0.02542373, 0.02542373,\n",
       "       0.03389831, 0.03389831, 0.05932203, 0.05932203, 0.08474576,\n",
       "       0.08474576, 0.09322034, 0.09322034, 0.10169492, 0.10169492,\n",
       "       0.13559322, 0.13559322, 0.1440678 , 0.1440678 , 0.19491525,\n",
       "       0.19491525, 0.21186441, 0.21186441, 0.22881356, 0.22881356,\n",
       "       0.31355932, 0.33050847, 0.33898305, 0.33898305, 0.61864407,\n",
       "       0.61864407, 0.6779661 , 0.6779661 , 0.69491525, 0.69491525,\n",
       "       0.71186441, 0.75423729, 0.78813559, 0.83050847, 0.84745763,\n",
       "       1.        ])"
      ]
     },
     "execution_count": 235,
     "metadata": {},
     "output_type": "execute_result"
    }
   ],
   "source": [
    "fprs"
   ]
  },
  {
   "cell_type": "code",
   "execution_count": 236,
   "id": "cd370078",
   "metadata": {},
   "outputs": [
    {
     "name": "stdout",
     "output_type": "stream",
     "text": [
      "샘플 추출을 위한 임곗값 배열의 index: [ 1  6 11 16 21 26 31 36 41]\n",
      "샘플 index로 추출한 임곗값:  [0.96 0.77 0.64 0.48 0.44 0.35 0.25 0.11 0.1 ]\n",
      "샘플 임곗값별 FPR:  [0.    0.017 0.034 0.093 0.136 0.212 0.331 0.678 0.754]\n",
      "샘플 임곗값별 TPR:  [0.016 0.475 0.705 0.77  0.82  0.869 0.902 0.951 1.   ]\n"
     ]
    }
   ],
   "source": [
    "from sklearn.metrics import roc_curve\n",
    "\n",
    "# 레이블 값이 1일때의 예측 확률을 추출 \n",
    "pred_proba_class1 = lr_clf.predict_proba(X_test)[:, 1] \n",
    "\n",
    "fprs , tprs , thresholds = roc_curve(y_test, pred_proba_class1)\n",
    "# 반환된 임곗값 배열에서 샘플로 데이터를 추출하되, 임곗값을 5 Step으로 추출. \n",
    "# thresholds[0]은 max(예측확률)+1로 임의 설정됨. 이를 제외하기 위해 np.arange는 1부터 시작\n",
    "thr_index = np.arange(1, thresholds.shape[0], 5)\n",
    "print('샘플 추출을 위한 임곗값 배열의 index:', thr_index)\n",
    "print('샘플 index로 추출한 임곗값: ', np.round(thresholds[thr_index], 2))\n",
    "\n",
    "# 5 step 단위로 추출된 임계값에 따른 FPR, TPR 값\n",
    "print('샘플 임곗값별 FPR: ', np.round(fprs[thr_index], 3))\n",
    "print('샘플 임곗값별 TPR: ', np.round(tprs[thr_index], 3))\n"
   ]
  },
  {
   "cell_type": "code",
   "execution_count": 99,
   "id": "5dc2271a",
   "metadata": {},
   "outputs": [
    {
     "data": {
      "image/png": "[encoded data removed]",
      "text/plain": [
       "<Figure size 432x288 with 1 Axes>"
      ]
     },
     "metadata": {
      "needs_background": "light"
     },
     "output_type": "display_data"
    }
   ],
   "source": [
    "def roc_curve_plot(y_test , pred_proba_c1):\n",
    "    # 임곗값에 따른 FPR, TPR 값을 반환 받음. \n",
    "    fprs , tprs , thresholds = roc_curve(y_test ,pred_proba_c1)\n",
    "\n",
    "    # ROC Curve를 plot 곡선으로 그림. \n",
    "    plt.plot(fprs , tprs, label='ROC')\n",
    "    # 가운데 대각선 직선을 그림. \n",
    "    plt.plot([0, 1], [0, 1], 'k--', label='Random')\n",
    "    \n",
    "    # FPR X 축의 Scale을 0.1 단위로 변경, X,Y 축명 설정등   \n",
    "    start, end = plt.xlim()\n",
    "    plt.xticks(np.round(np.arange(start, end, 0.1),2))\n",
    "    plt.xlim(-0.1,1); plt.ylim(0,1.1)\n",
    "    plt.xlabel('FPR( 1 - Sensitivity )'); plt.ylabel('TPR( Recall )')\n",
    "    plt.legend()\n",
    "    plt.show()\n",
    "    \n",
    "roc_curve_plot(y_test, lr_clf.predict_proba(X_test)[:, 1] )\n"
   ]
  },
  {
   "cell_type": "code",
   "execution_count": 230,
   "id": "7bb5ce02",
   "metadata": {
    "tags": []
   },
   "outputs": [
    {
     "name": "stdout",
     "output_type": "stream",
     "text": [
      "ROC AUC 값: 0.9072\n"
     ]
    }
   ],
   "source": [
    "from sklearn.metrics import roc_auc_score\n",
    "\n",
    "### 아래는 roc_auc_score()의 인자를 잘못 입력한 것으로, 책에서 수정이 필요한 부분입니다. \n",
    "### 책에서는 roc_auc_score(y_test, pred)로 예측 타겟값을 입력하였으나 \n",
    "### roc_auc_score(y_test, y_score)로 y_score는 predict_proba()로 호출된 예측 확률 ndarray중 Positive 열에 해당하는 ndarray입니다. \n",
    "\n",
    "#pred = lr_clf.predict(X_test)\n",
    "#roc_score = roc_auc_score(y_test, pred)\n",
    "\n",
    "pred_proba = lr_clf.predict_proba(X_test)[:, 1]\n",
    "roc_score = roc_auc_score(y_test, pred_proba)\n",
    "print('ROC AUC 값: {0:.4f}'.format(roc_score))\n"
   ]
  },
  {
   "cell_type": "code",
   "execution_count": 237,
   "id": "53b276f2",
   "metadata": {},
   "outputs": [
    {
     "name": "stdout",
     "output_type": "stream",
     "text": [
      "오차 행렬\n",
      "[[108  10]\n",
      " [ 15  46]]\n",
      "정확도: 0.8603, 정밀도: 0.8214, 재현율: 0.7541, F1: 0.7863, AUC:0.9072\n"
     ]
    }
   ],
   "source": [
    "# pred 결과반환 1 - 0 - 1 - 0\n",
    "# pred_proba 확률반환 55,45 - 60,40 - 38,62 \n",
    "#ROC만 pred_proba사용\n",
    "\n",
    "def get_clf_eval(y_test, pred=None, pred_proba=None):\n",
    "    confusion = confusion_matrix( y_test, pred)\n",
    "    accuracy = accuracy_score(y_test , pred)\n",
    "    precision = precision_score(y_test , pred)\n",
    "    recall = recall_score(y_test , pred)\n",
    "    f1 = f1_score(y_test,pred)\n",
    "    # ROC-AUC 추가 \n",
    "    roc_auc = roc_auc_score(y_test, pred_proba)\n",
    "    print('오차 행렬')\n",
    "    print(confusion)\n",
    "    # ROC-AUC print 추가\n",
    "    print('정확도: {0:.4f}, 정밀도: {1:.4f}, 재현율: {2:.4f}, F1: {3:.4f}, AUC:{4:.4f}'.format(accuracy, precision, recall, f1, roc_auc))\n",
    "    \n",
    "get_clf_eval(y_test ,pred,pred_proba)"
   ]
  },
  {
   "cell_type": "code",
   "execution_count": null,
   "id": "8032b5f3-1b55-4f61-9f9a-f59329278cce",
   "metadata": {},
   "outputs": [],
   "source": []
  }
 ],
 "metadata": {
  "kernelspec": {
   "display_name": "Python 3 (ipykernel)",
   "language": "python",
   "name": "python3"
  },
  "language_info": {
   "codemirror_mode": {
    "name": "ipython",
    "version": 3
   },
   "file_extension": ".py",
   "mimetype": "text/x-python",
   "name": "python",
   "nbconvert_exporter": "python",
   "pygments_lexer": "ipython3",
   "version": "3.8.12"
  }
 },
 "nbformat": 4,
 "nbformat_minor": 5
}
