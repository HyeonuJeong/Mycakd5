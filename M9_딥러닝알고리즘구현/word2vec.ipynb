{
  "nbformat": 4,
  "nbformat_minor": 0,
  "metadata": {
    "colab": {
      "name": "word2vec.ipynb",
      "provenance": [],
      "machine_shape": "hm",
      "include_colab_link": true
    },
    "kernelspec": {
      "name": "python3",
      "display_name": "Python 3"
    },
    "language_info": {
      "name": "python"
    }
  },
  "cells": [
    {
      "cell_type": "markdown",
      "metadata": {
        "id": "view-in-github",
        "colab_type": "text"
      },
      "source": [
        "<a href=\"https://colab.research.google.com/github/HyeonuJeong/Mycakd5/blob/main/M9_%EB%94%A5%EB%9F%AC%EB%8B%9D%EC%95%8C%EA%B3%A0%EB%A6%AC%EC%A6%98%EA%B5%AC%ED%98%84/word2vec.ipynb\" target=\"_parent\"><img src=\"https://colab.research.google.com/assets/colab-badge.svg\" alt=\"Open In Colab\"/></a>"
      ]
    },
    {
      "cell_type": "code",
      "execution_count": null,
      "metadata": {
        "colab": {
          "base_uri": "https://localhost:8080/"
        },
        "id": "dEdylI3dvJSs",
        "outputId": "e1502ad4-0be1-485c-f40a-aabc4ae4a83b"
      },
      "outputs": [
        {
          "output_type": "stream",
          "name": "stdout",
          "text": [
            "['평생', '살', '것처럼', '꿈을', '꾸어라.', '그리고', '내일', '죽을', '것처럼', '오늘을', '살아라.'] \n",
            "\n",
            "['것처럼', '죽을', '오늘을', '살', '살아라.', '평생', '꿈을', '그리고', '꾸어라.', '내일'] \n",
            "\n",
            "{'것처럼': 0, '죽을': 1, '오늘을': 2, '살': 3, '살아라.': 4, '평생': 5, '꿈을': 6, '그리고': 7, '꾸어라.': 8, '내일': 9} \n",
            "\n"
          ]
        },
        {
          "output_type": "execute_result",
          "data": {
            "text/plain": [
              "[5, 3, 0, 6, 8, 7, 9, 1, 0, 2, 4]"
            ]
          },
          "metadata": {},
          "execution_count": 4
        }
      ],
      "source": [
        "text = \"평생 살 것처럼 꿈을 꾸어라. 그리고 내일 죽을 것처럼 오늘을 살아라.\"\n",
        "\n",
        "tokens = [x for x in text.split(' ')]\n",
        "print(tokens,'\\n')\n",
        "unique = set(tokens)\n",
        "unique = list(unique)\n",
        "print(unique,'\\n')\n",
        "token2idx = {}\n",
        "for i in range(len(unique)):\n",
        "  token2idx[unique[i]] = i\n",
        "print(token2idx, '\\n')\n",
        "encode = [token2idx[x] for x in tokens]\n",
        "encode"
      ]
    },
    {
      "cell_type": "markdown",
      "source": [
        "[과제] 상기 작업을 keras를 이용하여 수행하세요."
      ],
      "metadata": {
        "id": "RziDgflZxDCs"
      }
    },
    {
      "cell_type": "markdown",
      "source": [
        "imdb 데이터 셋을 가져와서 다음 사항을 기준으로 감정분석을 수행하세요.\n",
        "- num_words = 1000, max_len=100"
      ],
      "metadata": {
        "id": "Ev-5WtuZ3nDM"
      }
    },
    {
      "cell_type": "code",
      "source": [
        "from tensorflow.keras.datasets import imdb\n",
        "from tensorflow.keras.models import Sequential\n",
        "from tensorflow.keras.layers import Embedding, Dense, Flatten\n",
        "\n",
        "num_words = 1000\n",
        "(x_train,y_train),(x_test,y_test) = imdb.load_data(num_words=num_words)"
      ],
      "metadata": {
        "colab": {
          "base_uri": "https://localhost:8080/"
        },
        "id": "aqImFKqBxLei",
        "outputId": "20d93b3f-74bb-4dc3-845f-93d1f230cf33"
      },
      "execution_count": null,
      "outputs": [
        {
          "output_type": "stream",
          "name": "stdout",
          "text": [
            "Downloading data from https://storage.googleapis.com/tensorflow/tf-keras-datasets/imdb.npz\n",
            "17465344/17464789 [==============================] - 0s 0us/step\n",
            "17473536/17464789 [==============================] - 0s 0us/step\n"
          ]
        }
      ]
    },
    {
      "cell_type": "code",
      "source": [
        "for i in range(10):\n",
        "  if y_train[i] == 0:\n",
        "    label = '부정'\n",
        "  else:\n",
        "    label = '긍정'\n",
        "  print(f'{x_train[i]}\\n{label}')"
      ],
      "metadata": {
        "colab": {
          "base_uri": "https://localhost:8080/"
        },
        "id": "z_fnMExTxxxk",
        "outputId": "d5176183-347c-4d42-bc01-146ed58e5766"
      },
      "execution_count": null,
      "outputs": [
        {
          "output_type": "stream",
          "name": "stdout",
          "text": [
            "[1, 14, 22, 16, 43, 530, 973, 2, 2, 65, 458, 2, 66, 2, 4, 173, 36, 256, 5, 25, 100, 43, 838, 112, 50, 670, 2, 9, 35, 480, 284, 5, 150, 4, 172, 112, 167, 2, 336, 385, 39, 4, 172, 2, 2, 17, 546, 38, 13, 447, 4, 192, 50, 16, 6, 147, 2, 19, 14, 22, 4, 2, 2, 469, 4, 22, 71, 87, 12, 16, 43, 530, 38, 76, 15, 13, 2, 4, 22, 17, 515, 17, 12, 16, 626, 18, 2, 5, 62, 386, 12, 8, 316, 8, 106, 5, 4, 2, 2, 16, 480, 66, 2, 33, 4, 130, 12, 16, 38, 619, 5, 25, 124, 51, 36, 135, 48, 25, 2, 33, 6, 22, 12, 215, 28, 77, 52, 5, 14, 407, 16, 82, 2, 8, 4, 107, 117, 2, 15, 256, 4, 2, 7, 2, 5, 723, 36, 71, 43, 530, 476, 26, 400, 317, 46, 7, 4, 2, 2, 13, 104, 88, 4, 381, 15, 297, 98, 32, 2, 56, 26, 141, 6, 194, 2, 18, 4, 226, 22, 21, 134, 476, 26, 480, 5, 144, 30, 2, 18, 51, 36, 28, 224, 92, 25, 104, 4, 226, 65, 16, 38, 2, 88, 12, 16, 283, 5, 16, 2, 113, 103, 32, 15, 16, 2, 19, 178, 32]\n",
            "긍정\n",
            "[1, 194, 2, 194, 2, 78, 228, 5, 6, 2, 2, 2, 134, 26, 4, 715, 8, 118, 2, 14, 394, 20, 13, 119, 954, 189, 102, 5, 207, 110, 2, 21, 14, 69, 188, 8, 30, 23, 7, 4, 249, 126, 93, 4, 114, 9, 2, 2, 5, 647, 4, 116, 9, 35, 2, 4, 229, 9, 340, 2, 4, 118, 9, 4, 130, 2, 19, 4, 2, 5, 89, 29, 952, 46, 37, 4, 455, 9, 45, 43, 38, 2, 2, 398, 4, 2, 26, 2, 5, 163, 11, 2, 2, 4, 2, 9, 194, 775, 7, 2, 2, 349, 2, 148, 605, 2, 2, 15, 123, 125, 68, 2, 2, 15, 349, 165, 2, 98, 5, 4, 228, 9, 43, 2, 2, 15, 299, 120, 5, 120, 174, 11, 220, 175, 136, 50, 9, 2, 228, 2, 5, 2, 656, 245, 2, 5, 4, 2, 131, 152, 491, 18, 2, 32, 2, 2, 14, 9, 6, 371, 78, 22, 625, 64, 2, 9, 8, 168, 145, 23, 4, 2, 15, 16, 4, 2, 5, 28, 6, 52, 154, 462, 33, 89, 78, 285, 16, 145, 95]\n",
            "부정\n",
            "[1, 14, 47, 8, 30, 31, 7, 4, 249, 108, 7, 4, 2, 54, 61, 369, 13, 71, 149, 14, 22, 112, 4, 2, 311, 12, 16, 2, 33, 75, 43, 2, 296, 4, 86, 320, 35, 534, 19, 263, 2, 2, 4, 2, 33, 89, 78, 12, 66, 16, 4, 360, 7, 4, 58, 316, 334, 11, 4, 2, 43, 645, 662, 8, 257, 85, 2, 42, 2, 2, 83, 68, 2, 15, 36, 165, 2, 278, 36, 69, 2, 780, 8, 106, 14, 2, 2, 18, 6, 22, 12, 215, 28, 610, 40, 6, 87, 326, 23, 2, 21, 23, 22, 12, 272, 40, 57, 31, 11, 4, 22, 47, 6, 2, 51, 9, 170, 23, 595, 116, 595, 2, 13, 191, 79, 638, 89, 2, 14, 9, 8, 106, 607, 624, 35, 534, 6, 227, 7, 129, 113]\n",
            "부정\n",
            "[1, 4, 2, 2, 33, 2, 4, 2, 432, 111, 153, 103, 4, 2, 13, 70, 131, 67, 11, 61, 2, 744, 35, 2, 761, 61, 2, 452, 2, 4, 985, 7, 2, 59, 166, 4, 105, 216, 2, 41, 2, 9, 15, 7, 35, 744, 2, 31, 8, 4, 687, 23, 4, 2, 2, 6, 2, 42, 38, 39, 121, 59, 456, 10, 10, 7, 265, 12, 575, 111, 153, 159, 59, 16, 2, 21, 25, 586, 482, 39, 4, 96, 59, 716, 12, 4, 172, 65, 9, 579, 11, 2, 4, 2, 5, 2, 7, 2, 17, 13, 2, 12, 19, 6, 464, 31, 314, 11, 2, 6, 719, 605, 11, 8, 202, 27, 310, 4, 2, 2, 8, 2, 58, 10, 10, 537, 2, 180, 40, 14, 413, 173, 7, 263, 112, 37, 152, 377, 4, 537, 263, 846, 579, 178, 54, 75, 71, 476, 36, 413, 263, 2, 182, 5, 17, 75, 2, 922, 36, 279, 131, 2, 17, 2, 42, 17, 35, 921, 2, 192, 5, 2, 2, 19, 2, 217, 2, 2, 537, 2, 2, 5, 736, 10, 10, 61, 403, 9, 2, 40, 61, 2, 5, 27, 2, 159, 90, 263, 2, 2, 309, 8, 178, 5, 82, 2, 4, 65, 15, 2, 145, 143, 2, 12, 2, 537, 746, 537, 537, 15, 2, 4, 2, 594, 7, 2, 94, 2, 2, 2, 11, 2, 4, 538, 7, 2, 246, 2, 9, 2, 11, 635, 14, 9, 51, 408, 12, 94, 318, 2, 12, 47, 6, 2, 936, 5, 2, 2, 19, 49, 7, 4, 2, 2, 2, 25, 80, 126, 842, 10, 10, 2, 2, 2, 27, 2, 11, 2, 2, 159, 27, 341, 29, 2, 19, 2, 173, 7, 90, 2, 8, 30, 11, 4, 2, 86, 2, 8, 2, 46, 11, 2, 21, 29, 9, 2, 23, 4, 2, 2, 793, 6, 2, 2, 2, 10, 10, 246, 50, 9, 6, 2, 2, 746, 90, 29, 2, 8, 124, 4, 882, 4, 882, 496, 27, 2, 2, 537, 121, 127, 2, 130, 5, 29, 494, 8, 124, 4, 882, 496, 4, 341, 7, 27, 846, 10, 10, 29, 9, 2, 8, 97, 6, 236, 2, 2, 8, 4, 2, 7, 31, 7, 2, 91, 2, 2, 70, 4, 882, 30, 579, 42, 9, 12, 32, 11, 537, 10, 10, 11, 14, 65, 44, 537, 75, 2, 2, 2, 2, 2, 4, 2, 7, 154, 5, 4, 518, 53, 2, 2, 7, 2, 882, 11, 399, 38, 75, 257, 2, 19, 2, 17, 29, 456, 4, 65, 7, 27, 205, 113, 10, 10, 2, 4, 2, 2, 9, 242, 4, 91, 2, 2, 5, 2, 307, 22, 7, 2, 126, 93, 40, 2, 13, 188, 2, 2, 19, 4, 2, 7, 2, 537, 23, 53, 537, 21, 82, 40, 2, 13, 2, 14, 280, 13, 219, 4, 2, 431, 758, 859, 4, 953, 2, 2, 7, 2, 5, 94, 40, 25, 238, 60, 2, 4, 2, 804, 2, 7, 4, 2, 132, 8, 67, 6, 22, 15, 9, 283, 8, 2, 14, 31, 9, 242, 955, 48, 25, 279, 2, 23, 12, 2, 195, 25, 238, 60, 796, 2, 4, 671, 7, 2, 5, 4, 559, 154, 888, 7, 726, 50, 26, 49, 2, 15, 566, 30, 579, 21, 64, 2]\n",
            "긍정\n",
            "[1, 249, 2, 7, 61, 113, 10, 10, 13, 2, 14, 20, 56, 33, 2, 18, 457, 88, 13, 2, 2, 45, 2, 13, 70, 79, 49, 706, 919, 13, 16, 355, 340, 355, 2, 96, 143, 4, 22, 32, 289, 7, 61, 369, 71, 2, 5, 13, 16, 131, 2, 249, 114, 249, 229, 249, 20, 13, 28, 126, 110, 13, 473, 8, 569, 61, 419, 56, 429, 6, 2, 18, 35, 534, 95, 474, 570, 5, 25, 124, 138, 88, 12, 421, 2, 52, 725, 2, 61, 419, 11, 13, 2, 15, 2, 20, 11, 4, 2, 5, 296, 12, 2, 5, 15, 421, 128, 74, 233, 334, 207, 126, 224, 12, 562, 298, 2, 2, 7, 2, 5, 516, 988, 43, 8, 79, 120, 15, 595, 13, 784, 25, 2, 18, 165, 170, 143, 19, 14, 5, 2, 6, 226, 251, 7, 61, 113]\n",
            "부정\n",
            "[1, 778, 128, 74, 12, 630, 163, 15, 4, 2, 2, 2, 2, 32, 85, 156, 45, 40, 148, 139, 121, 664, 665, 10, 10, 2, 173, 4, 749, 2, 16, 2, 8, 4, 226, 65, 12, 43, 127, 24, 2, 10, 10]\n",
            "부정\n",
            "[1, 2, 365, 2, 5, 2, 354, 11, 14, 2, 2, 7, 2, 2, 2, 356, 44, 4, 2, 500, 746, 5, 200, 4, 2, 11, 2, 2, 2, 2, 2, 5, 2, 26, 6, 2, 2, 17, 369, 37, 215, 2, 143, 2, 5, 2, 8, 2, 15, 36, 119, 257, 85, 52, 486, 9, 6, 2, 2, 63, 271, 6, 196, 96, 949, 2, 4, 2, 7, 4, 2, 2, 819, 63, 47, 77, 2, 180, 6, 227, 11, 94, 2, 2, 13, 423, 4, 168, 7, 4, 22, 5, 89, 665, 71, 270, 56, 5, 13, 197, 12, 161, 2, 99, 76, 23, 2, 7, 419, 665, 40, 91, 85, 108, 7, 4, 2, 5, 2, 81, 55, 52, 2]\n",
            "긍정\n",
            "[1, 4, 2, 716, 4, 65, 7, 4, 689, 2, 2, 2, 2, 2, 2, 2, 2, 2, 2, 2, 2, 2, 4, 2, 628, 2, 37, 9, 150, 4, 2, 2, 11, 2, 4, 2, 847, 313, 6, 176, 2, 9, 2, 138, 9, 2, 19, 4, 96, 183, 26, 4, 192, 15, 27, 2, 799, 2, 2, 588, 84, 11, 4, 2, 152, 339, 2, 42, 2, 2, 2, 345, 2, 2, 142, 43, 218, 208, 54, 29, 853, 659, 46, 4, 882, 183, 80, 115, 30, 4, 172, 174, 10, 10, 2, 398, 2, 2, 526, 34, 2, 2, 2, 2, 17, 4, 2, 2, 871, 64, 85, 22, 2, 2, 38, 230, 9, 4, 2, 2, 251, 2, 2, 195, 301, 14, 16, 31, 7, 4, 2, 8, 783, 2, 33, 4, 2, 103, 465, 2, 42, 845, 45, 446, 11, 2, 19, 184, 76, 32, 4, 2, 207, 110, 13, 197, 4, 2, 16, 601, 964, 2, 595, 13, 258, 4, 2, 66, 338, 55, 2, 4, 550, 728, 65, 2, 8, 2, 61, 2, 42, 2, 61, 602, 120, 45, 2, 6, 320, 786, 99, 196, 2, 786, 2, 4, 225, 4, 373, 2, 33, 4, 130, 63, 69, 72, 2, 46, 2, 225, 14, 66, 194, 2, 2, 56, 8, 803, 2, 6, 2, 155, 11, 4, 2, 2, 45, 853, 2, 8, 30, 6, 117, 430, 19, 6, 2, 9, 15, 66, 424, 8, 2, 178, 9, 15, 66, 424, 8, 2, 178, 9, 15, 66, 142, 15, 9, 424, 8, 28, 178, 662, 44, 12, 17, 4, 130, 898, 2, 9, 6, 2, 267, 185, 430, 4, 118, 2, 277, 15, 4, 2, 100, 216, 56, 19, 4, 357, 114, 2, 367, 45, 115, 93, 788, 121, 4, 2, 79, 32, 68, 278, 39, 8, 818, 162, 2, 237, 600, 7, 98, 306, 8, 157, 549, 628, 11, 6, 2, 13, 824, 15, 2, 76, 42, 138, 36, 774, 77, 2, 159, 150, 4, 229, 497, 8, 2, 11, 175, 251, 453, 19, 2, 189, 12, 43, 127, 6, 394, 292, 7, 2, 4, 107, 8, 4, 2, 15, 2, 2, 9, 906, 42, 2, 6, 66, 78, 22, 15, 13, 244, 2, 8, 135, 233, 52, 44, 10, 10, 466, 112, 398, 526, 34, 4, 2, 2, 2, 2, 225, 57, 599, 133, 225, 6, 227, 7, 541, 2, 6, 171, 139, 7, 539, 2, 56, 11, 6, 2, 21, 164, 25, 426, 81, 33, 344, 624, 19, 6, 2, 7, 2, 2, 6, 2, 4, 22, 9, 2, 629, 237, 45, 188, 6, 55, 655, 707, 2, 956, 225, 2, 841, 42, 2, 225, 6, 2, 2, 2, 2, 21, 4, 2, 9, 364, 23, 4, 2, 2, 225, 24, 76, 133, 18, 4, 189, 2, 10, 10, 814, 11, 2, 11, 2, 14, 47, 15, 682, 364, 352, 168, 44, 12, 45, 24, 913, 93, 21, 247, 2, 4, 116, 34, 35, 2, 8, 72, 177, 9, 164, 8, 901, 344, 44, 13, 191, 135, 13, 126, 421, 233, 18, 259, 10, 10, 4, 2, 2, 4, 2, 2, 7, 112, 199, 753, 357, 39, 63, 12, 115, 2, 763, 8, 15, 35, 2, 2, 65, 57, 599, 6, 2, 277, 2, 37, 25, 92, 202, 6, 2, 44, 25, 28, 6, 22, 15, 122, 24, 2, 72, 33, 32]\n",
            "부정\n",
            "[1, 43, 188, 46, 5, 566, 264, 51, 6, 530, 664, 14, 9, 2, 81, 25, 2, 46, 7, 6, 20, 750, 11, 141, 2, 5, 2, 2, 102, 28, 413, 38, 120, 2, 15, 4, 2, 7, 2, 142, 371, 318, 5, 955, 2, 571, 2, 2, 122, 14, 8, 72, 54, 12, 86, 385, 46, 5, 14, 20, 9, 399, 8, 72, 150, 13, 161, 124, 6, 155, 44, 14, 159, 170, 83, 12, 5, 51, 6, 866, 48, 25, 842, 4, 2, 25, 238, 79, 4, 547, 15, 14, 9, 31, 7, 148, 2, 102, 44, 35, 480, 2, 2, 19, 120, 4, 350, 228, 5, 269, 8, 28, 178, 2, 2, 7, 51, 6, 87, 65, 12, 9, 979, 21, 95, 24, 2, 178, 11, 2, 14, 9, 24, 15, 20, 4, 84, 376, 4, 65, 14, 127, 141, 6, 52, 292, 7, 2, 175, 561, 7, 68, 2, 137, 75, 2, 68, 182, 5, 235, 175, 333, 19, 98, 50, 9, 38, 76, 724, 4, 2, 15, 166, 285, 36, 140, 143, 38, 76, 53, 2, 2, 4, 2, 16, 82, 6, 87, 2, 44, 2, 2, 5, 800, 4, 2, 11, 35, 2, 96, 21, 14, 22, 9, 76, 53, 7, 6, 406, 65, 13, 43, 219, 12, 639, 21, 13, 80, 140, 5, 135, 15, 14, 9, 31, 7, 4, 118, 2, 13, 28, 126, 110]\n",
            "긍정\n",
            "[1, 14, 20, 47, 111, 439, 2, 19, 12, 15, 166, 12, 216, 125, 40, 6, 364, 352, 707, 2, 39, 294, 11, 22, 396, 13, 28, 8, 202, 12, 2, 23, 94, 2, 151, 111, 211, 469, 4, 20, 13, 258, 546, 2, 2, 12, 16, 38, 78, 33, 211, 15, 12, 16, 2, 63, 93, 12, 6, 253, 106, 10, 10, 48, 335, 267, 18, 6, 364, 2, 2, 20, 19, 6, 2, 7, 2, 189, 5, 6, 2, 7, 2, 2, 95, 2, 6, 2, 7, 2, 2, 49, 369, 120, 5, 28, 49, 253, 10, 10, 13, 2, 19, 85, 795, 15, 4, 481, 9, 55, 78, 807, 9, 375, 8, 2, 8, 794, 76, 7, 4, 58, 5, 4, 816, 9, 243, 7, 43, 50]\n",
            "부정\n"
          ]
        }
      ]
    },
    {
      "cell_type": "code",
      "source": [
        "# pad_sequence() : 데이터의 maxlen 보다 길면 데이터를 자름\n",
        "from tensorflow.keras.preprocessing.sequence import pad_sequences \n",
        "max_len = 100\n",
        "\n",
        "pad_x_train = pad_sequences(x_train, maxlen=max_len, padding='pre') # 앞에서부터 패딩을 채움\n",
        "pad_x_test = pad_sequences(x_test,maxlen=max_len, padding='pre')"
      ],
      "metadata": {
        "id": "AhlLmXo8ySwU"
      },
      "execution_count": null,
      "outputs": []
    },
    {
      "cell_type": "code",
      "source": [
        "model = Sequential()\n",
        "\n",
        "model.add(Embedding(input_dim=num_words, output_dim = 32,\n",
        "                    input_length=max_len))\n",
        "model.add(Flatten())\n",
        "model.add(Dense(1,activation='sigmoid'))\n",
        "model.summary()"
      ],
      "metadata": {
        "colab": {
          "base_uri": "https://localhost:8080/"
        },
        "id": "u2FbSugqzHPK",
        "outputId": "619e6334-8093-421d-c0ad-eea3afc45f07"
      },
      "execution_count": null,
      "outputs": [
        {
          "output_type": "stream",
          "name": "stdout",
          "text": [
            "Model: \"sequential_1\"\n",
            "_________________________________________________________________\n",
            " Layer (type)                Output Shape              Param #   \n",
            "=================================================================\n",
            " embedding_1 (Embedding)     (None, 100, 32)           32000     \n",
            "                                                                 \n",
            " flatten_1 (Flatten)         (None, 3200)              0         \n",
            "                                                                 \n",
            " dense (Dense)               (None, 1)                 3201      \n",
            "                                                                 \n",
            "=================================================================\n",
            "Total params: 35,201\n",
            "Trainable params: 35,201\n",
            "Non-trainable params: 0\n",
            "_________________________________________________________________\n"
          ]
        }
      ]
    },
    {
      "cell_type": "code",
      "source": [
        "model.compile(optimizer='rmsprop',\n",
        "              loss = 'binary_crossentropy',\n",
        "              metrics=['accuracy'])"
      ],
      "metadata": {
        "id": "LZa57j0JzyIc"
      },
      "execution_count": null,
      "outputs": []
    },
    {
      "cell_type": "code",
      "source": [
        "history = model.fit(pad_x_train,y_train,\n",
        "                    epochs=10,\n",
        "                    batch_size=32,\n",
        "                    validation_split=0.2)"
      ],
      "metadata": {
        "colab": {
          "base_uri": "https://localhost:8080/"
        },
        "id": "Akdfid3i0SrN",
        "outputId": "1684d623-d33a-47c3-da54-7ef94be139f5"
      },
      "execution_count": null,
      "outputs": [
        {
          "output_type": "stream",
          "name": "stdout",
          "text": [
            "Epoch 1/10\n",
            "625/625 [==============================] - 2s 2ms/step - loss: 0.5586 - accuracy: 0.7143 - val_loss: 0.4161 - val_accuracy: 0.8068\n",
            "Epoch 2/10\n",
            "625/625 [==============================] - 1s 2ms/step - loss: 0.3725 - accuracy: 0.8330 - val_loss: 0.3833 - val_accuracy: 0.8252\n",
            "Epoch 3/10\n",
            "625/625 [==============================] - 1s 2ms/step - loss: 0.3337 - accuracy: 0.8554 - val_loss: 0.3825 - val_accuracy: 0.8248\n",
            "Epoch 4/10\n",
            "625/625 [==============================] - 1s 2ms/step - loss: 0.3036 - accuracy: 0.8727 - val_loss: 0.3885 - val_accuracy: 0.8242\n",
            "Epoch 5/10\n",
            "625/625 [==============================] - 1s 2ms/step - loss: 0.2723 - accuracy: 0.8890 - val_loss: 0.3989 - val_accuracy: 0.8206\n",
            "Epoch 6/10\n",
            "625/625 [==============================] - 1s 2ms/step - loss: 0.2386 - accuracy: 0.9096 - val_loss: 0.4237 - val_accuracy: 0.8150\n",
            "Epoch 7/10\n",
            "625/625 [==============================] - 1s 2ms/step - loss: 0.2050 - accuracy: 0.9266 - val_loss: 0.4316 - val_accuracy: 0.8136\n",
            "Epoch 8/10\n",
            "625/625 [==============================] - 1s 2ms/step - loss: 0.1726 - accuracy: 0.9440 - val_loss: 0.4560 - val_accuracy: 0.8082\n",
            "Epoch 9/10\n",
            "625/625 [==============================] - 1s 2ms/step - loss: 0.1433 - accuracy: 0.9578 - val_loss: 0.4792 - val_accuracy: 0.8044\n",
            "Epoch 10/10\n",
            "625/625 [==============================] - 1s 2ms/step - loss: 0.1169 - accuracy: 0.9704 - val_loss: 0.5075 - val_accuracy: 0.8026\n"
          ]
        }
      ]
    },
    {
      "cell_type": "code",
      "source": [
        "# 시각화\n",
        "import matplotlib.pyplot as plt\n",
        "plt.style.use('seaborn-white')\n",
        "\n",
        "hist_dict = history.history\n",
        "\n",
        "plt.plot(hist_dict['loss'], 'b-', label='Train Loss')\n",
        "plt.plot(hist_dict['val_loss'], 'r:', label='Validation Loss')\n",
        "plt.legend()\n",
        "plt.grid()\n",
        "\n",
        "plt.figure()\n",
        "plt.plot(hist_dict['accuracy'], 'b-', label='Train Accuracy')\n",
        "plt.plot(hist_dict['val_accuracy'], 'r:', label='Validation Accuracy')\n",
        "plt.legend()\n",
        "plt.grid()\n"
      ],
      "metadata": {
        "colab": {
          "base_uri": "https://localhost:8080/",
          "height": 507
        },
        "id": "GTume6EB0hIc",
        "outputId": "138ba566-6077-4dda-b502-8ff7257a7824"
      },
      "execution_count": null,
      "outputs": [
        {
          "output_type": "display_data",
          "data": {
            "text/plain": [
              "<Figure size 432x288 with 1 Axes>"
            ],
            "image/png": "[encoded data removed]"
          },
          "metadata": {}
        },
        {
          "output_type": "display_data",
          "data": {
            "text/plain": [
              "<Figure size 432x288 with 1 Axes>"
            ],
            "image/png": "[encoded data removed]"
          },
          "metadata": {}
        }
      ]
    },
    {
      "cell_type": "markdown",
      "source": [
        "[과제] imdb 데이터 셋을 가져와서 다음 사항을 기준으로 감정분석을 수행하세요.\n",
        "- num_words = 2000, max_len=400"
      ],
      "metadata": {
        "id": "R8swmPfZ2Wu1"
      }
    },
    {
      "cell_type": "code",
      "source": [
        "from tensorflow.keras.datasets import imdb\n",
        "from tensorflow.keras.models import Sequential\n",
        "from tensorflow.keras.layers import Embedding, Dense, Flatten\n",
        "\n",
        "num_words = 2000\n",
        "(x_train,y_train),(x_test,y_test) = imdb.load_data(num_words=num_words)"
      ],
      "metadata": {
        "colab": {
          "base_uri": "https://localhost:8080/"
        },
        "outputId": "b192f851-baba-40e9-df4b-3ca593e72392",
        "id": "GsbLnnwvNEcK"
      },
      "execution_count": null,
      "outputs": [
        {
          "output_type": "stream",
          "name": "stdout",
          "text": [
            "Downloading data from https://storage.googleapis.com/tensorflow/tf-keras-datasets/imdb.npz\n",
            "17465344/17464789 [==============================] - 0s 0us/step\n",
            "17473536/17464789 [==============================] - 0s 0us/step\n"
          ]
        }
      ]
    },
    {
      "cell_type": "code",
      "source": [
        "print(len(x_train))\n",
        "x_train\n",
        "\n"
      ],
      "metadata": {
        "colab": {
          "base_uri": "https://localhost:8080/"
        },
        "id": "ioFbRtvNczLo",
        "outputId": "673211be-852d-4389-a948-759bdc02cf04"
      },
      "execution_count": null,
      "outputs": [
        {
          "output_type": "stream",
          "name": "stdout",
          "text": [
            "25000\n",
            "25000\n"
          ]
        }
      ]
    },
    {
      "cell_type": "code",
      "source": [
        "print(len(y_test))\n",
        "y_test"
      ],
      "metadata": {
        "colab": {
          "base_uri": "https://localhost:8080/"
        },
        "id": "EulIhNywc1QB",
        "outputId": "b299b2da-5065-40e7-e40a-d1483872181e"
      },
      "execution_count": null,
      "outputs": [
        {
          "output_type": "stream",
          "name": "stdout",
          "text": [
            "25000\n"
          ]
        },
        {
          "output_type": "execute_result",
          "data": {
            "text/plain": [
              "array([0, 1, 1, ..., 0, 0, 0])"
            ]
          },
          "metadata": {},
          "execution_count": 31
        }
      ]
    },
    {
      "cell_type": "code",
      "source": [
        "for i in range(10):\n",
        "  if y_train[i] == 0:\n",
        "    label = '부정'\n",
        "  else:\n",
        "    label = '긍정'\n",
        "  print(f'{x_train[i]}\\n{label}')"
      ],
      "metadata": {
        "colab": {
          "base_uri": "https://localhost:8080/"
        },
        "outputId": "e3a7dc88-19b4-43bf-c6ef-692dde9f888c",
        "id": "-c9WR9FaNEcL"
      },
      "execution_count": null,
      "outputs": [
        {
          "output_type": "stream",
          "name": "stdout",
          "text": [
            "[1, 14, 22, 16, 43, 530, 973, 1622, 1385, 65, 458, 2, 66, 2, 4, 173, 36, 256, 5, 25, 100, 43, 838, 112, 50, 670, 2, 9, 35, 480, 284, 5, 150, 4, 172, 112, 167, 2, 336, 385, 39, 4, 172, 2, 1111, 17, 546, 38, 13, 447, 4, 192, 50, 16, 6, 147, 2, 19, 14, 22, 4, 1920, 2, 469, 4, 22, 71, 87, 12, 16, 43, 530, 38, 76, 15, 13, 1247, 4, 22, 17, 515, 17, 12, 16, 626, 18, 2, 5, 62, 386, 12, 8, 316, 8, 106, 5, 4, 2, 2, 16, 480, 66, 2, 33, 4, 130, 12, 16, 38, 619, 5, 25, 124, 51, 36, 135, 48, 25, 1415, 33, 6, 22, 12, 215, 28, 77, 52, 5, 14, 407, 16, 82, 2, 8, 4, 107, 117, 2, 15, 256, 4, 2, 7, 2, 5, 723, 36, 71, 43, 530, 476, 26, 400, 317, 46, 7, 4, 2, 1029, 13, 104, 88, 4, 381, 15, 297, 98, 32, 2, 56, 26, 141, 6, 194, 2, 18, 4, 226, 22, 21, 134, 476, 26, 480, 5, 144, 30, 2, 18, 51, 36, 28, 224, 92, 25, 104, 4, 226, 65, 16, 38, 1334, 88, 12, 16, 283, 5, 16, 2, 113, 103, 32, 15, 16, 2, 19, 178, 32]\n",
            "긍정\n",
            "[1, 194, 1153, 194, 2, 78, 228, 5, 6, 1463, 2, 2, 134, 26, 4, 715, 8, 118, 1634, 14, 394, 20, 13, 119, 954, 189, 102, 5, 207, 110, 2, 21, 14, 69, 188, 8, 30, 23, 7, 4, 249, 126, 93, 4, 114, 9, 2, 1523, 5, 647, 4, 116, 9, 35, 2, 4, 229, 9, 340, 1322, 4, 118, 9, 4, 130, 2, 19, 4, 1002, 5, 89, 29, 952, 46, 37, 4, 455, 9, 45, 43, 38, 1543, 1905, 398, 4, 1649, 26, 2, 5, 163, 11, 2, 2, 4, 1153, 9, 194, 775, 7, 2, 2, 349, 2, 148, 605, 2, 2, 15, 123, 125, 68, 2, 2, 15, 349, 165, 2, 98, 5, 4, 228, 9, 43, 2, 1157, 15, 299, 120, 5, 120, 174, 11, 220, 175, 136, 50, 9, 2, 228, 2, 5, 2, 656, 245, 2, 5, 4, 2, 131, 152, 491, 18, 2, 32, 2, 1212, 14, 9, 6, 371, 78, 22, 625, 64, 1382, 9, 8, 168, 145, 23, 4, 1690, 15, 16, 4, 1355, 5, 28, 6, 52, 154, 462, 33, 89, 78, 285, 16, 145, 95]\n",
            "부정\n",
            "[1, 14, 47, 8, 30, 31, 7, 4, 249, 108, 7, 4, 2, 54, 61, 369, 13, 71, 149, 14, 22, 112, 4, 2, 311, 12, 16, 2, 33, 75, 43, 1829, 296, 4, 86, 320, 35, 534, 19, 263, 2, 1301, 4, 1873, 33, 89, 78, 12, 66, 16, 4, 360, 7, 4, 58, 316, 334, 11, 4, 1716, 43, 645, 662, 8, 257, 85, 1200, 42, 1228, 2, 83, 68, 2, 15, 36, 165, 1539, 278, 36, 69, 2, 780, 8, 106, 14, 2, 1338, 18, 6, 22, 12, 215, 28, 610, 40, 6, 87, 326, 23, 2, 21, 23, 22, 12, 272, 40, 57, 31, 11, 4, 22, 47, 6, 2, 51, 9, 170, 23, 595, 116, 595, 1352, 13, 191, 79, 638, 89, 2, 14, 9, 8, 106, 607, 624, 35, 534, 6, 227, 7, 129, 113]\n",
            "부정\n",
            "[1, 4, 2, 2, 33, 2, 4, 2, 432, 111, 153, 103, 4, 1494, 13, 70, 131, 67, 11, 61, 2, 744, 35, 2, 761, 61, 2, 452, 2, 4, 985, 7, 2, 59, 166, 4, 105, 216, 1239, 41, 1797, 9, 15, 7, 35, 744, 2, 31, 8, 4, 687, 23, 4, 2, 2, 6, 2, 42, 38, 39, 121, 59, 456, 10, 10, 7, 265, 12, 575, 111, 153, 159, 59, 16, 1447, 21, 25, 586, 482, 39, 4, 96, 59, 716, 12, 4, 172, 65, 9, 579, 11, 2, 4, 1615, 5, 2, 7, 2, 17, 13, 2, 12, 19, 6, 464, 31, 314, 11, 2, 6, 719, 605, 11, 8, 202, 27, 310, 4, 2, 2, 8, 2, 58, 10, 10, 537, 2, 180, 40, 14, 413, 173, 7, 263, 112, 37, 152, 377, 4, 537, 263, 846, 579, 178, 54, 75, 71, 476, 36, 413, 263, 2, 182, 5, 17, 75, 2, 922, 36, 279, 131, 2, 17, 2, 42, 17, 35, 921, 2, 192, 5, 1219, 2, 19, 2, 217, 2, 1710, 537, 2, 1236, 5, 736, 10, 10, 61, 403, 9, 2, 40, 61, 2, 5, 27, 2, 159, 90, 263, 2, 2, 309, 8, 178, 5, 82, 2, 4, 65, 15, 2, 145, 143, 2, 12, 2, 537, 746, 537, 537, 15, 2, 4, 2, 594, 7, 2, 94, 2, 2, 2, 11, 2, 4, 538, 7, 1795, 246, 2, 9, 2, 11, 635, 14, 9, 51, 408, 12, 94, 318, 1382, 12, 47, 6, 2, 936, 5, 2, 2, 19, 49, 7, 4, 1885, 2, 1118, 25, 80, 126, 842, 10, 10, 2, 2, 2, 27, 2, 11, 1550, 2, 159, 27, 341, 29, 2, 19, 2, 173, 7, 90, 2, 8, 30, 11, 4, 1784, 86, 1117, 8, 2, 46, 11, 2, 21, 29, 9, 2, 23, 4, 1010, 2, 793, 6, 2, 1386, 1830, 10, 10, 246, 50, 9, 6, 2, 1944, 746, 90, 29, 2, 8, 124, 4, 882, 4, 882, 496, 27, 2, 2, 537, 121, 127, 1219, 130, 5, 29, 494, 8, 124, 4, 882, 496, 4, 341, 7, 27, 846, 10, 10, 29, 9, 1906, 8, 97, 6, 236, 2, 1311, 8, 4, 2, 7, 31, 7, 2, 91, 2, 2, 70, 4, 882, 30, 579, 42, 9, 12, 32, 11, 537, 10, 10, 11, 14, 65, 44, 537, 75, 2, 1775, 2, 2, 1846, 4, 2, 7, 154, 5, 4, 518, 53, 2, 2, 7, 2, 882, 11, 399, 38, 75, 257, 2, 19, 2, 17, 29, 456, 4, 65, 7, 27, 205, 113, 10, 10, 2, 4, 2, 2, 9, 242, 4, 91, 1202, 2, 5, 2, 307, 22, 7, 2, 126, 93, 40, 2, 13, 188, 1076, 2, 19, 4, 2, 7, 2, 537, 23, 53, 537, 21, 82, 40, 2, 13, 2, 14, 280, 13, 219, 4, 2, 431, 758, 859, 4, 953, 1052, 2, 7, 2, 5, 94, 40, 25, 238, 60, 2, 4, 2, 804, 2, 7, 4, 2, 132, 8, 67, 6, 22, 15, 9, 283, 8, 2, 14, 31, 9, 242, 955, 48, 25, 279, 2, 23, 12, 1685, 195, 25, 238, 60, 796, 2, 4, 671, 7, 2, 5, 4, 559, 154, 888, 7, 726, 50, 26, 49, 2, 15, 566, 30, 579, 21, 64, 2]\n",
            "긍정\n",
            "[1, 249, 1323, 7, 61, 113, 10, 10, 13, 1637, 14, 20, 56, 33, 2, 18, 457, 88, 13, 2, 1400, 45, 2, 13, 70, 79, 49, 706, 919, 13, 16, 355, 340, 355, 1696, 96, 143, 4, 22, 32, 289, 7, 61, 369, 71, 2, 5, 13, 16, 131, 2, 249, 114, 249, 229, 249, 20, 13, 28, 126, 110, 13, 473, 8, 569, 61, 419, 56, 429, 6, 1513, 18, 35, 534, 95, 474, 570, 5, 25, 124, 138, 88, 12, 421, 1543, 52, 725, 2, 61, 419, 11, 13, 1571, 15, 1543, 20, 11, 4, 2, 5, 296, 12, 2, 5, 15, 421, 128, 74, 233, 334, 207, 126, 224, 12, 562, 298, 2, 1272, 7, 2, 5, 516, 988, 43, 8, 79, 120, 15, 595, 13, 784, 25, 2, 18, 165, 170, 143, 19, 14, 5, 2, 6, 226, 251, 7, 61, 113]\n",
            "부정\n",
            "[1, 778, 128, 74, 12, 630, 163, 15, 4, 1766, 2, 1051, 2, 32, 85, 156, 45, 40, 148, 139, 121, 664, 665, 10, 10, 1361, 173, 4, 749, 2, 16, 2, 8, 4, 226, 65, 12, 43, 127, 24, 2, 10, 10]\n",
            "부정\n",
            "[1, 2, 365, 1234, 5, 1156, 354, 11, 14, 2, 2, 7, 1016, 2, 2, 356, 44, 4, 1349, 500, 746, 5, 200, 4, 2, 11, 2, 2, 1117, 1831, 2, 5, 2, 26, 6, 2, 2, 17, 369, 37, 215, 1345, 143, 2, 5, 1838, 8, 1974, 15, 36, 119, 257, 85, 52, 486, 9, 6, 2, 2, 63, 271, 6, 196, 96, 949, 2, 4, 2, 7, 4, 2, 2, 819, 63, 47, 77, 2, 180, 6, 227, 11, 94, 2, 2, 13, 423, 4, 168, 7, 4, 22, 5, 89, 665, 71, 270, 56, 5, 13, 197, 12, 161, 2, 99, 76, 23, 2, 7, 419, 665, 40, 91, 85, 108, 7, 4, 2, 5, 2, 81, 55, 52, 1901]\n",
            "긍정\n",
            "[1, 4, 2, 716, 4, 65, 7, 4, 689, 2, 2, 2, 2, 2, 2, 2, 2, 2, 2, 2, 2, 2, 4, 2, 628, 2, 37, 9, 150, 4, 2, 2, 11, 2, 4, 2, 847, 313, 6, 176, 2, 9, 2, 138, 9, 2, 19, 4, 96, 183, 26, 4, 192, 15, 27, 2, 799, 2, 2, 588, 84, 11, 4, 2, 152, 339, 2, 42, 2, 2, 2, 345, 2, 2, 142, 43, 218, 208, 54, 29, 853, 659, 46, 4, 882, 183, 80, 115, 30, 4, 172, 174, 10, 10, 1001, 398, 1001, 1055, 526, 34, 2, 2, 2, 2, 17, 4, 2, 1094, 871, 64, 85, 22, 2, 1109, 38, 230, 9, 4, 2, 2, 251, 2, 1034, 195, 301, 14, 16, 31, 7, 4, 2, 8, 783, 2, 33, 4, 2, 103, 465, 2, 42, 845, 45, 446, 11, 1895, 19, 184, 76, 32, 4, 2, 207, 110, 13, 197, 4, 2, 16, 601, 964, 2, 595, 13, 258, 4, 1730, 66, 338, 55, 2, 4, 550, 728, 65, 1196, 8, 1839, 61, 1546, 42, 2, 61, 602, 120, 45, 2, 6, 320, 786, 99, 196, 2, 786, 2, 4, 225, 4, 373, 1009, 33, 4, 130, 63, 69, 72, 1104, 46, 1292, 225, 14, 66, 194, 2, 1703, 56, 8, 803, 1004, 6, 2, 155, 11, 4, 2, 2, 45, 853, 2, 8, 30, 6, 117, 430, 19, 6, 2, 9, 15, 66, 424, 8, 2, 178, 9, 15, 66, 424, 8, 1465, 178, 9, 15, 66, 142, 15, 9, 424, 8, 28, 178, 662, 44, 12, 17, 4, 130, 898, 1686, 9, 6, 2, 267, 185, 430, 4, 118, 2, 277, 15, 4, 1188, 100, 216, 56, 19, 4, 357, 114, 2, 367, 45, 115, 93, 788, 121, 4, 2, 79, 32, 68, 278, 39, 8, 818, 162, 2, 237, 600, 7, 98, 306, 8, 157, 549, 628, 11, 6, 2, 13, 824, 15, 2, 76, 42, 138, 36, 774, 77, 1059, 159, 150, 4, 229, 497, 8, 1493, 11, 175, 251, 453, 19, 2, 189, 12, 43, 127, 6, 394, 292, 7, 2, 4, 107, 8, 4, 2, 15, 1082, 1251, 9, 906, 42, 1134, 6, 66, 78, 22, 15, 13, 244, 2, 8, 135, 233, 52, 44, 10, 10, 466, 112, 398, 526, 34, 4, 1572, 2, 2, 1094, 225, 57, 599, 133, 225, 6, 227, 7, 541, 2, 6, 171, 139, 7, 539, 2, 56, 11, 6, 2, 21, 164, 25, 426, 81, 33, 344, 624, 19, 6, 2, 7, 2, 2, 6, 2, 4, 22, 9, 1082, 629, 237, 45, 188, 6, 55, 655, 707, 2, 956, 225, 1456, 841, 42, 1310, 225, 6, 2, 1467, 2, 2, 21, 4, 2, 9, 364, 23, 4, 2, 2, 225, 24, 76, 133, 18, 4, 189, 2, 10, 10, 814, 11, 2, 11, 2, 14, 47, 15, 682, 364, 352, 168, 44, 12, 45, 24, 913, 93, 21, 247, 2, 4, 116, 34, 35, 1859, 8, 72, 177, 9, 164, 8, 901, 344, 44, 13, 191, 135, 13, 126, 421, 233, 18, 259, 10, 10, 4, 2, 2, 4, 2, 2, 7, 112, 199, 753, 357, 39, 63, 12, 115, 2, 763, 8, 15, 35, 2, 1523, 65, 57, 599, 6, 1916, 277, 1730, 37, 25, 92, 202, 6, 2, 44, 25, 28, 6, 22, 15, 122, 24, 2, 72, 33, 32]\n",
            "부정\n",
            "[1, 43, 188, 46, 5, 566, 264, 51, 6, 530, 664, 14, 9, 1713, 81, 25, 1135, 46, 7, 6, 20, 750, 11, 141, 2, 5, 2, 2, 102, 28, 413, 38, 120, 2, 15, 4, 2, 7, 2, 142, 371, 318, 5, 955, 1713, 571, 2, 2, 122, 14, 8, 72, 54, 12, 86, 385, 46, 5, 14, 20, 9, 399, 8, 72, 150, 13, 161, 124, 6, 155, 44, 14, 159, 170, 83, 12, 5, 51, 6, 866, 48, 25, 842, 4, 1120, 25, 238, 79, 4, 547, 15, 14, 9, 31, 7, 148, 2, 102, 44, 35, 480, 2, 2, 19, 120, 4, 350, 228, 5, 269, 8, 28, 178, 1314, 2, 7, 51, 6, 87, 65, 12, 9, 979, 21, 95, 24, 2, 178, 11, 2, 14, 9, 24, 15, 20, 4, 84, 376, 4, 65, 14, 127, 141, 6, 52, 292, 7, 2, 175, 561, 7, 68, 2, 137, 75, 2, 68, 182, 5, 235, 175, 333, 19, 98, 50, 9, 38, 76, 724, 4, 2, 15, 166, 285, 36, 140, 143, 38, 76, 53, 2, 1301, 4, 2, 16, 82, 6, 87, 2, 44, 2, 2, 5, 800, 4, 2, 11, 35, 1728, 96, 21, 14, 22, 9, 76, 53, 7, 6, 406, 65, 13, 43, 219, 12, 639, 21, 13, 80, 140, 5, 135, 15, 14, 9, 31, 7, 4, 118, 2, 13, 28, 126, 110]\n",
            "긍정\n",
            "[1, 14, 20, 47, 111, 439, 2, 19, 12, 15, 166, 12, 216, 125, 40, 6, 364, 352, 707, 1187, 39, 294, 11, 22, 396, 13, 28, 8, 202, 12, 1109, 23, 94, 2, 151, 111, 211, 469, 4, 20, 13, 258, 546, 1104, 2, 12, 16, 38, 78, 33, 211, 15, 12, 16, 2, 63, 93, 12, 6, 253, 106, 10, 10, 48, 335, 267, 18, 6, 364, 1242, 1179, 20, 19, 6, 1009, 7, 1987, 189, 5, 6, 2, 7, 2, 2, 95, 1719, 6, 2, 7, 2, 2, 49, 369, 120, 5, 28, 49, 253, 10, 10, 13, 1041, 19, 85, 795, 15, 4, 481, 9, 55, 78, 807, 9, 375, 8, 1167, 8, 794, 76, 7, 4, 58, 5, 4, 816, 9, 243, 7, 43, 50]\n",
            "부정\n"
          ]
        }
      ]
    },
    {
      "cell_type": "code",
      "source": [
        "\n",
        "from tensorflow.keras.preprocessing.sequence import pad_sequences \n",
        "max_len = 400\n",
        "\n",
        "pad_x_train = pad_sequences(x_train, maxlen=max_len, padding='pre')\n",
        "pad_x_test = pad_sequences(x_test,maxlen=max_len, padding='pre')"
      ],
      "metadata": {
        "id": "U-_0OlHiNEcL"
      },
      "execution_count": null,
      "outputs": []
    },
    {
      "cell_type": "code",
      "source": [
        "print(x_train)\n",
        "print()\n",
        "print()\n",
        "print(pad_x_train)\n",
        "print(len(pad_x_train[0]))"
      ],
      "metadata": {
        "colab": {
          "base_uri": "https://localhost:8080/"
        },
        "id": "_jXioVjrbxzL",
        "outputId": "cf56fc3c-04a0-4c4d-9a85-b0be82af6bc3"
      },
      "execution_count": null,
      "outputs": [
        {
          "output_type": "stream",
          "name": "stdout",
          "text": [
            "[list([1, 14, 22, 16, 43, 530, 973, 1622, 1385, 65, 458, 2, 66, 2, 4, 173, 36, 256, 5, 25, 100, 43, 838, 112, 50, 670, 2, 9, 35, 480, 284, 5, 150, 4, 172, 112, 167, 2, 336, 385, 39, 4, 172, 2, 1111, 17, 546, 38, 13, 447, 4, 192, 50, 16, 6, 147, 2, 19, 14, 22, 4, 1920, 2, 469, 4, 22, 71, 87, 12, 16, 43, 530, 38, 76, 15, 13, 1247, 4, 22, 17, 515, 17, 12, 16, 626, 18, 2, 5, 62, 386, 12, 8, 316, 8, 106, 5, 4, 2, 2, 16, 480, 66, 2, 33, 4, 130, 12, 16, 38, 619, 5, 25, 124, 51, 36, 135, 48, 25, 1415, 33, 6, 22, 12, 215, 28, 77, 52, 5, 14, 407, 16, 82, 2, 8, 4, 107, 117, 2, 15, 256, 4, 2, 7, 2, 5, 723, 36, 71, 43, 530, 476, 26, 400, 317, 46, 7, 4, 2, 1029, 13, 104, 88, 4, 381, 15, 297, 98, 32, 2, 56, 26, 141, 6, 194, 2, 18, 4, 226, 22, 21, 134, 476, 26, 480, 5, 144, 30, 2, 18, 51, 36, 28, 224, 92, 25, 104, 4, 226, 65, 16, 38, 1334, 88, 12, 16, 283, 5, 16, 2, 113, 103, 32, 15, 16, 2, 19, 178, 32])\n",
            " list([1, 194, 1153, 194, 2, 78, 228, 5, 6, 1463, 2, 2, 134, 26, 4, 715, 8, 118, 1634, 14, 394, 20, 13, 119, 954, 189, 102, 5, 207, 110, 2, 21, 14, 69, 188, 8, 30, 23, 7, 4, 249, 126, 93, 4, 114, 9, 2, 1523, 5, 647, 4, 116, 9, 35, 2, 4, 229, 9, 340, 1322, 4, 118, 9, 4, 130, 2, 19, 4, 1002, 5, 89, 29, 952, 46, 37, 4, 455, 9, 45, 43, 38, 1543, 1905, 398, 4, 1649, 26, 2, 5, 163, 11, 2, 2, 4, 1153, 9, 194, 775, 7, 2, 2, 349, 2, 148, 605, 2, 2, 15, 123, 125, 68, 2, 2, 15, 349, 165, 2, 98, 5, 4, 228, 9, 43, 2, 1157, 15, 299, 120, 5, 120, 174, 11, 220, 175, 136, 50, 9, 2, 228, 2, 5, 2, 656, 245, 2, 5, 4, 2, 131, 152, 491, 18, 2, 32, 2, 1212, 14, 9, 6, 371, 78, 22, 625, 64, 1382, 9, 8, 168, 145, 23, 4, 1690, 15, 16, 4, 1355, 5, 28, 6, 52, 154, 462, 33, 89, 78, 285, 16, 145, 95])\n",
            " list([1, 14, 47, 8, 30, 31, 7, 4, 249, 108, 7, 4, 2, 54, 61, 369, 13, 71, 149, 14, 22, 112, 4, 2, 311, 12, 16, 2, 33, 75, 43, 1829, 296, 4, 86, 320, 35, 534, 19, 263, 2, 1301, 4, 1873, 33, 89, 78, 12, 66, 16, 4, 360, 7, 4, 58, 316, 334, 11, 4, 1716, 43, 645, 662, 8, 257, 85, 1200, 42, 1228, 2, 83, 68, 2, 15, 36, 165, 1539, 278, 36, 69, 2, 780, 8, 106, 14, 2, 1338, 18, 6, 22, 12, 215, 28, 610, 40, 6, 87, 326, 23, 2, 21, 23, 22, 12, 272, 40, 57, 31, 11, 4, 22, 47, 6, 2, 51, 9, 170, 23, 595, 116, 595, 1352, 13, 191, 79, 638, 89, 2, 14, 9, 8, 106, 607, 624, 35, 534, 6, 227, 7, 129, 113])\n",
            " ...\n",
            " list([1, 11, 6, 230, 245, 2, 9, 6, 1225, 446, 2, 45, 2, 84, 2, 2, 21, 4, 912, 84, 2, 325, 725, 134, 2, 1715, 84, 5, 36, 28, 57, 1099, 21, 8, 140, 8, 703, 5, 2, 84, 56, 18, 1644, 14, 9, 31, 7, 4, 2, 1209, 2, 2, 1008, 18, 6, 20, 207, 110, 563, 12, 8, 2, 2, 8, 97, 6, 20, 53, 2, 74, 4, 460, 364, 1273, 29, 270, 11, 960, 108, 45, 40, 29, 2, 395, 11, 6, 2, 500, 7, 2, 89, 364, 70, 29, 140, 4, 64, 2, 11, 4, 2, 26, 178, 4, 529, 443, 2, 5, 27, 710, 117, 2, 2, 165, 47, 84, 37, 131, 818, 14, 595, 10, 10, 61, 1242, 1209, 10, 10, 288, 2, 1702, 34, 2, 2, 4, 65, 496, 4, 231, 7, 790, 5, 6, 320, 234, 2, 234, 1119, 1574, 7, 496, 4, 139, 929, 2, 2, 2, 5, 2, 18, 4, 2, 2, 250, 11, 1818, 2, 4, 2, 2, 747, 1115, 372, 1890, 1006, 541, 2, 7, 4, 59, 2, 4, 2, 2])\n",
            " list([1, 1446, 2, 69, 72, 2, 13, 610, 930, 8, 12, 582, 23, 5, 16, 484, 685, 54, 349, 11, 2, 2, 45, 58, 1466, 13, 197, 12, 16, 43, 23, 2, 5, 62, 30, 145, 402, 11, 2, 51, 575, 32, 61, 369, 71, 66, 770, 12, 1054, 75, 100, 2, 8, 4, 105, 37, 69, 147, 712, 75, 2, 44, 257, 390, 5, 69, 263, 514, 105, 50, 286, 1814, 23, 4, 123, 13, 161, 40, 5, 421, 4, 116, 16, 897, 13, 2, 40, 319, 2, 112, 2, 11, 2, 121, 25, 70, 2, 4, 719, 2, 13, 18, 31, 62, 40, 8, 2, 4, 2, 7, 14, 123, 5, 942, 25, 8, 721, 12, 145, 5, 202, 12, 160, 580, 202, 12, 6, 52, 58, 2, 92, 401, 728, 12, 39, 14, 251, 8, 15, 251, 5, 2, 12, 38, 84, 80, 124, 12, 9, 23])\n",
            " list([1, 17, 6, 194, 337, 7, 4, 204, 22, 45, 254, 8, 106, 14, 123, 4, 2, 270, 2, 5, 2, 2, 732, 2, 101, 405, 39, 14, 1034, 4, 1310, 9, 115, 50, 305, 12, 47, 4, 168, 5, 235, 7, 38, 111, 699, 102, 7, 4, 2, 2, 9, 24, 6, 78, 1099, 17, 2, 2, 21, 27, 2, 2, 5, 2, 1603, 92, 1183, 4, 1310, 7, 4, 204, 42, 97, 90, 35, 221, 109, 29, 127, 27, 118, 8, 97, 12, 157, 21, 2, 2, 9, 6, 66, 78, 1099, 4, 631, 1191, 5, 2, 272, 191, 1070, 6, 2, 8, 2, 2, 2, 544, 5, 383, 1271, 848, 1468, 2, 497, 2, 8, 1597, 2, 2, 21, 60, 27, 239, 9, 43, 2, 209, 405, 10, 10, 12, 764, 40, 4, 248, 20, 12, 16, 5, 174, 1791, 72, 7, 51, 6, 1739, 22, 4, 204, 131, 9])]\n",
            "\n",
            "\n",
            "[[  0   0   0 ...  19 178  32]\n",
            " [  0   0   0 ...  16 145  95]\n",
            " [  0   0   0 ...   7 129 113]\n",
            " ...\n",
            " [  0   0   0 ...   4   2   2]\n",
            " [  0   0   0 ...  12   9  23]\n",
            " [  0   0   0 ... 204 131   9]]\n",
            "400\n"
          ]
        }
      ]
    },
    {
      "cell_type": "code",
      "source": [
        "model = Sequential()\n",
        "\n",
        "model.add(Embedding(input_dim=num_words, output_dim = 32,\n",
        "                    input_length=max_len))\n",
        "model.add(Flatten())\n",
        "model.add(Dense(1,activation='sigmoid'))\n",
        "model.summary()"
      ],
      "metadata": {
        "colab": {
          "base_uri": "https://localhost:8080/"
        },
        "outputId": "9a85f677-8518-435e-d704-4598e493f234",
        "id": "DUVZjV1TNEcL"
      },
      "execution_count": null,
      "outputs": [
        {
          "output_type": "stream",
          "name": "stdout",
          "text": [
            "Model: \"sequential\"\n",
            "_________________________________________________________________\n",
            " Layer (type)                Output Shape              Param #   \n",
            "=================================================================\n",
            " embedding (Embedding)       (None, 400, 32)           64000     \n",
            "                                                                 \n",
            " flatten (Flatten)           (None, 12800)             0         \n",
            "                                                                 \n",
            " dense (Dense)               (None, 1)                 12801     \n",
            "                                                                 \n",
            "=================================================================\n",
            "Total params: 76,801\n",
            "Trainable params: 76,801\n",
            "Non-trainable params: 0\n",
            "_________________________________________________________________\n"
          ]
        }
      ]
    },
    {
      "cell_type": "code",
      "source": [
        "model.compile(optimizer='rmsprop',\n",
        "              loss = 'binary_crossentropy',\n",
        "              metrics=['accuracy'])"
      ],
      "metadata": {
        "id": "V95NxgpfNEcM"
      },
      "execution_count": null,
      "outputs": []
    },
    {
      "cell_type": "code",
      "source": [
        ""
      ],
      "metadata": {
        "id": "y-EH5Fp0d8kM"
      },
      "execution_count": null,
      "outputs": []
    },
    {
      "cell_type": "code",
      "source": [
        "history = model.fit(pad_x_train,y_train,\n",
        "                    epochs=10,\n",
        "                    batch_size=32,\n",
        "                    validation_split=0.2)"
      ],
      "metadata": {
        "colab": {
          "base_uri": "https://localhost:8080/"
        },
        "outputId": "3bcc5136-6a26-47d7-b8b6-1967779da65c",
        "id": "LfLhn92bNEcM"
      },
      "execution_count": null,
      "outputs": [
        {
          "output_type": "stream",
          "name": "stdout",
          "text": [
            "Epoch 1/10\n",
            "625/625 [==============================] - 4s 5ms/step - loss: 0.4891 - accuracy: 0.7585 - val_loss: 0.3303 - val_accuracy: 0.8642\n",
            "Epoch 2/10\n",
            "625/625 [==============================] - 2s 4ms/step - loss: 0.2796 - accuracy: 0.8836 - val_loss: 0.3068 - val_accuracy: 0.8710\n",
            "Epoch 3/10\n",
            "625/625 [==============================] - 2s 4ms/step - loss: 0.2326 - accuracy: 0.9079 - val_loss: 0.3019 - val_accuracy: 0.8796\n",
            "Epoch 4/10\n",
            "625/625 [==============================] - 2s 4ms/step - loss: 0.1917 - accuracy: 0.9262 - val_loss: 0.3116 - val_accuracy: 0.8746\n",
            "Epoch 5/10\n",
            "625/625 [==============================] - 2s 4ms/step - loss: 0.1512 - accuracy: 0.9460 - val_loss: 0.3216 - val_accuracy: 0.8744\n",
            "Epoch 6/10\n",
            "625/625 [==============================] - 2s 4ms/step - loss: 0.1146 - accuracy: 0.9629 - val_loss: 0.3471 - val_accuracy: 0.8726\n",
            "Epoch 7/10\n",
            "625/625 [==============================] - 2s 4ms/step - loss: 0.0824 - accuracy: 0.9760 - val_loss: 0.3687 - val_accuracy: 0.8684\n",
            "Epoch 8/10\n",
            "625/625 [==============================] - 2s 4ms/step - loss: 0.0566 - accuracy: 0.9863 - val_loss: 0.3983 - val_accuracy: 0.8698\n",
            "Epoch 9/10\n",
            "625/625 [==============================] - 2s 4ms/step - loss: 0.0373 - accuracy: 0.9919 - val_loss: 0.4399 - val_accuracy: 0.8626\n",
            "Epoch 10/10\n",
            "625/625 [==============================] - 2s 4ms/step - loss: 0.0237 - accuracy: 0.9957 - val_loss: 0.4775 - val_accuracy: 0.8582\n"
          ]
        }
      ]
    },
    {
      "cell_type": "code",
      "source": [
        "# 시각화\n",
        "import matplotlib.pyplot as plt\n",
        "plt.style.use('seaborn-white')\n",
        "\n",
        "hist_dict = history.history\n",
        "\n",
        "plt.plot(hist_dict['loss'], 'b-', label='Train Loss')\n",
        "plt.plot(hist_dict['val_loss'], 'r:', label='Validation Loss')\n",
        "plt.legend()\n",
        "plt.grid()\n",
        "\n",
        "plt.figure()\n",
        "plt.plot(hist_dict['accuracy'], 'b-', label='Train Accuracy')\n",
        "plt.plot(hist_dict['val_accuracy'], 'r:', label='Validation Accuracy')\n",
        "plt.legend()\n",
        "plt.grid()\n"
      ],
      "metadata": {
        "colab": {
          "base_uri": "https://localhost:8080/",
          "height": 507
        },
        "outputId": "52d04b89-fba8-48ae-b842-8be690671996",
        "id": "Im_0GVv6NEcN"
      },
      "execution_count": null,
      "outputs": [
        {
          "output_type": "display_data",
          "data": {
            "text/plain": [
              "<Figure size 432x288 with 1 Axes>"
            ],
            "image/png": "[encoded data removed]"
          },
          "metadata": {}
        },
        {
          "output_type": "display_data",
          "data": {
            "text/plain": [
              "<Figure size 432x288 with 1 Axes>"
            ],
            "image/png": "[encoded data removed]"
          },
          "metadata": {}
        }
      ]
    },
    {
      "cell_type": "code",
      "source": [
        ""
      ],
      "metadata": {
        "id": "wsjC5dwJNUid"
      },
      "execution_count": null,
      "outputs": []
    }
  ]
}